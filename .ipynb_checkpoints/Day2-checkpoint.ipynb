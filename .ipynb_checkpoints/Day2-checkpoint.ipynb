{
 "cells": [
  {
   "cell_type": "code",
   "execution_count": 1,
   "metadata": {},
   "outputs": [],
   "source": [
    "x = c(5,3,4,NA,1,8)"
   ]
  },
  {
   "cell_type": "code",
   "execution_count": 2,
   "metadata": {},
   "outputs": [
    {
     "data": {
      "text/html": [
       "<ol class=list-inline>\n",
       "\t<li>5</li>\n",
       "\t<li>3</li>\n",
       "\t<li>4</li>\n",
       "\t<li>&lt;NA&gt;</li>\n",
       "\t<li>1</li>\n",
       "\t<li>8</li>\n",
       "</ol>\n"
      ],
      "text/latex": [
       "\\begin{enumerate*}\n",
       "\\item 5\n",
       "\\item 3\n",
       "\\item 4\n",
       "\\item <NA>\n",
       "\\item 1\n",
       "\\item 8\n",
       "\\end{enumerate*}\n"
      ],
      "text/markdown": [
       "1. 5\n",
       "2. 3\n",
       "3. 4\n",
       "4. &lt;NA&gt;\n",
       "5. 1\n",
       "6. 8\n",
       "\n",
       "\n"
      ],
      "text/plain": [
       "[1]  5  3  4 NA  1  8"
      ]
     },
     "metadata": {},
     "output_type": "display_data"
    }
   ],
   "source": [
    "x"
   ]
  },
  {
   "cell_type": "code",
   "execution_count": 6,
   "metadata": {},
   "outputs": [],
   "source": [
    "mat = sample(1:100,20)"
   ]
  },
  {
   "cell_type": "code",
   "execution_count": 7,
   "metadata": {},
   "outputs": [
    {
     "data": {
      "text/html": [
       "<ol class=list-inline>\n",
       "\t<li>42</li>\n",
       "\t<li>51</li>\n",
       "\t<li>54</li>\n",
       "\t<li>94</li>\n",
       "\t<li>81</li>\n",
       "\t<li>52</li>\n",
       "\t<li>45</li>\n",
       "\t<li>62</li>\n",
       "\t<li>7</li>\n",
       "\t<li>93</li>\n",
       "\t<li>100</li>\n",
       "\t<li>5</li>\n",
       "\t<li>13</li>\n",
       "\t<li>89</li>\n",
       "\t<li>70</li>\n",
       "\t<li>74</li>\n",
       "\t<li>58</li>\n",
       "\t<li>64</li>\n",
       "\t<li>95</li>\n",
       "\t<li>92</li>\n",
       "</ol>\n"
      ],
      "text/latex": [
       "\\begin{enumerate*}\n",
       "\\item 42\n",
       "\\item 51\n",
       "\\item 54\n",
       "\\item 94\n",
       "\\item 81\n",
       "\\item 52\n",
       "\\item 45\n",
       "\\item 62\n",
       "\\item 7\n",
       "\\item 93\n",
       "\\item 100\n",
       "\\item 5\n",
       "\\item 13\n",
       "\\item 89\n",
       "\\item 70\n",
       "\\item 74\n",
       "\\item 58\n",
       "\\item 64\n",
       "\\item 95\n",
       "\\item 92\n",
       "\\end{enumerate*}\n"
      ],
      "text/markdown": [
       "1. 42\n",
       "2. 51\n",
       "3. 54\n",
       "4. 94\n",
       "5. 81\n",
       "6. 52\n",
       "7. 45\n",
       "8. 62\n",
       "9. 7\n",
       "10. 93\n",
       "11. 100\n",
       "12. 5\n",
       "13. 13\n",
       "14. 89\n",
       "15. 70\n",
       "16. 74\n",
       "17. 58\n",
       "18. 64\n",
       "19. 95\n",
       "20. 92\n",
       "\n",
       "\n"
      ],
      "text/plain": [
       " [1]  42  51  54  94  81  52  45  62   7  93 100   5  13  89  70  74  58  64  95\n",
       "[20]  92"
      ]
     },
     "metadata": {},
     "output_type": "display_data"
    }
   ],
   "source": [
    "mat"
   ]
  },
  {
   "cell_type": "code",
   "execution_count": 8,
   "metadata": {},
   "outputs": [
    {
     "name": "stdout",
     "output_type": "stream",
     "text": [
      " [1]  42  51  54  94  81  52  45  62   7  93 100   5  13  89  70  74  58  64  95\n",
      "[20]  92\n"
     ]
    }
   ],
   "source": [
    "print(mat)"
   ]
  },
  {
   "cell_type": "markdown",
   "metadata": {},
   "source": [
    "dim(mat) <- c(5,4)"
   ]
  },
  {
   "cell_type": "code",
   "execution_count": 9,
   "metadata": {},
   "outputs": [],
   "source": [
    "dim(mat) <- c(5,4)"
   ]
  },
  {
   "cell_type": "code",
   "execution_count": 10,
   "metadata": {},
   "outputs": [
    {
     "data": {
      "text/html": [
       "<table>\n",
       "<tbody>\n",
       "\t<tr><td>42 </td><td>52 </td><td>100</td><td>74 </td></tr>\n",
       "\t<tr><td>51 </td><td>45 </td><td>  5</td><td>58 </td></tr>\n",
       "\t<tr><td>54 </td><td>62 </td><td> 13</td><td>64 </td></tr>\n",
       "\t<tr><td>94 </td><td> 7 </td><td> 89</td><td>95 </td></tr>\n",
       "\t<tr><td>81 </td><td>93 </td><td> 70</td><td>92 </td></tr>\n",
       "</tbody>\n",
       "</table>\n"
      ],
      "text/latex": [
       "\\begin{tabular}{llll}\n",
       "\t 42  & 52  & 100 & 74 \\\\\n",
       "\t 51  & 45  &   5 & 58 \\\\\n",
       "\t 54  & 62  &  13 & 64 \\\\\n",
       "\t 94  &  7  &  89 & 95 \\\\\n",
       "\t 81  & 93  &  70 & 92 \\\\\n",
       "\\end{tabular}\n"
      ],
      "text/markdown": [
       "\n",
       "| 42  | 52  | 100 | 74  |\n",
       "| 51  | 45  |   5 | 58  |\n",
       "| 54  | 62  |  13 | 64  |\n",
       "| 94  |  7  |  89 | 95  |\n",
       "| 81  | 93  |  70 | 92  |\n",
       "\n"
      ],
      "text/plain": [
       "     [,1] [,2] [,3] [,4]\n",
       "[1,] 42   52   100  74  \n",
       "[2,] 51   45     5  58  \n",
       "[3,] 54   62    13  64  \n",
       "[4,] 94    7    89  95  \n",
       "[5,] 81   93    70  92  "
      ]
     },
     "metadata": {},
     "output_type": "display_data"
    }
   ],
   "source": [
    "mat"
   ]
  },
  {
   "cell_type": "code",
   "execution_count": 11,
   "metadata": {},
   "outputs": [
    {
     "data": {
      "text/html": [
       "<table>\n",
       "<tbody>\n",
       "\t<tr><td>88</td></tr>\n",
       "\t<tr><td>17</td></tr>\n",
       "\t<tr><td>87</td></tr>\n",
       "\t<tr><td>95</td></tr>\n",
       "\t<tr><td>26</td></tr>\n",
       "\t<tr><td>51</td></tr>\n",
       "\t<tr><td>14</td></tr>\n",
       "\t<tr><td>80</td></tr>\n",
       "\t<tr><td>27</td></tr>\n",
       "\t<tr><td>55</td></tr>\n",
       "\t<tr><td>32</td></tr>\n",
       "\t<tr><td>84</td></tr>\n",
       "\t<tr><td> 1</td></tr>\n",
       "\t<tr><td>24</td></tr>\n",
       "\t<tr><td>46</td></tr>\n",
       "\t<tr><td>78</td></tr>\n",
       "\t<tr><td>34</td></tr>\n",
       "\t<tr><td>70</td></tr>\n",
       "\t<tr><td>31</td></tr>\n",
       "\t<tr><td>73</td></tr>\n",
       "</tbody>\n",
       "</table>\n"
      ],
      "text/latex": [
       "\\begin{tabular}{l}\n",
       "\t 88\\\\\n",
       "\t 17\\\\\n",
       "\t 87\\\\\n",
       "\t 95\\\\\n",
       "\t 26\\\\\n",
       "\t 51\\\\\n",
       "\t 14\\\\\n",
       "\t 80\\\\\n",
       "\t 27\\\\\n",
       "\t 55\\\\\n",
       "\t 32\\\\\n",
       "\t 84\\\\\n",
       "\t  1\\\\\n",
       "\t 24\\\\\n",
       "\t 46\\\\\n",
       "\t 78\\\\\n",
       "\t 34\\\\\n",
       "\t 70\\\\\n",
       "\t 31\\\\\n",
       "\t 73\\\\\n",
       "\\end{tabular}\n"
      ],
      "text/markdown": [
       "\n",
       "| 88 |\n",
       "| 17 |\n",
       "| 87 |\n",
       "| 95 |\n",
       "| 26 |\n",
       "| 51 |\n",
       "| 14 |\n",
       "| 80 |\n",
       "| 27 |\n",
       "| 55 |\n",
       "| 32 |\n",
       "| 84 |\n",
       "|  1 |\n",
       "| 24 |\n",
       "| 46 |\n",
       "| 78 |\n",
       "| 34 |\n",
       "| 70 |\n",
       "| 31 |\n",
       "| 73 |\n",
       "\n"
      ],
      "text/plain": [
       "      [,1]\n",
       " [1,] 88  \n",
       " [2,] 17  \n",
       " [3,] 87  \n",
       " [4,] 95  \n",
       " [5,] 26  \n",
       " [6,] 51  \n",
       " [7,] 14  \n",
       " [8,] 80  \n",
       " [9,] 27  \n",
       "[10,] 55  \n",
       "[11,] 32  \n",
       "[12,] 84  \n",
       "[13,]  1  \n",
       "[14,] 24  \n",
       "[15,] 46  \n",
       "[16,] 78  \n",
       "[17,] 34  \n",
       "[18,] 70  \n",
       "[19,] 31  \n",
       "[20,] 73  "
      ]
     },
     "metadata": {},
     "output_type": "display_data"
    }
   ],
   "source": [
    "mat = matrix(sample(1:100,20))\n",
    "mat"
   ]
  },
  {
   "cell_type": "code",
   "execution_count": 19,
   "metadata": {},
   "outputs": [],
   "source": [
    "mat = matrix(1:20,nrow =5,ncol=4,byrow=T)"
   ]
  },
  {
   "cell_type": "code",
   "execution_count": 20,
   "metadata": {},
   "outputs": [
    {
     "data": {
      "text/html": [
       "<table>\n",
       "<tbody>\n",
       "\t<tr><td> 1</td><td> 2</td><td> 3</td><td> 4</td></tr>\n",
       "\t<tr><td> 5</td><td> 6</td><td> 7</td><td> 8</td></tr>\n",
       "\t<tr><td> 9</td><td>10</td><td>11</td><td>12</td></tr>\n",
       "\t<tr><td>13</td><td>14</td><td>15</td><td>16</td></tr>\n",
       "\t<tr><td>17</td><td>18</td><td>19</td><td>20</td></tr>\n",
       "</tbody>\n",
       "</table>\n"
      ],
      "text/latex": [
       "\\begin{tabular}{llll}\n",
       "\t  1 &  2 &  3 &  4\\\\\n",
       "\t  5 &  6 &  7 &  8\\\\\n",
       "\t  9 & 10 & 11 & 12\\\\\n",
       "\t 13 & 14 & 15 & 16\\\\\n",
       "\t 17 & 18 & 19 & 20\\\\\n",
       "\\end{tabular}\n"
      ],
      "text/markdown": [
       "\n",
       "|  1 |  2 |  3 |  4 |\n",
       "|  5 |  6 |  7 |  8 |\n",
       "|  9 | 10 | 11 | 12 |\n",
       "| 13 | 14 | 15 | 16 |\n",
       "| 17 | 18 | 19 | 20 |\n",
       "\n"
      ],
      "text/plain": [
       "     [,1] [,2] [,3] [,4]\n",
       "[1,]  1    2    3    4  \n",
       "[2,]  5    6    7    8  \n",
       "[3,]  9   10   11   12  \n",
       "[4,] 13   14   15   16  \n",
       "[5,] 17   18   19   20  "
      ]
     },
     "metadata": {},
     "output_type": "display_data"
    }
   ],
   "source": [
    "mat"
   ]
  },
  {
   "cell_type": "code",
   "execution_count": 21,
   "metadata": {},
   "outputs": [
    {
     "data": {
      "text/html": [
       "1"
      ],
      "text/latex": [
       "1"
      ],
      "text/markdown": [
       "1"
      ],
      "text/plain": [
       "[1] 1"
      ]
     },
     "metadata": {},
     "output_type": "display_data"
    }
   ],
   "source": [
    "mat[1,1]"
   ]
  },
  {
   "cell_type": "code",
   "execution_count": 22,
   "metadata": {},
   "outputs": [
    {
     "data": {
      "text/html": [
       "<table>\n",
       "<tbody>\n",
       "\t<tr><td> 2</td><td> 3</td><td> 4</td></tr>\n",
       "\t<tr><td> 6</td><td> 7</td><td> 8</td></tr>\n",
       "\t<tr><td>10</td><td>11</td><td>12</td></tr>\n",
       "</tbody>\n",
       "</table>\n"
      ],
      "text/latex": [
       "\\begin{tabular}{lll}\n",
       "\t  2 &  3 &  4\\\\\n",
       "\t  6 &  7 &  8\\\\\n",
       "\t 10 & 11 & 12\\\\\n",
       "\\end{tabular}\n"
      ],
      "text/markdown": [
       "\n",
       "|  2 |  3 |  4 |\n",
       "|  6 |  7 |  8 |\n",
       "| 10 | 11 | 12 |\n",
       "\n"
      ],
      "text/plain": [
       "     [,1] [,2] [,3]\n",
       "[1,]  2    3    4  \n",
       "[2,]  6    7    8  \n",
       "[3,] 10   11   12  "
      ]
     },
     "metadata": {},
     "output_type": "display_data"
    }
   ],
   "source": [
    "mat[1:3,2:4]"
   ]
  },
  {
   "cell_type": "code",
   "execution_count": 25,
   "metadata": {},
   "outputs": [
    {
     "data": {
      "text/html": [
       "<table>\n",
       "<tbody>\n",
       "\t<tr><td> 5</td><td> 6</td><td> 8</td></tr>\n",
       "\t<tr><td> 9</td><td>10</td><td>12</td></tr>\n",
       "\t<tr><td>17</td><td>18</td><td>20</td></tr>\n",
       "</tbody>\n",
       "</table>\n"
      ],
      "text/latex": [
       "\\begin{tabular}{lll}\n",
       "\t  5 &  6 &  8\\\\\n",
       "\t  9 & 10 & 12\\\\\n",
       "\t 17 & 18 & 20\\\\\n",
       "\\end{tabular}\n"
      ],
      "text/markdown": [
       "\n",
       "|  5 |  6 |  8 |\n",
       "|  9 | 10 | 12 |\n",
       "| 17 | 18 | 20 |\n",
       "\n"
      ],
      "text/plain": [
       "     [,1] [,2] [,3]\n",
       "[1,]  5    6    8  \n",
       "[2,]  9   10   12  \n",
       "[3,] 17   18   20  "
      ]
     },
     "metadata": {},
     "output_type": "display_data"
    }
   ],
   "source": [
    "mat[c(2,3,5),c(1,2,4)]"
   ]
  },
  {
   "cell_type": "code",
   "execution_count": 26,
   "metadata": {},
   "outputs": [
    {
     "data": {
      "text/html": [
       "<table>\n",
       "<tbody>\n",
       "\t<tr><td> 1</td><td> 3</td></tr>\n",
       "\t<tr><td> 9</td><td>11</td></tr>\n",
       "\t<tr><td>17</td><td>19</td></tr>\n",
       "</tbody>\n",
       "</table>\n"
      ],
      "text/latex": [
       "\\begin{tabular}{ll}\n",
       "\t  1 &  3\\\\\n",
       "\t  9 & 11\\\\\n",
       "\t 17 & 19\\\\\n",
       "\\end{tabular}\n"
      ],
      "text/markdown": [
       "\n",
       "|  1 |  3 |\n",
       "|  9 | 11 |\n",
       "| 17 | 19 |\n",
       "\n"
      ],
      "text/plain": [
       "     [,1] [,2]\n",
       "[1,]  1    3  \n",
       "[2,]  9   11  \n",
       "[3,] 17   19  "
      ]
     },
     "metadata": {},
     "output_type": "display_data"
    }
   ],
   "source": [
    "mat[seq(1,5,2),seq(1,4,2)]"
   ]
  },
  {
   "cell_type": "markdown",
   "metadata": {},
   "source": [
    "mat = rbind(A=1:5,B=sample(5),C:1:5)"
   ]
  },
  {
   "cell_type": "code",
   "execution_count": 28,
   "metadata": {},
   "outputs": [],
   "source": [
    "mat = rbind(A=1:5,B=sample(5),C=1:5)"
   ]
  },
  {
   "cell_type": "code",
   "execution_count": 29,
   "metadata": {},
   "outputs": [
    {
     "data": {
      "text/html": [
       "<table>\n",
       "<tbody>\n",
       "\t<tr><th scope=row>A</th><td>1</td><td>2</td><td>3</td><td>4</td><td>5</td></tr>\n",
       "\t<tr><th scope=row>B</th><td>1</td><td>3</td><td>4</td><td>5</td><td>2</td></tr>\n",
       "\t<tr><th scope=row>C</th><td>1</td><td>2</td><td>3</td><td>4</td><td>5</td></tr>\n",
       "</tbody>\n",
       "</table>\n"
      ],
      "text/latex": [
       "\\begin{tabular}{r|lllll}\n",
       "\tA & 1 & 2 & 3 & 4 & 5\\\\\n",
       "\tB & 1 & 3 & 4 & 5 & 2\\\\\n",
       "\tC & 1 & 2 & 3 & 4 & 5\\\\\n",
       "\\end{tabular}\n"
      ],
      "text/markdown": [
       "\n",
       "| A | 1 | 2 | 3 | 4 | 5 |\n",
       "| B | 1 | 3 | 4 | 5 | 2 |\n",
       "| C | 1 | 2 | 3 | 4 | 5 |\n",
       "\n"
      ],
      "text/plain": [
       "  [,1] [,2] [,3] [,4] [,5]\n",
       "A 1    2    3    4    5   \n",
       "B 1    3    4    5    2   \n",
       "C 1    2    3    4    5   "
      ]
     },
     "metadata": {},
     "output_type": "display_data"
    }
   ],
   "source": [
    "mat"
   ]
  },
  {
   "cell_type": "code",
   "execution_count": 36,
   "metadata": {},
   "outputs": [],
   "source": [
    "colnames(mat) <- c(\"X\",\"Y\",\"Z\",\"K\",\"L\")"
   ]
  },
  {
   "cell_type": "code",
   "execution_count": 37,
   "metadata": {},
   "outputs": [
    {
     "data": {
      "text/html": [
       "<table>\n",
       "<thead><tr><th></th><th scope=col>X</th><th scope=col>Y</th><th scope=col>Z</th><th scope=col>K</th><th scope=col>L</th></tr></thead>\n",
       "<tbody>\n",
       "\t<tr><th scope=row>A</th><td>1</td><td>2</td><td>3</td><td>4</td><td>5</td></tr>\n",
       "\t<tr><th scope=row>B</th><td>1</td><td>3</td><td>4</td><td>5</td><td>2</td></tr>\n",
       "\t<tr><th scope=row>C</th><td>1</td><td>2</td><td>3</td><td>4</td><td>5</td></tr>\n",
       "</tbody>\n",
       "</table>\n"
      ],
      "text/latex": [
       "\\begin{tabular}{r|lllll}\n",
       "  & X & Y & Z & K & L\\\\\n",
       "\\hline\n",
       "\tA & 1 & 2 & 3 & 4 & 5\\\\\n",
       "\tB & 1 & 3 & 4 & 5 & 2\\\\\n",
       "\tC & 1 & 2 & 3 & 4 & 5\\\\\n",
       "\\end{tabular}\n"
      ],
      "text/markdown": [
       "\n",
       "| <!--/--> | X | Y | Z | K | L |\n",
       "|---|---|---|---|---|---|\n",
       "| A | 1 | 2 | 3 | 4 | 5 |\n",
       "| B | 1 | 3 | 4 | 5 | 2 |\n",
       "| C | 1 | 2 | 3 | 4 | 5 |\n",
       "\n"
      ],
      "text/plain": [
       "  X Y Z K L\n",
       "A 1 2 3 4 5\n",
       "B 1 3 4 5 2\n",
       "C 1 2 3 4 5"
      ]
     },
     "metadata": {},
     "output_type": "display_data"
    }
   ],
   "source": [
    "mat"
   ]
  },
  {
   "cell_type": "code",
   "execution_count": 38,
   "metadata": {},
   "outputs": [
    {
     "data": {
      "text/html": [
       "<dl class=dl-horizontal>\n",
       "\t<dt>X</dt>\n",
       "\t\t<dd>3</dd>\n",
       "\t<dt>Y</dt>\n",
       "\t\t<dd>7</dd>\n",
       "\t<dt>Z</dt>\n",
       "\t\t<dd>10</dd>\n",
       "\t<dt>K</dt>\n",
       "\t\t<dd>13</dd>\n",
       "\t<dt>L</dt>\n",
       "\t\t<dd>12</dd>\n",
       "</dl>\n"
      ],
      "text/latex": [
       "\\begin{description*}\n",
       "\\item[X] 3\n",
       "\\item[Y] 7\n",
       "\\item[Z] 10\n",
       "\\item[K] 13\n",
       "\\item[L] 12\n",
       "\\end{description*}\n"
      ],
      "text/markdown": [
       "X\n",
       ":   3Y\n",
       ":   7Z\n",
       ":   10K\n",
       ":   13L\n",
       ":   12\n",
       "\n"
      ],
      "text/plain": [
       " X  Y  Z  K  L \n",
       " 3  7 10 13 12 "
      ]
     },
     "metadata": {},
     "output_type": "display_data"
    }
   ],
   "source": [
    "colSums(mat)"
   ]
  },
  {
   "cell_type": "code",
   "execution_count": 40,
   "metadata": {
    "scrolled": true
   },
   "outputs": [
    {
     "data": {
      "text/html": [
       "<dl class=dl-horizontal>\n",
       "\t<dt>A</dt>\n",
       "\t\t<dd>15</dd>\n",
       "\t<dt>B</dt>\n",
       "\t\t<dd>15</dd>\n",
       "\t<dt>C</dt>\n",
       "\t\t<dd>15</dd>\n",
       "</dl>\n"
      ],
      "text/latex": [
       "\\begin{description*}\n",
       "\\item[A] 15\n",
       "\\item[B] 15\n",
       "\\item[C] 15\n",
       "\\end{description*}\n"
      ],
      "text/markdown": [
       "A\n",
       ":   15B\n",
       ":   15C\n",
       ":   15\n",
       "\n"
      ],
      "text/plain": [
       " A  B  C \n",
       "15 15 15 "
      ]
     },
     "metadata": {},
     "output_type": "display_data"
    }
   ],
   "source": [
    "rowSums(mat)"
   ]
  },
  {
   "cell_type": "code",
   "execution_count": 42,
   "metadata": {},
   "outputs": [
    {
     "data": {
      "text/html": [
       "3"
      ],
      "text/latex": [
       "3"
      ],
      "text/markdown": [
       "3"
      ],
      "text/plain": [
       "[1] 3"
      ]
     },
     "metadata": {},
     "output_type": "display_data"
    }
   ],
   "source": [
    "mean(mat)"
   ]
  },
  {
   "cell_type": "code",
   "execution_count": 43,
   "metadata": {},
   "outputs": [
    {
     "data": {
      "text/html": [
       "3"
      ],
      "text/latex": [
       "3"
      ],
      "text/markdown": [
       "3"
      ],
      "text/plain": [
       "[1] 3"
      ]
     },
     "metadata": {},
     "output_type": "display_data"
    }
   ],
   "source": [
    "median(mat)"
   ]
  },
  {
   "cell_type": "code",
   "execution_count": 45,
   "metadata": {},
   "outputs": [
    {
     "data": {
      "text/plain": [
       "       X           Y               Z               K               L      \n",
       " Min.   :1   Min.   :2.000   Min.   :3.000   Min.   :4.000   Min.   :2.0  \n",
       " 1st Qu.:1   1st Qu.:2.000   1st Qu.:3.000   1st Qu.:4.000   1st Qu.:3.5  \n",
       " Median :1   Median :2.000   Median :3.000   Median :4.000   Median :5.0  \n",
       " Mean   :1   Mean   :2.333   Mean   :3.333   Mean   :4.333   Mean   :4.0  \n",
       " 3rd Qu.:1   3rd Qu.:2.500   3rd Qu.:3.500   3rd Qu.:4.500   3rd Qu.:5.0  \n",
       " Max.   :1   Max.   :3.000   Max.   :4.000   Max.   :5.000   Max.   :5.0  "
      ]
     },
     "metadata": {},
     "output_type": "display_data"
    }
   ],
   "source": [
    "summary(mat)"
   ]
  },
  {
   "cell_type": "code",
   "execution_count": 46,
   "metadata": {},
   "outputs": [],
   "source": [
    "name = c(\"imran\",\"pratik\",\"rahul\",\"nidhi\")\n",
    "age  = c(18,20,21,21)\n",
    "city = c(\"jaipur\",\"jaipur\",\"nagpur\",\"kota\")"
   ]
  },
  {
   "cell_type": "code",
   "execution_count": 47,
   "metadata": {},
   "outputs": [],
   "source": [
    "df = data.frame(Name=name,Age=age,City=city)"
   ]
  },
  {
   "cell_type": "code",
   "execution_count": 48,
   "metadata": {},
   "outputs": [
    {
     "data": {
      "text/html": [
       "<table>\n",
       "<thead><tr><th scope=col>Name</th><th scope=col>Age</th><th scope=col>City</th></tr></thead>\n",
       "<tbody>\n",
       "\t<tr><td>imran </td><td>18    </td><td>jaipur</td></tr>\n",
       "\t<tr><td>pratik</td><td>20    </td><td>jaipur</td></tr>\n",
       "\t<tr><td>rahul </td><td>21    </td><td>nagpur</td></tr>\n",
       "\t<tr><td>nidhi </td><td>21    </td><td>kota  </td></tr>\n",
       "</tbody>\n",
       "</table>\n"
      ],
      "text/latex": [
       "\\begin{tabular}{r|lll}\n",
       " Name & Age & City\\\\\n",
       "\\hline\n",
       "\t imran  & 18     & jaipur\\\\\n",
       "\t pratik & 20     & jaipur\\\\\n",
       "\t rahul  & 21     & nagpur\\\\\n",
       "\t nidhi  & 21     & kota  \\\\\n",
       "\\end{tabular}\n"
      ],
      "text/markdown": [
       "\n",
       "| Name | Age | City |\n",
       "|---|---|---|\n",
       "| imran  | 18     | jaipur |\n",
       "| pratik | 20     | jaipur |\n",
       "| rahul  | 21     | nagpur |\n",
       "| nidhi  | 21     | kota   |\n",
       "\n"
      ],
      "text/plain": [
       "  Name   Age City  \n",
       "1 imran  18  jaipur\n",
       "2 pratik 20  jaipur\n",
       "3 rahul  21  nagpur\n",
       "4 nidhi  21  kota  "
      ]
     },
     "metadata": {},
     "output_type": "display_data"
    }
   ],
   "source": [
    "df"
   ]
  },
  {
   "cell_type": "code",
   "execution_count": 49,
   "metadata": {},
   "outputs": [
    {
     "data": {
      "text/plain": [
       "     Name        Age           City  \n",
       " imran :1   Min.   :18.0   jaipur:2  \n",
       " nidhi :1   1st Qu.:19.5   kota  :1  \n",
       " pratik:1   Median :20.5   nagpur:1  \n",
       " rahul :1   Mean   :20.0             \n",
       "            3rd Qu.:21.0             \n",
       "            Max.   :21.0             "
      ]
     },
     "metadata": {},
     "output_type": "display_data"
    }
   ],
   "source": [
    "summary(df)"
   ]
  },
  {
   "cell_type": "code",
   "execution_count": 50,
   "metadata": {},
   "outputs": [],
   "source": [
    "car <- mtcars"
   ]
  },
  {
   "cell_type": "code",
   "execution_count": 51,
   "metadata": {},
   "outputs": [
    {
     "data": {
      "text/html": [
       "11"
      ],
      "text/latex": [
       "11"
      ],
      "text/markdown": [
       "11"
      ],
      "text/plain": [
       "[1] 11"
      ]
     },
     "metadata": {},
     "output_type": "display_data"
    }
   ],
   "source": [
    "length(car)"
   ]
  },
  {
   "cell_type": "code",
   "execution_count": 52,
   "metadata": {},
   "outputs": [
    {
     "data": {
      "text/html": [
       "'data.frame'"
      ],
      "text/latex": [
       "'data.frame'"
      ],
      "text/markdown": [
       "'data.frame'"
      ],
      "text/plain": [
       "[1] \"data.frame\""
      ]
     },
     "metadata": {},
     "output_type": "display_data"
    }
   ],
   "source": [
    "class(car)"
   ]
  },
  {
   "cell_type": "code",
   "execution_count": 53,
   "metadata": {},
   "outputs": [
    {
     "name": "stdout",
     "output_type": "stream",
     "text": [
      "'data.frame':\t32 obs. of  11 variables:\n",
      " $ mpg : num  21 21 22.8 21.4 18.7 18.1 14.3 24.4 22.8 19.2 ...\n",
      " $ cyl : num  6 6 4 6 8 6 8 4 4 6 ...\n",
      " $ disp: num  160 160 108 258 360 ...\n",
      " $ hp  : num  110 110 93 110 175 105 245 62 95 123 ...\n",
      " $ drat: num  3.9 3.9 3.85 3.08 3.15 2.76 3.21 3.69 3.92 3.92 ...\n",
      " $ wt  : num  2.62 2.88 2.32 3.21 3.44 ...\n",
      " $ qsec: num  16.5 17 18.6 19.4 17 ...\n",
      " $ vs  : num  0 0 1 1 0 1 0 1 1 1 ...\n",
      " $ am  : num  1 1 1 0 0 0 0 0 0 0 ...\n",
      " $ gear: num  4 4 4 3 3 3 3 4 4 4 ...\n",
      " $ carb: num  4 4 1 1 2 1 4 2 2 4 ...\n"
     ]
    }
   ],
   "source": [
    "str(car)"
   ]
  },
  {
   "cell_type": "code",
   "execution_count": 54,
   "metadata": {},
   "outputs": [],
   "source": [
    "help(mtcars)"
   ]
  },
  {
   "cell_type": "code",
   "execution_count": 55,
   "metadata": {},
   "outputs": [
    {
     "data": {
      "text/html": [
       "<table>\n",
       "<thead><tr><th></th><th scope=col>mpg</th><th scope=col>cyl</th><th scope=col>disp</th><th scope=col>hp</th><th scope=col>drat</th><th scope=col>wt</th><th scope=col>qsec</th><th scope=col>vs</th><th scope=col>am</th><th scope=col>gear</th><th scope=col>carb</th></tr></thead>\n",
       "<tbody>\n",
       "\t<tr><th scope=row>Mazda RX4</th><td>21.0 </td><td>6    </td><td>160  </td><td>110  </td><td>3.90 </td><td>2.620</td><td>16.46</td><td>0    </td><td>1    </td><td>4    </td><td>4    </td></tr>\n",
       "\t<tr><th scope=row>Mazda RX4 Wag</th><td>21.0 </td><td>6    </td><td>160  </td><td>110  </td><td>3.90 </td><td>2.875</td><td>17.02</td><td>0    </td><td>1    </td><td>4    </td><td>4    </td></tr>\n",
       "\t<tr><th scope=row>Datsun 710</th><td>22.8 </td><td>4    </td><td>108  </td><td> 93  </td><td>3.85 </td><td>2.320</td><td>18.61</td><td>1    </td><td>1    </td><td>4    </td><td>1    </td></tr>\n",
       "\t<tr><th scope=row>Hornet 4 Drive</th><td>21.4 </td><td>6    </td><td>258  </td><td>110  </td><td>3.08 </td><td>3.215</td><td>19.44</td><td>1    </td><td>0    </td><td>3    </td><td>1    </td></tr>\n",
       "\t<tr><th scope=row>Hornet Sportabout</th><td>18.7 </td><td>8    </td><td>360  </td><td>175  </td><td>3.15 </td><td>3.440</td><td>17.02</td><td>0    </td><td>0    </td><td>3    </td><td>2    </td></tr>\n",
       "\t<tr><th scope=row>Valiant</th><td>18.1 </td><td>6    </td><td>225  </td><td>105  </td><td>2.76 </td><td>3.460</td><td>20.22</td><td>1    </td><td>0    </td><td>3    </td><td>1    </td></tr>\n",
       "</tbody>\n",
       "</table>\n"
      ],
      "text/latex": [
       "\\begin{tabular}{r|lllllllllll}\n",
       "  & mpg & cyl & disp & hp & drat & wt & qsec & vs & am & gear & carb\\\\\n",
       "\\hline\n",
       "\tMazda RX4 & 21.0  & 6     & 160   & 110   & 3.90  & 2.620 & 16.46 & 0     & 1     & 4     & 4    \\\\\n",
       "\tMazda RX4 Wag & 21.0  & 6     & 160   & 110   & 3.90  & 2.875 & 17.02 & 0     & 1     & 4     & 4    \\\\\n",
       "\tDatsun 710 & 22.8  & 4     & 108   &  93   & 3.85  & 2.320 & 18.61 & 1     & 1     & 4     & 1    \\\\\n",
       "\tHornet 4 Drive & 21.4  & 6     & 258   & 110   & 3.08  & 3.215 & 19.44 & 1     & 0     & 3     & 1    \\\\\n",
       "\tHornet Sportabout & 18.7  & 8     & 360   & 175   & 3.15  & 3.440 & 17.02 & 0     & 0     & 3     & 2    \\\\\n",
       "\tValiant & 18.1  & 6     & 225   & 105   & 2.76  & 3.460 & 20.22 & 1     & 0     & 3     & 1    \\\\\n",
       "\\end{tabular}\n"
      ],
      "text/markdown": [
       "\n",
       "| <!--/--> | mpg | cyl | disp | hp | drat | wt | qsec | vs | am | gear | carb |\n",
       "|---|---|---|---|---|---|---|---|---|---|---|---|\n",
       "| Mazda RX4 | 21.0  | 6     | 160   | 110   | 3.90  | 2.620 | 16.46 | 0     | 1     | 4     | 4     |\n",
       "| Mazda RX4 Wag | 21.0  | 6     | 160   | 110   | 3.90  | 2.875 | 17.02 | 0     | 1     | 4     | 4     |\n",
       "| Datsun 710 | 22.8  | 4     | 108   |  93   | 3.85  | 2.320 | 18.61 | 1     | 1     | 4     | 1     |\n",
       "| Hornet 4 Drive | 21.4  | 6     | 258   | 110   | 3.08  | 3.215 | 19.44 | 1     | 0     | 3     | 1     |\n",
       "| Hornet Sportabout | 18.7  | 8     | 360   | 175   | 3.15  | 3.440 | 17.02 | 0     | 0     | 3     | 2     |\n",
       "| Valiant | 18.1  | 6     | 225   | 105   | 2.76  | 3.460 | 20.22 | 1     | 0     | 3     | 1     |\n",
       "\n"
      ],
      "text/plain": [
       "                  mpg  cyl disp hp  drat wt    qsec  vs am gear carb\n",
       "Mazda RX4         21.0 6   160  110 3.90 2.620 16.46 0  1  4    4   \n",
       "Mazda RX4 Wag     21.0 6   160  110 3.90 2.875 17.02 0  1  4    4   \n",
       "Datsun 710        22.8 4   108   93 3.85 2.320 18.61 1  1  4    1   \n",
       "Hornet 4 Drive    21.4 6   258  110 3.08 3.215 19.44 1  0  3    1   \n",
       "Hornet Sportabout 18.7 8   360  175 3.15 3.440 17.02 0  0  3    2   \n",
       "Valiant           18.1 6   225  105 2.76 3.460 20.22 1  0  3    1   "
      ]
     },
     "metadata": {},
     "output_type": "display_data"
    }
   ],
   "source": [
    "head(car)"
   ]
  },
  {
   "cell_type": "code",
   "execution_count": 56,
   "metadata": {},
   "outputs": [
    {
     "data": {
      "text/html": [
       "<table>\n",
       "<thead><tr><th></th><th scope=col>mpg</th><th scope=col>cyl</th><th scope=col>disp</th><th scope=col>hp</th><th scope=col>drat</th><th scope=col>wt</th><th scope=col>qsec</th><th scope=col>vs</th><th scope=col>am</th><th scope=col>gear</th><th scope=col>carb</th></tr></thead>\n",
       "<tbody>\n",
       "\t<tr><th scope=row>Porsche 914-2</th><td>26.0 </td><td>4    </td><td>120.3</td><td> 91  </td><td>4.43 </td><td>2.140</td><td>16.7 </td><td>0    </td><td>1    </td><td>5    </td><td>2    </td></tr>\n",
       "\t<tr><th scope=row>Lotus Europa</th><td>30.4 </td><td>4    </td><td> 95.1</td><td>113  </td><td>3.77 </td><td>1.513</td><td>16.9 </td><td>1    </td><td>1    </td><td>5    </td><td>2    </td></tr>\n",
       "\t<tr><th scope=row>Ford Pantera L</th><td>15.8 </td><td>8    </td><td>351.0</td><td>264  </td><td>4.22 </td><td>3.170</td><td>14.5 </td><td>0    </td><td>1    </td><td>5    </td><td>4    </td></tr>\n",
       "\t<tr><th scope=row>Ferrari Dino</th><td>19.7 </td><td>6    </td><td>145.0</td><td>175  </td><td>3.62 </td><td>2.770</td><td>15.5 </td><td>0    </td><td>1    </td><td>5    </td><td>6    </td></tr>\n",
       "\t<tr><th scope=row>Maserati Bora</th><td>15.0 </td><td>8    </td><td>301.0</td><td>335  </td><td>3.54 </td><td>3.570</td><td>14.6 </td><td>0    </td><td>1    </td><td>5    </td><td>8    </td></tr>\n",
       "\t<tr><th scope=row>Volvo 142E</th><td>21.4 </td><td>4    </td><td>121.0</td><td>109  </td><td>4.11 </td><td>2.780</td><td>18.6 </td><td>1    </td><td>1    </td><td>4    </td><td>2    </td></tr>\n",
       "</tbody>\n",
       "</table>\n"
      ],
      "text/latex": [
       "\\begin{tabular}{r|lllllllllll}\n",
       "  & mpg & cyl & disp & hp & drat & wt & qsec & vs & am & gear & carb\\\\\n",
       "\\hline\n",
       "\tPorsche 914-2 & 26.0  & 4     & 120.3 &  91   & 4.43  & 2.140 & 16.7  & 0     & 1     & 5     & 2    \\\\\n",
       "\tLotus Europa & 30.4  & 4     &  95.1 & 113   & 3.77  & 1.513 & 16.9  & 1     & 1     & 5     & 2    \\\\\n",
       "\tFord Pantera L & 15.8  & 8     & 351.0 & 264   & 4.22  & 3.170 & 14.5  & 0     & 1     & 5     & 4    \\\\\n",
       "\tFerrari Dino & 19.7  & 6     & 145.0 & 175   & 3.62  & 2.770 & 15.5  & 0     & 1     & 5     & 6    \\\\\n",
       "\tMaserati Bora & 15.0  & 8     & 301.0 & 335   & 3.54  & 3.570 & 14.6  & 0     & 1     & 5     & 8    \\\\\n",
       "\tVolvo 142E & 21.4  & 4     & 121.0 & 109   & 4.11  & 2.780 & 18.6  & 1     & 1     & 4     & 2    \\\\\n",
       "\\end{tabular}\n"
      ],
      "text/markdown": [
       "\n",
       "| <!--/--> | mpg | cyl | disp | hp | drat | wt | qsec | vs | am | gear | carb |\n",
       "|---|---|---|---|---|---|---|---|---|---|---|---|\n",
       "| Porsche 914-2 | 26.0  | 4     | 120.3 |  91   | 4.43  | 2.140 | 16.7  | 0     | 1     | 5     | 2     |\n",
       "| Lotus Europa | 30.4  | 4     |  95.1 | 113   | 3.77  | 1.513 | 16.9  | 1     | 1     | 5     | 2     |\n",
       "| Ford Pantera L | 15.8  | 8     | 351.0 | 264   | 4.22  | 3.170 | 14.5  | 0     | 1     | 5     | 4     |\n",
       "| Ferrari Dino | 19.7  | 6     | 145.0 | 175   | 3.62  | 2.770 | 15.5  | 0     | 1     | 5     | 6     |\n",
       "| Maserati Bora | 15.0  | 8     | 301.0 | 335   | 3.54  | 3.570 | 14.6  | 0     | 1     | 5     | 8     |\n",
       "| Volvo 142E | 21.4  | 4     | 121.0 | 109   | 4.11  | 2.780 | 18.6  | 1     | 1     | 4     | 2     |\n",
       "\n"
      ],
      "text/plain": [
       "               mpg  cyl disp  hp  drat wt    qsec vs am gear carb\n",
       "Porsche 914-2  26.0 4   120.3  91 4.43 2.140 16.7 0  1  5    2   \n",
       "Lotus Europa   30.4 4    95.1 113 3.77 1.513 16.9 1  1  5    2   \n",
       "Ford Pantera L 15.8 8   351.0 264 4.22 3.170 14.5 0  1  5    4   \n",
       "Ferrari Dino   19.7 6   145.0 175 3.62 2.770 15.5 0  1  5    6   \n",
       "Maserati Bora  15.0 8   301.0 335 3.54 3.570 14.6 0  1  5    8   \n",
       "Volvo 142E     21.4 4   121.0 109 4.11 2.780 18.6 1  1  4    2   "
      ]
     },
     "metadata": {},
     "output_type": "display_data"
    }
   ],
   "source": [
    "tail(car)"
   ]
  },
  {
   "cell_type": "code",
   "execution_count": 59,
   "metadata": {},
   "outputs": [
    {
     "data": {
      "text/html": [
       "<ol class=list-inline>\n",
       "\t<li>160</li>\n",
       "\t<li>160</li>\n",
       "\t<li>108</li>\n",
       "\t<li>258</li>\n",
       "\t<li>360</li>\n",
       "\t<li>225</li>\n",
       "\t<li>360</li>\n",
       "\t<li>146.7</li>\n",
       "\t<li>140.8</li>\n",
       "\t<li>167.6</li>\n",
       "\t<li>167.6</li>\n",
       "\t<li>275.8</li>\n",
       "\t<li>275.8</li>\n",
       "\t<li>275.8</li>\n",
       "\t<li>472</li>\n",
       "\t<li>460</li>\n",
       "\t<li>440</li>\n",
       "\t<li>78.7</li>\n",
       "\t<li>75.7</li>\n",
       "\t<li>71.1</li>\n",
       "\t<li>120.1</li>\n",
       "\t<li>318</li>\n",
       "\t<li>304</li>\n",
       "\t<li>350</li>\n",
       "\t<li>400</li>\n",
       "\t<li>79</li>\n",
       "\t<li>120.3</li>\n",
       "\t<li>95.1</li>\n",
       "\t<li>351</li>\n",
       "\t<li>145</li>\n",
       "\t<li>301</li>\n",
       "\t<li>121</li>\n",
       "</ol>\n"
      ],
      "text/latex": [
       "\\begin{enumerate*}\n",
       "\\item 160\n",
       "\\item 160\n",
       "\\item 108\n",
       "\\item 258\n",
       "\\item 360\n",
       "\\item 225\n",
       "\\item 360\n",
       "\\item 146.7\n",
       "\\item 140.8\n",
       "\\item 167.6\n",
       "\\item 167.6\n",
       "\\item 275.8\n",
       "\\item 275.8\n",
       "\\item 275.8\n",
       "\\item 472\n",
       "\\item 460\n",
       "\\item 440\n",
       "\\item 78.7\n",
       "\\item 75.7\n",
       "\\item 71.1\n",
       "\\item 120.1\n",
       "\\item 318\n",
       "\\item 304\n",
       "\\item 350\n",
       "\\item 400\n",
       "\\item 79\n",
       "\\item 120.3\n",
       "\\item 95.1\n",
       "\\item 351\n",
       "\\item 145\n",
       "\\item 301\n",
       "\\item 121\n",
       "\\end{enumerate*}\n"
      ],
      "text/markdown": [
       "1. 160\n",
       "2. 160\n",
       "3. 108\n",
       "4. 258\n",
       "5. 360\n",
       "6. 225\n",
       "7. 360\n",
       "8. 146.7\n",
       "9. 140.8\n",
       "10. 167.6\n",
       "11. 167.6\n",
       "12. 275.8\n",
       "13. 275.8\n",
       "14. 275.8\n",
       "15. 472\n",
       "16. 460\n",
       "17. 440\n",
       "18. 78.7\n",
       "19. 75.7\n",
       "20. 71.1\n",
       "21. 120.1\n",
       "22. 318\n",
       "23. 304\n",
       "24. 350\n",
       "25. 400\n",
       "26. 79\n",
       "27. 120.3\n",
       "28. 95.1\n",
       "29. 351\n",
       "30. 145\n",
       "31. 301\n",
       "32. 121\n",
       "\n",
       "\n"
      ],
      "text/plain": [
       " [1] 160.0 160.0 108.0 258.0 360.0 225.0 360.0 146.7 140.8 167.6 167.6 275.8\n",
       "[13] 275.8 275.8 472.0 460.0 440.0  78.7  75.7  71.1 120.1 318.0 304.0 350.0\n",
       "[25] 400.0  79.0 120.3  95.1 351.0 145.0 301.0 121.0"
      ]
     },
     "metadata": {},
     "output_type": "display_data"
    }
   ],
   "source": [
    "car$disp"
   ]
  },
  {
   "cell_type": "code",
   "execution_count": 60,
   "metadata": {},
   "outputs": [
    {
     "data": {
      "text/html": [
       "<table>\n",
       "<thead><tr><th></th><th scope=col>cyl</th><th scope=col>mpg</th></tr></thead>\n",
       "<tbody>\n",
       "\t<tr><th scope=row>Mazda RX4</th><td>6   </td><td>21.0</td></tr>\n",
       "\t<tr><th scope=row>Mazda RX4 Wag</th><td>6   </td><td>21.0</td></tr>\n",
       "\t<tr><th scope=row>Datsun 710</th><td>4   </td><td>22.8</td></tr>\n",
       "\t<tr><th scope=row>Hornet 4 Drive</th><td>6   </td><td>21.4</td></tr>\n",
       "\t<tr><th scope=row>Hornet Sportabout</th><td>8   </td><td>18.7</td></tr>\n",
       "\t<tr><th scope=row>Valiant</th><td>6   </td><td>18.1</td></tr>\n",
       "\t<tr><th scope=row>Duster 360</th><td>8   </td><td>14.3</td></tr>\n",
       "\t<tr><th scope=row>Merc 240D</th><td>4   </td><td>24.4</td></tr>\n",
       "\t<tr><th scope=row>Merc 230</th><td>4   </td><td>22.8</td></tr>\n",
       "\t<tr><th scope=row>Merc 280</th><td>6   </td><td>19.2</td></tr>\n",
       "\t<tr><th scope=row>Merc 280C</th><td>6   </td><td>17.8</td></tr>\n",
       "\t<tr><th scope=row>Merc 450SE</th><td>8   </td><td>16.4</td></tr>\n",
       "\t<tr><th scope=row>Merc 450SL</th><td>8   </td><td>17.3</td></tr>\n",
       "\t<tr><th scope=row>Merc 450SLC</th><td>8   </td><td>15.2</td></tr>\n",
       "\t<tr><th scope=row>Cadillac Fleetwood</th><td>8   </td><td>10.4</td></tr>\n",
       "\t<tr><th scope=row>Lincoln Continental</th><td>8   </td><td>10.4</td></tr>\n",
       "\t<tr><th scope=row>Chrysler Imperial</th><td>8   </td><td>14.7</td></tr>\n",
       "\t<tr><th scope=row>Fiat 128</th><td>4   </td><td>32.4</td></tr>\n",
       "\t<tr><th scope=row>Honda Civic</th><td>4   </td><td>30.4</td></tr>\n",
       "\t<tr><th scope=row>Toyota Corolla</th><td>4   </td><td>33.9</td></tr>\n",
       "\t<tr><th scope=row>Toyota Corona</th><td>4   </td><td>21.5</td></tr>\n",
       "\t<tr><th scope=row>Dodge Challenger</th><td>8   </td><td>15.5</td></tr>\n",
       "\t<tr><th scope=row>AMC Javelin</th><td>8   </td><td>15.2</td></tr>\n",
       "\t<tr><th scope=row>Camaro Z28</th><td>8   </td><td>13.3</td></tr>\n",
       "\t<tr><th scope=row>Pontiac Firebird</th><td>8   </td><td>19.2</td></tr>\n",
       "\t<tr><th scope=row>Fiat X1-9</th><td>4   </td><td>27.3</td></tr>\n",
       "\t<tr><th scope=row>Porsche 914-2</th><td>4   </td><td>26.0</td></tr>\n",
       "\t<tr><th scope=row>Lotus Europa</th><td>4   </td><td>30.4</td></tr>\n",
       "\t<tr><th scope=row>Ford Pantera L</th><td>8   </td><td>15.8</td></tr>\n",
       "\t<tr><th scope=row>Ferrari Dino</th><td>6   </td><td>19.7</td></tr>\n",
       "\t<tr><th scope=row>Maserati Bora</th><td>8   </td><td>15.0</td></tr>\n",
       "\t<tr><th scope=row>Volvo 142E</th><td>4   </td><td>21.4</td></tr>\n",
       "</tbody>\n",
       "</table>\n"
      ],
      "text/latex": [
       "\\begin{tabular}{r|ll}\n",
       "  & cyl & mpg\\\\\n",
       "\\hline\n",
       "\tMazda RX4 & 6    & 21.0\\\\\n",
       "\tMazda RX4 Wag & 6    & 21.0\\\\\n",
       "\tDatsun 710 & 4    & 22.8\\\\\n",
       "\tHornet 4 Drive & 6    & 21.4\\\\\n",
       "\tHornet Sportabout & 8    & 18.7\\\\\n",
       "\tValiant & 6    & 18.1\\\\\n",
       "\tDuster 360 & 8    & 14.3\\\\\n",
       "\tMerc 240D & 4    & 24.4\\\\\n",
       "\tMerc 230 & 4    & 22.8\\\\\n",
       "\tMerc 280 & 6    & 19.2\\\\\n",
       "\tMerc 280C & 6    & 17.8\\\\\n",
       "\tMerc 450SE & 8    & 16.4\\\\\n",
       "\tMerc 450SL & 8    & 17.3\\\\\n",
       "\tMerc 450SLC & 8    & 15.2\\\\\n",
       "\tCadillac Fleetwood & 8    & 10.4\\\\\n",
       "\tLincoln Continental & 8    & 10.4\\\\\n",
       "\tChrysler Imperial & 8    & 14.7\\\\\n",
       "\tFiat 128 & 4    & 32.4\\\\\n",
       "\tHonda Civic & 4    & 30.4\\\\\n",
       "\tToyota Corolla & 4    & 33.9\\\\\n",
       "\tToyota Corona & 4    & 21.5\\\\\n",
       "\tDodge Challenger & 8    & 15.5\\\\\n",
       "\tAMC Javelin & 8    & 15.2\\\\\n",
       "\tCamaro Z28 & 8    & 13.3\\\\\n",
       "\tPontiac Firebird & 8    & 19.2\\\\\n",
       "\tFiat X1-9 & 4    & 27.3\\\\\n",
       "\tPorsche 914-2 & 4    & 26.0\\\\\n",
       "\tLotus Europa & 4    & 30.4\\\\\n",
       "\tFord Pantera L & 8    & 15.8\\\\\n",
       "\tFerrari Dino & 6    & 19.7\\\\\n",
       "\tMaserati Bora & 8    & 15.0\\\\\n",
       "\tVolvo 142E & 4    & 21.4\\\\\n",
       "\\end{tabular}\n"
      ],
      "text/markdown": [
       "\n",
       "| <!--/--> | cyl | mpg |\n",
       "|---|---|---|\n",
       "| Mazda RX4 | 6    | 21.0 |\n",
       "| Mazda RX4 Wag | 6    | 21.0 |\n",
       "| Datsun 710 | 4    | 22.8 |\n",
       "| Hornet 4 Drive | 6    | 21.4 |\n",
       "| Hornet Sportabout | 8    | 18.7 |\n",
       "| Valiant | 6    | 18.1 |\n",
       "| Duster 360 | 8    | 14.3 |\n",
       "| Merc 240D | 4    | 24.4 |\n",
       "| Merc 230 | 4    | 22.8 |\n",
       "| Merc 280 | 6    | 19.2 |\n",
       "| Merc 280C | 6    | 17.8 |\n",
       "| Merc 450SE | 8    | 16.4 |\n",
       "| Merc 450SL | 8    | 17.3 |\n",
       "| Merc 450SLC | 8    | 15.2 |\n",
       "| Cadillac Fleetwood | 8    | 10.4 |\n",
       "| Lincoln Continental | 8    | 10.4 |\n",
       "| Chrysler Imperial | 8    | 14.7 |\n",
       "| Fiat 128 | 4    | 32.4 |\n",
       "| Honda Civic | 4    | 30.4 |\n",
       "| Toyota Corolla | 4    | 33.9 |\n",
       "| Toyota Corona | 4    | 21.5 |\n",
       "| Dodge Challenger | 8    | 15.5 |\n",
       "| AMC Javelin | 8    | 15.2 |\n",
       "| Camaro Z28 | 8    | 13.3 |\n",
       "| Pontiac Firebird | 8    | 19.2 |\n",
       "| Fiat X1-9 | 4    | 27.3 |\n",
       "| Porsche 914-2 | 4    | 26.0 |\n",
       "| Lotus Europa | 4    | 30.4 |\n",
       "| Ford Pantera L | 8    | 15.8 |\n",
       "| Ferrari Dino | 6    | 19.7 |\n",
       "| Maserati Bora | 8    | 15.0 |\n",
       "| Volvo 142E | 4    | 21.4 |\n",
       "\n"
      ],
      "text/plain": [
       "                    cyl mpg \n",
       "Mazda RX4           6   21.0\n",
       "Mazda RX4 Wag       6   21.0\n",
       "Datsun 710          4   22.8\n",
       "Hornet 4 Drive      6   21.4\n",
       "Hornet Sportabout   8   18.7\n",
       "Valiant             6   18.1\n",
       "Duster 360          8   14.3\n",
       "Merc 240D           4   24.4\n",
       "Merc 230            4   22.8\n",
       "Merc 280            6   19.2\n",
       "Merc 280C           6   17.8\n",
       "Merc 450SE          8   16.4\n",
       "Merc 450SL          8   17.3\n",
       "Merc 450SLC         8   15.2\n",
       "Cadillac Fleetwood  8   10.4\n",
       "Lincoln Continental 8   10.4\n",
       "Chrysler Imperial   8   14.7\n",
       "Fiat 128            4   32.4\n",
       "Honda Civic         4   30.4\n",
       "Toyota Corolla      4   33.9\n",
       "Toyota Corona       4   21.5\n",
       "Dodge Challenger    8   15.5\n",
       "AMC Javelin         8   15.2\n",
       "Camaro Z28          8   13.3\n",
       "Pontiac Firebird    8   19.2\n",
       "Fiat X1-9           4   27.3\n",
       "Porsche 914-2       4   26.0\n",
       "Lotus Europa        4   30.4\n",
       "Ford Pantera L      8   15.8\n",
       "Ferrari Dino        6   19.7\n",
       "Maserati Bora       8   15.0\n",
       "Volvo 142E          4   21.4"
      ]
     },
     "metadata": {},
     "output_type": "display_data"
    }
   ],
   "source": [
    "car[c('cyl','mpg')]"
   ]
  },
  {
   "cell_type": "code",
   "execution_count": 61,
   "metadata": {},
   "outputs": [
    {
     "data": {
      "image/png": "[encoded data removed]",
      "text/plain": [
       "plot without title"
      ]
     },
     "metadata": {},
     "output_type": "display_data"
    }
   ],
   "source": [
    "plot(car[c('cyl','mpg')])"
   ]
  },
  {
   "cell_type": "code",
   "execution_count": 64,
   "metadata": {},
   "outputs": [
    {
     "data": {
      "image/png": "[encoded data removed]",
      "text/plain": [
       "plot without title"
      ]
     },
     "metadata": {},
     "output_type": "display_data"
    }
   ],
   "source": [
    "plot(car[c('mpg','hp')])"
   ]
  },
  {
   "cell_type": "code",
   "execution_count": 65,
   "metadata": {},
   "outputs": [
    {
     "data": {
      "text/html": [
       "<table>\n",
       "<thead><tr><th scope=col>Name</th><th scope=col>Age</th><th scope=col>City</th></tr></thead>\n",
       "<tbody>\n",
       "\t<tr><td>imran </td><td>18    </td><td>jaipur</td></tr>\n",
       "\t<tr><td>pratik</td><td>20    </td><td>jaipur</td></tr>\n",
       "\t<tr><td>rahul </td><td>21    </td><td>nagpur</td></tr>\n",
       "\t<tr><td>nidhi </td><td>21    </td><td>kota  </td></tr>\n",
       "</tbody>\n",
       "</table>\n"
      ],
      "text/latex": [
       "\\begin{tabular}{r|lll}\n",
       " Name & Age & City\\\\\n",
       "\\hline\n",
       "\t imran  & 18     & jaipur\\\\\n",
       "\t pratik & 20     & jaipur\\\\\n",
       "\t rahul  & 21     & nagpur\\\\\n",
       "\t nidhi  & 21     & kota  \\\\\n",
       "\\end{tabular}\n"
      ],
      "text/markdown": [
       "\n",
       "| Name | Age | City |\n",
       "|---|---|---|\n",
       "| imran  | 18     | jaipur |\n",
       "| pratik | 20     | jaipur |\n",
       "| rahul  | 21     | nagpur |\n",
       "| nidhi  | 21     | kota   |\n",
       "\n"
      ],
      "text/plain": [
       "  Name   Age City  \n",
       "1 imran  18  jaipur\n",
       "2 pratik 20  jaipur\n",
       "3 rahul  21  nagpur\n",
       "4 nidhi  21  kota  "
      ]
     },
     "metadata": {},
     "output_type": "display_data"
    }
   ],
   "source": [
    "df"
   ]
  },
  {
   "cell_type": "code",
   "execution_count": 66,
   "metadata": {},
   "outputs": [],
   "source": [
    "df$Pos <- c(\"pyhon\",\"linux\",\"salesforce\",\"bigdat\")"
   ]
  },
  {
   "cell_type": "code",
   "execution_count": 67,
   "metadata": {},
   "outputs": [
    {
     "data": {
      "text/html": [
       "<table>\n",
       "<thead><tr><th scope=col>Name</th><th scope=col>Age</th><th scope=col>City</th><th scope=col>Pos</th></tr></thead>\n",
       "<tbody>\n",
       "\t<tr><td>imran     </td><td>18        </td><td>jaipur    </td><td>pyhon     </td></tr>\n",
       "\t<tr><td>pratik    </td><td>20        </td><td>jaipur    </td><td>linux     </td></tr>\n",
       "\t<tr><td>rahul     </td><td>21        </td><td>nagpur    </td><td>salesforce</td></tr>\n",
       "\t<tr><td>nidhi     </td><td>21        </td><td>kota      </td><td>bigdat    </td></tr>\n",
       "</tbody>\n",
       "</table>\n"
      ],
      "text/latex": [
       "\\begin{tabular}{r|llll}\n",
       " Name & Age & City & Pos\\\\\n",
       "\\hline\n",
       "\t imran      & 18         & jaipur     & pyhon     \\\\\n",
       "\t pratik     & 20         & jaipur     & linux     \\\\\n",
       "\t rahul      & 21         & nagpur     & salesforce\\\\\n",
       "\t nidhi      & 21         & kota       & bigdat    \\\\\n",
       "\\end{tabular}\n"
      ],
      "text/markdown": [
       "\n",
       "| Name | Age | City | Pos |\n",
       "|---|---|---|---|\n",
       "| imran      | 18         | jaipur     | pyhon      |\n",
       "| pratik     | 20         | jaipur     | linux      |\n",
       "| rahul      | 21         | nagpur     | salesforce |\n",
       "| nidhi      | 21         | kota       | bigdat     |\n",
       "\n"
      ],
      "text/plain": [
       "  Name   Age City   Pos       \n",
       "1 imran  18  jaipur pyhon     \n",
       "2 pratik 20  jaipur linux     \n",
       "3 rahul  21  nagpur salesforce\n",
       "4 nidhi  21  kota   bigdat    "
      ]
     },
     "metadata": {},
     "output_type": "display_data"
    }
   ],
   "source": [
    "df"
   ]
  },
  {
   "cell_type": "code",
   "execution_count": 71,
   "metadata": {},
   "outputs": [
    {
     "name": "stderr",
     "output_type": "stream",
     "text": [
      "Warning message in 3:4:1:\n",
      "\"numerical expression has 2 elements: only the first used\""
     ]
    },
    {
     "data": {
      "text/html": [
       "<table>\n",
       "<thead><tr><th scope=col>City</th><th scope=col>Age</th><th scope=col>Name</th></tr></thead>\n",
       "<tbody>\n",
       "\t<tr><td>jaipur</td><td>18    </td><td>imran </td></tr>\n",
       "</tbody>\n",
       "</table>\n"
      ],
      "text/latex": [
       "\\begin{tabular}{r|lll}\n",
       " City & Age & Name\\\\\n",
       "\\hline\n",
       "\t jaipur & 18     & imran \\\\\n",
       "\\end{tabular}\n"
      ],
      "text/markdown": [
       "\n",
       "| City | Age | Name |\n",
       "|---|---|---|\n",
       "| jaipur | 18     | imran  |\n",
       "\n"
      ],
      "text/plain": [
       "  City   Age Name \n",
       "1 jaipur 18  imran"
      ]
     },
     "metadata": {},
     "output_type": "display_data"
    }
   ],
   "source": [
    "df[1,3:4:1]"
   ]
  },
  {
   "cell_type": "code",
   "execution_count": 72,
   "metadata": {},
   "outputs": [],
   "source": [
    "a = c(1,2,3,4)\n",
    "b = c(\"hello\",\"hii\",\"bye\")\n",
    "c = c(1.3,1.2,1.5)"
   ]
  },
  {
   "cell_type": "code",
   "execution_count": 73,
   "metadata": {},
   "outputs": [],
   "source": [
    "l = list(a,b,c)"
   ]
  },
  {
   "cell_type": "code",
   "execution_count": 74,
   "metadata": {},
   "outputs": [
    {
     "data": {
      "text/html": [
       "<ol>\n",
       "\t<li><ol class=list-inline>\n",
       "\t<li>1</li>\n",
       "\t<li>2</li>\n",
       "\t<li>3</li>\n",
       "\t<li>4</li>\n",
       "</ol>\n",
       "</li>\n",
       "\t<li><ol class=list-inline>\n",
       "\t<li>'hello'</li>\n",
       "\t<li>'hii'</li>\n",
       "\t<li>'bye'</li>\n",
       "</ol>\n",
       "</li>\n",
       "\t<li><ol class=list-inline>\n",
       "\t<li>1.3</li>\n",
       "\t<li>1.2</li>\n",
       "\t<li>1.5</li>\n",
       "</ol>\n",
       "</li>\n",
       "</ol>\n"
      ],
      "text/latex": [
       "\\begin{enumerate}\n",
       "\\item \\begin{enumerate*}\n",
       "\\item 1\n",
       "\\item 2\n",
       "\\item 3\n",
       "\\item 4\n",
       "\\end{enumerate*}\n",
       "\n",
       "\\item \\begin{enumerate*}\n",
       "\\item 'hello'\n",
       "\\item 'hii'\n",
       "\\item 'bye'\n",
       "\\end{enumerate*}\n",
       "\n",
       "\\item \\begin{enumerate*}\n",
       "\\item 1.3\n",
       "\\item 1.2\n",
       "\\item 1.5\n",
       "\\end{enumerate*}\n",
       "\n",
       "\\end{enumerate}\n"
      ],
      "text/markdown": [
       "1. 1. 1\n",
       "2. 2\n",
       "3. 3\n",
       "4. 4\n",
       "\n",
       "\n",
       "\n",
       "2. 1. 'hello'\n",
       "2. 'hii'\n",
       "3. 'bye'\n",
       "\n",
       "\n",
       "\n",
       "3. 1. 1.3\n",
       "2. 1.2\n",
       "3. 1.5\n",
       "\n",
       "\n",
       "\n",
       "\n",
       "\n"
      ],
      "text/plain": [
       "[[1]]\n",
       "[1] 1 2 3 4\n",
       "\n",
       "[[2]]\n",
       "[1] \"hello\" \"hii\"   \"bye\"  \n",
       "\n",
       "[[3]]\n",
       "[1] 1.3 1.2 1.5\n"
      ]
     },
     "metadata": {},
     "output_type": "display_data"
    }
   ],
   "source": [
    "l"
   ]
  },
  {
   "cell_type": "code",
   "execution_count": 75,
   "metadata": {},
   "outputs": [
    {
     "data": {
      "text/html": [
       "'list'"
      ],
      "text/latex": [
       "'list'"
      ],
      "text/markdown": [
       "'list'"
      ],
      "text/plain": [
       "[1] \"list\""
      ]
     },
     "metadata": {},
     "output_type": "display_data"
    }
   ],
   "source": [
    "class(l)"
   ]
  },
  {
   "cell_type": "code",
   "execution_count": 76,
   "metadata": {},
   "outputs": [
    {
     "data": {
      "text/html": [
       "3"
      ],
      "text/latex": [
       "3"
      ],
      "text/markdown": [
       "3"
      ],
      "text/plain": [
       "[1] 3"
      ]
     },
     "metadata": {},
     "output_type": "display_data"
    }
   ],
   "source": [
    "length(l)"
   ]
  },
  {
   "cell_type": "code",
   "execution_count": 77,
   "metadata": {},
   "outputs": [
    {
     "name": "stdout",
     "output_type": "stream",
     "text": [
      "[[1]]\n",
      "[1] 1 2 3 4\n",
      "\n",
      "[[2]]\n",
      "[1] \"hello\" \"hii\"   \"bye\"  \n",
      "\n",
      "[[3]]\n",
      "[1] 1.3 1.2 1.5\n",
      "\n"
     ]
    }
   ],
   "source": [
    "print(l)"
   ]
  },
  {
   "cell_type": "code",
   "execution_count": 81,
   "metadata": {},
   "outputs": [
    {
     "data": {
      "text/html": [
       "<table>\n",
       "<thead><tr><th scope=col>Name</th><th scope=col>City</th></tr></thead>\n",
       "<tbody>\n",
       "\t<tr><td>imran </td><td>jaipur</td></tr>\n",
       "\t<tr><td>pratik</td><td>jaipur</td></tr>\n",
       "\t<tr><td>rahul </td><td>nagpur</td></tr>\n",
       "\t<tr><td>nidhi </td><td>kota  </td></tr>\n",
       "</tbody>\n",
       "</table>\n"
      ],
      "text/latex": [
       "\\begin{tabular}{r|ll}\n",
       " Name & City\\\\\n",
       "\\hline\n",
       "\t imran  & jaipur\\\\\n",
       "\t pratik & jaipur\\\\\n",
       "\t rahul  & nagpur\\\\\n",
       "\t nidhi  & kota  \\\\\n",
       "\\end{tabular}\n"
      ],
      "text/markdown": [
       "\n",
       "| Name | City |\n",
       "|---|---|\n",
       "| imran  | jaipur |\n",
       "| pratik | jaipur |\n",
       "| rahul  | nagpur |\n",
       "| nidhi  | kota   |\n",
       "\n"
      ],
      "text/plain": [
       "  Name   City  \n",
       "1 imran  jaipur\n",
       "2 pratik jaipur\n",
       "3 rahul  nagpur\n",
       "4 nidhi  kota  "
      ]
     },
     "metadata": {},
     "output_type": "display_data"
    }
   ],
   "source": [
    "subset(df[c(\"Name\",\"City\")])"
   ]
  },
  {
   "cell_type": "code",
   "execution_count": 82,
   "metadata": {},
   "outputs": [
    {
     "data": {
      "text/html": [
       "<table>\n",
       "<thead><tr><th scope=col>Name</th><th scope=col>Age</th><th scope=col>City</th><th scope=col>Pos</th></tr></thead>\n",
       "<tbody>\n",
       "\t<tr><td>imran     </td><td>18        </td><td>jaipur    </td><td>pyhon     </td></tr>\n",
       "\t<tr><td>pratik    </td><td>20        </td><td>jaipur    </td><td>linux     </td></tr>\n",
       "\t<tr><td>rahul     </td><td>21        </td><td>nagpur    </td><td>salesforce</td></tr>\n",
       "\t<tr><td>nidhi     </td><td>21        </td><td>kota      </td><td>bigdat    </td></tr>\n",
       "</tbody>\n",
       "</table>\n"
      ],
      "text/latex": [
       "\\begin{tabular}{r|llll}\n",
       " Name & Age & City & Pos\\\\\n",
       "\\hline\n",
       "\t imran      & 18         & jaipur     & pyhon     \\\\\n",
       "\t pratik     & 20         & jaipur     & linux     \\\\\n",
       "\t rahul      & 21         & nagpur     & salesforce\\\\\n",
       "\t nidhi      & 21         & kota       & bigdat    \\\\\n",
       "\\end{tabular}\n"
      ],
      "text/markdown": [
       "\n",
       "| Name | Age | City | Pos |\n",
       "|---|---|---|---|\n",
       "| imran      | 18         | jaipur     | pyhon      |\n",
       "| pratik     | 20         | jaipur     | linux      |\n",
       "| rahul      | 21         | nagpur     | salesforce |\n",
       "| nidhi      | 21         | kota       | bigdat     |\n",
       "\n"
      ],
      "text/plain": [
       "  Name   Age City   Pos       \n",
       "1 imran  18  jaipur pyhon     \n",
       "2 pratik 20  jaipur linux     \n",
       "3 rahul  21  nagpur salesforce\n",
       "4 nidhi  21  kota   bigdat    "
      ]
     },
     "metadata": {},
     "output_type": "display_data"
    }
   ],
   "source": [
    "df"
   ]
  },
  {
   "cell_type": "code",
   "execution_count": 86,
   "metadata": {},
   "outputs": [
    {
     "ename": "ERROR",
     "evalue": "Error in eval(e, x, parent.frame()): object 'kota' not found\n",
     "output_type": "error",
     "traceback": [
      "Error in eval(e, x, parent.frame()): object 'kota' not found\nTraceback:\n",
      "1. subset(df, df$Age > 20 & df$City == kota)",
      "2. subset.data.frame(df, df$Age > 20 & df$City == kota)",
      "3. eval(e, x, parent.frame())",
      "4. eval(e, x, parent.frame())"
     ]
    }
   ],
   "source": [
    "subset(df,df$Age>20&df$City==kota)"
   ]
  },
  {
   "cell_type": "code",
   "execution_count": null,
   "metadata": {},
   "outputs": [],
   "source": []
  },
  {
   "cell_type": "code",
   "execution_count": null,
   "metadata": {},
   "outputs": [],
   "source": []
  },
  {
   "cell_type": "code",
   "execution_count": 84,
   "metadata": {},
   "outputs": [
    {
     "ename": "ERROR",
     "evalue": "Error in parse(text = x, srcfile = src): <text>:1:28: unexpected '='\n1: subset(df,df$Age>20&df$City=\n                               ^\n",
     "output_type": "error",
     "traceback": [
      "Error in parse(text = x, srcfile = src): <text>:1:28: unexpected '='\n1: subset(df,df$Age>20&df$City=\n                               ^\nTraceback:\n"
     ]
    }
   ],
   "source": []
  },
  {
   "cell_type": "code",
   "execution_count": null,
   "metadata": {},
   "outputs": [],
   "source": []
  },
  {
   "cell_type": "code",
   "execution_count": null,
   "metadata": {},
   "outputs": [],
   "source": []
  },
  {
   "cell_type": "code",
   "execution_count": null,
   "metadata": {},
   "outputs": [],
   "source": []
  }
 ],
 "metadata": {
  "kernelspec": {
   "display_name": "R",
   "language": "R",
   "name": "ir"
  },
  "language_info": {
   "codemirror_mode": "r",
   "file_extension": ".r",
   "mimetype": "text/x-r-source",
   "name": "R",
   "pygments_lexer": "r",
   "version": "3.6.0"
  }
 },
 "nbformat": 4,
 "nbformat_minor": 2
}
