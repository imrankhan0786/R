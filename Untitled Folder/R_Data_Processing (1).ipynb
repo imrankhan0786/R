{
 "cells": [
  {
   "cell_type": "code",
   "execution_count": 1,
   "metadata": {},
   "outputs": [],
   "source": [
    "library(reshape2)"
   ]
  },
  {
   "cell_type": "code",
   "execution_count": 7,
   "metadata": {},
   "outputs": [
    {
     "name": "stdout",
     "output_type": "stream",
     "text": [
      "'data.frame':\t10 obs. of  6 variables:\n",
      " $ name     : Factor w/ 10 levels \"a\",\"b\",\"c\",\"d\",..: 1 2 3 4 5 6 7 8 9 10\n",
      " $ maths    : int  98 80 90 97 77 72 85 71 84 96\n",
      " $ english  : int  59 54 88 51 75 79 89 70 84 76\n",
      " $ physics  : int  64 79 51 61 90 86 99 72 84 87\n",
      " $ chemistry: int  91 88 76 83 93 77 61 98 92 59\n",
      " $ hindi    : int  57 91 84 75 94 55 60 96 72 68\n"
     ]
    }
   ],
   "source": [
    "df = data.frame(\n",
    "    name = letters[1:10],\n",
    "    maths = sample(50:100,10),\n",
    "    english = sample(50:100,10),\n",
    "    physics = sample(50:100,10),\n",
    "    chemistry = sample(50:100,10),\n",
    "    hindi = sample(50:100,10)\n",
    "    )\n",
    "str(df)"
   ]
  },
  {
   "cell_type": "code",
   "execution_count": 3,
   "metadata": {},
   "outputs": [
    {
     "data": {
      "text/html": [
       "<table>\n",
       "<thead><tr><th scope=col>name</th><th scope=col>maths</th><th scope=col>english</th><th scope=col>physics</th><th scope=col>chemistry</th><th scope=col>hindi</th></tr></thead>\n",
       "<tbody>\n",
       "\t<tr><td>a  </td><td>57 </td><td>85 </td><td>65 </td><td>79 </td><td> 61</td></tr>\n",
       "\t<tr><td>b  </td><td>89 </td><td>64 </td><td>74 </td><td>61 </td><td> 53</td></tr>\n",
       "\t<tr><td>c  </td><td>88 </td><td>57 </td><td>53 </td><td>92 </td><td> 70</td></tr>\n",
       "\t<tr><td>d  </td><td>91 </td><td>58 </td><td>97 </td><td>68 </td><td> 68</td></tr>\n",
       "\t<tr><td>e  </td><td>78 </td><td>87 </td><td>67 </td><td>81 </td><td>100</td></tr>\n",
       "\t<tr><td>f  </td><td>56 </td><td>68 </td><td>50 </td><td>74 </td><td> 74</td></tr>\n",
       "\t<tr><td>g  </td><td>63 </td><td>72 </td><td>75 </td><td>85 </td><td> 80</td></tr>\n",
       "\t<tr><td>h  </td><td>86 </td><td>83 </td><td>51 </td><td>75 </td><td> 78</td></tr>\n",
       "\t<tr><td>i  </td><td>76 </td><td>81 </td><td>55 </td><td>70 </td><td> 58</td></tr>\n",
       "\t<tr><td>j  </td><td>72 </td><td>69 </td><td>68 </td><td>98 </td><td> 55</td></tr>\n",
       "</tbody>\n",
       "</table>\n"
      ],
      "text/latex": [
       "\\begin{tabular}{r|llllll}\n",
       " name & maths & english & physics & chemistry & hindi\\\\\n",
       "\\hline\n",
       "\t a   & 57  & 85  & 65  & 79  &  61\\\\\n",
       "\t b   & 89  & 64  & 74  & 61  &  53\\\\\n",
       "\t c   & 88  & 57  & 53  & 92  &  70\\\\\n",
       "\t d   & 91  & 58  & 97  & 68  &  68\\\\\n",
       "\t e   & 78  & 87  & 67  & 81  & 100\\\\\n",
       "\t f   & 56  & 68  & 50  & 74  &  74\\\\\n",
       "\t g   & 63  & 72  & 75  & 85  &  80\\\\\n",
       "\t h   & 86  & 83  & 51  & 75  &  78\\\\\n",
       "\t i   & 76  & 81  & 55  & 70  &  58\\\\\n",
       "\t j   & 72  & 69  & 68  & 98  &  55\\\\\n",
       "\\end{tabular}\n"
      ],
      "text/markdown": [
       "\n",
       "| name | maths | english | physics | chemistry | hindi |\n",
       "|---|---|---|---|---|---|\n",
       "| a   | 57  | 85  | 65  | 79  |  61 |\n",
       "| b   | 89  | 64  | 74  | 61  |  53 |\n",
       "| c   | 88  | 57  | 53  | 92  |  70 |\n",
       "| d   | 91  | 58  | 97  | 68  |  68 |\n",
       "| e   | 78  | 87  | 67  | 81  | 100 |\n",
       "| f   | 56  | 68  | 50  | 74  |  74 |\n",
       "| g   | 63  | 72  | 75  | 85  |  80 |\n",
       "| h   | 86  | 83  | 51  | 75  |  78 |\n",
       "| i   | 76  | 81  | 55  | 70  |  58 |\n",
       "| j   | 72  | 69  | 68  | 98  |  55 |\n",
       "\n"
      ],
      "text/plain": [
       "   name maths english physics chemistry hindi\n",
       "1  a    57    85      65      79         61  \n",
       "2  b    89    64      74      61         53  \n",
       "3  c    88    57      53      92         70  \n",
       "4  d    91    58      97      68         68  \n",
       "5  e    78    87      67      81        100  \n",
       "6  f    56    68      50      74         74  \n",
       "7  g    63    72      75      85         80  \n",
       "8  h    86    83      51      75         78  \n",
       "9  i    76    81      55      70         58  \n",
       "10 j    72    69      68      98         55  "
      ]
     },
     "metadata": {},
     "output_type": "display_data"
    }
   ],
   "source": [
    "df"
   ]
  },
  {
   "cell_type": "code",
   "execution_count": 4,
   "metadata": {},
   "outputs": [],
   "source": [
    "df1 = melt(df,id.vars = c(\"name\",\"hindi\",\"english\"),\n",
    "           variable.name =\"subject\",value.name='marks')"
   ]
  },
  {
   "cell_type": "code",
   "execution_count": 8,
   "metadata": {},
   "outputs": [
    {
     "name": "stdout",
     "output_type": "stream",
     "text": [
      "'data.frame':\t30 obs. of  5 variables:\n",
      " $ name   : Factor w/ 10 levels \"a\",\"b\",\"c\",\"d\",..: 1 2 3 4 5 6 7 8 9 10 ...\n",
      " $ hindi  : int  61 53 70 68 100 74 80 78 58 55 ...\n",
      " $ english: int  85 64 57 58 87 68 72 83 81 69 ...\n",
      " $ subject: Factor w/ 3 levels \"maths\",\"physics\",..: 1 1 1 1 1 1 1 1 1 1 ...\n",
      " $ marks  : int  57 89 88 91 78 56 63 86 76 72 ...\n"
     ]
    }
   ],
   "source": [
    "str(df1)"
   ]
  },
  {
   "cell_type": "code",
   "execution_count": 9,
   "metadata": {},
   "outputs": [
    {
     "data": {
      "text/html": [
       "<table>\n",
       "<thead><tr><th scope=col>name</th><th scope=col>hindi</th><th scope=col>english</th><th scope=col>subject</th><th scope=col>marks</th></tr></thead>\n",
       "<tbody>\n",
       "\t<tr><td>a    </td><td> 61  </td><td>85   </td><td>maths</td><td>57   </td></tr>\n",
       "\t<tr><td>b    </td><td> 53  </td><td>64   </td><td>maths</td><td>89   </td></tr>\n",
       "\t<tr><td>c    </td><td> 70  </td><td>57   </td><td>maths</td><td>88   </td></tr>\n",
       "\t<tr><td>d    </td><td> 68  </td><td>58   </td><td>maths</td><td>91   </td></tr>\n",
       "\t<tr><td>e    </td><td>100  </td><td>87   </td><td>maths</td><td>78   </td></tr>\n",
       "\t<tr><td>f    </td><td> 74  </td><td>68   </td><td>maths</td><td>56   </td></tr>\n",
       "</tbody>\n",
       "</table>\n"
      ],
      "text/latex": [
       "\\begin{tabular}{r|lllll}\n",
       " name & hindi & english & subject & marks\\\\\n",
       "\\hline\n",
       "\t a     &  61   & 85    & maths & 57   \\\\\n",
       "\t b     &  53   & 64    & maths & 89   \\\\\n",
       "\t c     &  70   & 57    & maths & 88   \\\\\n",
       "\t d     &  68   & 58    & maths & 91   \\\\\n",
       "\t e     & 100   & 87    & maths & 78   \\\\\n",
       "\t f     &  74   & 68    & maths & 56   \\\\\n",
       "\\end{tabular}\n"
      ],
      "text/markdown": [
       "\n",
       "| name | hindi | english | subject | marks |\n",
       "|---|---|---|---|---|\n",
       "| a     |  61   | 85    | maths | 57    |\n",
       "| b     |  53   | 64    | maths | 89    |\n",
       "| c     |  70   | 57    | maths | 88    |\n",
       "| d     |  68   | 58    | maths | 91    |\n",
       "| e     | 100   | 87    | maths | 78    |\n",
       "| f     |  74   | 68    | maths | 56    |\n",
       "\n"
      ],
      "text/plain": [
       "  name hindi english subject marks\n",
       "1 a     61   85      maths   57   \n",
       "2 b     53   64      maths   89   \n",
       "3 c     70   57      maths   88   \n",
       "4 d     68   58      maths   91   \n",
       "5 e    100   87      maths   78   \n",
       "6 f     74   68      maths   56   "
      ]
     },
     "metadata": {},
     "output_type": "display_data"
    }
   ],
   "source": [
    "head(df1)"
   ]
  },
  {
   "cell_type": "code",
   "execution_count": 10,
   "metadata": {},
   "outputs": [
    {
     "data": {
      "text/html": [
       "<table>\n",
       "<thead><tr><th></th><th scope=col>name</th><th scope=col>hindi</th><th scope=col>english</th><th scope=col>subject</th><th scope=col>marks</th></tr></thead>\n",
       "<tbody>\n",
       "\t<tr><th scope=row>25</th><td>e        </td><td>100      </td><td>87       </td><td>chemistry</td><td>81       </td></tr>\n",
       "\t<tr><th scope=row>26</th><td>f        </td><td> 74      </td><td>68       </td><td>chemistry</td><td>74       </td></tr>\n",
       "\t<tr><th scope=row>27</th><td>g        </td><td> 80      </td><td>72       </td><td>chemistry</td><td>85       </td></tr>\n",
       "\t<tr><th scope=row>28</th><td>h        </td><td> 78      </td><td>83       </td><td>chemistry</td><td>75       </td></tr>\n",
       "\t<tr><th scope=row>29</th><td>i        </td><td> 58      </td><td>81       </td><td>chemistry</td><td>70       </td></tr>\n",
       "\t<tr><th scope=row>30</th><td>j        </td><td> 55      </td><td>69       </td><td>chemistry</td><td>98       </td></tr>\n",
       "</tbody>\n",
       "</table>\n"
      ],
      "text/latex": [
       "\\begin{tabular}{r|lllll}\n",
       "  & name & hindi & english & subject & marks\\\\\n",
       "\\hline\n",
       "\t25 & e         & 100       & 87        & chemistry & 81       \\\\\n",
       "\t26 & f         &  74       & 68        & chemistry & 74       \\\\\n",
       "\t27 & g         &  80       & 72        & chemistry & 85       \\\\\n",
       "\t28 & h         &  78       & 83        & chemistry & 75       \\\\\n",
       "\t29 & i         &  58       & 81        & chemistry & 70       \\\\\n",
       "\t30 & j         &  55       & 69        & chemistry & 98       \\\\\n",
       "\\end{tabular}\n"
      ],
      "text/markdown": [
       "\n",
       "| <!--/--> | name | hindi | english | subject | marks |\n",
       "|---|---|---|---|---|---|\n",
       "| 25 | e         | 100       | 87        | chemistry | 81        |\n",
       "| 26 | f         |  74       | 68        | chemistry | 74        |\n",
       "| 27 | g         |  80       | 72        | chemistry | 85        |\n",
       "| 28 | h         |  78       | 83        | chemistry | 75        |\n",
       "| 29 | i         |  58       | 81        | chemistry | 70        |\n",
       "| 30 | j         |  55       | 69        | chemistry | 98        |\n",
       "\n"
      ],
      "text/plain": [
       "   name hindi english subject   marks\n",
       "25 e    100   87      chemistry 81   \n",
       "26 f     74   68      chemistry 74   \n",
       "27 g     80   72      chemistry 85   \n",
       "28 h     78   83      chemistry 75   \n",
       "29 i     58   81      chemistry 70   \n",
       "30 j     55   69      chemistry 98   "
      ]
     },
     "metadata": {},
     "output_type": "display_data"
    }
   ],
   "source": [
    "tail(df1)"
   ]
  },
  {
   "cell_type": "code",
   "execution_count": 12,
   "metadata": {},
   "outputs": [],
   "source": [
    "df2 = dcast(df1,name+hindi+english~subject,value.var = \"marks\")"
   ]
  },
  {
   "cell_type": "code",
   "execution_count": 13,
   "metadata": {},
   "outputs": [
    {
     "data": {
      "text/html": [
       "<table>\n",
       "<thead><tr><th scope=col>name</th><th scope=col>hindi</th><th scope=col>english</th><th scope=col>maths</th><th scope=col>physics</th><th scope=col>chemistry</th></tr></thead>\n",
       "<tbody>\n",
       "\t<tr><td>a  </td><td> 61</td><td>85 </td><td>57 </td><td>65 </td><td>79 </td></tr>\n",
       "\t<tr><td>b  </td><td> 53</td><td>64 </td><td>89 </td><td>74 </td><td>61 </td></tr>\n",
       "\t<tr><td>c  </td><td> 70</td><td>57 </td><td>88 </td><td>53 </td><td>92 </td></tr>\n",
       "\t<tr><td>d  </td><td> 68</td><td>58 </td><td>91 </td><td>97 </td><td>68 </td></tr>\n",
       "\t<tr><td>e  </td><td>100</td><td>87 </td><td>78 </td><td>67 </td><td>81 </td></tr>\n",
       "\t<tr><td>f  </td><td> 74</td><td>68 </td><td>56 </td><td>50 </td><td>74 </td></tr>\n",
       "</tbody>\n",
       "</table>\n"
      ],
      "text/latex": [
       "\\begin{tabular}{r|llllll}\n",
       " name & hindi & english & maths & physics & chemistry\\\\\n",
       "\\hline\n",
       "\t a   &  61 & 85  & 57  & 65  & 79 \\\\\n",
       "\t b   &  53 & 64  & 89  & 74  & 61 \\\\\n",
       "\t c   &  70 & 57  & 88  & 53  & 92 \\\\\n",
       "\t d   &  68 & 58  & 91  & 97  & 68 \\\\\n",
       "\t e   & 100 & 87  & 78  & 67  & 81 \\\\\n",
       "\t f   &  74 & 68  & 56  & 50  & 74 \\\\\n",
       "\\end{tabular}\n"
      ],
      "text/markdown": [
       "\n",
       "| name | hindi | english | maths | physics | chemistry |\n",
       "|---|---|---|---|---|---|\n",
       "| a   |  61 | 85  | 57  | 65  | 79  |\n",
       "| b   |  53 | 64  | 89  | 74  | 61  |\n",
       "| c   |  70 | 57  | 88  | 53  | 92  |\n",
       "| d   |  68 | 58  | 91  | 97  | 68  |\n",
       "| e   | 100 | 87  | 78  | 67  | 81  |\n",
       "| f   |  74 | 68  | 56  | 50  | 74  |\n",
       "\n"
      ],
      "text/plain": [
       "  name hindi english maths physics chemistry\n",
       "1 a     61   85      57    65      79       \n",
       "2 b     53   64      89    74      61       \n",
       "3 c     70   57      88    53      92       \n",
       "4 d     68   58      91    97      68       \n",
       "5 e    100   87      78    67      81       \n",
       "6 f     74   68      56    50      74       "
      ]
     },
     "metadata": {},
     "output_type": "display_data"
    }
   ],
   "source": [
    "head(df2)"
   ]
  },
  {
   "cell_type": "code",
   "execution_count": 14,
   "metadata": {},
   "outputs": [
    {
     "name": "stderr",
     "output_type": "stream",
     "text": [
      "\n",
      "Attaching package: 'tidyr'\n",
      "\n",
      "The following object is masked from 'package:reshape2':\n",
      "\n",
      "    smiths\n",
      "\n"
     ]
    }
   ],
   "source": [
    "library(tidyr)"
   ]
  },
  {
   "cell_type": "code",
   "execution_count": 15,
   "metadata": {},
   "outputs": [],
   "source": [
    "# gather, spread, seprate, unite,"
   ]
  },
  {
   "cell_type": "code",
   "execution_count": 16,
   "metadata": {},
   "outputs": [],
   "source": [
    "# gather melt"
   ]
  },
  {
   "cell_type": "code",
   "execution_count": 18,
   "metadata": {},
   "outputs": [
    {
     "data": {
      "text/html": [
       "<table>\n",
       "<thead><tr><th scope=col>name</th><th scope=col>maths</th><th scope=col>english</th><th scope=col>physics</th><th scope=col>chemistry</th><th scope=col>hindi</th></tr></thead>\n",
       "<tbody>\n",
       "\t<tr><td>a </td><td>98</td><td>59</td><td>64</td><td>91</td><td>57</td></tr>\n",
       "\t<tr><td>b </td><td>80</td><td>54</td><td>79</td><td>88</td><td>91</td></tr>\n",
       "\t<tr><td>c </td><td>90</td><td>88</td><td>51</td><td>76</td><td>84</td></tr>\n",
       "\t<tr><td>d </td><td>97</td><td>51</td><td>61</td><td>83</td><td>75</td></tr>\n",
       "\t<tr><td>e </td><td>77</td><td>75</td><td>90</td><td>93</td><td>94</td></tr>\n",
       "\t<tr><td>f </td><td>72</td><td>79</td><td>86</td><td>77</td><td>55</td></tr>\n",
       "</tbody>\n",
       "</table>\n"
      ],
      "text/latex": [
       "\\begin{tabular}{r|llllll}\n",
       " name & maths & english & physics & chemistry & hindi\\\\\n",
       "\\hline\n",
       "\t a  & 98 & 59 & 64 & 91 & 57\\\\\n",
       "\t b  & 80 & 54 & 79 & 88 & 91\\\\\n",
       "\t c  & 90 & 88 & 51 & 76 & 84\\\\\n",
       "\t d  & 97 & 51 & 61 & 83 & 75\\\\\n",
       "\t e  & 77 & 75 & 90 & 93 & 94\\\\\n",
       "\t f  & 72 & 79 & 86 & 77 & 55\\\\\n",
       "\\end{tabular}\n"
      ],
      "text/markdown": [
       "\n",
       "| name | maths | english | physics | chemistry | hindi |\n",
       "|---|---|---|---|---|---|\n",
       "| a  | 98 | 59 | 64 | 91 | 57 |\n",
       "| b  | 80 | 54 | 79 | 88 | 91 |\n",
       "| c  | 90 | 88 | 51 | 76 | 84 |\n",
       "| d  | 97 | 51 | 61 | 83 | 75 |\n",
       "| e  | 77 | 75 | 90 | 93 | 94 |\n",
       "| f  | 72 | 79 | 86 | 77 | 55 |\n",
       "\n"
      ],
      "text/plain": [
       "  name maths english physics chemistry hindi\n",
       "1 a    98    59      64      91        57   \n",
       "2 b    80    54      79      88        91   \n",
       "3 c    90    88      51      76        84   \n",
       "4 d    97    51      61      83        75   \n",
       "5 e    77    75      90      93        94   \n",
       "6 f    72    79      86      77        55   "
      ]
     },
     "metadata": {},
     "output_type": "display_data"
    }
   ],
   "source": [
    "head(df)"
   ]
  },
  {
   "cell_type": "code",
   "execution_count": 19,
   "metadata": {},
   "outputs": [
    {
     "data": {
      "text/html": [
       "<table>\n",
       "<thead><tr><th scope=col>name</th><th scope=col>english</th><th scope=col>hindi</th><th scope=col>Subject</th><th scope=col>Marks</th></tr></thead>\n",
       "<tbody>\n",
       "\t<tr><td>a    </td><td>59   </td><td>57   </td><td>maths</td><td>98   </td></tr>\n",
       "\t<tr><td>b    </td><td>54   </td><td>91   </td><td>maths</td><td>80   </td></tr>\n",
       "\t<tr><td>c    </td><td>88   </td><td>84   </td><td>maths</td><td>90   </td></tr>\n",
       "\t<tr><td>d    </td><td>51   </td><td>75   </td><td>maths</td><td>97   </td></tr>\n",
       "\t<tr><td>e    </td><td>75   </td><td>94   </td><td>maths</td><td>77   </td></tr>\n",
       "\t<tr><td>f    </td><td>79   </td><td>55   </td><td>maths</td><td>72   </td></tr>\n",
       "</tbody>\n",
       "</table>\n"
      ],
      "text/latex": [
       "\\begin{tabular}{r|lllll}\n",
       " name & english & hindi & Subject & Marks\\\\\n",
       "\\hline\n",
       "\t a     & 59    & 57    & maths & 98   \\\\\n",
       "\t b     & 54    & 91    & maths & 80   \\\\\n",
       "\t c     & 88    & 84    & maths & 90   \\\\\n",
       "\t d     & 51    & 75    & maths & 97   \\\\\n",
       "\t e     & 75    & 94    & maths & 77   \\\\\n",
       "\t f     & 79    & 55    & maths & 72   \\\\\n",
       "\\end{tabular}\n"
      ],
      "text/markdown": [
       "\n",
       "| name | english | hindi | Subject | Marks |\n",
       "|---|---|---|---|---|\n",
       "| a     | 59    | 57    | maths | 98    |\n",
       "| b     | 54    | 91    | maths | 80    |\n",
       "| c     | 88    | 84    | maths | 90    |\n",
       "| d     | 51    | 75    | maths | 97    |\n",
       "| e     | 75    | 94    | maths | 77    |\n",
       "| f     | 79    | 55    | maths | 72    |\n",
       "\n"
      ],
      "text/plain": [
       "  name english hindi Subject Marks\n",
       "1 a    59      57    maths   98   \n",
       "2 b    54      91    maths   80   \n",
       "3 c    88      84    maths   90   \n",
       "4 d    51      75    maths   97   \n",
       "5 e    75      94    maths   77   \n",
       "6 f    79      55    maths   72   "
      ]
     },
     "metadata": {},
     "output_type": "display_data"
    }
   ],
   "source": [
    "df1 = gather(df,\"Subject\",\"Marks\",c(2,4,5))\n",
    "head(df1)"
   ]
  },
  {
   "cell_type": "code",
   "execution_count": 22,
   "metadata": {},
   "outputs": [
    {
     "data": {
      "text/html": [
       "<table>\n",
       "<thead><tr><th scope=col>name</th><th scope=col>english</th><th scope=col>hindi</th><th scope=col>chemistry</th><th scope=col>maths</th><th scope=col>physics</th></tr></thead>\n",
       "<tbody>\n",
       "\t<tr><td>a </td><td>59</td><td>57</td><td>91</td><td>98</td><td>64</td></tr>\n",
       "\t<tr><td>b </td><td>54</td><td>91</td><td>88</td><td>80</td><td>79</td></tr>\n",
       "\t<tr><td>c </td><td>88</td><td>84</td><td>76</td><td>90</td><td>51</td></tr>\n",
       "\t<tr><td>d </td><td>51</td><td>75</td><td>83</td><td>97</td><td>61</td></tr>\n",
       "\t<tr><td>e </td><td>75</td><td>94</td><td>93</td><td>77</td><td>90</td></tr>\n",
       "\t<tr><td>f </td><td>79</td><td>55</td><td>77</td><td>72</td><td>86</td></tr>\n",
       "</tbody>\n",
       "</table>\n"
      ],
      "text/latex": [
       "\\begin{tabular}{r|llllll}\n",
       " name & english & hindi & chemistry & maths & physics\\\\\n",
       "\\hline\n",
       "\t a  & 59 & 57 & 91 & 98 & 64\\\\\n",
       "\t b  & 54 & 91 & 88 & 80 & 79\\\\\n",
       "\t c  & 88 & 84 & 76 & 90 & 51\\\\\n",
       "\t d  & 51 & 75 & 83 & 97 & 61\\\\\n",
       "\t e  & 75 & 94 & 93 & 77 & 90\\\\\n",
       "\t f  & 79 & 55 & 77 & 72 & 86\\\\\n",
       "\\end{tabular}\n"
      ],
      "text/markdown": [
       "\n",
       "| name | english | hindi | chemistry | maths | physics |\n",
       "|---|---|---|---|---|---|\n",
       "| a  | 59 | 57 | 91 | 98 | 64 |\n",
       "| b  | 54 | 91 | 88 | 80 | 79 |\n",
       "| c  | 88 | 84 | 76 | 90 | 51 |\n",
       "| d  | 51 | 75 | 83 | 97 | 61 |\n",
       "| e  | 75 | 94 | 93 | 77 | 90 |\n",
       "| f  | 79 | 55 | 77 | 72 | 86 |\n",
       "\n"
      ],
      "text/plain": [
       "  name english hindi chemistry maths physics\n",
       "1 a    59      57    91        98    64     \n",
       "2 b    54      91    88        80    79     \n",
       "3 c    88      84    76        90    51     \n",
       "4 d    51      75    83        97    61     \n",
       "5 e    75      94    93        77    90     \n",
       "6 f    79      55    77        72    86     "
      ]
     },
     "metadata": {},
     "output_type": "display_data"
    }
   ],
   "source": [
    "df2 = spread(df1,Subject,Marks)\n",
    "head(df2)"
   ]
  },
  {
   "cell_type": "code",
   "execution_count": 24,
   "metadata": {},
   "outputs": [],
   "source": [
    "df = data.frame(\n",
    "    id = 1:10, \n",
    "    name = sample(c('mobile','laptop','tv','xbox'),10,replace=T),\n",
    "    quantity = sample(10:50,10),\n",
    "    price = sample(5000:50000,10),\n",
    "    day = sample(1:31,10),\n",
    "    month = rep(3:6,c(1,2,3,4)),\n",
    "    year = rep(2018:2019,c(6,4))\n",
    "    )"
   ]
  },
  {
   "cell_type": "code",
   "execution_count": 26,
   "metadata": {},
   "outputs": [
    {
     "data": {
      "text/html": [
       "<table>\n",
       "<thead><tr><th scope=col>id</th><th scope=col>name</th><th scope=col>quantity</th><th scope=col>price</th><th scope=col>day</th><th scope=col>month</th><th scope=col>year</th></tr></thead>\n",
       "<tbody>\n",
       "\t<tr><td>1     </td><td>laptop</td><td>21    </td><td>13350 </td><td>13    </td><td>3     </td><td>2018  </td></tr>\n",
       "\t<tr><td>2     </td><td>mobile</td><td>11    </td><td>27096 </td><td>29    </td><td>4     </td><td>2018  </td></tr>\n",
       "\t<tr><td>3     </td><td>tv    </td><td>35    </td><td>23418 </td><td>31    </td><td>4     </td><td>2018  </td></tr>\n",
       "\t<tr><td>4     </td><td>laptop</td><td>47    </td><td>27682 </td><td>24    </td><td>5     </td><td>2018  </td></tr>\n",
       "\t<tr><td>5     </td><td>xbox  </td><td>34    </td><td> 7913 </td><td>25    </td><td>5     </td><td>2018  </td></tr>\n",
       "\t<tr><td>6     </td><td>tv    </td><td>28    </td><td>32623 </td><td>23    </td><td>5     </td><td>2018  </td></tr>\n",
       "</tbody>\n",
       "</table>\n"
      ],
      "text/latex": [
       "\\begin{tabular}{r|lllllll}\n",
       " id & name & quantity & price & day & month & year\\\\\n",
       "\\hline\n",
       "\t 1      & laptop & 21     & 13350  & 13     & 3      & 2018  \\\\\n",
       "\t 2      & mobile & 11     & 27096  & 29     & 4      & 2018  \\\\\n",
       "\t 3      & tv     & 35     & 23418  & 31     & 4      & 2018  \\\\\n",
       "\t 4      & laptop & 47     & 27682  & 24     & 5      & 2018  \\\\\n",
       "\t 5      & xbox   & 34     &  7913  & 25     & 5      & 2018  \\\\\n",
       "\t 6      & tv     & 28     & 32623  & 23     & 5      & 2018  \\\\\n",
       "\\end{tabular}\n"
      ],
      "text/markdown": [
       "\n",
       "| id | name | quantity | price | day | month | year |\n",
       "|---|---|---|---|---|---|---|\n",
       "| 1      | laptop | 21     | 13350  | 13     | 3      | 2018   |\n",
       "| 2      | mobile | 11     | 27096  | 29     | 4      | 2018   |\n",
       "| 3      | tv     | 35     | 23418  | 31     | 4      | 2018   |\n",
       "| 4      | laptop | 47     | 27682  | 24     | 5      | 2018   |\n",
       "| 5      | xbox   | 34     |  7913  | 25     | 5      | 2018   |\n",
       "| 6      | tv     | 28     | 32623  | 23     | 5      | 2018   |\n",
       "\n"
      ],
      "text/plain": [
       "  id name   quantity price day month year\n",
       "1 1  laptop 21       13350 13  3     2018\n",
       "2 2  mobile 11       27096 29  4     2018\n",
       "3 3  tv     35       23418 31  4     2018\n",
       "4 4  laptop 47       27682 24  5     2018\n",
       "5 5  xbox   34        7913 25  5     2018\n",
       "6 6  tv     28       32623 23  5     2018"
      ]
     },
     "metadata": {},
     "output_type": "display_data"
    }
   ],
   "source": [
    "head(df)"
   ]
  },
  {
   "cell_type": "code",
   "execution_count": 31,
   "metadata": {},
   "outputs": [
    {
     "data": {
      "text/html": [
       "<table>\n",
       "<thead><tr><th scope=col>id</th><th scope=col>name</th><th scope=col>quantity</th><th scope=col>price</th><th scope=col>date</th></tr></thead>\n",
       "<tbody>\n",
       "\t<tr><td>1        </td><td>laptop   </td><td>21       </td><td>13350    </td><td>13-3-2018</td></tr>\n",
       "\t<tr><td>2        </td><td>mobile   </td><td>11       </td><td>27096    </td><td>29-4-2018</td></tr>\n",
       "\t<tr><td>3        </td><td>tv       </td><td>35       </td><td>23418    </td><td>31-4-2018</td></tr>\n",
       "\t<tr><td>4        </td><td>laptop   </td><td>47       </td><td>27682    </td><td>24-5-2018</td></tr>\n",
       "\t<tr><td>5        </td><td>xbox     </td><td>34       </td><td> 7913    </td><td>25-5-2018</td></tr>\n",
       "\t<tr><td>6        </td><td>tv       </td><td>28       </td><td>32623    </td><td>23-5-2018</td></tr>\n",
       "</tbody>\n",
       "</table>\n"
      ],
      "text/latex": [
       "\\begin{tabular}{r|lllll}\n",
       " id & name & quantity & price & date\\\\\n",
       "\\hline\n",
       "\t 1         & laptop    & 21        & 13350     & 13-3-2018\\\\\n",
       "\t 2         & mobile    & 11        & 27096     & 29-4-2018\\\\\n",
       "\t 3         & tv        & 35        & 23418     & 31-4-2018\\\\\n",
       "\t 4         & laptop    & 47        & 27682     & 24-5-2018\\\\\n",
       "\t 5         & xbox      & 34        &  7913     & 25-5-2018\\\\\n",
       "\t 6         & tv        & 28        & 32623     & 23-5-2018\\\\\n",
       "\\end{tabular}\n"
      ],
      "text/markdown": [
       "\n",
       "| id | name | quantity | price | date |\n",
       "|---|---|---|---|---|\n",
       "| 1         | laptop    | 21        | 13350     | 13-3-2018 |\n",
       "| 2         | mobile    | 11        | 27096     | 29-4-2018 |\n",
       "| 3         | tv        | 35        | 23418     | 31-4-2018 |\n",
       "| 4         | laptop    | 47        | 27682     | 24-5-2018 |\n",
       "| 5         | xbox      | 34        |  7913     | 25-5-2018 |\n",
       "| 6         | tv        | 28        | 32623     | 23-5-2018 |\n",
       "\n"
      ],
      "text/plain": [
       "  id name   quantity price date     \n",
       "1 1  laptop 21       13350 13-3-2018\n",
       "2 2  mobile 11       27096 29-4-2018\n",
       "3 3  tv     35       23418 31-4-2018\n",
       "4 4  laptop 47       27682 24-5-2018\n",
       "5 5  xbox   34        7913 25-5-2018\n",
       "6 6  tv     28       32623 23-5-2018"
      ]
     },
     "metadata": {},
     "output_type": "display_data"
    }
   ],
   "source": [
    "df1 = unite(data=df,col=\"date\",c(\"day\",\"month\",\"year\"),sep=\"-\")\n",
    "head(df1)"
   ]
  },
  {
   "cell_type": "code",
   "execution_count": 32,
   "metadata": {},
   "outputs": [
    {
     "data": {
      "text/html": [
       "<table>\n",
       "<thead><tr><th scope=col>id</th><th scope=col>name</th><th scope=col>quantity</th><th scope=col>price</th><th scope=col>Day</th><th scope=col>Month</th><th scope=col>Year</th></tr></thead>\n",
       "<tbody>\n",
       "\t<tr><td>1     </td><td>laptop</td><td>21    </td><td>13350 </td><td>13    </td><td>3     </td><td>2018  </td></tr>\n",
       "\t<tr><td>2     </td><td>mobile</td><td>11    </td><td>27096 </td><td>29    </td><td>4     </td><td>2018  </td></tr>\n",
       "\t<tr><td>3     </td><td>tv    </td><td>35    </td><td>23418 </td><td>31    </td><td>4     </td><td>2018  </td></tr>\n",
       "\t<tr><td>4     </td><td>laptop</td><td>47    </td><td>27682 </td><td>24    </td><td>5     </td><td>2018  </td></tr>\n",
       "\t<tr><td>5     </td><td>xbox  </td><td>34    </td><td> 7913 </td><td>25    </td><td>5     </td><td>2018  </td></tr>\n",
       "\t<tr><td>6     </td><td>tv    </td><td>28    </td><td>32623 </td><td>23    </td><td>5     </td><td>2018  </td></tr>\n",
       "</tbody>\n",
       "</table>\n"
      ],
      "text/latex": [
       "\\begin{tabular}{r|lllllll}\n",
       " id & name & quantity & price & Day & Month & Year\\\\\n",
       "\\hline\n",
       "\t 1      & laptop & 21     & 13350  & 13     & 3      & 2018  \\\\\n",
       "\t 2      & mobile & 11     & 27096  & 29     & 4      & 2018  \\\\\n",
       "\t 3      & tv     & 35     & 23418  & 31     & 4      & 2018  \\\\\n",
       "\t 4      & laptop & 47     & 27682  & 24     & 5      & 2018  \\\\\n",
       "\t 5      & xbox   & 34     &  7913  & 25     & 5      & 2018  \\\\\n",
       "\t 6      & tv     & 28     & 32623  & 23     & 5      & 2018  \\\\\n",
       "\\end{tabular}\n"
      ],
      "text/markdown": [
       "\n",
       "| id | name | quantity | price | Day | Month | Year |\n",
       "|---|---|---|---|---|---|---|\n",
       "| 1      | laptop | 21     | 13350  | 13     | 3      | 2018   |\n",
       "| 2      | mobile | 11     | 27096  | 29     | 4      | 2018   |\n",
       "| 3      | tv     | 35     | 23418  | 31     | 4      | 2018   |\n",
       "| 4      | laptop | 47     | 27682  | 24     | 5      | 2018   |\n",
       "| 5      | xbox   | 34     |  7913  | 25     | 5      | 2018   |\n",
       "| 6      | tv     | 28     | 32623  | 23     | 5      | 2018   |\n",
       "\n"
      ],
      "text/plain": [
       "  id name   quantity price Day Month Year\n",
       "1 1  laptop 21       13350 13  3     2018\n",
       "2 2  mobile 11       27096 29  4     2018\n",
       "3 3  tv     35       23418 31  4     2018\n",
       "4 4  laptop 47       27682 24  5     2018\n",
       "5 5  xbox   34        7913 25  5     2018\n",
       "6 6  tv     28       32623 23  5     2018"
      ]
     },
     "metadata": {},
     "output_type": "display_data"
    }
   ],
   "source": [
    "df2 = separate(data=df1,col=\"date\",into=c(\"Day\",\"Month\",\"Year\")\n",
    "              ,sep='-')\n",
    "head(df2)"
   ]
  },
  {
   "cell_type": "code",
   "execution_count": 33,
   "metadata": {},
   "outputs": [
    {
     "name": "stderr",
     "output_type": "stream",
     "text": [
      "Loading required package: gsubfn\n",
      "Loading required package: proto\n",
      "Loading required package: RSQLite\n"
     ]
    }
   ],
   "source": [
    "library(sqldf)"
   ]
  },
  {
   "cell_type": "code",
   "execution_count": 35,
   "metadata": {},
   "outputs": [],
   "source": [
    "student = data.frame(\n",
    "    sid = 1:10, \n",
    "    name = letters[1:10],\n",
    "    age = sample(16:20,10,replace=T),\n",
    "    height = sample(c(5.5,5.6,5.7,5.8,5.9,5.10,5.11,6),10,replace=T),\n",
    "    weight = sample(c(50:80),10)\n",
    "    )\n",
    "\n",
    "game = data.frame(\n",
    "    sid = sample(1:20,10),\n",
    "    play = sample(c(\"cricket\",\"football\",\"kabadi\"),10,replace=T),\n",
    "    class = sample(c(\"good\",\"average\",\"excellient\"),10,replace=T)\n",
    "    )"
   ]
  },
  {
   "cell_type": "code",
   "execution_count": 37,
   "metadata": {},
   "outputs": [
    {
     "data": {
      "text/html": [
       "<table>\n",
       "<thead><tr><th scope=col>sid</th><th scope=col>name</th><th scope=col>age</th><th scope=col>height</th><th scope=col>weight</th></tr></thead>\n",
       "<tbody>\n",
       "\t<tr><td>1   </td><td>a   </td><td>18  </td><td>6.00</td><td>75  </td></tr>\n",
       "\t<tr><td>2   </td><td>b   </td><td>16  </td><td>5.60</td><td>79  </td></tr>\n",
       "\t<tr><td>3   </td><td>c   </td><td>20  </td><td>5.11</td><td>68  </td></tr>\n",
       "</tbody>\n",
       "</table>\n"
      ],
      "text/latex": [
       "\\begin{tabular}{r|lllll}\n",
       " sid & name & age & height & weight\\\\\n",
       "\\hline\n",
       "\t 1    & a    & 18   & 6.00 & 75  \\\\\n",
       "\t 2    & b    & 16   & 5.60 & 79  \\\\\n",
       "\t 3    & c    & 20   & 5.11 & 68  \\\\\n",
       "\\end{tabular}\n"
      ],
      "text/markdown": [
       "\n",
       "| sid | name | age | height | weight |\n",
       "|---|---|---|---|---|\n",
       "| 1    | a    | 18   | 6.00 | 75   |\n",
       "| 2    | b    | 16   | 5.60 | 79   |\n",
       "| 3    | c    | 20   | 5.11 | 68   |\n",
       "\n"
      ],
      "text/plain": [
       "  sid name age height weight\n",
       "1 1   a    18  6.00   75    \n",
       "2 2   b    16  5.60   79    \n",
       "3 3   c    20  5.11   68    "
      ]
     },
     "metadata": {},
     "output_type": "display_data"
    }
   ],
   "source": [
    "head(student,3)"
   ]
  },
  {
   "cell_type": "code",
   "execution_count": 38,
   "metadata": {},
   "outputs": [
    {
     "data": {
      "text/html": [
       "<table>\n",
       "<thead><tr><th scope=col>sid</th><th scope=col>play</th><th scope=col>class</th></tr></thead>\n",
       "<tbody>\n",
       "\t<tr><td>13        </td><td>cricket   </td><td>average   </td></tr>\n",
       "\t<tr><td>12        </td><td>football  </td><td>excellient</td></tr>\n",
       "\t<tr><td> 4        </td><td>cricket   </td><td>excellient</td></tr>\n",
       "</tbody>\n",
       "</table>\n"
      ],
      "text/latex": [
       "\\begin{tabular}{r|lll}\n",
       " sid & play & class\\\\\n",
       "\\hline\n",
       "\t 13         & cricket    & average   \\\\\n",
       "\t 12         & football   & excellient\\\\\n",
       "\t  4         & cricket    & excellient\\\\\n",
       "\\end{tabular}\n"
      ],
      "text/markdown": [
       "\n",
       "| sid | play | class |\n",
       "|---|---|---|\n",
       "| 13         | cricket    | average    |\n",
       "| 12         | football   | excellient |\n",
       "|  4         | cricket    | excellient |\n",
       "\n"
      ],
      "text/plain": [
       "  sid play     class     \n",
       "1 13  cricket  average   \n",
       "2 12  football excellient\n",
       "3  4  cricket  excellient"
      ]
     },
     "metadata": {},
     "output_type": "display_data"
    }
   ],
   "source": [
    "head(game,3)"
   ]
  },
  {
   "cell_type": "code",
   "execution_count": 40,
   "metadata": {},
   "outputs": [
    {
     "data": {
      "text/html": [
       "<table>\n",
       "<thead><tr><th scope=col>sid</th><th scope=col>name</th><th scope=col>height</th></tr></thead>\n",
       "<tbody>\n",
       "\t<tr><td>1  </td><td>a  </td><td>6.0</td></tr>\n",
       "\t<tr><td>2  </td><td>b  </td><td>5.6</td></tr>\n",
       "\t<tr><td>7  </td><td>g  </td><td>5.8</td></tr>\n",
       "\t<tr><td>8  </td><td>h  </td><td>6.0</td></tr>\n",
       "\t<tr><td>9  </td><td>i  </td><td>5.5</td></tr>\n",
       "</tbody>\n",
       "</table>\n"
      ],
      "text/latex": [
       "\\begin{tabular}{r|lll}\n",
       " sid & name & height\\\\\n",
       "\\hline\n",
       "\t 1   & a   & 6.0\\\\\n",
       "\t 2   & b   & 5.6\\\\\n",
       "\t 7   & g   & 5.8\\\\\n",
       "\t 8   & h   & 6.0\\\\\n",
       "\t 9   & i   & 5.5\\\\\n",
       "\\end{tabular}\n"
      ],
      "text/markdown": [
       "\n",
       "| sid | name | height |\n",
       "|---|---|---|\n",
       "| 1   | a   | 6.0 |\n",
       "| 2   | b   | 5.6 |\n",
       "| 7   | g   | 5.8 |\n",
       "| 8   | h   | 6.0 |\n",
       "| 9   | i   | 5.5 |\n",
       "\n"
      ],
      "text/plain": [
       "  sid name height\n",
       "1 1   a    6.0   \n",
       "2 2   b    5.6   \n",
       "3 7   g    5.8   \n",
       "4 8   h    6.0   \n",
       "5 9   i    5.5   "
      ]
     },
     "metadata": {},
     "output_type": "display_data"
    }
   ],
   "source": [
    "sqldf(\"select sid,name,height from student where weight >=70\")"
   ]
  },
  {
   "cell_type": "code",
   "execution_count": 41,
   "metadata": {},
   "outputs": [
    {
     "data": {
      "text/html": [
       "<table>\n",
       "<thead><tr><th scope=col>sid</th><th scope=col>name</th><th scope=col>age</th><th scope=col>height</th><th scope=col>weight</th></tr></thead>\n",
       "<tbody>\n",
       "\t<tr><td>1   </td><td>a   </td><td>18  </td><td>6.00</td><td>75  </td></tr>\n",
       "\t<tr><td>2   </td><td>b   </td><td>16  </td><td>5.60</td><td>79  </td></tr>\n",
       "\t<tr><td>3   </td><td>c   </td><td>20  </td><td>5.11</td><td>68  </td></tr>\n",
       "</tbody>\n",
       "</table>\n"
      ],
      "text/latex": [
       "\\begin{tabular}{r|lllll}\n",
       " sid & name & age & height & weight\\\\\n",
       "\\hline\n",
       "\t 1    & a    & 18   & 6.00 & 75  \\\\\n",
       "\t 2    & b    & 16   & 5.60 & 79  \\\\\n",
       "\t 3    & c    & 20   & 5.11 & 68  \\\\\n",
       "\\end{tabular}\n"
      ],
      "text/markdown": [
       "\n",
       "| sid | name | age | height | weight |\n",
       "|---|---|---|---|---|\n",
       "| 1    | a    | 18   | 6.00 | 75   |\n",
       "| 2    | b    | 16   | 5.60 | 79   |\n",
       "| 3    | c    | 20   | 5.11 | 68   |\n",
       "\n"
      ],
      "text/plain": [
       "  sid name age height weight\n",
       "1 1   a    18  6.00   75    \n",
       "2 2   b    16  5.60   79    \n",
       "3 3   c    20  5.11   68    "
      ]
     },
     "metadata": {},
     "output_type": "display_data"
    }
   ],
   "source": [
    "head(student,3)"
   ]
  },
  {
   "cell_type": "code",
   "execution_count": 42,
   "metadata": {},
   "outputs": [
    {
     "data": {
      "text/html": [
       "<table>\n",
       "<thead><tr><th scope=col>sid</th><th scope=col>play</th><th scope=col>class</th></tr></thead>\n",
       "<tbody>\n",
       "\t<tr><td>13        </td><td>cricket   </td><td>average   </td></tr>\n",
       "\t<tr><td>12        </td><td>football  </td><td>excellient</td></tr>\n",
       "\t<tr><td> 4        </td><td>cricket   </td><td>excellient</td></tr>\n",
       "</tbody>\n",
       "</table>\n"
      ],
      "text/latex": [
       "\\begin{tabular}{r|lll}\n",
       " sid & play & class\\\\\n",
       "\\hline\n",
       "\t 13         & cricket    & average   \\\\\n",
       "\t 12         & football   & excellient\\\\\n",
       "\t  4         & cricket    & excellient\\\\\n",
       "\\end{tabular}\n"
      ],
      "text/markdown": [
       "\n",
       "| sid | play | class |\n",
       "|---|---|---|\n",
       "| 13         | cricket    | average    |\n",
       "| 12         | football   | excellient |\n",
       "|  4         | cricket    | excellient |\n",
       "\n"
      ],
      "text/plain": [
       "  sid play     class     \n",
       "1 13  cricket  average   \n",
       "2 12  football excellient\n",
       "3  4  cricket  excellient"
      ]
     },
     "metadata": {},
     "output_type": "display_data"
    }
   ],
   "source": [
    "head(game,3)"
   ]
  },
  {
   "cell_type": "code",
   "execution_count": 45,
   "metadata": {},
   "outputs": [
    {
     "data": {
      "text/html": [
       "<table>\n",
       "<thead><tr><th scope=col>name</th><th scope=col>play</th></tr></thead>\n",
       "<tbody>\n",
       "\t<tr><td>d      </td><td>cricket</td></tr>\n",
       "\t<tr><td>j      </td><td>cricket</td></tr>\n",
       "</tbody>\n",
       "</table>\n"
      ],
      "text/latex": [
       "\\begin{tabular}{r|ll}\n",
       " name & play\\\\\n",
       "\\hline\n",
       "\t d       & cricket\\\\\n",
       "\t j       & cricket\\\\\n",
       "\\end{tabular}\n"
      ],
      "text/markdown": [
       "\n",
       "| name | play |\n",
       "|---|---|\n",
       "| d       | cricket |\n",
       "| j       | cricket |\n",
       "\n"
      ],
      "text/plain": [
       "  name play   \n",
       "1 d    cricket\n",
       "2 j    cricket"
      ]
     },
     "metadata": {},
     "output_type": "display_data"
    }
   ],
   "source": [
    "sqldf(\"select name,play from student inner join game on \n",
    "student.sid=game.sid where play=='cricket'\")"
   ]
  },
  {
   "cell_type": "code",
   "execution_count": 46,
   "metadata": {},
   "outputs": [
    {
     "data": {
      "text/html": [
       "<table>\n",
       "<thead><tr><th scope=col>name</th><th scope=col>play</th></tr></thead>\n",
       "<tbody>\n",
       "\t<tr><td>a       </td><td>football</td></tr>\n",
       "\t<tr><td>b       </td><td>NA      </td></tr>\n",
       "\t<tr><td>c       </td><td>NA      </td></tr>\n",
       "\t<tr><td>d       </td><td>cricket </td></tr>\n",
       "\t<tr><td>e       </td><td>NA      </td></tr>\n",
       "\t<tr><td>f       </td><td>NA      </td></tr>\n",
       "\t<tr><td>g       </td><td>NA      </td></tr>\n",
       "\t<tr><td>h       </td><td>NA      </td></tr>\n",
       "\t<tr><td>i       </td><td>kabadi  </td></tr>\n",
       "\t<tr><td>j       </td><td>cricket </td></tr>\n",
       "</tbody>\n",
       "</table>\n"
      ],
      "text/latex": [
       "\\begin{tabular}{r|ll}\n",
       " name & play\\\\\n",
       "\\hline\n",
       "\t a        & football\\\\\n",
       "\t b        & NA      \\\\\n",
       "\t c        & NA      \\\\\n",
       "\t d        & cricket \\\\\n",
       "\t e        & NA      \\\\\n",
       "\t f        & NA      \\\\\n",
       "\t g        & NA      \\\\\n",
       "\t h        & NA      \\\\\n",
       "\t i        & kabadi  \\\\\n",
       "\t j        & cricket \\\\\n",
       "\\end{tabular}\n"
      ],
      "text/markdown": [
       "\n",
       "| name | play |\n",
       "|---|---|\n",
       "| a        | football |\n",
       "| b        | NA       |\n",
       "| c        | NA       |\n",
       "| d        | cricket  |\n",
       "| e        | NA       |\n",
       "| f        | NA       |\n",
       "| g        | NA       |\n",
       "| h        | NA       |\n",
       "| i        | kabadi   |\n",
       "| j        | cricket  |\n",
       "\n"
      ],
      "text/plain": [
       "   name play    \n",
       "1  a    football\n",
       "2  b    NA      \n",
       "3  c    NA      \n",
       "4  d    cricket \n",
       "5  e    NA      \n",
       "6  f    NA      \n",
       "7  g    NA      \n",
       "8  h    NA      \n",
       "9  i    kabadi  \n",
       "10 j    cricket "
      ]
     },
     "metadata": {},
     "output_type": "display_data"
    }
   ],
   "source": [
    "sqldf(\"select name,play from student left join game on \n",
    "student.sid=game.sid\")"
   ]
  },
  {
   "cell_type": "code",
   "execution_count": 48,
   "metadata": {},
   "outputs": [
    {
     "data": {
      "text/html": [
       "<table>\n",
       "<thead><tr><th scope=col>name</th><th scope=col>play</th></tr></thead>\n",
       "<tbody>\n",
       "\t<tr><td>NA      </td><td>cricket </td></tr>\n",
       "\t<tr><td>NA      </td><td>football</td></tr>\n",
       "\t<tr><td>d       </td><td>cricket </td></tr>\n",
       "\t<tr><td>NA      </td><td>cricket </td></tr>\n",
       "\t<tr><td>i       </td><td>kabadi  </td></tr>\n",
       "\t<tr><td>NA      </td><td>football</td></tr>\n",
       "\t<tr><td>NA      </td><td>cricket </td></tr>\n",
       "\t<tr><td>a       </td><td>football</td></tr>\n",
       "\t<tr><td>j       </td><td>cricket </td></tr>\n",
       "\t<tr><td>NA      </td><td>cricket </td></tr>\n",
       "</tbody>\n",
       "</table>\n"
      ],
      "text/latex": [
       "\\begin{tabular}{r|ll}\n",
       " name & play\\\\\n",
       "\\hline\n",
       "\t NA       & cricket \\\\\n",
       "\t NA       & football\\\\\n",
       "\t d        & cricket \\\\\n",
       "\t NA       & cricket \\\\\n",
       "\t i        & kabadi  \\\\\n",
       "\t NA       & football\\\\\n",
       "\t NA       & cricket \\\\\n",
       "\t a        & football\\\\\n",
       "\t j        & cricket \\\\\n",
       "\t NA       & cricket \\\\\n",
       "\\end{tabular}\n"
      ],
      "text/markdown": [
       "\n",
       "| name | play |\n",
       "|---|---|\n",
       "| NA       | cricket  |\n",
       "| NA       | football |\n",
       "| d        | cricket  |\n",
       "| NA       | cricket  |\n",
       "| i        | kabadi   |\n",
       "| NA       | football |\n",
       "| NA       | cricket  |\n",
       "| a        | football |\n",
       "| j        | cricket  |\n",
       "| NA       | cricket  |\n",
       "\n"
      ],
      "text/plain": [
       "   name play    \n",
       "1  NA   cricket \n",
       "2  NA   football\n",
       "3  d    cricket \n",
       "4  NA   cricket \n",
       "5  i    kabadi  \n",
       "6  NA   football\n",
       "7  NA   cricket \n",
       "8  a    football\n",
       "9  j    cricket \n",
       "10 NA   cricket "
      ]
     },
     "metadata": {},
     "output_type": "display_data"
    }
   ],
   "source": [
    "sqldf(\"select name,play from game left join student on \n",
    "student.sid=game.sid\")"
   ]
  },
  {
   "cell_type": "code",
   "execution_count": 49,
   "metadata": {},
   "outputs": [
    {
     "name": "stderr",
     "output_type": "stream",
     "text": [
      "\n",
      "Attaching package: 'dplyr'\n",
      "\n",
      "The following objects are masked from 'package:stats':\n",
      "\n",
      "    filter, lag\n",
      "\n",
      "The following objects are masked from 'package:base':\n",
      "\n",
      "    intersect, setdiff, setequal, union\n",
      "\n"
     ]
    }
   ],
   "source": [
    "library(dplyr)"
   ]
  },
  {
   "cell_type": "code",
   "execution_count": 58,
   "metadata": {},
   "outputs": [
    {
     "data": {
      "text/html": [
       "<table>\n",
       "<thead><tr><th scope=col>sid</th><th scope=col>name</th><th scope=col>age</th><th scope=col>height</th><th scope=col>weight</th></tr></thead>\n",
       "<tbody>\n",
       "\t<tr><td> 1  </td><td>a   </td><td>18  </td><td>6.00</td><td>75  </td></tr>\n",
       "\t<tr><td> 2  </td><td>b   </td><td>16  </td><td>5.60</td><td>79  </td></tr>\n",
       "\t<tr><td> 3  </td><td>c   </td><td>20  </td><td>5.11</td><td>68  </td></tr>\n",
       "\t<tr><td> 4  </td><td>d   </td><td>20  </td><td>5.50</td><td>50  </td></tr>\n",
       "\t<tr><td> 5  </td><td>e   </td><td>18  </td><td>5.11</td><td>66  </td></tr>\n",
       "\t<tr><td> 6  </td><td>f   </td><td>17  </td><td>5.10</td><td>60  </td></tr>\n",
       "\t<tr><td> 7  </td><td>g   </td><td>18  </td><td>5.80</td><td>71  </td></tr>\n",
       "\t<tr><td> 8  </td><td>h   </td><td>19  </td><td>6.00</td><td>74  </td></tr>\n",
       "\t<tr><td> 9  </td><td>i   </td><td>20  </td><td>5.50</td><td>80  </td></tr>\n",
       "\t<tr><td>10  </td><td>j   </td><td>19  </td><td>5.70</td><td>52  </td></tr>\n",
       "</tbody>\n",
       "</table>\n"
      ],
      "text/latex": [
       "\\begin{tabular}{r|lllll}\n",
       " sid & name & age & height & weight\\\\\n",
       "\\hline\n",
       "\t  1   & a    & 18   & 6.00 & 75  \\\\\n",
       "\t  2   & b    & 16   & 5.60 & 79  \\\\\n",
       "\t  3   & c    & 20   & 5.11 & 68  \\\\\n",
       "\t  4   & d    & 20   & 5.50 & 50  \\\\\n",
       "\t  5   & e    & 18   & 5.11 & 66  \\\\\n",
       "\t  6   & f    & 17   & 5.10 & 60  \\\\\n",
       "\t  7   & g    & 18   & 5.80 & 71  \\\\\n",
       "\t  8   & h    & 19   & 6.00 & 74  \\\\\n",
       "\t  9   & i    & 20   & 5.50 & 80  \\\\\n",
       "\t 10   & j    & 19   & 5.70 & 52  \\\\\n",
       "\\end{tabular}\n"
      ],
      "text/markdown": [
       "\n",
       "| sid | name | age | height | weight |\n",
       "|---|---|---|---|---|\n",
       "|  1   | a    | 18   | 6.00 | 75   |\n",
       "|  2   | b    | 16   | 5.60 | 79   |\n",
       "|  3   | c    | 20   | 5.11 | 68   |\n",
       "|  4   | d    | 20   | 5.50 | 50   |\n",
       "|  5   | e    | 18   | 5.11 | 66   |\n",
       "|  6   | f    | 17   | 5.10 | 60   |\n",
       "|  7   | g    | 18   | 5.80 | 71   |\n",
       "|  8   | h    | 19   | 6.00 | 74   |\n",
       "|  9   | i    | 20   | 5.50 | 80   |\n",
       "| 10   | j    | 19   | 5.70 | 52   |\n",
       "\n"
      ],
      "text/plain": [
       "   sid name age height weight\n",
       "1   1  a    18  6.00   75    \n",
       "2   2  b    16  5.60   79    \n",
       "3   3  c    20  5.11   68    \n",
       "4   4  d    20  5.50   50    \n",
       "5   5  e    18  5.11   66    \n",
       "6   6  f    17  5.10   60    \n",
       "7   7  g    18  5.80   71    \n",
       "8   8  h    19  6.00   74    \n",
       "9   9  i    20  5.50   80    \n",
       "10 10  j    19  5.70   52    "
      ]
     },
     "metadata": {},
     "output_type": "display_data"
    }
   ],
   "source": [
    "student"
   ]
  },
  {
   "cell_type": "code",
   "execution_count": 63,
   "metadata": {},
   "outputs": [
    {
     "data": {
      "text/html": [
       "<table>\n",
       "<thead><tr><th scope=col>sid</th><th scope=col>name</th><th scope=col>age</th></tr></thead>\n",
       "<tbody>\n",
       "\t<tr><td> 1</td><td>a </td><td>18</td></tr>\n",
       "\t<tr><td> 2</td><td>b </td><td>16</td></tr>\n",
       "\t<tr><td> 3</td><td>c </td><td>20</td></tr>\n",
       "\t<tr><td> 4</td><td>d </td><td>20</td></tr>\n",
       "\t<tr><td> 5</td><td>e </td><td>18</td></tr>\n",
       "\t<tr><td> 6</td><td>f </td><td>17</td></tr>\n",
       "\t<tr><td> 7</td><td>g </td><td>18</td></tr>\n",
       "\t<tr><td> 8</td><td>h </td><td>19</td></tr>\n",
       "\t<tr><td> 9</td><td>i </td><td>20</td></tr>\n",
       "\t<tr><td>10</td><td>j </td><td>19</td></tr>\n",
       "</tbody>\n",
       "</table>\n"
      ],
      "text/latex": [
       "\\begin{tabular}{r|lll}\n",
       " sid & name & age\\\\\n",
       "\\hline\n",
       "\t  1 & a  & 18\\\\\n",
       "\t  2 & b  & 16\\\\\n",
       "\t  3 & c  & 20\\\\\n",
       "\t  4 & d  & 20\\\\\n",
       "\t  5 & e  & 18\\\\\n",
       "\t  6 & f  & 17\\\\\n",
       "\t  7 & g  & 18\\\\\n",
       "\t  8 & h  & 19\\\\\n",
       "\t  9 & i  & 20\\\\\n",
       "\t 10 & j  & 19\\\\\n",
       "\\end{tabular}\n"
      ],
      "text/markdown": [
       "\n",
       "| sid | name | age |\n",
       "|---|---|---|\n",
       "|  1 | a  | 18 |\n",
       "|  2 | b  | 16 |\n",
       "|  3 | c  | 20 |\n",
       "|  4 | d  | 20 |\n",
       "|  5 | e  | 18 |\n",
       "|  6 | f  | 17 |\n",
       "|  7 | g  | 18 |\n",
       "|  8 | h  | 19 |\n",
       "|  9 | i  | 20 |\n",
       "| 10 | j  | 19 |\n",
       "\n"
      ],
      "text/plain": [
       "   sid name age\n",
       "1   1  a    18 \n",
       "2   2  b    16 \n",
       "3   3  c    20 \n",
       "4   4  d    20 \n",
       "5   5  e    18 \n",
       "6   6  f    17 \n",
       "7   7  g    18 \n",
       "8   8  h    19 \n",
       "9   9  i    20 \n",
       "10 10  j    19 "
      ]
     },
     "metadata": {},
     "output_type": "display_data"
    }
   ],
   "source": [
    "select(student,-height,-weight)"
   ]
  },
  {
   "cell_type": "code",
   "execution_count": 65,
   "metadata": {},
   "outputs": [
    {
     "data": {
      "text/html": [
       "<table>\n",
       "<thead><tr><th scope=col>sid</th><th scope=col>name</th><th scope=col>age</th><th scope=col>height</th><th scope=col>weight</th></tr></thead>\n",
       "<tbody>\n",
       "\t<tr><td> 4 </td><td>d  </td><td>20 </td><td>5.5</td><td>50 </td></tr>\n",
       "\t<tr><td>10 </td><td>j  </td><td>19 </td><td>5.7</td><td>52 </td></tr>\n",
       "</tbody>\n",
       "</table>\n"
      ],
      "text/latex": [
       "\\begin{tabular}{r|lllll}\n",
       " sid & name & age & height & weight\\\\\n",
       "\\hline\n",
       "\t  4  & d   & 20  & 5.5 & 50 \\\\\n",
       "\t 10  & j   & 19  & 5.7 & 52 \\\\\n",
       "\\end{tabular}\n"
      ],
      "text/markdown": [
       "\n",
       "| sid | name | age | height | weight |\n",
       "|---|---|---|---|---|\n",
       "|  4  | d   | 20  | 5.5 | 50  |\n",
       "| 10  | j   | 19  | 5.7 | 52  |\n",
       "\n"
      ],
      "text/plain": [
       "  sid name age height weight\n",
       "1  4  d    20  5.5    50    \n",
       "2 10  j    19  5.7    52    "
      ]
     },
     "metadata": {},
     "output_type": "display_data"
    }
   ],
   "source": [
    "filter(student,age>18,weight %in% 50:60)"
   ]
  },
  {
   "cell_type": "code",
   "execution_count": 66,
   "metadata": {},
   "outputs": [
    {
     "data": {
      "text/html": [
       "<table>\n",
       "<thead><tr><th scope=col>sid</th><th scope=col>name</th><th scope=col>age</th><th scope=col>height</th><th scope=col>weight</th></tr></thead>\n",
       "<tbody>\n",
       "\t<tr><td>1   </td><td>a   </td><td>18  </td><td>6.00</td><td>75  </td></tr>\n",
       "\t<tr><td>2   </td><td>b   </td><td>16  </td><td>5.60</td><td>79  </td></tr>\n",
       "\t<tr><td>3   </td><td>c   </td><td>20  </td><td>5.11</td><td>68  </td></tr>\n",
       "\t<tr><td>4   </td><td>d   </td><td>20  </td><td>5.50</td><td>50  </td></tr>\n",
       "\t<tr><td>5   </td><td>e   </td><td>18  </td><td>5.11</td><td>66  </td></tr>\n",
       "\t<tr><td>6   </td><td>f   </td><td>17  </td><td>5.10</td><td>60  </td></tr>\n",
       "</tbody>\n",
       "</table>\n"
      ],
      "text/latex": [
       "\\begin{tabular}{r|lllll}\n",
       " sid & name & age & height & weight\\\\\n",
       "\\hline\n",
       "\t 1    & a    & 18   & 6.00 & 75  \\\\\n",
       "\t 2    & b    & 16   & 5.60 & 79  \\\\\n",
       "\t 3    & c    & 20   & 5.11 & 68  \\\\\n",
       "\t 4    & d    & 20   & 5.50 & 50  \\\\\n",
       "\t 5    & e    & 18   & 5.11 & 66  \\\\\n",
       "\t 6    & f    & 17   & 5.10 & 60  \\\\\n",
       "\\end{tabular}\n"
      ],
      "text/markdown": [
       "\n",
       "| sid | name | age | height | weight |\n",
       "|---|---|---|---|---|\n",
       "| 1    | a    | 18   | 6.00 | 75   |\n",
       "| 2    | b    | 16   | 5.60 | 79   |\n",
       "| 3    | c    | 20   | 5.11 | 68   |\n",
       "| 4    | d    | 20   | 5.50 | 50   |\n",
       "| 5    | e    | 18   | 5.11 | 66   |\n",
       "| 6    | f    | 17   | 5.10 | 60   |\n",
       "\n"
      ],
      "text/plain": [
       "  sid name age height weight\n",
       "1 1   a    18  6.00   75    \n",
       "2 2   b    16  5.60   79    \n",
       "3 3   c    20  5.11   68    \n",
       "4 4   d    20  5.50   50    \n",
       "5 5   e    18  5.11   66    \n",
       "6 6   f    17  5.10   60    "
      ]
     },
     "metadata": {},
     "output_type": "display_data"
    }
   ],
   "source": [
    "head(student)"
   ]
  },
  {
   "cell_type": "code",
   "execution_count": 71,
   "metadata": {},
   "outputs": [],
   "source": [
    "st1 = mutate(student,ratio=weight/height,wsq=sqrt(weight))"
   ]
  },
  {
   "cell_type": "code",
   "execution_count": 72,
   "metadata": {},
   "outputs": [
    {
     "data": {
      "text/html": [
       "<table>\n",
       "<thead><tr><th scope=col>sid</th><th scope=col>name</th><th scope=col>age</th><th scope=col>height</th><th scope=col>weight</th><th scope=col>ratio</th><th scope=col>wsq</th></tr></thead>\n",
       "<tbody>\n",
       "\t<tr><td>1        </td><td>a        </td><td>18       </td><td>6.00     </td><td>75       </td><td>12.500000</td><td>8.660254 </td></tr>\n",
       "\t<tr><td>2        </td><td>b        </td><td>16       </td><td>5.60     </td><td>79       </td><td>14.107143</td><td>8.888194 </td></tr>\n",
       "\t<tr><td>3        </td><td>c        </td><td>20       </td><td>5.11     </td><td>68       </td><td>13.307241</td><td>8.246211 </td></tr>\n",
       "\t<tr><td>4        </td><td>d        </td><td>20       </td><td>5.50     </td><td>50       </td><td> 9.090909</td><td>7.071068 </td></tr>\n",
       "\t<tr><td>5        </td><td>e        </td><td>18       </td><td>5.11     </td><td>66       </td><td>12.915851</td><td>8.124038 </td></tr>\n",
       "\t<tr><td>6        </td><td>f        </td><td>17       </td><td>5.10     </td><td>60       </td><td>11.764706</td><td>7.745967 </td></tr>\n",
       "</tbody>\n",
       "</table>\n"
      ],
      "text/latex": [
       "\\begin{tabular}{r|lllllll}\n",
       " sid & name & age & height & weight & ratio & wsq\\\\\n",
       "\\hline\n",
       "\t 1         & a         & 18        & 6.00      & 75        & 12.500000 & 8.660254 \\\\\n",
       "\t 2         & b         & 16        & 5.60      & 79        & 14.107143 & 8.888194 \\\\\n",
       "\t 3         & c         & 20        & 5.11      & 68        & 13.307241 & 8.246211 \\\\\n",
       "\t 4         & d         & 20        & 5.50      & 50        &  9.090909 & 7.071068 \\\\\n",
       "\t 5         & e         & 18        & 5.11      & 66        & 12.915851 & 8.124038 \\\\\n",
       "\t 6         & f         & 17        & 5.10      & 60        & 11.764706 & 7.745967 \\\\\n",
       "\\end{tabular}\n"
      ],
      "text/markdown": [
       "\n",
       "| sid | name | age | height | weight | ratio | wsq |\n",
       "|---|---|---|---|---|---|---|\n",
       "| 1         | a         | 18        | 6.00      | 75        | 12.500000 | 8.660254  |\n",
       "| 2         | b         | 16        | 5.60      | 79        | 14.107143 | 8.888194  |\n",
       "| 3         | c         | 20        | 5.11      | 68        | 13.307241 | 8.246211  |\n",
       "| 4         | d         | 20        | 5.50      | 50        |  9.090909 | 7.071068  |\n",
       "| 5         | e         | 18        | 5.11      | 66        | 12.915851 | 8.124038  |\n",
       "| 6         | f         | 17        | 5.10      | 60        | 11.764706 | 7.745967  |\n",
       "\n"
      ],
      "text/plain": [
       "  sid name age height weight ratio     wsq     \n",
       "1 1   a    18  6.00   75     12.500000 8.660254\n",
       "2 2   b    16  5.60   79     14.107143 8.888194\n",
       "3 3   c    20  5.11   68     13.307241 8.246211\n",
       "4 4   d    20  5.50   50      9.090909 7.071068\n",
       "5 5   e    18  5.11   66     12.915851 8.124038\n",
       "6 6   f    17  5.10   60     11.764706 7.745967"
      ]
     },
     "metadata": {},
     "output_type": "display_data"
    }
   ],
   "source": [
    "head(st1)"
   ]
  },
  {
   "cell_type": "code",
   "execution_count": 79,
   "metadata": {},
   "outputs": [
    {
     "data": {
      "text/html": [
       "<table>\n",
       "<thead><tr><th scope=col>sid</th><th scope=col>name</th><th scope=col>age</th><th scope=col>height</th><th scope=col>weight</th></tr></thead>\n",
       "<tbody>\n",
       "\t<tr><td> 1 </td><td>a  </td><td>18 </td><td>6.0</td><td>75 </td></tr>\n",
       "\t<tr><td> 8 </td><td>h  </td><td>19 </td><td>6.0</td><td>74 </td></tr>\n",
       "\t<tr><td> 7 </td><td>g  </td><td>18 </td><td>5.8</td><td>71 </td></tr>\n",
       "\t<tr><td>10 </td><td>j  </td><td>19 </td><td>5.7</td><td>52 </td></tr>\n",
       "\t<tr><td> 2 </td><td>b  </td><td>16 </td><td>5.6</td><td>79 </td></tr>\n",
       "</tbody>\n",
       "</table>\n"
      ],
      "text/latex": [
       "\\begin{tabular}{r|lllll}\n",
       " sid & name & age & height & weight\\\\\n",
       "\\hline\n",
       "\t  1  & a   & 18  & 6.0 & 75 \\\\\n",
       "\t  8  & h   & 19  & 6.0 & 74 \\\\\n",
       "\t  7  & g   & 18  & 5.8 & 71 \\\\\n",
       "\t 10  & j   & 19  & 5.7 & 52 \\\\\n",
       "\t  2  & b   & 16  & 5.6 & 79 \\\\\n",
       "\\end{tabular}\n"
      ],
      "text/markdown": [
       "\n",
       "| sid | name | age | height | weight |\n",
       "|---|---|---|---|---|\n",
       "|  1  | a   | 18  | 6.0 | 75  |\n",
       "|  8  | h   | 19  | 6.0 | 74  |\n",
       "|  7  | g   | 18  | 5.8 | 71  |\n",
       "| 10  | j   | 19  | 5.7 | 52  |\n",
       "|  2  | b   | 16  | 5.6 | 79  |\n",
       "\n"
      ],
      "text/plain": [
       "  sid name age height weight\n",
       "1  1  a    18  6.0    75    \n",
       "2  8  h    19  6.0    74    \n",
       "3  7  g    18  5.8    71    \n",
       "4 10  j    19  5.7    52    \n",
       "5  2  b    16  5.6    79    "
      ]
     },
     "metadata": {},
     "output_type": "display_data"
    }
   ],
   "source": [
    "arrange(student,desc(height),desc(weight))[1:5,]"
   ]
  },
  {
   "cell_type": "code",
   "execution_count": 81,
   "metadata": {},
   "outputs": [],
   "source": [
    "data  = data.frame(\n",
    "    sex = sample(c(\"male\",\"female\"),25,replace=T),\n",
    "    height = sample(c(5.4,5.5,5.6,5.7,5.8,5.9,5.10,5.11,6),25,\n",
    "                   replace=T),\n",
    "    weight = sample(40:80,25,replace=T),\n",
    "    salary = sample(20000:50000,25)\n",
    "    )"
   ]
  },
  {
   "cell_type": "code",
   "execution_count": 82,
   "metadata": {},
   "outputs": [
    {
     "data": {
      "text/html": [
       "<table>\n",
       "<thead><tr><th scope=col>sex</th><th scope=col>height</th><th scope=col>weight</th><th scope=col>salary</th></tr></thead>\n",
       "<tbody>\n",
       "\t<tr><td>female</td><td>5.8   </td><td>63    </td><td>29866 </td></tr>\n",
       "\t<tr><td>female</td><td>5.7   </td><td>52    </td><td>35755 </td></tr>\n",
       "\t<tr><td>male  </td><td>5.1   </td><td>57    </td><td>45592 </td></tr>\n",
       "\t<tr><td>female</td><td>5.7   </td><td>69    </td><td>31788 </td></tr>\n",
       "\t<tr><td>male  </td><td>5.6   </td><td>70    </td><td>31483 </td></tr>\n",
       "\t<tr><td>male  </td><td>5.6   </td><td>70    </td><td>42335 </td></tr>\n",
       "</tbody>\n",
       "</table>\n"
      ],
      "text/latex": [
       "\\begin{tabular}{r|llll}\n",
       " sex & height & weight & salary\\\\\n",
       "\\hline\n",
       "\t female & 5.8    & 63     & 29866 \\\\\n",
       "\t female & 5.7    & 52     & 35755 \\\\\n",
       "\t male   & 5.1    & 57     & 45592 \\\\\n",
       "\t female & 5.7    & 69     & 31788 \\\\\n",
       "\t male   & 5.6    & 70     & 31483 \\\\\n",
       "\t male   & 5.6    & 70     & 42335 \\\\\n",
       "\\end{tabular}\n"
      ],
      "text/markdown": [
       "\n",
       "| sex | height | weight | salary |\n",
       "|---|---|---|---|\n",
       "| female | 5.8    | 63     | 29866  |\n",
       "| female | 5.7    | 52     | 35755  |\n",
       "| male   | 5.1    | 57     | 45592  |\n",
       "| female | 5.7    | 69     | 31788  |\n",
       "| male   | 5.6    | 70     | 31483  |\n",
       "| male   | 5.6    | 70     | 42335  |\n",
       "\n"
      ],
      "text/plain": [
       "  sex    height weight salary\n",
       "1 female 5.8    63     29866 \n",
       "2 female 5.7    52     35755 \n",
       "3 male   5.1    57     45592 \n",
       "4 female 5.7    69     31788 \n",
       "5 male   5.6    70     31483 \n",
       "6 male   5.6    70     42335 "
      ]
     },
     "metadata": {},
     "output_type": "display_data"
    }
   ],
   "source": [
    "head(data)"
   ]
  },
  {
   "cell_type": "code",
   "execution_count": 86,
   "metadata": {},
   "outputs": [
    {
     "data": {
      "text/html": [
       "<table>\n",
       "<thead><tr><th scope=col>sex</th><th scope=col>Height</th><th scope=col>Weight</th></tr></thead>\n",
       "<tbody>\n",
       "\t<tr><td>female  </td><td>5.622222</td><td>57.88889</td></tr>\n",
       "\t<tr><td>male    </td><td>5.581250</td><td>62.93750</td></tr>\n",
       "</tbody>\n",
       "</table>\n"
      ],
      "text/latex": [
       "\\begin{tabular}{r|lll}\n",
       " sex & Height & Weight\\\\\n",
       "\\hline\n",
       "\t female   & 5.622222 & 57.88889\\\\\n",
       "\t male     & 5.581250 & 62.93750\\\\\n",
       "\\end{tabular}\n"
      ],
      "text/markdown": [
       "\n",
       "| sex | Height | Weight |\n",
       "|---|---|---|\n",
       "| female   | 5.622222 | 57.88889 |\n",
       "| male     | 5.581250 | 62.93750 |\n",
       "\n"
      ],
      "text/plain": [
       "  sex    Height   Weight  \n",
       "1 female 5.622222 57.88889\n",
       "2 male   5.581250 62.93750"
      ]
     },
     "metadata": {},
     "output_type": "display_data"
    }
   ],
   "source": [
    "group_by(data,sex) %>% summarise(Height=mean(height),\n",
    "                                 Weight=mean(weight))"
   ]
  },
  {
   "cell_type": "code",
   "execution_count": 88,
   "metadata": {},
   "outputs": [
    {
     "data": {
      "text/html": [
       "<table>\n",
       "<thead><tr><th scope=col>sid</th><th scope=col>name</th><th scope=col>age</th><th scope=col>height</th><th scope=col>weight</th></tr></thead>\n",
       "<tbody>\n",
       "\t<tr><td> 1  </td><td>a   </td><td>18  </td><td>6.00</td><td>75  </td></tr>\n",
       "\t<tr><td> 2  </td><td>b   </td><td>16  </td><td>5.60</td><td>79  </td></tr>\n",
       "\t<tr><td> 3  </td><td>c   </td><td>20  </td><td>5.11</td><td>68  </td></tr>\n",
       "\t<tr><td> 4  </td><td>d   </td><td>20  </td><td>5.50</td><td>50  </td></tr>\n",
       "\t<tr><td> 5  </td><td>e   </td><td>18  </td><td>5.11</td><td>66  </td></tr>\n",
       "\t<tr><td> 6  </td><td>f   </td><td>17  </td><td>5.10</td><td>60  </td></tr>\n",
       "\t<tr><td> 7  </td><td>g   </td><td>18  </td><td>5.80</td><td>71  </td></tr>\n",
       "\t<tr><td> 8  </td><td>h   </td><td>19  </td><td>6.00</td><td>74  </td></tr>\n",
       "\t<tr><td> 9  </td><td>i   </td><td>20  </td><td>5.50</td><td>80  </td></tr>\n",
       "\t<tr><td>10  </td><td>j   </td><td>19  </td><td>5.70</td><td>52  </td></tr>\n",
       "</tbody>\n",
       "</table>\n"
      ],
      "text/latex": [
       "\\begin{tabular}{r|lllll}\n",
       " sid & name & age & height & weight\\\\\n",
       "\\hline\n",
       "\t  1   & a    & 18   & 6.00 & 75  \\\\\n",
       "\t  2   & b    & 16   & 5.60 & 79  \\\\\n",
       "\t  3   & c    & 20   & 5.11 & 68  \\\\\n",
       "\t  4   & d    & 20   & 5.50 & 50  \\\\\n",
       "\t  5   & e    & 18   & 5.11 & 66  \\\\\n",
       "\t  6   & f    & 17   & 5.10 & 60  \\\\\n",
       "\t  7   & g    & 18   & 5.80 & 71  \\\\\n",
       "\t  8   & h    & 19   & 6.00 & 74  \\\\\n",
       "\t  9   & i    & 20   & 5.50 & 80  \\\\\n",
       "\t 10   & j    & 19   & 5.70 & 52  \\\\\n",
       "\\end{tabular}\n"
      ],
      "text/markdown": [
       "\n",
       "| sid | name | age | height | weight |\n",
       "|---|---|---|---|---|\n",
       "|  1   | a    | 18   | 6.00 | 75   |\n",
       "|  2   | b    | 16   | 5.60 | 79   |\n",
       "|  3   | c    | 20   | 5.11 | 68   |\n",
       "|  4   | d    | 20   | 5.50 | 50   |\n",
       "|  5   | e    | 18   | 5.11 | 66   |\n",
       "|  6   | f    | 17   | 5.10 | 60   |\n",
       "|  7   | g    | 18   | 5.80 | 71   |\n",
       "|  8   | h    | 19   | 6.00 | 74   |\n",
       "|  9   | i    | 20   | 5.50 | 80   |\n",
       "| 10   | j    | 19   | 5.70 | 52   |\n",
       "\n"
      ],
      "text/plain": [
       "   sid name age height weight\n",
       "1   1  a    18  6.00   75    \n",
       "2   2  b    16  5.60   79    \n",
       "3   3  c    20  5.11   68    \n",
       "4   4  d    20  5.50   50    \n",
       "5   5  e    18  5.11   66    \n",
       "6   6  f    17  5.10   60    \n",
       "7   7  g    18  5.80   71    \n",
       "8   8  h    19  6.00   74    \n",
       "9   9  i    20  5.50   80    \n",
       "10 10  j    19  5.70   52    "
      ]
     },
     "metadata": {},
     "output_type": "display_data"
    }
   ],
   "source": [
    "student"
   ]
  },
  {
   "cell_type": "code",
   "execution_count": 89,
   "metadata": {},
   "outputs": [
    {
     "data": {
      "text/html": [
       "<table>\n",
       "<thead><tr><th scope=col>sid</th><th scope=col>play</th><th scope=col>class</th></tr></thead>\n",
       "<tbody>\n",
       "\t<tr><td>13        </td><td>cricket   </td><td>average   </td></tr>\n",
       "\t<tr><td>12        </td><td>football  </td><td>excellient</td></tr>\n",
       "\t<tr><td> 4        </td><td>cricket   </td><td>excellient</td></tr>\n",
       "\t<tr><td>15        </td><td>cricket   </td><td>average   </td></tr>\n",
       "\t<tr><td> 9        </td><td>kabadi    </td><td>average   </td></tr>\n",
       "\t<tr><td>17        </td><td>football  </td><td>average   </td></tr>\n",
       "\t<tr><td>18        </td><td>cricket   </td><td>good      </td></tr>\n",
       "\t<tr><td> 1        </td><td>football  </td><td>average   </td></tr>\n",
       "\t<tr><td>10        </td><td>cricket   </td><td>average   </td></tr>\n",
       "\t<tr><td>11        </td><td>cricket   </td><td>good      </td></tr>\n",
       "</tbody>\n",
       "</table>\n"
      ],
      "text/latex": [
       "\\begin{tabular}{r|lll}\n",
       " sid & play & class\\\\\n",
       "\\hline\n",
       "\t 13         & cricket    & average   \\\\\n",
       "\t 12         & football   & excellient\\\\\n",
       "\t  4         & cricket    & excellient\\\\\n",
       "\t 15         & cricket    & average   \\\\\n",
       "\t  9         & kabadi     & average   \\\\\n",
       "\t 17         & football   & average   \\\\\n",
       "\t 18         & cricket    & good      \\\\\n",
       "\t  1         & football   & average   \\\\\n",
       "\t 10         & cricket    & average   \\\\\n",
       "\t 11         & cricket    & good      \\\\\n",
       "\\end{tabular}\n"
      ],
      "text/markdown": [
       "\n",
       "| sid | play | class |\n",
       "|---|---|---|\n",
       "| 13         | cricket    | average    |\n",
       "| 12         | football   | excellient |\n",
       "|  4         | cricket    | excellient |\n",
       "| 15         | cricket    | average    |\n",
       "|  9         | kabadi     | average    |\n",
       "| 17         | football   | average    |\n",
       "| 18         | cricket    | good       |\n",
       "|  1         | football   | average    |\n",
       "| 10         | cricket    | average    |\n",
       "| 11         | cricket    | good       |\n",
       "\n"
      ],
      "text/plain": [
       "   sid play     class     \n",
       "1  13  cricket  average   \n",
       "2  12  football excellient\n",
       "3   4  cricket  excellient\n",
       "4  15  cricket  average   \n",
       "5   9  kabadi   average   \n",
       "6  17  football average   \n",
       "7  18  cricket  good      \n",
       "8   1  football average   \n",
       "9  10  cricket  average   \n",
       "10 11  cricket  good      "
      ]
     },
     "metadata": {},
     "output_type": "display_data"
    }
   ],
   "source": [
    "game"
   ]
  },
  {
   "cell_type": "code",
   "execution_count": 97,
   "metadata": {},
   "outputs": [],
   "source": [
    "s1 = student[1:6,]\n",
    "s2 = student[4:9,]"
   ]
  },
  {
   "cell_type": "code",
   "execution_count": 99,
   "metadata": {},
   "outputs": [
    {
     "data": {
      "text/html": [
       "<table>\n",
       "<thead><tr><th scope=col>sid</th><th scope=col>name</th><th scope=col>age</th><th scope=col>height</th><th scope=col>weight</th></tr></thead>\n",
       "<tbody>\n",
       "\t<tr><td>1   </td><td>a   </td><td>18  </td><td>6.00</td><td>75  </td></tr>\n",
       "\t<tr><td>2   </td><td>b   </td><td>16  </td><td>5.60</td><td>79  </td></tr>\n",
       "\t<tr><td>3   </td><td>c   </td><td>20  </td><td>5.11</td><td>68  </td></tr>\n",
       "\t<tr><td>4   </td><td>d   </td><td>20  </td><td>5.50</td><td>50  </td></tr>\n",
       "\t<tr><td>5   </td><td>e   </td><td>18  </td><td>5.11</td><td>66  </td></tr>\n",
       "\t<tr><td>6   </td><td>f   </td><td>17  </td><td>5.10</td><td>60  </td></tr>\n",
       "</tbody>\n",
       "</table>\n"
      ],
      "text/latex": [
       "\\begin{tabular}{r|lllll}\n",
       " sid & name & age & height & weight\\\\\n",
       "\\hline\n",
       "\t 1    & a    & 18   & 6.00 & 75  \\\\\n",
       "\t 2    & b    & 16   & 5.60 & 79  \\\\\n",
       "\t 3    & c    & 20   & 5.11 & 68  \\\\\n",
       "\t 4    & d    & 20   & 5.50 & 50  \\\\\n",
       "\t 5    & e    & 18   & 5.11 & 66  \\\\\n",
       "\t 6    & f    & 17   & 5.10 & 60  \\\\\n",
       "\\end{tabular}\n"
      ],
      "text/markdown": [
       "\n",
       "| sid | name | age | height | weight |\n",
       "|---|---|---|---|---|\n",
       "| 1    | a    | 18   | 6.00 | 75   |\n",
       "| 2    | b    | 16   | 5.60 | 79   |\n",
       "| 3    | c    | 20   | 5.11 | 68   |\n",
       "| 4    | d    | 20   | 5.50 | 50   |\n",
       "| 5    | e    | 18   | 5.11 | 66   |\n",
       "| 6    | f    | 17   | 5.10 | 60   |\n",
       "\n"
      ],
      "text/plain": [
       "  sid name age height weight\n",
       "1 1   a    18  6.00   75    \n",
       "2 2   b    16  5.60   79    \n",
       "3 3   c    20  5.11   68    \n",
       "4 4   d    20  5.50   50    \n",
       "5 5   e    18  5.11   66    \n",
       "6 6   f    17  5.10   60    "
      ]
     },
     "metadata": {},
     "output_type": "display_data"
    }
   ],
   "source": [
    "s1"
   ]
  },
  {
   "cell_type": "code",
   "execution_count": 100,
   "metadata": {},
   "outputs": [
    {
     "data": {
      "text/html": [
       "<table>\n",
       "<thead><tr><th scope=col>sid</th><th scope=col>name</th><th scope=col>age</th><th scope=col>height</th><th scope=col>weight</th></tr></thead>\n",
       "<tbody>\n",
       "\t<tr><td>1   </td><td>a   </td><td>18  </td><td>6.00</td><td>75  </td></tr>\n",
       "\t<tr><td>2   </td><td>b   </td><td>16  </td><td>5.60</td><td>79  </td></tr>\n",
       "\t<tr><td>3   </td><td>c   </td><td>20  </td><td>5.11</td><td>68  </td></tr>\n",
       "\t<tr><td>4   </td><td>d   </td><td>20  </td><td>5.50</td><td>50  </td></tr>\n",
       "\t<tr><td>5   </td><td>e   </td><td>18  </td><td>5.11</td><td>66  </td></tr>\n",
       "\t<tr><td>6   </td><td>f   </td><td>17  </td><td>5.10</td><td>60  </td></tr>\n",
       "</tbody>\n",
       "</table>\n"
      ],
      "text/latex": [
       "\\begin{tabular}{r|lllll}\n",
       " sid & name & age & height & weight\\\\\n",
       "\\hline\n",
       "\t 1    & a    & 18   & 6.00 & 75  \\\\\n",
       "\t 2    & b    & 16   & 5.60 & 79  \\\\\n",
       "\t 3    & c    & 20   & 5.11 & 68  \\\\\n",
       "\t 4    & d    & 20   & 5.50 & 50  \\\\\n",
       "\t 5    & e    & 18   & 5.11 & 66  \\\\\n",
       "\t 6    & f    & 17   & 5.10 & 60  \\\\\n",
       "\\end{tabular}\n"
      ],
      "text/markdown": [
       "\n",
       "| sid | name | age | height | weight |\n",
       "|---|---|---|---|---|\n",
       "| 1    | a    | 18   | 6.00 | 75   |\n",
       "| 2    | b    | 16   | 5.60 | 79   |\n",
       "| 3    | c    | 20   | 5.11 | 68   |\n",
       "| 4    | d    | 20   | 5.50 | 50   |\n",
       "| 5    | e    | 18   | 5.11 | 66   |\n",
       "| 6    | f    | 17   | 5.10 | 60   |\n",
       "\n"
      ],
      "text/plain": [
       "  sid name age height weight\n",
       "1 1   a    18  6.00   75    \n",
       "2 2   b    16  5.60   79    \n",
       "3 3   c    20  5.11   68    \n",
       "4 4   d    20  5.50   50    \n",
       "5 5   e    18  5.11   66    \n",
       "6 6   f    17  5.10   60    "
      ]
     },
     "metadata": {},
     "output_type": "display_data"
    }
   ],
   "source": [
    "s1"
   ]
  },
  {
   "cell_type": "code",
   "execution_count": 101,
   "metadata": {},
   "outputs": [
    {
     "data": {
      "text/html": [
       "<table>\n",
       "<thead><tr><th></th><th scope=col>sid</th><th scope=col>name</th><th scope=col>age</th><th scope=col>height</th><th scope=col>weight</th></tr></thead>\n",
       "<tbody>\n",
       "\t<tr><th scope=row>4</th><td>4   </td><td>d   </td><td>20  </td><td>5.50</td><td>50  </td></tr>\n",
       "\t<tr><th scope=row>5</th><td>5   </td><td>e   </td><td>18  </td><td>5.11</td><td>66  </td></tr>\n",
       "\t<tr><th scope=row>6</th><td>6   </td><td>f   </td><td>17  </td><td>5.10</td><td>60  </td></tr>\n",
       "\t<tr><th scope=row>7</th><td>7   </td><td>g   </td><td>18  </td><td>5.80</td><td>71  </td></tr>\n",
       "\t<tr><th scope=row>8</th><td>8   </td><td>h   </td><td>19  </td><td>6.00</td><td>74  </td></tr>\n",
       "\t<tr><th scope=row>9</th><td>9   </td><td>i   </td><td>20  </td><td>5.50</td><td>80  </td></tr>\n",
       "</tbody>\n",
       "</table>\n"
      ],
      "text/latex": [
       "\\begin{tabular}{r|lllll}\n",
       "  & sid & name & age & height & weight\\\\\n",
       "\\hline\n",
       "\t4 & 4    & d    & 20   & 5.50 & 50  \\\\\n",
       "\t5 & 5    & e    & 18   & 5.11 & 66  \\\\\n",
       "\t6 & 6    & f    & 17   & 5.10 & 60  \\\\\n",
       "\t7 & 7    & g    & 18   & 5.80 & 71  \\\\\n",
       "\t8 & 8    & h    & 19   & 6.00 & 74  \\\\\n",
       "\t9 & 9    & i    & 20   & 5.50 & 80  \\\\\n",
       "\\end{tabular}\n"
      ],
      "text/markdown": [
       "\n",
       "| <!--/--> | sid | name | age | height | weight |\n",
       "|---|---|---|---|---|---|\n",
       "| 4 | 4    | d    | 20   | 5.50 | 50   |\n",
       "| 5 | 5    | e    | 18   | 5.11 | 66   |\n",
       "| 6 | 6    | f    | 17   | 5.10 | 60   |\n",
       "| 7 | 7    | g    | 18   | 5.80 | 71   |\n",
       "| 8 | 8    | h    | 19   | 6.00 | 74   |\n",
       "| 9 | 9    | i    | 20   | 5.50 | 80   |\n",
       "\n"
      ],
      "text/plain": [
       "  sid name age height weight\n",
       "4 4   d    20  5.50   50    \n",
       "5 5   e    18  5.11   66    \n",
       "6 6   f    17  5.10   60    \n",
       "7 7   g    18  5.80   71    \n",
       "8 8   h    19  6.00   74    \n",
       "9 9   i    20  5.50   80    "
      ]
     },
     "metadata": {},
     "output_type": "display_data"
    }
   ],
   "source": [
    "s2"
   ]
  },
  {
   "cell_type": "code",
   "execution_count": 102,
   "metadata": {},
   "outputs": [
    {
     "data": {
      "text/html": [
       "<table>\n",
       "<thead><tr><th scope=col>sid</th><th scope=col>name</th><th scope=col>age</th><th scope=col>height</th><th scope=col>weight</th></tr></thead>\n",
       "<tbody>\n",
       "\t<tr><td>4   </td><td>d   </td><td>20  </td><td>5.50</td><td>50  </td></tr>\n",
       "\t<tr><td>5   </td><td>e   </td><td>18  </td><td>5.11</td><td>66  </td></tr>\n",
       "\t<tr><td>6   </td><td>f   </td><td>17  </td><td>5.10</td><td>60  </td></tr>\n",
       "</tbody>\n",
       "</table>\n"
      ],
      "text/latex": [
       "\\begin{tabular}{r|lllll}\n",
       " sid & name & age & height & weight\\\\\n",
       "\\hline\n",
       "\t 4    & d    & 20   & 5.50 & 50  \\\\\n",
       "\t 5    & e    & 18   & 5.11 & 66  \\\\\n",
       "\t 6    & f    & 17   & 5.10 & 60  \\\\\n",
       "\\end{tabular}\n"
      ],
      "text/markdown": [
       "\n",
       "| sid | name | age | height | weight |\n",
       "|---|---|---|---|---|\n",
       "| 4    | d    | 20   | 5.50 | 50   |\n",
       "| 5    | e    | 18   | 5.11 | 66   |\n",
       "| 6    | f    | 17   | 5.10 | 60   |\n",
       "\n"
      ],
      "text/plain": [
       "  sid name age height weight\n",
       "1 4   d    20  5.50   50    \n",
       "2 5   e    18  5.11   66    \n",
       "3 6   f    17  5.10   60    "
      ]
     },
     "metadata": {},
     "output_type": "display_data"
    }
   ],
   "source": [
    "intersect(s1,s2)"
   ]
  },
  {
   "cell_type": "code",
   "execution_count": 103,
   "metadata": {},
   "outputs": [
    {
     "data": {
      "text/html": [
       "<table>\n",
       "<thead><tr><th scope=col>sid</th><th scope=col>name</th><th scope=col>age</th><th scope=col>height</th><th scope=col>weight</th></tr></thead>\n",
       "<tbody>\n",
       "\t<tr><td>1   </td><td>a   </td><td>18  </td><td>6.00</td><td>75  </td></tr>\n",
       "\t<tr><td>2   </td><td>b   </td><td>16  </td><td>5.60</td><td>79  </td></tr>\n",
       "\t<tr><td>3   </td><td>c   </td><td>20  </td><td>5.11</td><td>68  </td></tr>\n",
       "\t<tr><td>4   </td><td>d   </td><td>20  </td><td>5.50</td><td>50  </td></tr>\n",
       "\t<tr><td>5   </td><td>e   </td><td>18  </td><td>5.11</td><td>66  </td></tr>\n",
       "\t<tr><td>6   </td><td>f   </td><td>17  </td><td>5.10</td><td>60  </td></tr>\n",
       "\t<tr><td>7   </td><td>g   </td><td>18  </td><td>5.80</td><td>71  </td></tr>\n",
       "\t<tr><td>8   </td><td>h   </td><td>19  </td><td>6.00</td><td>74  </td></tr>\n",
       "\t<tr><td>9   </td><td>i   </td><td>20  </td><td>5.50</td><td>80  </td></tr>\n",
       "</tbody>\n",
       "</table>\n"
      ],
      "text/latex": [
       "\\begin{tabular}{r|lllll}\n",
       " sid & name & age & height & weight\\\\\n",
       "\\hline\n",
       "\t 1    & a    & 18   & 6.00 & 75  \\\\\n",
       "\t 2    & b    & 16   & 5.60 & 79  \\\\\n",
       "\t 3    & c    & 20   & 5.11 & 68  \\\\\n",
       "\t 4    & d    & 20   & 5.50 & 50  \\\\\n",
       "\t 5    & e    & 18   & 5.11 & 66  \\\\\n",
       "\t 6    & f    & 17   & 5.10 & 60  \\\\\n",
       "\t 7    & g    & 18   & 5.80 & 71  \\\\\n",
       "\t 8    & h    & 19   & 6.00 & 74  \\\\\n",
       "\t 9    & i    & 20   & 5.50 & 80  \\\\\n",
       "\\end{tabular}\n"
      ],
      "text/markdown": [
       "\n",
       "| sid | name | age | height | weight |\n",
       "|---|---|---|---|---|\n",
       "| 1    | a    | 18   | 6.00 | 75   |\n",
       "| 2    | b    | 16   | 5.60 | 79   |\n",
       "| 3    | c    | 20   | 5.11 | 68   |\n",
       "| 4    | d    | 20   | 5.50 | 50   |\n",
       "| 5    | e    | 18   | 5.11 | 66   |\n",
       "| 6    | f    | 17   | 5.10 | 60   |\n",
       "| 7    | g    | 18   | 5.80 | 71   |\n",
       "| 8    | h    | 19   | 6.00 | 74   |\n",
       "| 9    | i    | 20   | 5.50 | 80   |\n",
       "\n"
      ],
      "text/plain": [
       "  sid name age height weight\n",
       "1 1   a    18  6.00   75    \n",
       "2 2   b    16  5.60   79    \n",
       "3 3   c    20  5.11   68    \n",
       "4 4   d    20  5.50   50    \n",
       "5 5   e    18  5.11   66    \n",
       "6 6   f    17  5.10   60    \n",
       "7 7   g    18  5.80   71    \n",
       "8 8   h    19  6.00   74    \n",
       "9 9   i    20  5.50   80    "
      ]
     },
     "metadata": {},
     "output_type": "display_data"
    }
   ],
   "source": [
    "union(s1,s2)"
   ]
  },
  {
   "cell_type": "code",
   "execution_count": 104,
   "metadata": {},
   "outputs": [
    {
     "data": {
      "text/html": [
       "<table>\n",
       "<thead><tr><th scope=col>sid</th><th scope=col>name</th><th scope=col>age</th><th scope=col>height</th><th scope=col>weight</th></tr></thead>\n",
       "<tbody>\n",
       "\t<tr><td>1   </td><td>a   </td><td>18  </td><td>6.00</td><td>75  </td></tr>\n",
       "\t<tr><td>2   </td><td>b   </td><td>16  </td><td>5.60</td><td>79  </td></tr>\n",
       "\t<tr><td>3   </td><td>c   </td><td>20  </td><td>5.11</td><td>68  </td></tr>\n",
       "</tbody>\n",
       "</table>\n"
      ],
      "text/latex": [
       "\\begin{tabular}{r|lllll}\n",
       " sid & name & age & height & weight\\\\\n",
       "\\hline\n",
       "\t 1    & a    & 18   & 6.00 & 75  \\\\\n",
       "\t 2    & b    & 16   & 5.60 & 79  \\\\\n",
       "\t 3    & c    & 20   & 5.11 & 68  \\\\\n",
       "\\end{tabular}\n"
      ],
      "text/markdown": [
       "\n",
       "| sid | name | age | height | weight |\n",
       "|---|---|---|---|---|\n",
       "| 1    | a    | 18   | 6.00 | 75   |\n",
       "| 2    | b    | 16   | 5.60 | 79   |\n",
       "| 3    | c    | 20   | 5.11 | 68   |\n",
       "\n"
      ],
      "text/plain": [
       "  sid name age height weight\n",
       "1 1   a    18  6.00   75    \n",
       "2 2   b    16  5.60   79    \n",
       "3 3   c    20  5.11   68    "
      ]
     },
     "metadata": {},
     "output_type": "display_data"
    }
   ],
   "source": [
    "setdiff(s1,s2)"
   ]
  },
  {
   "cell_type": "code",
   "execution_count": 105,
   "metadata": {},
   "outputs": [
    {
     "data": {
      "text/html": [
       "FALSE"
      ],
      "text/latex": [
       "FALSE"
      ],
      "text/markdown": [
       "FALSE"
      ],
      "text/plain": [
       "[1] FALSE"
      ]
     },
     "metadata": {},
     "output_type": "display_data"
    }
   ],
   "source": [
    "setequal(s1,s2)"
   ]
  },
  {
   "cell_type": "code",
   "execution_count": 106,
   "metadata": {},
   "outputs": [
    {
     "data": {
      "text/html": [
       "<table>\n",
       "<thead><tr><th scope=col>sid</th><th scope=col>name</th><th scope=col>age</th><th scope=col>height</th><th scope=col>weight</th><th scope=col>play</th><th scope=col>class</th></tr></thead>\n",
       "<tbody>\n",
       "\t<tr><td> 1        </td><td>a         </td><td>18        </td><td>6.0       </td><td>75        </td><td>football  </td><td>average   </td></tr>\n",
       "\t<tr><td> 4        </td><td>d         </td><td>20        </td><td>5.5       </td><td>50        </td><td>cricket   </td><td>excellient</td></tr>\n",
       "\t<tr><td> 9        </td><td>i         </td><td>20        </td><td>5.5       </td><td>80        </td><td>kabadi    </td><td>average   </td></tr>\n",
       "\t<tr><td>10        </td><td>j         </td><td>19        </td><td>5.7       </td><td>52        </td><td>cricket   </td><td>average   </td></tr>\n",
       "</tbody>\n",
       "</table>\n"
      ],
      "text/latex": [
       "\\begin{tabular}{r|lllllll}\n",
       " sid & name & age & height & weight & play & class\\\\\n",
       "\\hline\n",
       "\t  1         & a          & 18         & 6.0        & 75         & football   & average   \\\\\n",
       "\t  4         & d          & 20         & 5.5        & 50         & cricket    & excellient\\\\\n",
       "\t  9         & i          & 20         & 5.5        & 80         & kabadi     & average   \\\\\n",
       "\t 10         & j          & 19         & 5.7        & 52         & cricket    & average   \\\\\n",
       "\\end{tabular}\n"
      ],
      "text/markdown": [
       "\n",
       "| sid | name | age | height | weight | play | class |\n",
       "|---|---|---|---|---|---|---|\n",
       "|  1         | a          | 18         | 6.0        | 75         | football   | average    |\n",
       "|  4         | d          | 20         | 5.5        | 50         | cricket    | excellient |\n",
       "|  9         | i          | 20         | 5.5        | 80         | kabadi     | average    |\n",
       "| 10         | j          | 19         | 5.7        | 52         | cricket    | average    |\n",
       "\n"
      ],
      "text/plain": [
       "  sid name age height weight play     class     \n",
       "1  1  a    18  6.0    75     football average   \n",
       "2  4  d    20  5.5    50     cricket  excellient\n",
       "3  9  i    20  5.5    80     kabadi   average   \n",
       "4 10  j    19  5.7    52     cricket  average   "
      ]
     },
     "metadata": {},
     "output_type": "display_data"
    }
   ],
   "source": [
    "inner_join(student,game,by='sid')"
   ]
  },
  {
   "cell_type": "code",
   "execution_count": 107,
   "metadata": {},
   "outputs": [
    {
     "data": {
      "text/html": [
       "<table>\n",
       "<thead><tr><th scope=col>sid</th><th scope=col>name</th><th scope=col>age</th><th scope=col>height</th><th scope=col>weight</th><th scope=col>play</th><th scope=col>class</th></tr></thead>\n",
       "<tbody>\n",
       "\t<tr><td> 1        </td><td>a         </td><td>18        </td><td>6.00      </td><td>75        </td><td>football  </td><td>average   </td></tr>\n",
       "\t<tr><td> 2        </td><td>b         </td><td>16        </td><td>5.60      </td><td>79        </td><td>NA        </td><td>NA        </td></tr>\n",
       "\t<tr><td> 3        </td><td>c         </td><td>20        </td><td>5.11      </td><td>68        </td><td>NA        </td><td>NA        </td></tr>\n",
       "\t<tr><td> 4        </td><td>d         </td><td>20        </td><td>5.50      </td><td>50        </td><td>cricket   </td><td>excellient</td></tr>\n",
       "\t<tr><td> 5        </td><td>e         </td><td>18        </td><td>5.11      </td><td>66        </td><td>NA        </td><td>NA        </td></tr>\n",
       "\t<tr><td> 6        </td><td>f         </td><td>17        </td><td>5.10      </td><td>60        </td><td>NA        </td><td>NA        </td></tr>\n",
       "\t<tr><td> 7        </td><td>g         </td><td>18        </td><td>5.80      </td><td>71        </td><td>NA        </td><td>NA        </td></tr>\n",
       "\t<tr><td> 8        </td><td>h         </td><td>19        </td><td>6.00      </td><td>74        </td><td>NA        </td><td>NA        </td></tr>\n",
       "\t<tr><td> 9        </td><td>i         </td><td>20        </td><td>5.50      </td><td>80        </td><td>kabadi    </td><td>average   </td></tr>\n",
       "\t<tr><td>10        </td><td>j         </td><td>19        </td><td>5.70      </td><td>52        </td><td>cricket   </td><td>average   </td></tr>\n",
       "</tbody>\n",
       "</table>\n"
      ],
      "text/latex": [
       "\\begin{tabular}{r|lllllll}\n",
       " sid & name & age & height & weight & play & class\\\\\n",
       "\\hline\n",
       "\t  1         & a          & 18         & 6.00       & 75         & football   & average   \\\\\n",
       "\t  2         & b          & 16         & 5.60       & 79         & NA         & NA        \\\\\n",
       "\t  3         & c          & 20         & 5.11       & 68         & NA         & NA        \\\\\n",
       "\t  4         & d          & 20         & 5.50       & 50         & cricket    & excellient\\\\\n",
       "\t  5         & e          & 18         & 5.11       & 66         & NA         & NA        \\\\\n",
       "\t  6         & f          & 17         & 5.10       & 60         & NA         & NA        \\\\\n",
       "\t  7         & g          & 18         & 5.80       & 71         & NA         & NA        \\\\\n",
       "\t  8         & h          & 19         & 6.00       & 74         & NA         & NA        \\\\\n",
       "\t  9         & i          & 20         & 5.50       & 80         & kabadi     & average   \\\\\n",
       "\t 10         & j          & 19         & 5.70       & 52         & cricket    & average   \\\\\n",
       "\\end{tabular}\n"
      ],
      "text/markdown": [
       "\n",
       "| sid | name | age | height | weight | play | class |\n",
       "|---|---|---|---|---|---|---|\n",
       "|  1         | a          | 18         | 6.00       | 75         | football   | average    |\n",
       "|  2         | b          | 16         | 5.60       | 79         | NA         | NA         |\n",
       "|  3         | c          | 20         | 5.11       | 68         | NA         | NA         |\n",
       "|  4         | d          | 20         | 5.50       | 50         | cricket    | excellient |\n",
       "|  5         | e          | 18         | 5.11       | 66         | NA         | NA         |\n",
       "|  6         | f          | 17         | 5.10       | 60         | NA         | NA         |\n",
       "|  7         | g          | 18         | 5.80       | 71         | NA         | NA         |\n",
       "|  8         | h          | 19         | 6.00       | 74         | NA         | NA         |\n",
       "|  9         | i          | 20         | 5.50       | 80         | kabadi     | average    |\n",
       "| 10         | j          | 19         | 5.70       | 52         | cricket    | average    |\n",
       "\n"
      ],
      "text/plain": [
       "   sid name age height weight play     class     \n",
       "1   1  a    18  6.00   75     football average   \n",
       "2   2  b    16  5.60   79     NA       NA        \n",
       "3   3  c    20  5.11   68     NA       NA        \n",
       "4   4  d    20  5.50   50     cricket  excellient\n",
       "5   5  e    18  5.11   66     NA       NA        \n",
       "6   6  f    17  5.10   60     NA       NA        \n",
       "7   7  g    18  5.80   71     NA       NA        \n",
       "8   8  h    19  6.00   74     NA       NA        \n",
       "9   9  i    20  5.50   80     kabadi   average   \n",
       "10 10  j    19  5.70   52     cricket  average   "
      ]
     },
     "metadata": {},
     "output_type": "display_data"
    }
   ],
   "source": [
    "left_join(student,game,by='sid')"
   ]
  },
  {
   "cell_type": "code",
   "execution_count": 109,
   "metadata": {},
   "outputs": [
    {
     "data": {
      "text/html": [
       "<table>\n",
       "<thead><tr><th scope=col>sid</th><th scope=col>name</th><th scope=col>age</th><th scope=col>height</th><th scope=col>weight</th><th scope=col>play</th><th scope=col>class</th></tr></thead>\n",
       "<tbody>\n",
       "\t<tr><td>13        </td><td>NA        </td><td>NA        </td><td> NA       </td><td>NA        </td><td>cricket   </td><td>average   </td></tr>\n",
       "\t<tr><td>12        </td><td>NA        </td><td>NA        </td><td> NA       </td><td>NA        </td><td>football  </td><td>excellient</td></tr>\n",
       "\t<tr><td> 4        </td><td>d         </td><td>20        </td><td>5.5       </td><td>50        </td><td>cricket   </td><td>excellient</td></tr>\n",
       "\t<tr><td>15        </td><td>NA        </td><td>NA        </td><td> NA       </td><td>NA        </td><td>cricket   </td><td>average   </td></tr>\n",
       "\t<tr><td> 9        </td><td>i         </td><td>20        </td><td>5.5       </td><td>80        </td><td>kabadi    </td><td>average   </td></tr>\n",
       "\t<tr><td>17        </td><td>NA        </td><td>NA        </td><td> NA       </td><td>NA        </td><td>football  </td><td>average   </td></tr>\n",
       "\t<tr><td>18        </td><td>NA        </td><td>NA        </td><td> NA       </td><td>NA        </td><td>cricket   </td><td>good      </td></tr>\n",
       "\t<tr><td> 1        </td><td>a         </td><td>18        </td><td>6.0       </td><td>75        </td><td>football  </td><td>average   </td></tr>\n",
       "\t<tr><td>10        </td><td>j         </td><td>19        </td><td>5.7       </td><td>52        </td><td>cricket   </td><td>average   </td></tr>\n",
       "\t<tr><td>11        </td><td>NA        </td><td>NA        </td><td> NA       </td><td>NA        </td><td>cricket   </td><td>good      </td></tr>\n",
       "</tbody>\n",
       "</table>\n"
      ],
      "text/latex": [
       "\\begin{tabular}{r|lllllll}\n",
       " sid & name & age & height & weight & play & class\\\\\n",
       "\\hline\n",
       "\t 13         & NA         & NA         &  NA        & NA         & cricket    & average   \\\\\n",
       "\t 12         & NA         & NA         &  NA        & NA         & football   & excellient\\\\\n",
       "\t  4         & d          & 20         & 5.5        & 50         & cricket    & excellient\\\\\n",
       "\t 15         & NA         & NA         &  NA        & NA         & cricket    & average   \\\\\n",
       "\t  9         & i          & 20         & 5.5        & 80         & kabadi     & average   \\\\\n",
       "\t 17         & NA         & NA         &  NA        & NA         & football   & average   \\\\\n",
       "\t 18         & NA         & NA         &  NA        & NA         & cricket    & good      \\\\\n",
       "\t  1         & a          & 18         & 6.0        & 75         & football   & average   \\\\\n",
       "\t 10         & j          & 19         & 5.7        & 52         & cricket    & average   \\\\\n",
       "\t 11         & NA         & NA         &  NA        & NA         & cricket    & good      \\\\\n",
       "\\end{tabular}\n"
      ],
      "text/markdown": [
       "\n",
       "| sid | name | age | height | weight | play | class |\n",
       "|---|---|---|---|---|---|---|\n",
       "| 13         | NA         | NA         |  NA        | NA         | cricket    | average    |\n",
       "| 12         | NA         | NA         |  NA        | NA         | football   | excellient |\n",
       "|  4         | d          | 20         | 5.5        | 50         | cricket    | excellient |\n",
       "| 15         | NA         | NA         |  NA        | NA         | cricket    | average    |\n",
       "|  9         | i          | 20         | 5.5        | 80         | kabadi     | average    |\n",
       "| 17         | NA         | NA         |  NA        | NA         | football   | average    |\n",
       "| 18         | NA         | NA         |  NA        | NA         | cricket    | good       |\n",
       "|  1         | a          | 18         | 6.0        | 75         | football   | average    |\n",
       "| 10         | j          | 19         | 5.7        | 52         | cricket    | average    |\n",
       "| 11         | NA         | NA         |  NA        | NA         | cricket    | good       |\n",
       "\n"
      ],
      "text/plain": [
       "   sid name age height weight play     class     \n",
       "1  13  NA   NA   NA    NA     cricket  average   \n",
       "2  12  NA   NA   NA    NA     football excellient\n",
       "3   4  d    20  5.5    50     cricket  excellient\n",
       "4  15  NA   NA   NA    NA     cricket  average   \n",
       "5   9  i    20  5.5    80     kabadi   average   \n",
       "6  17  NA   NA   NA    NA     football average   \n",
       "7  18  NA   NA   NA    NA     cricket  good      \n",
       "8   1  a    18  6.0    75     football average   \n",
       "9  10  j    19  5.7    52     cricket  average   \n",
       "10 11  NA   NA   NA    NA     cricket  good      "
      ]
     },
     "metadata": {},
     "output_type": "display_data"
    }
   ],
   "source": [
    "right_join(student,game,by='sid')"
   ]
  },
  {
   "cell_type": "code",
   "execution_count": 110,
   "metadata": {},
   "outputs": [
    {
     "name": "stderr",
     "output_type": "stream",
     "text": [
      "Joining, by = \"sid\"\n"
     ]
    },
    {
     "data": {
      "text/html": [
       "<table>\n",
       "<thead><tr><th scope=col>sid</th><th scope=col>name</th><th scope=col>age</th><th scope=col>height</th><th scope=col>weight</th><th scope=col>play</th><th scope=col>class</th></tr></thead>\n",
       "<tbody>\n",
       "\t<tr><td> 1        </td><td>a         </td><td>18        </td><td>6.00      </td><td>75        </td><td>football  </td><td>average   </td></tr>\n",
       "\t<tr><td> 2        </td><td>b         </td><td>16        </td><td>5.60      </td><td>79        </td><td>NA        </td><td>NA        </td></tr>\n",
       "\t<tr><td> 3        </td><td>c         </td><td>20        </td><td>5.11      </td><td>68        </td><td>NA        </td><td>NA        </td></tr>\n",
       "\t<tr><td> 4        </td><td>d         </td><td>20        </td><td>5.50      </td><td>50        </td><td>cricket   </td><td>excellient</td></tr>\n",
       "\t<tr><td> 5        </td><td>e         </td><td>18        </td><td>5.11      </td><td>66        </td><td>NA        </td><td>NA        </td></tr>\n",
       "\t<tr><td> 6        </td><td>f         </td><td>17        </td><td>5.10      </td><td>60        </td><td>NA        </td><td>NA        </td></tr>\n",
       "\t<tr><td> 7        </td><td>g         </td><td>18        </td><td>5.80      </td><td>71        </td><td>NA        </td><td>NA        </td></tr>\n",
       "\t<tr><td> 8        </td><td>h         </td><td>19        </td><td>6.00      </td><td>74        </td><td>NA        </td><td>NA        </td></tr>\n",
       "\t<tr><td> 9        </td><td>i         </td><td>20        </td><td>5.50      </td><td>80        </td><td>kabadi    </td><td>average   </td></tr>\n",
       "\t<tr><td>10        </td><td>j         </td><td>19        </td><td>5.70      </td><td>52        </td><td>cricket   </td><td>average   </td></tr>\n",
       "\t<tr><td>13        </td><td>NA        </td><td>NA        </td><td>  NA      </td><td>NA        </td><td>cricket   </td><td>average   </td></tr>\n",
       "\t<tr><td>12        </td><td>NA        </td><td>NA        </td><td>  NA      </td><td>NA        </td><td>football  </td><td>excellient</td></tr>\n",
       "\t<tr><td>15        </td><td>NA        </td><td>NA        </td><td>  NA      </td><td>NA        </td><td>cricket   </td><td>average   </td></tr>\n",
       "\t<tr><td>17        </td><td>NA        </td><td>NA        </td><td>  NA      </td><td>NA        </td><td>football  </td><td>average   </td></tr>\n",
       "\t<tr><td>18        </td><td>NA        </td><td>NA        </td><td>  NA      </td><td>NA        </td><td>cricket   </td><td>good      </td></tr>\n",
       "\t<tr><td>11        </td><td>NA        </td><td>NA        </td><td>  NA      </td><td>NA        </td><td>cricket   </td><td>good      </td></tr>\n",
       "</tbody>\n",
       "</table>\n"
      ],
      "text/latex": [
       "\\begin{tabular}{r|lllllll}\n",
       " sid & name & age & height & weight & play & class\\\\\n",
       "\\hline\n",
       "\t  1         & a          & 18         & 6.00       & 75         & football   & average   \\\\\n",
       "\t  2         & b          & 16         & 5.60       & 79         & NA         & NA        \\\\\n",
       "\t  3         & c          & 20         & 5.11       & 68         & NA         & NA        \\\\\n",
       "\t  4         & d          & 20         & 5.50       & 50         & cricket    & excellient\\\\\n",
       "\t  5         & e          & 18         & 5.11       & 66         & NA         & NA        \\\\\n",
       "\t  6         & f          & 17         & 5.10       & 60         & NA         & NA        \\\\\n",
       "\t  7         & g          & 18         & 5.80       & 71         & NA         & NA        \\\\\n",
       "\t  8         & h          & 19         & 6.00       & 74         & NA         & NA        \\\\\n",
       "\t  9         & i          & 20         & 5.50       & 80         & kabadi     & average   \\\\\n",
       "\t 10         & j          & 19         & 5.70       & 52         & cricket    & average   \\\\\n",
       "\t 13         & NA         & NA         &   NA       & NA         & cricket    & average   \\\\\n",
       "\t 12         & NA         & NA         &   NA       & NA         & football   & excellient\\\\\n",
       "\t 15         & NA         & NA         &   NA       & NA         & cricket    & average   \\\\\n",
       "\t 17         & NA         & NA         &   NA       & NA         & football   & average   \\\\\n",
       "\t 18         & NA         & NA         &   NA       & NA         & cricket    & good      \\\\\n",
       "\t 11         & NA         & NA         &   NA       & NA         & cricket    & good      \\\\\n",
       "\\end{tabular}\n"
      ],
      "text/markdown": [
       "\n",
       "| sid | name | age | height | weight | play | class |\n",
       "|---|---|---|---|---|---|---|\n",
       "|  1         | a          | 18         | 6.00       | 75         | football   | average    |\n",
       "|  2         | b          | 16         | 5.60       | 79         | NA         | NA         |\n",
       "|  3         | c          | 20         | 5.11       | 68         | NA         | NA         |\n",
       "|  4         | d          | 20         | 5.50       | 50         | cricket    | excellient |\n",
       "|  5         | e          | 18         | 5.11       | 66         | NA         | NA         |\n",
       "|  6         | f          | 17         | 5.10       | 60         | NA         | NA         |\n",
       "|  7         | g          | 18         | 5.80       | 71         | NA         | NA         |\n",
       "|  8         | h          | 19         | 6.00       | 74         | NA         | NA         |\n",
       "|  9         | i          | 20         | 5.50       | 80         | kabadi     | average    |\n",
       "| 10         | j          | 19         | 5.70       | 52         | cricket    | average    |\n",
       "| 13         | NA         | NA         |   NA       | NA         | cricket    | average    |\n",
       "| 12         | NA         | NA         |   NA       | NA         | football   | excellient |\n",
       "| 15         | NA         | NA         |   NA       | NA         | cricket    | average    |\n",
       "| 17         | NA         | NA         |   NA       | NA         | football   | average    |\n",
       "| 18         | NA         | NA         |   NA       | NA         | cricket    | good       |\n",
       "| 11         | NA         | NA         |   NA       | NA         | cricket    | good       |\n",
       "\n"
      ],
      "text/plain": [
       "   sid name age height weight play     class     \n",
       "1   1  a    18  6.00   75     football average   \n",
       "2   2  b    16  5.60   79     NA       NA        \n",
       "3   3  c    20  5.11   68     NA       NA        \n",
       "4   4  d    20  5.50   50     cricket  excellient\n",
       "5   5  e    18  5.11   66     NA       NA        \n",
       "6   6  f    17  5.10   60     NA       NA        \n",
       "7   7  g    18  5.80   71     NA       NA        \n",
       "8   8  h    19  6.00   74     NA       NA        \n",
       "9   9  i    20  5.50   80     kabadi   average   \n",
       "10 10  j    19  5.70   52     cricket  average   \n",
       "11 13  NA   NA    NA   NA     cricket  average   \n",
       "12 12  NA   NA    NA   NA     football excellient\n",
       "13 15  NA   NA    NA   NA     cricket  average   \n",
       "14 17  NA   NA    NA   NA     football average   \n",
       "15 18  NA   NA    NA   NA     cricket  good      \n",
       "16 11  NA   NA    NA   NA     cricket  good      "
      ]
     },
     "metadata": {},
     "output_type": "display_data"
    }
   ],
   "source": [
    "full_join(student,game)"
   ]
  },
  {
   "cell_type": "code",
   "execution_count": null,
   "metadata": {},
   "outputs": [],
   "source": []
  }
 ],
 "metadata": {
  "kernelspec": {
   "display_name": "R",
   "language": "R",
   "name": "ir"
  },
  "language_info": {
   "codemirror_mode": "r",
   "file_extension": ".r",
   "mimetype": "text/x-r-source",
   "name": "R",
   "pygments_lexer": "r",
   "version": "3.6.0"
  }
 },
 "nbformat": 4,
 "nbformat_minor": 2
}
