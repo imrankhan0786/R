{
 "cells": [
  {
   "cell_type": "code",
   "execution_count": 1,
   "metadata": {},
   "outputs": [
    {
     "name": "stderr",
     "output_type": "stream",
     "text": [
      "Installing package into 'C:/Users/hp/Documents/R/win-library/3.6'\n",
      "(as 'lib' is unspecified)\n",
      "also installing the dependencies 'bit', 'bit64', 'blob', 'memoise', 'gsubfn', 'proto', 'RSQLite', 'chron'\n",
      "\n"
     ]
    },
    {
     "name": "stdout",
     "output_type": "stream",
     "text": [
      "package 'bit' successfully unpacked and MD5 sums checked\n",
      "package 'bit64' successfully unpacked and MD5 sums checked\n",
      "package 'blob' successfully unpacked and MD5 sums checked\n",
      "package 'memoise' successfully unpacked and MD5 sums checked\n",
      "package 'gsubfn' successfully unpacked and MD5 sums checked\n",
      "package 'proto' successfully unpacked and MD5 sums checked\n",
      "package 'RSQLite' successfully unpacked and MD5 sums checked\n",
      "package 'chron' successfully unpacked and MD5 sums checked\n",
      "package 'sqldf' successfully unpacked and MD5 sums checked\n",
      "\n",
      "The downloaded binary packages are in\n",
      "\tC:\\Users\\hp\\AppData\\Local\\Temp\\RtmpMHFlSq\\downloaded_packages\n"
     ]
    }
   ],
   "source": [
    "install.packages(\"sqldf\")"
   ]
  },
  {
   "cell_type": "code",
   "execution_count": 2,
   "metadata": {},
   "outputs": [
    {
     "name": "stderr",
     "output_type": "stream",
     "text": [
      "Installing package into 'C:/Users/hp/Documents/R/win-library/3.6'\n",
      "(as 'lib' is unspecified)\n"
     ]
    },
    {
     "name": "stdout",
     "output_type": "stream",
     "text": [
      "package 'tidyr' successfully unpacked and MD5 sums checked\n",
      "\n",
      "The downloaded binary packages are in\n",
      "\tC:\\Users\\hp\\AppData\\Local\\Temp\\RtmpMHFlSq\\downloaded_packages\n"
     ]
    }
   ],
   "source": [
    "install.packages(\"tidyr\")"
   ]
  },
  {
   "cell_type": "code",
   "execution_count": 3,
   "metadata": {},
   "outputs": [
    {
     "name": "stderr",
     "output_type": "stream",
     "text": [
      "Installing package into 'C:/Users/hp/Documents/R/win-library/3.6'\n",
      "(as 'lib' is unspecified)\n"
     ]
    },
    {
     "name": "stdout",
     "output_type": "stream",
     "text": [
      "package 'plyr' successfully unpacked and MD5 sums checked\n",
      "\n",
      "The downloaded binary packages are in\n",
      "\tC:\\Users\\hp\\AppData\\Local\\Temp\\RtmpMHFlSq\\downloaded_packages\n"
     ]
    }
   ],
   "source": [
    "install.packages(\"plyr\")"
   ]
  },
  {
   "cell_type": "code",
   "execution_count": 4,
   "metadata": {},
   "outputs": [
    {
     "name": "stderr",
     "output_type": "stream",
     "text": [
      "Installing package into 'C:/Users/hp/Documents/R/win-library/3.6'\n",
      "(as 'lib' is unspecified)\n"
     ]
    },
    {
     "name": "stdout",
     "output_type": "stream",
     "text": [
      "package 'dplyr' successfully unpacked and MD5 sums checked\n",
      "\n",
      "The downloaded binary packages are in\n",
      "\tC:\\Users\\hp\\AppData\\Local\\Temp\\RtmpMHFlSq\\downloaded_packages\n"
     ]
    }
   ],
   "source": [
    "install.packages(\"dplyr\")"
   ]
  },
  {
   "cell_type": "code",
   "execution_count": 5,
   "metadata": {},
   "outputs": [
    {
     "name": "stderr",
     "output_type": "stream",
     "text": [
      "Installing package into 'C:/Users/hp/Documents/R/win-library/3.6'\n",
      "(as 'lib' is unspecified)\n"
     ]
    },
    {
     "name": "stdout",
     "output_type": "stream",
     "text": [
      "package 'reshape2' successfully unpacked and MD5 sums checked\n",
      "\n",
      "The downloaded binary packages are in\n",
      "\tC:\\Users\\hp\\AppData\\Local\\Temp\\RtmpMHFlSq\\downloaded_packages\n"
     ]
    }
   ],
   "source": [
    "install.packages('reshape2')"
   ]
  },
  {
   "cell_type": "code",
   "execution_count": 6,
   "metadata": {},
   "outputs": [
    {
     "name": "stderr",
     "output_type": "stream",
     "text": [
      "Installing package into 'C:/Users/hp/Documents/R/win-library/3.6'\n",
      "(as 'lib' is unspecified)\n",
      "Warning message:\n",
      "\"package 'Stringer' is not available (for R version 3.6.0)\""
     ]
    }
   ],
   "source": [
    "install.packages(\"Stringer\")"
   ]
  },
  {
   "cell_type": "code",
   "execution_count": 7,
   "metadata": {},
   "outputs": [
    {
     "name": "stderr",
     "output_type": "stream",
     "text": [
      "Installing package into 'C:/Users/hp/Documents/R/win-library/3.6'\n",
      "(as 'lib' is unspecified)\n",
      "Warning message:\n",
      "\"package 'Data.table' is not available (for R version 3.6.0)\"Warning message:\n",
      "\"Perhaps you meant 'data.table' ?\""
     ]
    }
   ],
   "source": [
    "install.packages(\"Data.table\")"
   ]
  },
  {
   "cell_type": "code",
   "execution_count": 8,
   "metadata": {},
   "outputs": [
    {
     "name": "stderr",
     "output_type": "stream",
     "text": [
      "Installing package into 'C:/Users/hp/Documents/R/win-library/3.6'\n",
      "(as 'lib' is unspecified)\n"
     ]
    },
    {
     "name": "stdout",
     "output_type": "stream",
     "text": [
      "package 'ggplot2' successfully unpacked and MD5 sums checked\n",
      "\n",
      "The downloaded binary packages are in\n",
      "\tC:\\Users\\hp\\AppData\\Local\\Temp\\RtmpMHFlSq\\downloaded_packages\n"
     ]
    }
   ],
   "source": [
    "install.packages(\"ggplot2\")"
   ]
  },
  {
   "cell_type": "code",
   "execution_count": 9,
   "metadata": {},
   "outputs": [],
   "source": [
    "# to view data sets\n",
    "data()"
   ]
  },
  {
   "cell_type": "code",
   "execution_count": 11,
   "metadata": {},
   "outputs": [],
   "source": [
    "df = data.frame(year=1880:1899,\n",
    "                sex=sample(c(\"boy\",\"girl\"),20,replace = T),\n",
    "               births = sample(seq(100000,140000),20)\n",
    "               )"
   ]
  },
  {
   "cell_type": "code",
   "execution_count": 12,
   "metadata": {},
   "outputs": [
    {
     "data": {
      "text/html": [
       "<table>\n",
       "<thead><tr><th scope=col>year</th><th scope=col>sex</th><th scope=col>births</th></tr></thead>\n",
       "<tbody>\n",
       "\t<tr><td>1880  </td><td>girl  </td><td>112127</td></tr>\n",
       "\t<tr><td>1881  </td><td>girl  </td><td>131663</td></tr>\n",
       "\t<tr><td>1882  </td><td>boy   </td><td>101113</td></tr>\n",
       "\t<tr><td>1883  </td><td>girl  </td><td>117340</td></tr>\n",
       "\t<tr><td>1884  </td><td>girl  </td><td>121573</td></tr>\n",
       "\t<tr><td>1885  </td><td>boy   </td><td>117309</td></tr>\n",
       "\t<tr><td>1886  </td><td>boy   </td><td>101258</td></tr>\n",
       "\t<tr><td>1887  </td><td>girl  </td><td>134776</td></tr>\n",
       "\t<tr><td>1888  </td><td>girl  </td><td>138115</td></tr>\n",
       "\t<tr><td>1889  </td><td>girl  </td><td>137849</td></tr>\n",
       "\t<tr><td>1890  </td><td>boy   </td><td>127668</td></tr>\n",
       "\t<tr><td>1891  </td><td>boy   </td><td>124707</td></tr>\n",
       "\t<tr><td>1892  </td><td>girl  </td><td>137115</td></tr>\n",
       "\t<tr><td>1893  </td><td>boy   </td><td>132180</td></tr>\n",
       "\t<tr><td>1894  </td><td>boy   </td><td>104446</td></tr>\n",
       "\t<tr><td>1895  </td><td>girl  </td><td>130007</td></tr>\n",
       "\t<tr><td>1896  </td><td>boy   </td><td>116840</td></tr>\n",
       "\t<tr><td>1897  </td><td>girl  </td><td>129438</td></tr>\n",
       "\t<tr><td>1898  </td><td>boy   </td><td>104544</td></tr>\n",
       "\t<tr><td>1899  </td><td>boy   </td><td>102042</td></tr>\n",
       "</tbody>\n",
       "</table>\n"
      ],
      "text/latex": [
       "\\begin{tabular}{r|lll}\n",
       " year & sex & births\\\\\n",
       "\\hline\n",
       "\t 1880   & girl   & 112127\\\\\n",
       "\t 1881   & girl   & 131663\\\\\n",
       "\t 1882   & boy    & 101113\\\\\n",
       "\t 1883   & girl   & 117340\\\\\n",
       "\t 1884   & girl   & 121573\\\\\n",
       "\t 1885   & boy    & 117309\\\\\n",
       "\t 1886   & boy    & 101258\\\\\n",
       "\t 1887   & girl   & 134776\\\\\n",
       "\t 1888   & girl   & 138115\\\\\n",
       "\t 1889   & girl   & 137849\\\\\n",
       "\t 1890   & boy    & 127668\\\\\n",
       "\t 1891   & boy    & 124707\\\\\n",
       "\t 1892   & girl   & 137115\\\\\n",
       "\t 1893   & boy    & 132180\\\\\n",
       "\t 1894   & boy    & 104446\\\\\n",
       "\t 1895   & girl   & 130007\\\\\n",
       "\t 1896   & boy    & 116840\\\\\n",
       "\t 1897   & girl   & 129438\\\\\n",
       "\t 1898   & boy    & 104544\\\\\n",
       "\t 1899   & boy    & 102042\\\\\n",
       "\\end{tabular}\n"
      ],
      "text/markdown": [
       "\n",
       "| year | sex | births |\n",
       "|---|---|---|\n",
       "| 1880   | girl   | 112127 |\n",
       "| 1881   | girl   | 131663 |\n",
       "| 1882   | boy    | 101113 |\n",
       "| 1883   | girl   | 117340 |\n",
       "| 1884   | girl   | 121573 |\n",
       "| 1885   | boy    | 117309 |\n",
       "| 1886   | boy    | 101258 |\n",
       "| 1887   | girl   | 134776 |\n",
       "| 1888   | girl   | 138115 |\n",
       "| 1889   | girl   | 137849 |\n",
       "| 1890   | boy    | 127668 |\n",
       "| 1891   | boy    | 124707 |\n",
       "| 1892   | girl   | 137115 |\n",
       "| 1893   | boy    | 132180 |\n",
       "| 1894   | boy    | 104446 |\n",
       "| 1895   | girl   | 130007 |\n",
       "| 1896   | boy    | 116840 |\n",
       "| 1897   | girl   | 129438 |\n",
       "| 1898   | boy    | 104544 |\n",
       "| 1899   | boy    | 102042 |\n",
       "\n"
      ],
      "text/plain": [
       "   year sex  births\n",
       "1  1880 girl 112127\n",
       "2  1881 girl 131663\n",
       "3  1882 boy  101113\n",
       "4  1883 girl 117340\n",
       "5  1884 girl 121573\n",
       "6  1885 boy  117309\n",
       "7  1886 boy  101258\n",
       "8  1887 girl 134776\n",
       "9  1888 girl 138115\n",
       "10 1889 girl 137849\n",
       "11 1890 boy  127668\n",
       "12 1891 boy  124707\n",
       "13 1892 girl 137115\n",
       "14 1893 boy  132180\n",
       "15 1894 boy  104446\n",
       "16 1895 girl 130007\n",
       "17 1896 boy  116840\n",
       "18 1897 girl 129438\n",
       "19 1898 boy  104544\n",
       "20 1899 boy  102042"
      ]
     },
     "metadata": {},
     "output_type": "display_data"
    }
   ],
   "source": [
    "df"
   ]
  },
  {
   "cell_type": "code",
   "execution_count": 13,
   "metadata": {},
   "outputs": [
    {
     "name": "stdout",
     "output_type": "stream",
     "text": [
      "'data.frame':\t20 obs. of  3 variables:\n",
      " $ year  : int  1880 1881 1882 1883 1884 1885 1886 1887 1888 1889 ...\n",
      " $ sex   : Factor w/ 2 levels \"boy\",\"girl\": 2 2 1 2 2 1 1 2 2 2 ...\n",
      " $ births: int  112127 131663 101113 117340 121573 117309 101258 134776 138115 137849 ...\n"
     ]
    }
   ],
   "source": [
    "str(df)"
   ]
  },
  {
   "cell_type": "code",
   "execution_count": 14,
   "metadata": {},
   "outputs": [
    {
     "data": {
      "text/plain": [
       "      year        sex         births      \n",
       " Min.   :1880   boy :10   Min.   :101113  \n",
       " 1st Qu.:1885   girl:10   1st Qu.:110231  \n",
       " Median :1890             Median :123140  \n",
       " Mean   :1890             Mean   :121106  \n",
       " 3rd Qu.:1894             3rd Qu.:131792  \n",
       " Max.   :1899             Max.   :138115  "
      ]
     },
     "metadata": {},
     "output_type": "display_data"
    }
   ],
   "source": [
    "summary(df)"
   ]
  },
  {
   "cell_type": "code",
   "execution_count": 15,
   "metadata": {},
   "outputs": [
    {
     "data": {
      "text/html": [
       "<dl class=dl-horizontal>\n",
       "\t<dt>boy</dt>\n",
       "\t\t<dd>10</dd>\n",
       "\t<dt>girl</dt>\n",
       "\t\t<dd>10</dd>\n",
       "</dl>\n"
      ],
      "text/latex": [
       "\\begin{description*}\n",
       "\\item[boy] 10\n",
       "\\item[girl] 10\n",
       "\\end{description*}\n"
      ],
      "text/markdown": [
       "boy\n",
       ":   10girl\n",
       ":   10\n",
       "\n"
      ],
      "text/plain": [
       " boy girl \n",
       "  10   10 "
      ]
     },
     "metadata": {},
     "output_type": "display_data"
    }
   ],
   "source": [
    "summary(df$sex)"
   ]
  },
  {
   "cell_type": "code",
   "execution_count": 16,
   "metadata": {},
   "outputs": [
    {
     "data": {
      "text/html": [
       "121105.5"
      ],
      "text/latex": [
       "121105.5"
      ],
      "text/markdown": [
       "121105.5"
      ],
      "text/plain": [
       "[1] 121105.5"
      ]
     },
     "metadata": {},
     "output_type": "display_data"
    }
   ],
   "source": [
    "mean(df$births)"
   ]
  },
  {
   "cell_type": "code",
   "execution_count": 17,
   "metadata": {},
   "outputs": [
    {
     "data": {
      "text/html": [
       "<ol class=list-inline>\n",
       "\t<li>'year'</li>\n",
       "\t<li>'sex'</li>\n",
       "\t<li>'births'</li>\n",
       "</ol>\n"
      ],
      "text/latex": [
       "\\begin{enumerate*}\n",
       "\\item 'year'\n",
       "\\item 'sex'\n",
       "\\item 'births'\n",
       "\\end{enumerate*}\n"
      ],
      "text/markdown": [
       "1. 'year'\n",
       "2. 'sex'\n",
       "3. 'births'\n",
       "\n",
       "\n"
      ],
      "text/plain": [
       "[1] \"year\"   \"sex\"    \"births\""
      ]
     },
     "metadata": {},
     "output_type": "display_data"
    }
   ],
   "source": [
    "names(df)"
   ]
  },
  {
   "cell_type": "code",
   "execution_count": 18,
   "metadata": {},
   "outputs": [
    {
     "data": {
      "text/html": [
       "<ol class=list-inline>\n",
       "\t<li>'year'</li>\n",
       "\t<li>'sex'</li>\n",
       "\t<li>'births'</li>\n",
       "</ol>\n"
      ],
      "text/latex": [
       "\\begin{enumerate*}\n",
       "\\item 'year'\n",
       "\\item 'sex'\n",
       "\\item 'births'\n",
       "\\end{enumerate*}\n"
      ],
      "text/markdown": [
       "1. 'year'\n",
       "2. 'sex'\n",
       "3. 'births'\n",
       "\n",
       "\n"
      ],
      "text/plain": [
       "[1] \"year\"   \"sex\"    \"births\""
      ]
     },
     "metadata": {},
     "output_type": "display_data"
    }
   ],
   "source": [
    "colnames(df)"
   ]
  },
  {
   "cell_type": "code",
   "execution_count": 19,
   "metadata": {},
   "outputs": [
    {
     "data": {
      "text/html": [
       "<ol class=list-inline>\n",
       "\t<li>'1'</li>\n",
       "\t<li>'2'</li>\n",
       "\t<li>'3'</li>\n",
       "\t<li>'4'</li>\n",
       "\t<li>'5'</li>\n",
       "\t<li>'6'</li>\n",
       "\t<li>'7'</li>\n",
       "\t<li>'8'</li>\n",
       "\t<li>'9'</li>\n",
       "\t<li>'10'</li>\n",
       "\t<li>'11'</li>\n",
       "\t<li>'12'</li>\n",
       "\t<li>'13'</li>\n",
       "\t<li>'14'</li>\n",
       "\t<li>'15'</li>\n",
       "\t<li>'16'</li>\n",
       "\t<li>'17'</li>\n",
       "\t<li>'18'</li>\n",
       "\t<li>'19'</li>\n",
       "\t<li>'20'</li>\n",
       "</ol>\n"
      ],
      "text/latex": [
       "\\begin{enumerate*}\n",
       "\\item '1'\n",
       "\\item '2'\n",
       "\\item '3'\n",
       "\\item '4'\n",
       "\\item '5'\n",
       "\\item '6'\n",
       "\\item '7'\n",
       "\\item '8'\n",
       "\\item '9'\n",
       "\\item '10'\n",
       "\\item '11'\n",
       "\\item '12'\n",
       "\\item '13'\n",
       "\\item '14'\n",
       "\\item '15'\n",
       "\\item '16'\n",
       "\\item '17'\n",
       "\\item '18'\n",
       "\\item '19'\n",
       "\\item '20'\n",
       "\\end{enumerate*}\n"
      ],
      "text/markdown": [
       "1. '1'\n",
       "2. '2'\n",
       "3. '3'\n",
       "4. '4'\n",
       "5. '5'\n",
       "6. '6'\n",
       "7. '7'\n",
       "8. '8'\n",
       "9. '9'\n",
       "10. '10'\n",
       "11. '11'\n",
       "12. '12'\n",
       "13. '13'\n",
       "14. '14'\n",
       "15. '15'\n",
       "16. '16'\n",
       "17. '17'\n",
       "18. '18'\n",
       "19. '19'\n",
       "20. '20'\n",
       "\n",
       "\n"
      ],
      "text/plain": [
       " [1] \"1\"  \"2\"  \"3\"  \"4\"  \"5\"  \"6\"  \"7\"  \"8\"  \"9\"  \"10\" \"11\" \"12\" \"13\" \"14\" \"15\"\n",
       "[16] \"16\" \"17\" \"18\" \"19\" \"20\""
      ]
     },
     "metadata": {},
     "output_type": "display_data"
    }
   ],
   "source": [
    "rownames(df)"
   ]
  },
  {
   "cell_type": "code",
   "execution_count": 20,
   "metadata": {},
   "outputs": [
    {
     "data": {
      "text/html": [
       "<ol>\n",
       "\t<li><ol class=list-inline>\n",
       "\t<li>'1'</li>\n",
       "\t<li>'2'</li>\n",
       "\t<li>'3'</li>\n",
       "\t<li>'4'</li>\n",
       "\t<li>'5'</li>\n",
       "\t<li>'6'</li>\n",
       "\t<li>'7'</li>\n",
       "\t<li>'8'</li>\n",
       "\t<li>'9'</li>\n",
       "\t<li>'10'</li>\n",
       "\t<li>'11'</li>\n",
       "\t<li>'12'</li>\n",
       "\t<li>'13'</li>\n",
       "\t<li>'14'</li>\n",
       "\t<li>'15'</li>\n",
       "\t<li>'16'</li>\n",
       "\t<li>'17'</li>\n",
       "\t<li>'18'</li>\n",
       "\t<li>'19'</li>\n",
       "\t<li>'20'</li>\n",
       "</ol>\n",
       "</li>\n",
       "\t<li><ol class=list-inline>\n",
       "\t<li>'year'</li>\n",
       "\t<li>'sex'</li>\n",
       "\t<li>'births'</li>\n",
       "</ol>\n",
       "</li>\n",
       "</ol>\n"
      ],
      "text/latex": [
       "\\begin{enumerate}\n",
       "\\item \\begin{enumerate*}\n",
       "\\item '1'\n",
       "\\item '2'\n",
       "\\item '3'\n",
       "\\item '4'\n",
       "\\item '5'\n",
       "\\item '6'\n",
       "\\item '7'\n",
       "\\item '8'\n",
       "\\item '9'\n",
       "\\item '10'\n",
       "\\item '11'\n",
       "\\item '12'\n",
       "\\item '13'\n",
       "\\item '14'\n",
       "\\item '15'\n",
       "\\item '16'\n",
       "\\item '17'\n",
       "\\item '18'\n",
       "\\item '19'\n",
       "\\item '20'\n",
       "\\end{enumerate*}\n",
       "\n",
       "\\item \\begin{enumerate*}\n",
       "\\item 'year'\n",
       "\\item 'sex'\n",
       "\\item 'births'\n",
       "\\end{enumerate*}\n",
       "\n",
       "\\end{enumerate}\n"
      ],
      "text/markdown": [
       "1. 1. '1'\n",
       "2. '2'\n",
       "3. '3'\n",
       "4. '4'\n",
       "5. '5'\n",
       "6. '6'\n",
       "7. '7'\n",
       "8. '8'\n",
       "9. '9'\n",
       "10. '10'\n",
       "11. '11'\n",
       "12. '12'\n",
       "13. '13'\n",
       "14. '14'\n",
       "15. '15'\n",
       "16. '16'\n",
       "17. '17'\n",
       "18. '18'\n",
       "19. '19'\n",
       "20. '20'\n",
       "\n",
       "\n",
       "\n",
       "2. 1. 'year'\n",
       "2. 'sex'\n",
       "3. 'births'\n",
       "\n",
       "\n",
       "\n",
       "\n",
       "\n"
      ],
      "text/plain": [
       "[[1]]\n",
       " [1] \"1\"  \"2\"  \"3\"  \"4\"  \"5\"  \"6\"  \"7\"  \"8\"  \"9\"  \"10\" \"11\" \"12\" \"13\" \"14\" \"15\"\n",
       "[16] \"16\" \"17\" \"18\" \"19\" \"20\"\n",
       "\n",
       "[[2]]\n",
       "[1] \"year\"   \"sex\"    \"births\"\n"
      ]
     },
     "metadata": {},
     "output_type": "display_data"
    }
   ],
   "source": [
    "dimnames(df)"
   ]
  },
  {
   "cell_type": "code",
   "execution_count": 21,
   "metadata": {},
   "outputs": [
    {
     "data": {
      "text/html": [
       "<ol class=list-inline>\n",
       "\t<li>20</li>\n",
       "\t<li>3</li>\n",
       "</ol>\n"
      ],
      "text/latex": [
       "\\begin{enumerate*}\n",
       "\\item 20\n",
       "\\item 3\n",
       "\\end{enumerate*}\n"
      ],
      "text/markdown": [
       "1. 20\n",
       "2. 3\n",
       "\n",
       "\n"
      ],
      "text/plain": [
       "[1] 20  3"
      ]
     },
     "metadata": {},
     "output_type": "display_data"
    }
   ],
   "source": [
    "dim(df)"
   ]
  },
  {
   "cell_type": "code",
   "execution_count": 22,
   "metadata": {},
   "outputs": [
    {
     "data": {
      "text/html": [
       "<table>\n",
       "<thead><tr><th scope=col>year</th><th scope=col>sex</th><th scope=col>births</th></tr></thead>\n",
       "<tbody>\n",
       "\t<tr><td>1880  </td><td>girl  </td><td>112127</td></tr>\n",
       "\t<tr><td>1881  </td><td>girl  </td><td>131663</td></tr>\n",
       "\t<tr><td>1882  </td><td>boy   </td><td>101113</td></tr>\n",
       "\t<tr><td>1883  </td><td>girl  </td><td>117340</td></tr>\n",
       "\t<tr><td>1884  </td><td>girl  </td><td>121573</td></tr>\n",
       "\t<tr><td>1885  </td><td>boy   </td><td>117309</td></tr>\n",
       "</tbody>\n",
       "</table>\n"
      ],
      "text/latex": [
       "\\begin{tabular}{r|lll}\n",
       " year & sex & births\\\\\n",
       "\\hline\n",
       "\t 1880   & girl   & 112127\\\\\n",
       "\t 1881   & girl   & 131663\\\\\n",
       "\t 1882   & boy    & 101113\\\\\n",
       "\t 1883   & girl   & 117340\\\\\n",
       "\t 1884   & girl   & 121573\\\\\n",
       "\t 1885   & boy    & 117309\\\\\n",
       "\\end{tabular}\n"
      ],
      "text/markdown": [
       "\n",
       "| year | sex | births |\n",
       "|---|---|---|\n",
       "| 1880   | girl   | 112127 |\n",
       "| 1881   | girl   | 131663 |\n",
       "| 1882   | boy    | 101113 |\n",
       "| 1883   | girl   | 117340 |\n",
       "| 1884   | girl   | 121573 |\n",
       "| 1885   | boy    | 117309 |\n",
       "\n"
      ],
      "text/plain": [
       "  year sex  births\n",
       "1 1880 girl 112127\n",
       "2 1881 girl 131663\n",
       "3 1882 boy  101113\n",
       "4 1883 girl 117340\n",
       "5 1884 girl 121573\n",
       "6 1885 boy  117309"
      ]
     },
     "metadata": {},
     "output_type": "display_data"
    }
   ],
   "source": [
    "head(df)"
   ]
  },
  {
   "cell_type": "code",
   "execution_count": 26,
   "metadata": {},
   "outputs": [
    {
     "data": {
      "text/html": [
       "<table>\n",
       "<thead><tr><th></th><th scope=col>year</th><th scope=col>sex</th><th scope=col>births</th></tr></thead>\n",
       "<tbody>\n",
       "\t<tr><th scope=row>11</th><td>1890  </td><td>boy   </td><td>127668</td></tr>\n",
       "\t<tr><th scope=row>12</th><td>1891  </td><td>boy   </td><td>124707</td></tr>\n",
       "\t<tr><th scope=row>13</th><td>1892  </td><td>girl  </td><td>137115</td></tr>\n",
       "\t<tr><th scope=row>14</th><td>1893  </td><td>boy   </td><td>132180</td></tr>\n",
       "\t<tr><th scope=row>15</th><td>1894  </td><td>boy   </td><td>104446</td></tr>\n",
       "</tbody>\n",
       "</table>\n"
      ],
      "text/latex": [
       "\\begin{tabular}{r|lll}\n",
       "  & year & sex & births\\\\\n",
       "\\hline\n",
       "\t11 & 1890   & boy    & 127668\\\\\n",
       "\t12 & 1891   & boy    & 124707\\\\\n",
       "\t13 & 1892   & girl   & 137115\\\\\n",
       "\t14 & 1893   & boy    & 132180\\\\\n",
       "\t15 & 1894   & boy    & 104446\\\\\n",
       "\\end{tabular}\n"
      ],
      "text/markdown": [
       "\n",
       "| <!--/--> | year | sex | births |\n",
       "|---|---|---|---|\n",
       "| 11 | 1890   | boy    | 127668 |\n",
       "| 12 | 1891   | boy    | 124707 |\n",
       "| 13 | 1892   | girl   | 137115 |\n",
       "| 14 | 1893   | boy    | 132180 |\n",
       "| 15 | 1894   | boy    | 104446 |\n",
       "\n"
      ],
      "text/plain": [
       "   year sex  births\n",
       "11 1890 boy  127668\n",
       "12 1891 boy  124707\n",
       "13 1892 girl 137115\n",
       "14 1893 boy  132180\n",
       "15 1894 boy  104446"
      ]
     },
     "metadata": {},
     "output_type": "display_data"
    }
   ],
   "source": [
    "tail(head(df,15),5)"
   ]
  },
  {
   "cell_type": "code",
   "execution_count": 28,
   "metadata": {},
   "outputs": [
    {
     "data": {
      "text/html": [
       "138115"
      ],
      "text/latex": [
       "138115"
      ],
      "text/markdown": [
       "138115"
      ],
      "text/plain": [
       "[1] 138115"
      ]
     },
     "metadata": {},
     "output_type": "display_data"
    }
   ],
   "source": [
    "max(df$births)"
   ]
  },
  {
   "cell_type": "code",
   "execution_count": 29,
   "metadata": {},
   "outputs": [
    {
     "data": {
      "text/html": [
       "101113"
      ],
      "text/latex": [
       "101113"
      ],
      "text/markdown": [
       "101113"
      ],
      "text/plain": [
       "[1] 101113"
      ]
     },
     "metadata": {},
     "output_type": "display_data"
    }
   ],
   "source": [
    "min(df$births)"
   ]
  },
  {
   "cell_type": "code",
   "execution_count": 30,
   "metadata": {},
   "outputs": [
    {
     "data": {
      "text/html": [
       "121105.5"
      ],
      "text/latex": [
       "121105.5"
      ],
      "text/markdown": [
       "121105.5"
      ],
      "text/plain": [
       "[1] 121105.5"
      ]
     },
     "metadata": {},
     "output_type": "display_data"
    }
   ],
   "source": [
    "mean(df$births)"
   ]
  },
  {
   "cell_type": "code",
   "execution_count": 31,
   "metadata": {},
   "outputs": [
    {
     "data": {
      "text/html": [
       "123140"
      ],
      "text/latex": [
       "123140"
      ],
      "text/markdown": [
       "123140"
      ],
      "text/plain": [
       "[1] 123140"
      ]
     },
     "metadata": {},
     "output_type": "display_data"
    }
   ],
   "source": [
    "median(df$births)"
   ]
  },
  {
   "cell_type": "code",
   "execution_count": 33,
   "metadata": {},
   "outputs": [
    {
     "data": {
      "text/html": [
       "13155.2387903671"
      ],
      "text/latex": [
       "13155.2387903671"
      ],
      "text/markdown": [
       "13155.2387903671"
      ],
      "text/plain": [
       "[1] 13155.24"
      ]
     },
     "metadata": {},
     "output_type": "display_data"
    }
   ],
   "source": [
    "sd(df$births)"
   ]
  },
  {
   "cell_type": "code",
   "execution_count": 34,
   "metadata": {},
   "outputs": [
    {
     "data": {
      "text/html": [
       "173060307.631579"
      ],
      "text/latex": [
       "173060307.631579"
      ],
      "text/markdown": [
       "173060307.631579"
      ],
      "text/plain": [
       "[1] 173060308"
      ]
     },
     "metadata": {},
     "output_type": "display_data"
    }
   ],
   "source": [
    "var(df$births)"
   ]
  },
  {
   "cell_type": "code",
   "execution_count": 35,
   "metadata": {},
   "outputs": [
    {
     "data": {
      "text/html": [
       "<dl class=dl-horizontal>\n",
       "\t<dt>0%</dt>\n",
       "\t\t<dd>101113</dd>\n",
       "\t<dt>25%</dt>\n",
       "\t\t<dd>110231.25</dd>\n",
       "\t<dt>50%</dt>\n",
       "\t\t<dd>123140</dd>\n",
       "\t<dt>75%</dt>\n",
       "\t\t<dd>131792.25</dd>\n",
       "\t<dt>100%</dt>\n",
       "\t\t<dd>138115</dd>\n",
       "</dl>\n"
      ],
      "text/latex": [
       "\\begin{description*}\n",
       "\\item[0\\textbackslash{}\\%] 101113\n",
       "\\item[25\\textbackslash{}\\%] 110231.25\n",
       "\\item[50\\textbackslash{}\\%] 123140\n",
       "\\item[75\\textbackslash{}\\%] 131792.25\n",
       "\\item[100\\textbackslash{}\\%] 138115\n",
       "\\end{description*}\n"
      ],
      "text/markdown": [
       "0%\n",
       ":   10111325%\n",
       ":   110231.2550%\n",
       ":   12314075%\n",
       ":   131792.25100%\n",
       ":   138115\n",
       "\n"
      ],
      "text/plain": [
       "      0%      25%      50%      75%     100% \n",
       "101113.0 110231.2 123140.0 131792.2 138115.0 "
      ]
     },
     "metadata": {},
     "output_type": "display_data"
    }
   ],
   "source": [
    "quantile(df$births)"
   ]
  },
  {
   "cell_type": "code",
   "execution_count": 36,
   "metadata": {},
   "outputs": [
    {
     "data": {
      "text/html": [
       "123140"
      ],
      "text/latex": [
       "123140"
      ],
      "text/markdown": [
       "123140"
      ],
      "text/plain": [
       "[1] 123140"
      ]
     },
     "metadata": {},
     "output_type": "display_data"
    }
   ],
   "source": [
    "median(df$births)"
   ]
  },
  {
   "cell_type": "code",
   "execution_count": 37,
   "metadata": {},
   "outputs": [
    {
     "data": {
      "text/plain": [
       "   Min. 1st Qu.  Median    Mean 3rd Qu.    Max. \n",
       " 101113  110231  123140  121106  131792  138115 "
      ]
     },
     "metadata": {},
     "output_type": "display_data"
    }
   ],
   "source": [
    "summary(df$births)"
   ]
  },
  {
   "cell_type": "code",
   "execution_count": 38,
   "metadata": {},
   "outputs": [
    {
     "data": {
      "text/html": [
       "20"
      ],
      "text/latex": [
       "20"
      ],
      "text/markdown": [
       "20"
      ],
      "text/plain": [
       "[1] 20"
      ]
     },
     "metadata": {},
     "output_type": "display_data"
    }
   ],
   "source": [
    "length(df$births)"
   ]
  },
  {
   "cell_type": "code",
   "execution_count": 39,
   "metadata": {},
   "outputs": [
    {
     "data": {
      "text/html": [
       "<ol class=list-inline>\n",
       "\t<li>11.6273874364372</li>\n",
       "\t<li>11.7880009067261</li>\n",
       "\t<li>11.523993982301</li>\n",
       "\t<li>11.6728309824799</li>\n",
       "\t<li>11.7082701843861</li>\n",
       "\t<li>11.672566758041</li>\n",
       "\t<li>11.5254269941932</li>\n",
       "\t<li>11.811369420066</li>\n",
       "\t<li>11.8358419504432</li>\n",
       "\t<li>11.8339141621638</li>\n",
       "\t<li>11.7571884233044</li>\n",
       "\t<li>11.733722264816</li>\n",
       "\t<li>11.828575268756</li>\n",
       "\t<li>11.7919199090244</li>\n",
       "\t<li>11.5564254704161</li>\n",
       "\t<li>11.7753435741419</li>\n",
       "\t<li>11.6685607565017</li>\n",
       "\t<li>11.7709572809987</li>\n",
       "\t<li>11.5573633144008</li>\n",
       "\t<li>11.5331397722205</li>\n",
       "</ol>\n"
      ],
      "text/latex": [
       "\\begin{enumerate*}\n",
       "\\item 11.6273874364372\n",
       "\\item 11.7880009067261\n",
       "\\item 11.523993982301\n",
       "\\item 11.6728309824799\n",
       "\\item 11.7082701843861\n",
       "\\item 11.672566758041\n",
       "\\item 11.5254269941932\n",
       "\\item 11.811369420066\n",
       "\\item 11.8358419504432\n",
       "\\item 11.8339141621638\n",
       "\\item 11.7571884233044\n",
       "\\item 11.733722264816\n",
       "\\item 11.828575268756\n",
       "\\item 11.7919199090244\n",
       "\\item 11.5564254704161\n",
       "\\item 11.7753435741419\n",
       "\\item 11.6685607565017\n",
       "\\item 11.7709572809987\n",
       "\\item 11.5573633144008\n",
       "\\item 11.5331397722205\n",
       "\\end{enumerate*}\n"
      ],
      "text/markdown": [
       "1. 11.6273874364372\n",
       "2. 11.7880009067261\n",
       "3. 11.523993982301\n",
       "4. 11.6728309824799\n",
       "5. 11.7082701843861\n",
       "6. 11.672566758041\n",
       "7. 11.5254269941932\n",
       "8. 11.811369420066\n",
       "9. 11.8358419504432\n",
       "10. 11.8339141621638\n",
       "11. 11.7571884233044\n",
       "12. 11.733722264816\n",
       "13. 11.828575268756\n",
       "14. 11.7919199090244\n",
       "15. 11.5564254704161\n",
       "16. 11.7753435741419\n",
       "17. 11.6685607565017\n",
       "18. 11.7709572809987\n",
       "19. 11.5573633144008\n",
       "20. 11.5331397722205\n",
       "\n",
       "\n"
      ],
      "text/plain": [
       " [1] 11.62739 11.78800 11.52399 11.67283 11.70827 11.67257 11.52543 11.81137\n",
       " [9] 11.83584 11.83391 11.75719 11.73372 11.82858 11.79192 11.55643 11.77534\n",
       "[17] 11.66856 11.77096 11.55736 11.53314"
      ]
     },
     "metadata": {},
     "output_type": "display_data"
    }
   ],
   "source": [
    "log(df$births)"
   ]
  },
  {
   "cell_type": "code",
   "execution_count": 40,
   "metadata": {},
   "outputs": [
    {
     "data": {
      "text/html": [
       "<ol class=list-inline>\n",
       "\t<li>334.853699397214</li>\n",
       "\t<li>362.853965115444</li>\n",
       "\t<li>317.982703932148</li>\n",
       "\t<li>342.549266529648</li>\n",
       "\t<li>348.673199428921</li>\n",
       "\t<li>342.504014575012</li>\n",
       "\t<li>318.210622072865</li>\n",
       "\t<li>367.118509476164</li>\n",
       "\t<li>371.638264983572</li>\n",
       "\t<li>371.280217625448</li>\n",
       "\t<li>357.306591039124</li>\n",
       "\t<li>353.138782916858</li>\n",
       "\t<li>370.290426557317</li>\n",
       "\t<li>363.565674947457</li>\n",
       "\t<li>323.181063801702</li>\n",
       "\t<li>360.564834669162</li>\n",
       "\t<li>341.818665376834</li>\n",
       "\t<li>359.77492964352</li>\n",
       "\t<li>323.33264604738</li>\n",
       "\t<li>319.440135236636</li>\n",
       "</ol>\n"
      ],
      "text/latex": [
       "\\begin{enumerate*}\n",
       "\\item 334.853699397214\n",
       "\\item 362.853965115444\n",
       "\\item 317.982703932148\n",
       "\\item 342.549266529648\n",
       "\\item 348.673199428921\n",
       "\\item 342.504014575012\n",
       "\\item 318.210622072865\n",
       "\\item 367.118509476164\n",
       "\\item 371.638264983572\n",
       "\\item 371.280217625448\n",
       "\\item 357.306591039124\n",
       "\\item 353.138782916858\n",
       "\\item 370.290426557317\n",
       "\\item 363.565674947457\n",
       "\\item 323.181063801702\n",
       "\\item 360.564834669162\n",
       "\\item 341.818665376834\n",
       "\\item 359.77492964352\n",
       "\\item 323.33264604738\n",
       "\\item 319.440135236636\n",
       "\\end{enumerate*}\n"
      ],
      "text/markdown": [
       "1. 334.853699397214\n",
       "2. 362.853965115444\n",
       "3. 317.982703932148\n",
       "4. 342.549266529648\n",
       "5. 348.673199428921\n",
       "6. 342.504014575012\n",
       "7. 318.210622072865\n",
       "8. 367.118509476164\n",
       "9. 371.638264983572\n",
       "10. 371.280217625448\n",
       "11. 357.306591039124\n",
       "12. 353.138782916858\n",
       "13. 370.290426557317\n",
       "14. 363.565674947457\n",
       "15. 323.181063801702\n",
       "16. 360.564834669162\n",
       "17. 341.818665376834\n",
       "18. 359.77492964352\n",
       "19. 323.33264604738\n",
       "20. 319.440135236636\n",
       "\n",
       "\n"
      ],
      "text/plain": [
       " [1] 334.8537 362.8540 317.9827 342.5493 348.6732 342.5040 318.2106 367.1185\n",
       " [9] 371.6383 371.2802 357.3066 353.1388 370.2904 363.5657 323.1811 360.5648\n",
       "[17] 341.8187 359.7749 323.3326 319.4401"
      ]
     },
     "metadata": {},
     "output_type": "display_data"
    }
   ],
   "source": [
    "sqrt(df$births)"
   ]
  },
  {
   "cell_type": "code",
   "execution_count": 41,
   "metadata": {},
   "outputs": [
    {
     "data": {
      "text/html": [
       "<ol class=list-inline>\n",
       "\t<li>-0.404654264326395</li>\n",
       "\t<li>-0.911991068402502</li>\n",
       "\t<li>-0.744939541826459</li>\n",
       "\t<li>0.998409495890604</li>\n",
       "\t<li>-0.345253253154279</li>\n",
       "\t<li>0.936066289372875</li>\n",
       "\t<li>-0.970472532837982</li>\n",
       "\t<li>0.994558949060008</li>\n",
       "\t<li>-0.917667608457379</li>\n",
       "\t<li>0.809938274580562</li>\n",
       "\t<li>-0.0422440074496704</li>\n",
       "\t<li>-0.995845930734354</li>\n",
       "\t<li>-0.187517373578107</li>\n",
       "\t<li>0.589704468880539</li>\n",
       "\t<li>0.573390896430067</li>\n",
       "\t<li>0.999117591266545</li>\n",
       "\t<li>-0.85607147021839</li>\n",
       "\t<li>-0.946134048716783</li>\n",
       "\t<li>-0.939533827786989</li>\n",
       "\t<li>0.0709216605011549</li>\n",
       "</ol>\n"
      ],
      "text/latex": [
       "\\begin{enumerate*}\n",
       "\\item -0.404654264326395\n",
       "\\item -0.911991068402502\n",
       "\\item -0.744939541826459\n",
       "\\item 0.998409495890604\n",
       "\\item -0.345253253154279\n",
       "\\item 0.936066289372875\n",
       "\\item -0.970472532837982\n",
       "\\item 0.994558949060008\n",
       "\\item -0.917667608457379\n",
       "\\item 0.809938274580562\n",
       "\\item -0.0422440074496704\n",
       "\\item -0.995845930734354\n",
       "\\item -0.187517373578107\n",
       "\\item 0.589704468880539\n",
       "\\item 0.573390896430067\n",
       "\\item 0.999117591266545\n",
       "\\item -0.85607147021839\n",
       "\\item -0.946134048716783\n",
       "\\item -0.939533827786989\n",
       "\\item 0.0709216605011549\n",
       "\\end{enumerate*}\n"
      ],
      "text/markdown": [
       "1. -0.404654264326395\n",
       "2. -0.911991068402502\n",
       "3. -0.744939541826459\n",
       "4. 0.998409495890604\n",
       "5. -0.345253253154279\n",
       "6. 0.936066289372875\n",
       "7. -0.970472532837982\n",
       "8. 0.994558949060008\n",
       "9. -0.917667608457379\n",
       "10. 0.809938274580562\n",
       "11. -0.0422440074496704\n",
       "12. -0.995845930734354\n",
       "13. -0.187517373578107\n",
       "14. 0.589704468880539\n",
       "15. 0.573390896430067\n",
       "16. 0.999117591266545\n",
       "17. -0.85607147021839\n",
       "18. -0.946134048716783\n",
       "19. -0.939533827786989\n",
       "20. 0.0709216605011549\n",
       "\n",
       "\n"
      ],
      "text/plain": [
       " [1] -0.40465426 -0.91199107 -0.74493954  0.99840950 -0.34525325  0.93606629\n",
       " [7] -0.97047253  0.99455895 -0.91766761  0.80993827 -0.04224401 -0.99584593\n",
       "[13] -0.18751737  0.58970447  0.57339090  0.99911759 -0.85607147 -0.94613405\n",
       "[19] -0.93953383  0.07092166"
      ]
     },
     "metadata": {},
     "output_type": "display_data"
    }
   ],
   "source": [
    "sin(df$births)"
   ]
  },
  {
   "cell_type": "code",
   "execution_count": 42,
   "metadata": {},
   "outputs": [
    {
     "data": {
      "text/html": [
       "<ol class=list-inline>\n",
       "\t<li>101113</li>\n",
       "\t<li>108335.5</li>\n",
       "\t<li>123140</li>\n",
       "\t<li>131921.5</li>\n",
       "\t<li>138115</li>\n",
       "</ol>\n"
      ],
      "text/latex": [
       "\\begin{enumerate*}\n",
       "\\item 101113\n",
       "\\item 108335.5\n",
       "\\item 123140\n",
       "\\item 131921.5\n",
       "\\item 138115\n",
       "\\end{enumerate*}\n"
      ],
      "text/markdown": [
       "1. 101113\n",
       "2. 108335.5\n",
       "3. 123140\n",
       "4. 131921.5\n",
       "5. 138115\n",
       "\n",
       "\n"
      ],
      "text/plain": [
       "[1] 101113.0 108335.5 123140.0 131921.5 138115.0"
      ]
     },
     "metadata": {},
     "output_type": "display_data"
    }
   ],
   "source": [
    "fivenum(df$births)"
   ]
  },
  {
   "cell_type": "code",
   "execution_count": 43,
   "metadata": {},
   "outputs": [
    {
     "data": {
      "text/html": [
       "<ol class=list-inline>\n",
       "\t<li>112127</li>\n",
       "\t<li>131663</li>\n",
       "\t<li>101113</li>\n",
       "\t<li>117340</li>\n",
       "\t<li>121573</li>\n",
       "\t<li>117309</li>\n",
       "\t<li>101258</li>\n",
       "\t<li>134776</li>\n",
       "\t<li>138115</li>\n",
       "\t<li>137849</li>\n",
       "\t<li>127668</li>\n",
       "\t<li>124707</li>\n",
       "\t<li>137115</li>\n",
       "\t<li>132180</li>\n",
       "\t<li>104446</li>\n",
       "\t<li>130007</li>\n",
       "\t<li>116840</li>\n",
       "\t<li>129438</li>\n",
       "\t<li>104544</li>\n",
       "\t<li>102042</li>\n",
       "</ol>\n"
      ],
      "text/latex": [
       "\\begin{enumerate*}\n",
       "\\item 112127\n",
       "\\item 131663\n",
       "\\item 101113\n",
       "\\item 117340\n",
       "\\item 121573\n",
       "\\item 117309\n",
       "\\item 101258\n",
       "\\item 134776\n",
       "\\item 138115\n",
       "\\item 137849\n",
       "\\item 127668\n",
       "\\item 124707\n",
       "\\item 137115\n",
       "\\item 132180\n",
       "\\item 104446\n",
       "\\item 130007\n",
       "\\item 116840\n",
       "\\item 129438\n",
       "\\item 104544\n",
       "\\item 102042\n",
       "\\end{enumerate*}\n"
      ],
      "text/markdown": [
       "1. 112127\n",
       "2. 131663\n",
       "3. 101113\n",
       "4. 117340\n",
       "5. 121573\n",
       "6. 117309\n",
       "7. 101258\n",
       "8. 134776\n",
       "9. 138115\n",
       "10. 137849\n",
       "11. 127668\n",
       "12. 124707\n",
       "13. 137115\n",
       "14. 132180\n",
       "15. 104446\n",
       "16. 130007\n",
       "17. 116840\n",
       "18. 129438\n",
       "19. 104544\n",
       "20. 102042\n",
       "\n",
       "\n"
      ],
      "text/plain": [
       " [1] 112127 131663 101113 117340 121573 117309 101258 134776 138115 137849\n",
       "[11] 127668 124707 137115 132180 104446 130007 116840 129438 104544 102042"
      ]
     },
     "metadata": {},
     "output_type": "display_data"
    }
   ],
   "source": [
    "df$births"
   ]
  },
  {
   "cell_type": "code",
   "execution_count": 44,
   "metadata": {},
   "outputs": [
    {
     "data": {
      "text/html": [
       "<ol class=list-inline>\n",
       "\t<li>112127</li>\n",
       "\t<li>131663</li>\n",
       "\t<li>131663</li>\n",
       "\t<li>131663</li>\n",
       "\t<li>131663</li>\n",
       "\t<li>131663</li>\n",
       "\t<li>131663</li>\n",
       "\t<li>134776</li>\n",
       "\t<li>138115</li>\n",
       "\t<li>138115</li>\n",
       "\t<li>138115</li>\n",
       "\t<li>138115</li>\n",
       "\t<li>138115</li>\n",
       "\t<li>138115</li>\n",
       "\t<li>138115</li>\n",
       "\t<li>138115</li>\n",
       "\t<li>138115</li>\n",
       "\t<li>138115</li>\n",
       "\t<li>138115</li>\n",
       "\t<li>138115</li>\n",
       "</ol>\n"
      ],
      "text/latex": [
       "\\begin{enumerate*}\n",
       "\\item 112127\n",
       "\\item 131663\n",
       "\\item 131663\n",
       "\\item 131663\n",
       "\\item 131663\n",
       "\\item 131663\n",
       "\\item 131663\n",
       "\\item 134776\n",
       "\\item 138115\n",
       "\\item 138115\n",
       "\\item 138115\n",
       "\\item 138115\n",
       "\\item 138115\n",
       "\\item 138115\n",
       "\\item 138115\n",
       "\\item 138115\n",
       "\\item 138115\n",
       "\\item 138115\n",
       "\\item 138115\n",
       "\\item 138115\n",
       "\\end{enumerate*}\n"
      ],
      "text/markdown": [
       "1. 112127\n",
       "2. 131663\n",
       "3. 131663\n",
       "4. 131663\n",
       "5. 131663\n",
       "6. 131663\n",
       "7. 131663\n",
       "8. 134776\n",
       "9. 138115\n",
       "10. 138115\n",
       "11. 138115\n",
       "12. 138115\n",
       "13. 138115\n",
       "14. 138115\n",
       "15. 138115\n",
       "16. 138115\n",
       "17. 138115\n",
       "18. 138115\n",
       "19. 138115\n",
       "20. 138115\n",
       "\n",
       "\n"
      ],
      "text/plain": [
       " [1] 112127 131663 131663 131663 131663 131663 131663 134776 138115 138115\n",
       "[11] 138115 138115 138115 138115 138115 138115 138115 138115 138115 138115"
      ]
     },
     "metadata": {},
     "output_type": "display_data"
    }
   ],
   "source": [
    "cummax(df$births)"
   ]
  },
  {
   "cell_type": "code",
   "execution_count": 46,
   "metadata": {},
   "outputs": [
    {
     "data": {
      "text/html": [
       "<ol class=list-inline>\n",
       "\t<li>1</li>\n",
       "\t<li>2</li>\n",
       "\t<li>3</li>\n",
       "\t<li>4</li>\n",
       "\t<li>5</li>\n",
       "\t<li>6</li>\n",
       "\t<li>7</li>\n",
       "\t<li>8</li>\n",
       "\t<li>9</li>\n",
       "\t<li>10</li>\n",
       "</ol>\n"
      ],
      "text/latex": [
       "\\begin{enumerate*}\n",
       "\\item 1\n",
       "\\item 2\n",
       "\\item 3\n",
       "\\item 4\n",
       "\\item 5\n",
       "\\item 6\n",
       "\\item 7\n",
       "\\item 8\n",
       "\\item 9\n",
       "\\item 10\n",
       "\\end{enumerate*}\n"
      ],
      "text/markdown": [
       "1. 1\n",
       "2. 2\n",
       "3. 3\n",
       "4. 4\n",
       "5. 5\n",
       "6. 6\n",
       "7. 7\n",
       "8. 8\n",
       "9. 9\n",
       "10. 10\n",
       "\n",
       "\n"
      ],
      "text/plain": [
       " [1]  1  2  3  4  5  6  7  8  9 10"
      ]
     },
     "metadata": {},
     "output_type": "display_data"
    }
   ],
   "source": [
    "1:10"
   ]
  },
  {
   "cell_type": "code",
   "execution_count": 45,
   "metadata": {},
   "outputs": [
    {
     "data": {
      "text/html": [
       "<ol class=list-inline>\n",
       "\t<li>1</li>\n",
       "\t<li>3</li>\n",
       "\t<li>6</li>\n",
       "\t<li>10</li>\n",
       "\t<li>15</li>\n",
       "\t<li>21</li>\n",
       "\t<li>28</li>\n",
       "\t<li>36</li>\n",
       "\t<li>45</li>\n",
       "\t<li>55</li>\n",
       "</ol>\n"
      ],
      "text/latex": [
       "\\begin{enumerate*}\n",
       "\\item 1\n",
       "\\item 3\n",
       "\\item 6\n",
       "\\item 10\n",
       "\\item 15\n",
       "\\item 21\n",
       "\\item 28\n",
       "\\item 36\n",
       "\\item 45\n",
       "\\item 55\n",
       "\\end{enumerate*}\n"
      ],
      "text/markdown": [
       "1. 1\n",
       "2. 3\n",
       "3. 6\n",
       "4. 10\n",
       "5. 15\n",
       "6. 21\n",
       "7. 28\n",
       "8. 36\n",
       "9. 45\n",
       "10. 55\n",
       "\n",
       "\n"
      ],
      "text/plain": [
       " [1]  1  3  6 10 15 21 28 36 45 55"
      ]
     },
     "metadata": {},
     "output_type": "display_data"
    }
   ],
   "source": [
    "cumsum(1:10)"
   ]
  },
  {
   "cell_type": "code",
   "execution_count": 47,
   "metadata": {},
   "outputs": [
    {
     "data": {
      "text/html": [
       "<ol class=list-inline>\n",
       "\t<li>1</li>\n",
       "\t<li>2</li>\n",
       "\t<li>6</li>\n",
       "\t<li>24</li>\n",
       "\t<li>120</li>\n",
       "\t<li>720</li>\n",
       "\t<li>5040</li>\n",
       "\t<li>40320</li>\n",
       "\t<li>362880</li>\n",
       "\t<li>3628800</li>\n",
       "</ol>\n"
      ],
      "text/latex": [
       "\\begin{enumerate*}\n",
       "\\item 1\n",
       "\\item 2\n",
       "\\item 6\n",
       "\\item 24\n",
       "\\item 120\n",
       "\\item 720\n",
       "\\item 5040\n",
       "\\item 40320\n",
       "\\item 362880\n",
       "\\item 3628800\n",
       "\\end{enumerate*}\n"
      ],
      "text/markdown": [
       "1. 1\n",
       "2. 2\n",
       "3. 6\n",
       "4. 24\n",
       "5. 120\n",
       "6. 720\n",
       "7. 5040\n",
       "8. 40320\n",
       "9. 362880\n",
       "10. 3628800\n",
       "\n",
       "\n"
      ],
      "text/plain": [
       " [1]       1       2       6      24     120     720    5040   40320  362880\n",
       "[10] 3628800"
      ]
     },
     "metadata": {},
     "output_type": "display_data"
    }
   ],
   "source": [
    "cumprod(1:10)"
   ]
  },
  {
   "cell_type": "code",
   "execution_count": 49,
   "metadata": {},
   "outputs": [
    {
     "data": {
      "text/html": [
       "<ol class=list-inline>\n",
       "\t<li>1</li>\n",
       "\t<li>2</li>\n",
       "\t<li>3</li>\n",
       "\t<li>4</li>\n",
       "\t<li>5</li>\n",
       "\t<li>6</li>\n",
       "\t<li>7</li>\n",
       "\t<li>8</li>\n",
       "\t<li>9</li>\n",
       "\t<li>10</li>\n",
       "</ol>\n"
      ],
      "text/latex": [
       "\\begin{enumerate*}\n",
       "\\item 1\n",
       "\\item 2\n",
       "\\item 3\n",
       "\\item 4\n",
       "\\item 5\n",
       "\\item 6\n",
       "\\item 7\n",
       "\\item 8\n",
       "\\item 9\n",
       "\\item 10\n",
       "\\end{enumerate*}\n"
      ],
      "text/markdown": [
       "1. 1\n",
       "2. 2\n",
       "3. 3\n",
       "4. 4\n",
       "5. 5\n",
       "6. 6\n",
       "7. 7\n",
       "8. 8\n",
       "9. 9\n",
       "10. 10\n",
       "\n",
       "\n"
      ],
      "text/plain": [
       " [1]  1  2  3  4  5  6  7  8  9 10"
      ]
     },
     "metadata": {},
     "output_type": "display_data"
    }
   ],
   "source": [
    "1:10"
   ]
  },
  {
   "cell_type": "code",
   "execution_count": 48,
   "metadata": {},
   "outputs": [
    {
     "data": {
      "text/html": [
       "<ol class=list-inline>\n",
       "\t<li>1</li>\n",
       "\t<li>1</li>\n",
       "\t<li>1</li>\n",
       "\t<li>1</li>\n",
       "\t<li>1</li>\n",
       "\t<li>1</li>\n",
       "\t<li>1</li>\n",
       "\t<li>1</li>\n",
       "\t<li>1</li>\n",
       "\t<li>1</li>\n",
       "</ol>\n"
      ],
      "text/latex": [
       "\\begin{enumerate*}\n",
       "\\item 1\n",
       "\\item 1\n",
       "\\item 1\n",
       "\\item 1\n",
       "\\item 1\n",
       "\\item 1\n",
       "\\item 1\n",
       "\\item 1\n",
       "\\item 1\n",
       "\\item 1\n",
       "\\end{enumerate*}\n"
      ],
      "text/markdown": [
       "1. 1\n",
       "2. 1\n",
       "3. 1\n",
       "4. 1\n",
       "5. 1\n",
       "6. 1\n",
       "7. 1\n",
       "8. 1\n",
       "9. 1\n",
       "10. 1\n",
       "\n",
       "\n"
      ],
      "text/plain": [
       " [1] 1 1 1 1 1 1 1 1 1 1"
      ]
     },
     "metadata": {},
     "output_type": "display_data"
    }
   ],
   "source": [
    "cummin(1:10)"
   ]
  },
  {
   "cell_type": "code",
   "execution_count": 50,
   "metadata": {},
   "outputs": [
    {
     "data": {
      "text/html": [
       "<ol class=list-inline>\n",
       "\t<li>8</li>\n",
       "\t<li>4</li>\n",
       "\t<li>10</li>\n",
       "\t<li>6</li>\n",
       "\t<li>9</li>\n",
       "\t<li>3</li>\n",
       "\t<li>1</li>\n",
       "\t<li>2</li>\n",
       "\t<li>5</li>\n",
       "\t<li>7</li>\n",
       "</ol>\n"
      ],
      "text/latex": [
       "\\begin{enumerate*}\n",
       "\\item 8\n",
       "\\item 4\n",
       "\\item 10\n",
       "\\item 6\n",
       "\\item 9\n",
       "\\item 3\n",
       "\\item 1\n",
       "\\item 2\n",
       "\\item 5\n",
       "\\item 7\n",
       "\\end{enumerate*}\n"
      ],
      "text/markdown": [
       "1. 8\n",
       "2. 4\n",
       "3. 10\n",
       "4. 6\n",
       "5. 9\n",
       "6. 3\n",
       "7. 1\n",
       "8. 2\n",
       "9. 5\n",
       "10. 7\n",
       "\n",
       "\n"
      ],
      "text/plain": [
       " [1]  8  4 10  6  9  3  1  2  5  7"
      ]
     },
     "metadata": {},
     "output_type": "display_data"
    }
   ],
   "source": [
    "x = sample(10)\n",
    "x"
   ]
  },
  {
   "cell_type": "code",
   "execution_count": 51,
   "metadata": {},
   "outputs": [
    {
     "data": {
      "text/html": [
       "<ol class=list-inline>\n",
       "\t<li>8</li>\n",
       "\t<li>4</li>\n",
       "\t<li>4</li>\n",
       "\t<li>4</li>\n",
       "\t<li>4</li>\n",
       "\t<li>3</li>\n",
       "\t<li>1</li>\n",
       "\t<li>1</li>\n",
       "\t<li>1</li>\n",
       "\t<li>1</li>\n",
       "</ol>\n"
      ],
      "text/latex": [
       "\\begin{enumerate*}\n",
       "\\item 8\n",
       "\\item 4\n",
       "\\item 4\n",
       "\\item 4\n",
       "\\item 4\n",
       "\\item 3\n",
       "\\item 1\n",
       "\\item 1\n",
       "\\item 1\n",
       "\\item 1\n",
       "\\end{enumerate*}\n"
      ],
      "text/markdown": [
       "1. 8\n",
       "2. 4\n",
       "3. 4\n",
       "4. 4\n",
       "5. 4\n",
       "6. 3\n",
       "7. 1\n",
       "8. 1\n",
       "9. 1\n",
       "10. 1\n",
       "\n",
       "\n"
      ],
      "text/plain": [
       " [1] 8 4 4 4 4 3 1 1 1 1"
      ]
     },
     "metadata": {},
     "output_type": "display_data"
    }
   ],
   "source": [
    "cummin(x)"
   ]
  },
  {
   "cell_type": "code",
   "execution_count": 52,
   "metadata": {},
   "outputs": [],
   "source": [
    "y = sample(1:10,100,replace = T)"
   ]
  },
  {
   "cell_type": "code",
   "execution_count": 53,
   "metadata": {},
   "outputs": [
    {
     "data": {
      "text/html": [
       "<ol class=list-inline>\n",
       "\t<li>5</li>\n",
       "\t<li>1</li>\n",
       "\t<li>9</li>\n",
       "\t<li>10</li>\n",
       "\t<li>6</li>\n",
       "\t<li>2</li>\n",
       "\t<li>2</li>\n",
       "\t<li>10</li>\n",
       "\t<li>1</li>\n",
       "\t<li>10</li>\n",
       "\t<li>2</li>\n",
       "\t<li>8</li>\n",
       "\t<li>1</li>\n",
       "\t<li>9</li>\n",
       "\t<li>2</li>\n",
       "\t<li>5</li>\n",
       "\t<li>6</li>\n",
       "\t<li>1</li>\n",
       "\t<li>7</li>\n",
       "\t<li>5</li>\n",
       "\t<li>4</li>\n",
       "\t<li>10</li>\n",
       "\t<li>8</li>\n",
       "\t<li>7</li>\n",
       "\t<li>8</li>\n",
       "\t<li>5</li>\n",
       "\t<li>1</li>\n",
       "\t<li>10</li>\n",
       "\t<li>9</li>\n",
       "\t<li>7</li>\n",
       "\t<li>7</li>\n",
       "\t<li>9</li>\n",
       "\t<li>7</li>\n",
       "\t<li>9</li>\n",
       "\t<li>2</li>\n",
       "\t<li>5</li>\n",
       "\t<li>10</li>\n",
       "\t<li>3</li>\n",
       "\t<li>1</li>\n",
       "\t<li>7</li>\n",
       "\t<li>2</li>\n",
       "\t<li>5</li>\n",
       "\t<li>7</li>\n",
       "\t<li>5</li>\n",
       "\t<li>9</li>\n",
       "\t<li>3</li>\n",
       "\t<li>1</li>\n",
       "\t<li>1</li>\n",
       "\t<li>3</li>\n",
       "\t<li>9</li>\n",
       "\t<li>9</li>\n",
       "\t<li>9</li>\n",
       "\t<li>7</li>\n",
       "\t<li>7</li>\n",
       "\t<li>1</li>\n",
       "\t<li>9</li>\n",
       "\t<li>9</li>\n",
       "\t<li>8</li>\n",
       "\t<li>8</li>\n",
       "\t<li>7</li>\n",
       "\t<li>1</li>\n",
       "\t<li>8</li>\n",
       "\t<li>9</li>\n",
       "\t<li>5</li>\n",
       "\t<li>8</li>\n",
       "\t<li>6</li>\n",
       "\t<li>10</li>\n",
       "\t<li>8</li>\n",
       "\t<li>9</li>\n",
       "\t<li>9</li>\n",
       "\t<li>4</li>\n",
       "\t<li>9</li>\n",
       "\t<li>5</li>\n",
       "\t<li>8</li>\n",
       "\t<li>5</li>\n",
       "\t<li>9</li>\n",
       "\t<li>1</li>\n",
       "\t<li>9</li>\n",
       "\t<li>8</li>\n",
       "\t<li>1</li>\n",
       "\t<li>7</li>\n",
       "\t<li>4</li>\n",
       "\t<li>6</li>\n",
       "\t<li>3</li>\n",
       "\t<li>5</li>\n",
       "\t<li>10</li>\n",
       "\t<li>5</li>\n",
       "\t<li>7</li>\n",
       "\t<li>2</li>\n",
       "\t<li>10</li>\n",
       "\t<li>8</li>\n",
       "\t<li>5</li>\n",
       "\t<li>3</li>\n",
       "\t<li>2</li>\n",
       "\t<li>9</li>\n",
       "\t<li>5</li>\n",
       "\t<li>9</li>\n",
       "\t<li>2</li>\n",
       "\t<li>5</li>\n",
       "\t<li>7</li>\n",
       "</ol>\n"
      ],
      "text/latex": [
       "\\begin{enumerate*}\n",
       "\\item 5\n",
       "\\item 1\n",
       "\\item 9\n",
       "\\item 10\n",
       "\\item 6\n",
       "\\item 2\n",
       "\\item 2\n",
       "\\item 10\n",
       "\\item 1\n",
       "\\item 10\n",
       "\\item 2\n",
       "\\item 8\n",
       "\\item 1\n",
       "\\item 9\n",
       "\\item 2\n",
       "\\item 5\n",
       "\\item 6\n",
       "\\item 1\n",
       "\\item 7\n",
       "\\item 5\n",
       "\\item 4\n",
       "\\item 10\n",
       "\\item 8\n",
       "\\item 7\n",
       "\\item 8\n",
       "\\item 5\n",
       "\\item 1\n",
       "\\item 10\n",
       "\\item 9\n",
       "\\item 7\n",
       "\\item 7\n",
       "\\item 9\n",
       "\\item 7\n",
       "\\item 9\n",
       "\\item 2\n",
       "\\item 5\n",
       "\\item 10\n",
       "\\item 3\n",
       "\\item 1\n",
       "\\item 7\n",
       "\\item 2\n",
       "\\item 5\n",
       "\\item 7\n",
       "\\item 5\n",
       "\\item 9\n",
       "\\item 3\n",
       "\\item 1\n",
       "\\item 1\n",
       "\\item 3\n",
       "\\item 9\n",
       "\\item 9\n",
       "\\item 9\n",
       "\\item 7\n",
       "\\item 7\n",
       "\\item 1\n",
       "\\item 9\n",
       "\\item 9\n",
       "\\item 8\n",
       "\\item 8\n",
       "\\item 7\n",
       "\\item 1\n",
       "\\item 8\n",
       "\\item 9\n",
       "\\item 5\n",
       "\\item 8\n",
       "\\item 6\n",
       "\\item 10\n",
       "\\item 8\n",
       "\\item 9\n",
       "\\item 9\n",
       "\\item 4\n",
       "\\item 9\n",
       "\\item 5\n",
       "\\item 8\n",
       "\\item 5\n",
       "\\item 9\n",
       "\\item 1\n",
       "\\item 9\n",
       "\\item 8\n",
       "\\item 1\n",
       "\\item 7\n",
       "\\item 4\n",
       "\\item 6\n",
       "\\item 3\n",
       "\\item 5\n",
       "\\item 10\n",
       "\\item 5\n",
       "\\item 7\n",
       "\\item 2\n",
       "\\item 10\n",
       "\\item 8\n",
       "\\item 5\n",
       "\\item 3\n",
       "\\item 2\n",
       "\\item 9\n",
       "\\item 5\n",
       "\\item 9\n",
       "\\item 2\n",
       "\\item 5\n",
       "\\item 7\n",
       "\\end{enumerate*}\n"
      ],
      "text/markdown": [
       "1. 5\n",
       "2. 1\n",
       "3. 9\n",
       "4. 10\n",
       "5. 6\n",
       "6. 2\n",
       "7. 2\n",
       "8. 10\n",
       "9. 1\n",
       "10. 10\n",
       "11. 2\n",
       "12. 8\n",
       "13. 1\n",
       "14. 9\n",
       "15. 2\n",
       "16. 5\n",
       "17. 6\n",
       "18. 1\n",
       "19. 7\n",
       "20. 5\n",
       "21. 4\n",
       "22. 10\n",
       "23. 8\n",
       "24. 7\n",
       "25. 8\n",
       "26. 5\n",
       "27. 1\n",
       "28. 10\n",
       "29. 9\n",
       "30. 7\n",
       "31. 7\n",
       "32. 9\n",
       "33. 7\n",
       "34. 9\n",
       "35. 2\n",
       "36. 5\n",
       "37. 10\n",
       "38. 3\n",
       "39. 1\n",
       "40. 7\n",
       "41. 2\n",
       "42. 5\n",
       "43. 7\n",
       "44. 5\n",
       "45. 9\n",
       "46. 3\n",
       "47. 1\n",
       "48. 1\n",
       "49. 3\n",
       "50. 9\n",
       "51. 9\n",
       "52. 9\n",
       "53. 7\n",
       "54. 7\n",
       "55. 1\n",
       "56. 9\n",
       "57. 9\n",
       "58. 8\n",
       "59. 8\n",
       "60. 7\n",
       "61. 1\n",
       "62. 8\n",
       "63. 9\n",
       "64. 5\n",
       "65. 8\n",
       "66. 6\n",
       "67. 10\n",
       "68. 8\n",
       "69. 9\n",
       "70. 9\n",
       "71. 4\n",
       "72. 9\n",
       "73. 5\n",
       "74. 8\n",
       "75. 5\n",
       "76. 9\n",
       "77. 1\n",
       "78. 9\n",
       "79. 8\n",
       "80. 1\n",
       "81. 7\n",
       "82. 4\n",
       "83. 6\n",
       "84. 3\n",
       "85. 5\n",
       "86. 10\n",
       "87. 5\n",
       "88. 7\n",
       "89. 2\n",
       "90. 10\n",
       "91. 8\n",
       "92. 5\n",
       "93. 3\n",
       "94. 2\n",
       "95. 9\n",
       "96. 5\n",
       "97. 9\n",
       "98. 2\n",
       "99. 5\n",
       "100. 7\n",
       "\n",
       "\n"
      ],
      "text/plain": [
       "  [1]  5  1  9 10  6  2  2 10  1 10  2  8  1  9  2  5  6  1  7  5  4 10  8  7  8\n",
       " [26]  5  1 10  9  7  7  9  7  9  2  5 10  3  1  7  2  5  7  5  9  3  1  1  3  9\n",
       " [51]  9  9  7  7  1  9  9  8  8  7  1  8  9  5  8  6 10  8  9  9  4  9  5  8  5\n",
       " [76]  9  1  9  8  1  7  4  6  3  5 10  5  7  2 10  8  5  3  2  9  5  9  2  5  7"
      ]
     },
     "metadata": {},
     "output_type": "display_data"
    }
   ],
   "source": [
    "y"
   ]
  },
  {
   "cell_type": "code",
   "execution_count": 54,
   "metadata": {},
   "outputs": [
    {
     "data": {
      "text/plain": [
       "y\n",
       " 1  2  3  4  5  6  7  8  9 10 \n",
       "12  9  5  3 15  4 13 11 19  9 "
      ]
     },
     "metadata": {},
     "output_type": "display_data"
    }
   ],
   "source": [
    "table(y)"
   ]
  },
  {
   "cell_type": "code",
   "execution_count": 55,
   "metadata": {},
   "outputs": [
    {
     "data": {
      "text/html": [
       "5.96"
      ],
      "text/latex": [
       "5.96"
      ],
      "text/markdown": [
       "5.96"
      ],
      "text/plain": [
       "[1] 5.96"
      ]
     },
     "metadata": {},
     "output_type": "display_data"
    }
   ],
   "source": [
    "mean(y)"
   ]
  },
  {
   "cell_type": "code",
   "execution_count": 56,
   "metadata": {},
   "outputs": [
    {
     "data": {
      "text/html": [
       "7"
      ],
      "text/latex": [
       "7"
      ],
      "text/markdown": [
       "7"
      ],
      "text/plain": [
       "[1] 7"
      ]
     },
     "metadata": {},
     "output_type": "display_data"
    }
   ],
   "source": [
    "median(y)"
   ]
  },
  {
   "cell_type": "code",
   "execution_count": 59,
   "metadata": {},
   "outputs": [],
   "source": [
    "rich <- sample(1:20,10)\n",
    "graze <- sample(c(\"mow\",\"numow\"),10,replace = T)"
   ]
  },
  {
   "cell_type": "code",
   "execution_count": 60,
   "metadata": {},
   "outputs": [],
   "source": [
    "data = data.frame(rich=rich,graze=graze)"
   ]
  },
  {
   "cell_type": "code",
   "execution_count": 62,
   "metadata": {},
   "outputs": [
    {
     "data": {
      "text/html": [
       "<table>\n",
       "<thead><tr><th scope=col>rich</th><th scope=col>graze</th></tr></thead>\n",
       "<tbody>\n",
       "\t<tr><td> 3   </td><td>mow  </td></tr>\n",
       "\t<tr><td>15   </td><td>mow  </td></tr>\n",
       "\t<tr><td> 6   </td><td>numow</td></tr>\n",
       "\t<tr><td>10   </td><td>numow</td></tr>\n",
       "\t<tr><td> 7   </td><td>numow</td></tr>\n",
       "\t<tr><td>11   </td><td>mow  </td></tr>\n",
       "</tbody>\n",
       "</table>\n"
      ],
      "text/latex": [
       "\\begin{tabular}{r|ll}\n",
       " rich & graze\\\\\n",
       "\\hline\n",
       "\t  3    & mow  \\\\\n",
       "\t 15    & mow  \\\\\n",
       "\t  6    & numow\\\\\n",
       "\t 10    & numow\\\\\n",
       "\t  7    & numow\\\\\n",
       "\t 11    & mow  \\\\\n",
       "\\end{tabular}\n"
      ],
      "text/markdown": [
       "\n",
       "| rich | graze |\n",
       "|---|---|\n",
       "|  3    | mow   |\n",
       "| 15    | mow   |\n",
       "|  6    | numow |\n",
       "| 10    | numow |\n",
       "|  7    | numow |\n",
       "| 11    | mow   |\n",
       "\n"
      ],
      "text/plain": [
       "  rich graze\n",
       "1  3   mow  \n",
       "2 15   mow  \n",
       "3  6   numow\n",
       "4 10   numow\n",
       "5  7   numow\n",
       "6 11   mow  "
      ]
     },
     "metadata": {},
     "output_type": "display_data"
    }
   ],
   "source": [
    "head(data)"
   ]
  },
  {
   "cell_type": "code",
   "execution_count": 63,
   "metadata": {},
   "outputs": [
    {
     "data": {
      "text/plain": [
       "    graze\n",
       "rich mow numow\n",
       "  2    1     0\n",
       "  3    1     0\n",
       "  6    0     1\n",
       "  7    0     1\n",
       "  10   0     1\n",
       "  11   1     0\n",
       "  12   0     1\n",
       "  13   1     0\n",
       "  15   1     0\n",
       "  19   0     1"
      ]
     },
     "metadata": {},
     "output_type": "display_data"
    }
   ],
   "source": [
    "table(data)"
   ]
  },
  {
   "cell_type": "code",
   "execution_count": 66,
   "metadata": {},
   "outputs": [],
   "source": [
    "#table(df$year,df$births)"
   ]
  },
  {
   "cell_type": "code",
   "execution_count": 67,
   "metadata": {},
   "outputs": [],
   "source": [
    "setwd(\"C:\\\\Users\\\\hp\\\\Desktop\\\\PythonInternBatch2018\\\\Advance_Python\\\\Data_Science\\\\R\")"
   ]
  },
  {
   "cell_type": "code",
   "execution_count": 68,
   "metadata": {},
   "outputs": [
    {
     "data": {
      "text/html": [
       "'C:/Users/hp/Desktop/PythonInternBatch2018/Advance_Python/Data_Science/R'"
      ],
      "text/latex": [
       "'C:/Users/hp/Desktop/PythonInternBatch2018/Advance\\_Python/Data\\_Science/R'"
      ],
      "text/markdown": [
       "'C:/Users/hp/Desktop/PythonInternBatch2018/Advance_Python/Data_Science/R'"
      ],
      "text/plain": [
       "[1] \"C:/Users/hp/Desktop/PythonInternBatch2018/Advance_Python/Data_Science/R\""
      ]
     },
     "metadata": {},
     "output_type": "display_data"
    }
   ],
   "source": [
    "getwd()"
   ]
  },
  {
   "cell_type": "code",
   "execution_count": 69,
   "metadata": {},
   "outputs": [],
   "source": [
    "df = read.csv('st.csv')"
   ]
  },
  {
   "cell_type": "code",
   "execution_count": 70,
   "metadata": {},
   "outputs": [
    {
     "data": {
      "text/html": [
       "<table>\n",
       "<thead><tr><th scope=col>X</th><th scope=col>SName</th><th scope=col>MATHS</th><th scope=col>HINDI</th><th scope=col>ENGLISH</th><th scope=col>SCIENCE</th></tr></thead>\n",
       "<tbody>\n",
       "\t<tr><td>1 </td><td>a </td><td>50</td><td>30</td><td>20</td><td>60</td></tr>\n",
       "\t<tr><td>2 </td><td>b </td><td>30</td><td>20</td><td>30</td><td>60</td></tr>\n",
       "\t<tr><td>3 </td><td>c </td><td>40</td><td>25</td><td>34</td><td>70</td></tr>\n",
       "\t<tr><td>4 </td><td>d </td><td>60</td><td>35</td><td>36</td><td>65</td></tr>\n",
       "\t<tr><td>5 </td><td>e </td><td>80</td><td>24</td><td>80</td><td>40</td></tr>\n",
       "\t<tr><td>6 </td><td>f </td><td>10</td><td>64</td><td>60</td><td>65</td></tr>\n",
       "</tbody>\n",
       "</table>\n"
      ],
      "text/latex": [
       "\\begin{tabular}{r|llllll}\n",
       " X & SName & MATHS & HINDI & ENGLISH & SCIENCE\\\\\n",
       "\\hline\n",
       "\t 1  & a  & 50 & 30 & 20 & 60\\\\\n",
       "\t 2  & b  & 30 & 20 & 30 & 60\\\\\n",
       "\t 3  & c  & 40 & 25 & 34 & 70\\\\\n",
       "\t 4  & d  & 60 & 35 & 36 & 65\\\\\n",
       "\t 5  & e  & 80 & 24 & 80 & 40\\\\\n",
       "\t 6  & f  & 10 & 64 & 60 & 65\\\\\n",
       "\\end{tabular}\n"
      ],
      "text/markdown": [
       "\n",
       "| X | SName | MATHS | HINDI | ENGLISH | SCIENCE |\n",
       "|---|---|---|---|---|---|\n",
       "| 1  | a  | 50 | 30 | 20 | 60 |\n",
       "| 2  | b  | 30 | 20 | 30 | 60 |\n",
       "| 3  | c  | 40 | 25 | 34 | 70 |\n",
       "| 4  | d  | 60 | 35 | 36 | 65 |\n",
       "| 5  | e  | 80 | 24 | 80 | 40 |\n",
       "| 6  | f  | 10 | 64 | 60 | 65 |\n",
       "\n"
      ],
      "text/plain": [
       "  X SName MATHS HINDI ENGLISH SCIENCE\n",
       "1 1 a     50    30    20      60     \n",
       "2 2 b     30    20    30      60     \n",
       "3 3 c     40    25    34      70     \n",
       "4 4 d     60    35    36      65     \n",
       "5 5 e     80    24    80      40     \n",
       "6 6 f     10    64    60      65     "
      ]
     },
     "metadata": {},
     "output_type": "display_data"
    }
   ],
   "source": [
    "df"
   ]
  },
  {
   "cell_type": "code",
   "execution_count": 82,
   "metadata": {},
   "outputs": [],
   "source": [
    "df1 = read.csv(\"data1.csv\")"
   ]
  },
  {
   "cell_type": "code",
   "execution_count": 83,
   "metadata": {},
   "outputs": [],
   "source": [
    "df2 = read.csv(\"data2.csv\")"
   ]
  },
  {
   "cell_type": "code",
   "execution_count": 84,
   "metadata": {},
   "outputs": [
    {
     "data": {
      "text/html": [
       "<table>\n",
       "<thead><tr><th scope=col>song</th><th scope=col>name</th></tr></thead>\n",
       "<tbody>\n",
       "\t<tr><td>Across the univers</td><td>John              </td></tr>\n",
       "\t<tr><td>Come Together     </td><td>John              </td></tr>\n",
       "\t<tr><td>Hello, Goodbye    </td><td>Paul              </td></tr>\n",
       "\t<tr><td>Peggy Sue         </td><td>Buddy             </td></tr>\n",
       "</tbody>\n",
       "</table>\n"
      ],
      "text/latex": [
       "\\begin{tabular}{r|ll}\n",
       " song & name\\\\\n",
       "\\hline\n",
       "\t Across the univers & John              \\\\\n",
       "\t Come Together      & John              \\\\\n",
       "\t Hello, Goodbye     & Paul              \\\\\n",
       "\t Peggy Sue          & Buddy             \\\\\n",
       "\\end{tabular}\n"
      ],
      "text/markdown": [
       "\n",
       "| song | name |\n",
       "|---|---|\n",
       "| Across the univers | John               |\n",
       "| Come Together      | John               |\n",
       "| Hello, Goodbye     | Paul               |\n",
       "| Peggy Sue          | Buddy              |\n",
       "\n"
      ],
      "text/plain": [
       "  song               name \n",
       "1 Across the univers John \n",
       "2 Come Together      John \n",
       "3 Hello, Goodbye     Paul \n",
       "4 Peggy Sue          Buddy"
      ]
     },
     "metadata": {},
     "output_type": "display_data"
    }
   ],
   "source": [
    "df1 = df1[2:3]\n",
    "df1"
   ]
  },
  {
   "cell_type": "code",
   "execution_count": 85,
   "metadata": {},
   "outputs": [
    {
     "data": {
      "text/html": [
       "<table>\n",
       "<thead><tr><th scope=col>name</th><th scope=col>plays</th></tr></thead>\n",
       "<tbody>\n",
       "\t<tr><td>George</td><td>sitar </td></tr>\n",
       "\t<tr><td>John  </td><td>guitar</td></tr>\n",
       "\t<tr><td>Paul  </td><td>bass  </td></tr>\n",
       "\t<tr><td>Ringo </td><td>drums </td></tr>\n",
       "</tbody>\n",
       "</table>\n"
      ],
      "text/latex": [
       "\\begin{tabular}{r|ll}\n",
       " name & plays\\\\\n",
       "\\hline\n",
       "\t George & sitar \\\\\n",
       "\t John   & guitar\\\\\n",
       "\t Paul   & bass  \\\\\n",
       "\t Ringo  & drums \\\\\n",
       "\\end{tabular}\n"
      ],
      "text/markdown": [
       "\n",
       "| name | plays |\n",
       "|---|---|\n",
       "| George | sitar  |\n",
       "| John   | guitar |\n",
       "| Paul   | bass   |\n",
       "| Ringo  | drums  |\n",
       "\n"
      ],
      "text/plain": [
       "  name   plays \n",
       "1 George sitar \n",
       "2 John   guitar\n",
       "3 Paul   bass  \n",
       "4 Ringo  drums "
      ]
     },
     "metadata": {},
     "output_type": "display_data"
    }
   ],
   "source": [
    "df2 = df2[2:3]\n",
    "df2"
   ]
  },
  {
   "cell_type": "code",
   "execution_count": 87,
   "metadata": {},
   "outputs": [
    {
     "data": {
      "text/html": [
       "<table>\n",
       "<thead><tr><th scope=col>name</th><th scope=col>song</th><th scope=col>plays</th></tr></thead>\n",
       "<tbody>\n",
       "\t<tr><td>John              </td><td>Across the univers</td><td>guitar            </td></tr>\n",
       "\t<tr><td>John              </td><td>Come Together     </td><td>guitar            </td></tr>\n",
       "\t<tr><td>Paul              </td><td>Hello, Goodbye    </td><td>bass              </td></tr>\n",
       "</tbody>\n",
       "</table>\n"
      ],
      "text/latex": [
       "\\begin{tabular}{r|lll}\n",
       " name & song & plays\\\\\n",
       "\\hline\n",
       "\t John               & Across the univers & guitar            \\\\\n",
       "\t John               & Come Together      & guitar            \\\\\n",
       "\t Paul               & Hello, Goodbye     & bass              \\\\\n",
       "\\end{tabular}\n"
      ],
      "text/markdown": [
       "\n",
       "| name | song | plays |\n",
       "|---|---|---|\n",
       "| John               | Across the univers | guitar             |\n",
       "| John               | Come Together      | guitar             |\n",
       "| Paul               | Hello, Goodbye     | bass               |\n",
       "\n"
      ],
      "text/plain": [
       "  name song               plays \n",
       "1 John Across the univers guitar\n",
       "2 John Come Together      guitar\n",
       "3 Paul Hello, Goodbye     bass  "
      ]
     },
     "metadata": {},
     "output_type": "display_data"
    }
   ],
   "source": [
    "merge(x=df1,y=df2,by='name')"
   ]
  },
  {
   "cell_type": "code",
   "execution_count": null,
   "metadata": {},
   "outputs": [],
   "source": [
    "merge(x=df1,y=df2,by='name')"
   ]
  },
  {
   "cell_type": "code",
   "execution_count": 88,
   "metadata": {},
   "outputs": [],
   "source": [
    "help(merge)"
   ]
  },
  {
   "cell_type": "code",
   "execution_count": 90,
   "metadata": {},
   "outputs": [],
   "source": [
    "df1  = data.frame(sid=sample(1:10,6),name=sample(letters[1:10],6)\n",
    "                 )"
   ]
  },
  {
   "cell_type": "code",
   "execution_count": 91,
   "metadata": {},
   "outputs": [
    {
     "data": {
      "text/html": [
       "<table>\n",
       "<thead><tr><th scope=col>sid</th><th scope=col>name</th></tr></thead>\n",
       "<tbody>\n",
       "\t<tr><td>7</td><td>g</td></tr>\n",
       "\t<tr><td>3</td><td>f</td></tr>\n",
       "\t<tr><td>2</td><td>a</td></tr>\n",
       "\t<tr><td>1</td><td>d</td></tr>\n",
       "\t<tr><td>6</td><td>b</td></tr>\n",
       "\t<tr><td>4</td><td>i</td></tr>\n",
       "</tbody>\n",
       "</table>\n"
      ],
      "text/latex": [
       "\\begin{tabular}{r|ll}\n",
       " sid & name\\\\\n",
       "\\hline\n",
       "\t 7 & g\\\\\n",
       "\t 3 & f\\\\\n",
       "\t 2 & a\\\\\n",
       "\t 1 & d\\\\\n",
       "\t 6 & b\\\\\n",
       "\t 4 & i\\\\\n",
       "\\end{tabular}\n"
      ],
      "text/markdown": [
       "\n",
       "| sid | name |\n",
       "|---|---|\n",
       "| 7 | g |\n",
       "| 3 | f |\n",
       "| 2 | a |\n",
       "| 1 | d |\n",
       "| 6 | b |\n",
       "| 4 | i |\n",
       "\n"
      ],
      "text/plain": [
       "  sid name\n",
       "1 7   g   \n",
       "2 3   f   \n",
       "3 2   a   \n",
       "4 1   d   \n",
       "5 6   b   \n",
       "6 4   i   "
      ]
     },
     "metadata": {},
     "output_type": "display_data"
    }
   ],
   "source": [
    "df1"
   ]
  },
  {
   "cell_type": "code",
   "execution_count": 94,
   "metadata": {},
   "outputs": [],
   "source": [
    "df2  = data.frame(id=sample(1:20,12),marks=sample(60:100,12)\n",
    "                 )"
   ]
  },
  {
   "cell_type": "code",
   "execution_count": 95,
   "metadata": {},
   "outputs": [
    {
     "data": {
      "text/html": [
       "<table>\n",
       "<thead><tr><th scope=col>id</th><th scope=col>marks</th></tr></thead>\n",
       "<tbody>\n",
       "\t<tr><td> 8</td><td>86</td></tr>\n",
       "\t<tr><td> 3</td><td>62</td></tr>\n",
       "\t<tr><td>11</td><td>74</td></tr>\n",
       "\t<tr><td> 5</td><td>68</td></tr>\n",
       "\t<tr><td>19</td><td>78</td></tr>\n",
       "\t<tr><td>13</td><td>92</td></tr>\n",
       "\t<tr><td> 7</td><td>94</td></tr>\n",
       "\t<tr><td>15</td><td>95</td></tr>\n",
       "\t<tr><td>20</td><td>91</td></tr>\n",
       "\t<tr><td> 9</td><td>64</td></tr>\n",
       "\t<tr><td>14</td><td>77</td></tr>\n",
       "\t<tr><td>12</td><td>82</td></tr>\n",
       "</tbody>\n",
       "</table>\n"
      ],
      "text/latex": [
       "\\begin{tabular}{r|ll}\n",
       " id & marks\\\\\n",
       "\\hline\n",
       "\t  8 & 86\\\\\n",
       "\t  3 & 62\\\\\n",
       "\t 11 & 74\\\\\n",
       "\t  5 & 68\\\\\n",
       "\t 19 & 78\\\\\n",
       "\t 13 & 92\\\\\n",
       "\t  7 & 94\\\\\n",
       "\t 15 & 95\\\\\n",
       "\t 20 & 91\\\\\n",
       "\t  9 & 64\\\\\n",
       "\t 14 & 77\\\\\n",
       "\t 12 & 82\\\\\n",
       "\\end{tabular}\n"
      ],
      "text/markdown": [
       "\n",
       "| id | marks |\n",
       "|---|---|\n",
       "|  8 | 86 |\n",
       "|  3 | 62 |\n",
       "| 11 | 74 |\n",
       "|  5 | 68 |\n",
       "| 19 | 78 |\n",
       "| 13 | 92 |\n",
       "|  7 | 94 |\n",
       "| 15 | 95 |\n",
       "| 20 | 91 |\n",
       "|  9 | 64 |\n",
       "| 14 | 77 |\n",
       "| 12 | 82 |\n",
       "\n"
      ],
      "text/plain": [
       "   id marks\n",
       "1   8 86   \n",
       "2   3 62   \n",
       "3  11 74   \n",
       "4   5 68   \n",
       "5  19 78   \n",
       "6  13 92   \n",
       "7   7 94   \n",
       "8  15 95   \n",
       "9  20 91   \n",
       "10  9 64   \n",
       "11 14 77   \n",
       "12 12 82   "
      ]
     },
     "metadata": {},
     "output_type": "display_data"
    }
   ],
   "source": [
    "df2"
   ]
  },
  {
   "cell_type": "code",
   "execution_count": 96,
   "metadata": {},
   "outputs": [],
   "source": [
    "df = merge(df1,df2,by.x='sid',by.y='id')"
   ]
  },
  {
   "cell_type": "code",
   "execution_count": 97,
   "metadata": {},
   "outputs": [
    {
     "data": {
      "text/html": [
       "<table>\n",
       "<thead><tr><th scope=col>sid</th><th scope=col>name</th><th scope=col>marks</th></tr></thead>\n",
       "<tbody>\n",
       "\t<tr><td>3 </td><td>f </td><td>62</td></tr>\n",
       "\t<tr><td>7 </td><td>g </td><td>94</td></tr>\n",
       "</tbody>\n",
       "</table>\n"
      ],
      "text/latex": [
       "\\begin{tabular}{r|lll}\n",
       " sid & name & marks\\\\\n",
       "\\hline\n",
       "\t 3  & f  & 62\\\\\n",
       "\t 7  & g  & 94\\\\\n",
       "\\end{tabular}\n"
      ],
      "text/markdown": [
       "\n",
       "| sid | name | marks |\n",
       "|---|---|---|\n",
       "| 3  | f  | 62 |\n",
       "| 7  | g  | 94 |\n",
       "\n"
      ],
      "text/plain": [
       "  sid name marks\n",
       "1 3   f    62   \n",
       "2 7   g    94   "
      ]
     },
     "metadata": {},
     "output_type": "display_data"
    }
   ],
   "source": [
    "df"
   ]
  },
  {
   "cell_type": "code",
   "execution_count": 109,
   "metadata": {},
   "outputs": [],
   "source": [
    "df1 = data.frame(\n",
    "    id=1:10,\n",
    "    name= c(\"afzal\",\"aniket\",\"anil\",\"anish\",'anjali',\"anshima\",\n",
    "           \"apoorva\",\"deependra\",\"hanisha\",\"imran\"),\n",
    "    sex = c(\"male\",\"male\",\"male\",\"male\",\"female\",\"female\",\"female\",\n",
    "           \"male\",\"female\",\"male\")\n",
    ")"
   ]
  },
  {
   "cell_type": "code",
   "execution_count": 110,
   "metadata": {},
   "outputs": [],
   "source": [
    "df2 = data.frame(\n",
    "    id=1:10,\n",
    "    math=sample(60:90,10),\n",
    "    science=sample(60:90,10)\n",
    ")"
   ]
  },
  {
   "cell_type": "code",
   "execution_count": 111,
   "metadata": {},
   "outputs": [],
   "source": [
    "df  = cbind(df1[,c('id','name')],df2[,c('math','science')])"
   ]
  },
  {
   "cell_type": "code",
   "execution_count": 112,
   "metadata": {},
   "outputs": [
    {
     "data": {
      "text/html": [
       "<table>\n",
       "<thead><tr><th scope=col>id</th><th scope=col>name</th><th scope=col>math</th><th scope=col>science</th></tr></thead>\n",
       "<tbody>\n",
       "\t<tr><td>1      </td><td>afzal  </td><td>78     </td><td>72     </td></tr>\n",
       "\t<tr><td>2      </td><td>aniket </td><td>85     </td><td>86     </td></tr>\n",
       "\t<tr><td>3      </td><td>anil   </td><td>90     </td><td>80     </td></tr>\n",
       "\t<tr><td>4      </td><td>anish  </td><td>60     </td><td>71     </td></tr>\n",
       "\t<tr><td>5      </td><td>anjali </td><td>76     </td><td>79     </td></tr>\n",
       "\t<tr><td>6      </td><td>anshima</td><td>70     </td><td>63     </td></tr>\n",
       "</tbody>\n",
       "</table>\n"
      ],
      "text/latex": [
       "\\begin{tabular}{r|llll}\n",
       " id & name & math & science\\\\\n",
       "\\hline\n",
       "\t 1       & afzal   & 78      & 72     \\\\\n",
       "\t 2       & aniket  & 85      & 86     \\\\\n",
       "\t 3       & anil    & 90      & 80     \\\\\n",
       "\t 4       & anish   & 60      & 71     \\\\\n",
       "\t 5       & anjali  & 76      & 79     \\\\\n",
       "\t 6       & anshima & 70      & 63     \\\\\n",
       "\\end{tabular}\n"
      ],
      "text/markdown": [
       "\n",
       "| id | name | math | science |\n",
       "|---|---|---|---|\n",
       "| 1       | afzal   | 78      | 72      |\n",
       "| 2       | aniket  | 85      | 86      |\n",
       "| 3       | anil    | 90      | 80      |\n",
       "| 4       | anish   | 60      | 71      |\n",
       "| 5       | anjali  | 76      | 79      |\n",
       "| 6       | anshima | 70      | 63      |\n",
       "\n"
      ],
      "text/plain": [
       "  id name    math science\n",
       "1 1  afzal   78   72     \n",
       "2 2  aniket  85   86     \n",
       "3 3  anil    90   80     \n",
       "4 4  anish   60   71     \n",
       "5 5  anjali  76   79     \n",
       "6 6  anshima 70   63     "
      ]
     },
     "metadata": {},
     "output_type": "display_data"
    }
   ],
   "source": [
    "head(df)"
   ]
  },
  {
   "cell_type": "code",
   "execution_count": 117,
   "metadata": {},
   "outputs": [],
   "source": [
    "dff = data.frame(\n",
    "    id=11:14,\n",
    "    name=c(\"animesh\",\"niraj\",\"shivansh\",\"mohit\"),\n",
    "    math=sample(60:100,4),\n",
    "    science=sample(60:100,4)\n",
    "    )"
   ]
  },
  {
   "cell_type": "code",
   "execution_count": 118,
   "metadata": {},
   "outputs": [
    {
     "data": {
      "text/html": [
       "<table>\n",
       "<thead><tr><th scope=col>id</th><th scope=col>name</th><th scope=col>math</th><th scope=col>science</th></tr></thead>\n",
       "<tbody>\n",
       "\t<tr><td>11      </td><td>animesh </td><td>100     </td><td>80      </td></tr>\n",
       "\t<tr><td>12      </td><td>niraj   </td><td> 61     </td><td>73      </td></tr>\n",
       "\t<tr><td>13      </td><td>shivansh</td><td> 63     </td><td>86      </td></tr>\n",
       "\t<tr><td>14      </td><td>mohit   </td><td> 92     </td><td>81      </td></tr>\n",
       "</tbody>\n",
       "</table>\n"
      ],
      "text/latex": [
       "\\begin{tabular}{r|llll}\n",
       " id & name & math & science\\\\\n",
       "\\hline\n",
       "\t 11       & animesh  & 100      & 80      \\\\\n",
       "\t 12       & niraj    &  61      & 73      \\\\\n",
       "\t 13       & shivansh &  63      & 86      \\\\\n",
       "\t 14       & mohit    &  92      & 81      \\\\\n",
       "\\end{tabular}\n"
      ],
      "text/markdown": [
       "\n",
       "| id | name | math | science |\n",
       "|---|---|---|---|\n",
       "| 11       | animesh  | 100      | 80       |\n",
       "| 12       | niraj    |  61      | 73       |\n",
       "| 13       | shivansh |  63      | 86       |\n",
       "| 14       | mohit    |  92      | 81       |\n",
       "\n"
      ],
      "text/plain": [
       "  id name     math science\n",
       "1 11 animesh  100  80     \n",
       "2 12 niraj     61  73     \n",
       "3 13 shivansh  63  86     \n",
       "4 14 mohit     92  81     "
      ]
     },
     "metadata": {},
     "output_type": "display_data"
    }
   ],
   "source": [
    "dff\n",
    "# x = rbind(df,dff)"
   ]
  },
  {
   "cell_type": "code",
   "execution_count": 119,
   "metadata": {},
   "outputs": [],
   "source": [
    "x = rbind(df,dff)"
   ]
  },
  {
   "cell_type": "code",
   "execution_count": 120,
   "metadata": {},
   "outputs": [
    {
     "data": {
      "text/html": [
       "<table>\n",
       "<thead><tr><th scope=col>id</th><th scope=col>name</th><th scope=col>math</th><th scope=col>science</th></tr></thead>\n",
       "<tbody>\n",
       "\t<tr><td> 1       </td><td>afzal    </td><td> 78      </td><td>72       </td></tr>\n",
       "\t<tr><td> 2       </td><td>aniket   </td><td> 85      </td><td>86       </td></tr>\n",
       "\t<tr><td> 3       </td><td>anil     </td><td> 90      </td><td>80       </td></tr>\n",
       "\t<tr><td> 4       </td><td>anish    </td><td> 60      </td><td>71       </td></tr>\n",
       "\t<tr><td> 5       </td><td>anjali   </td><td> 76      </td><td>79       </td></tr>\n",
       "\t<tr><td> 6       </td><td>anshima  </td><td> 70      </td><td>63       </td></tr>\n",
       "\t<tr><td> 7       </td><td>apoorva  </td><td> 81      </td><td>74       </td></tr>\n",
       "\t<tr><td> 8       </td><td>deependra</td><td> 84      </td><td>68       </td></tr>\n",
       "\t<tr><td> 9       </td><td>hanisha  </td><td> 89      </td><td>85       </td></tr>\n",
       "\t<tr><td>10       </td><td>imran    </td><td> 62      </td><td>76       </td></tr>\n",
       "\t<tr><td>11       </td><td>animesh  </td><td>100      </td><td>80       </td></tr>\n",
       "\t<tr><td>12       </td><td>niraj    </td><td> 61      </td><td>73       </td></tr>\n",
       "\t<tr><td>13       </td><td>shivansh </td><td> 63      </td><td>86       </td></tr>\n",
       "\t<tr><td>14       </td><td>mohit    </td><td> 92      </td><td>81       </td></tr>\n",
       "</tbody>\n",
       "</table>\n"
      ],
      "text/latex": [
       "\\begin{tabular}{r|llll}\n",
       " id & name & math & science\\\\\n",
       "\\hline\n",
       "\t  1        & afzal     &  78       & 72       \\\\\n",
       "\t  2        & aniket    &  85       & 86       \\\\\n",
       "\t  3        & anil      &  90       & 80       \\\\\n",
       "\t  4        & anish     &  60       & 71       \\\\\n",
       "\t  5        & anjali    &  76       & 79       \\\\\n",
       "\t  6        & anshima   &  70       & 63       \\\\\n",
       "\t  7        & apoorva   &  81       & 74       \\\\\n",
       "\t  8        & deependra &  84       & 68       \\\\\n",
       "\t  9        & hanisha   &  89       & 85       \\\\\n",
       "\t 10        & imran     &  62       & 76       \\\\\n",
       "\t 11        & animesh   & 100       & 80       \\\\\n",
       "\t 12        & niraj     &  61       & 73       \\\\\n",
       "\t 13        & shivansh  &  63       & 86       \\\\\n",
       "\t 14        & mohit     &  92       & 81       \\\\\n",
       "\\end{tabular}\n"
      ],
      "text/markdown": [
       "\n",
       "| id | name | math | science |\n",
       "|---|---|---|---|\n",
       "|  1        | afzal     |  78       | 72        |\n",
       "|  2        | aniket    |  85       | 86        |\n",
       "|  3        | anil      |  90       | 80        |\n",
       "|  4        | anish     |  60       | 71        |\n",
       "|  5        | anjali    |  76       | 79        |\n",
       "|  6        | anshima   |  70       | 63        |\n",
       "|  7        | apoorva   |  81       | 74        |\n",
       "|  8        | deependra |  84       | 68        |\n",
       "|  9        | hanisha   |  89       | 85        |\n",
       "| 10        | imran     |  62       | 76        |\n",
       "| 11        | animesh   | 100       | 80        |\n",
       "| 12        | niraj     |  61       | 73        |\n",
       "| 13        | shivansh  |  63       | 86        |\n",
       "| 14        | mohit     |  92       | 81        |\n",
       "\n"
      ],
      "text/plain": [
       "   id name      math science\n",
       "1   1 afzal      78  72     \n",
       "2   2 aniket     85  86     \n",
       "3   3 anil       90  80     \n",
       "4   4 anish      60  71     \n",
       "5   5 anjali     76  79     \n",
       "6   6 anshima    70  63     \n",
       "7   7 apoorva    81  74     \n",
       "8   8 deependra  84  68     \n",
       "9   9 hanisha    89  85     \n",
       "10 10 imran      62  76     \n",
       "11 11 animesh   100  80     \n",
       "12 12 niraj      61  73     \n",
       "13 13 shivansh   63  86     \n",
       "14 14 mohit      92  81     "
      ]
     },
     "metadata": {},
     "output_type": "display_data"
    }
   ],
   "source": [
    "x"
   ]
  },
  {
   "cell_type": "code",
   "execution_count": 122,
   "metadata": {},
   "outputs": [
    {
     "data": {
      "text/html": [
       "<table>\n",
       "<tbody>\n",
       "\t<tr><th scope=row>id</th><td> 1       </td><td> 2       </td><td> 3       </td><td> 4       </td><td> 5       </td><td> 6       </td><td> 7       </td><td> 8       </td><td> 9       </td><td>10       </td></tr>\n",
       "\t<tr><th scope=row>name</th><td>afzal    </td><td>aniket   </td><td>anil     </td><td>anish    </td><td>anjali   </td><td>anshima  </td><td>apoorva  </td><td>deependra</td><td>hanisha  </td><td>imran    </td></tr>\n",
       "\t<tr><th scope=row>math</th><td>78       </td><td>85       </td><td>90       </td><td>60       </td><td>76       </td><td>70       </td><td>81       </td><td>84       </td><td>89       </td><td>62       </td></tr>\n",
       "\t<tr><th scope=row>science</th><td>72       </td><td>86       </td><td>80       </td><td>71       </td><td>79       </td><td>63       </td><td>74       </td><td>68       </td><td>85       </td><td>76       </td></tr>\n",
       "</tbody>\n",
       "</table>\n"
      ],
      "text/latex": [
       "\\begin{tabular}{r|llllllllll}\n",
       "\tid &  1        &  2        &  3        &  4        &  5        &  6        &  7        &  8        &  9        & 10       \\\\\n",
       "\tname & afzal     & aniket    & anil      & anish     & anjali    & anshima   & apoorva   & deependra & hanisha   & imran    \\\\\n",
       "\tmath & 78        & 85        & 90        & 60        & 76        & 70        & 81        & 84        & 89        & 62       \\\\\n",
       "\tscience & 72        & 86        & 80        & 71        & 79        & 63        & 74        & 68        & 85        & 76       \\\\\n",
       "\\end{tabular}\n"
      ],
      "text/markdown": [
       "\n",
       "| id |  1        |  2        |  3        |  4        |  5        |  6        |  7        |  8        |  9        | 10        |\n",
       "| name | afzal     | aniket    | anil      | anish     | anjali    | anshima   | apoorva   | deependra | hanisha   | imran     |\n",
       "| math | 78        | 85        | 90        | 60        | 76        | 70        | 81        | 84        | 89        | 62        |\n",
       "| science | 72        | 86        | 80        | 71        | 79        | 63        | 74        | 68        | 85        | 76        |\n",
       "\n"
      ],
      "text/plain": [
       "        [,1]  [,2]   [,3] [,4]  [,5]   [,6]    [,7]    [,8]      [,9]    [,10]\n",
       "id       1     2      3    4     5      6       7       8         9      10   \n",
       "name    afzal aniket anil anish anjali anshima apoorva deependra hanisha imran\n",
       "math    78    85     90   60    76     70      81      84        89      62   \n",
       "science 72    86     80   71    79     63      74      68        85      76   "
      ]
     },
     "metadata": {},
     "output_type": "display_data"
    }
   ],
   "source": [
    "t(df)"
   ]
  },
  {
   "cell_type": "code",
   "execution_count": 123,
   "metadata": {},
   "outputs": [],
   "source": [
    "library(reshape2)"
   ]
  },
  {
   "cell_type": "code",
   "execution_count": 135,
   "metadata": {},
   "outputs": [
    {
     "data": {
      "text/html": [
       "<table>\n",
       "<thead><tr><th scope=col>Sepal.Length</th><th scope=col>Sepal.Width</th><th scope=col>Petal.Length</th><th scope=col>Petal.Width</th><th scope=col>Species</th></tr></thead>\n",
       "<tbody>\n",
       "\t<tr><td>5.1   </td><td>3.5   </td><td>1.4   </td><td>0.2   </td><td>setosa</td></tr>\n",
       "\t<tr><td>4.9   </td><td>3.0   </td><td>1.4   </td><td>0.2   </td><td>setosa</td></tr>\n",
       "\t<tr><td>4.7   </td><td>3.2   </td><td>1.3   </td><td>0.2   </td><td>setosa</td></tr>\n",
       "\t<tr><td>4.6   </td><td>3.1   </td><td>1.5   </td><td>0.2   </td><td>setosa</td></tr>\n",
       "\t<tr><td>5.0   </td><td>3.6   </td><td>1.4   </td><td>0.2   </td><td>setosa</td></tr>\n",
       "\t<tr><td>5.4   </td><td>3.9   </td><td>1.7   </td><td>0.4   </td><td>setosa</td></tr>\n",
       "</tbody>\n",
       "</table>\n"
      ],
      "text/latex": [
       "\\begin{tabular}{r|lllll}\n",
       " Sepal.Length & Sepal.Width & Petal.Length & Petal.Width & Species\\\\\n",
       "\\hline\n",
       "\t 5.1    & 3.5    & 1.4    & 0.2    & setosa\\\\\n",
       "\t 4.9    & 3.0    & 1.4    & 0.2    & setosa\\\\\n",
       "\t 4.7    & 3.2    & 1.3    & 0.2    & setosa\\\\\n",
       "\t 4.6    & 3.1    & 1.5    & 0.2    & setosa\\\\\n",
       "\t 5.0    & 3.6    & 1.4    & 0.2    & setosa\\\\\n",
       "\t 5.4    & 3.9    & 1.7    & 0.4    & setosa\\\\\n",
       "\\end{tabular}\n"
      ],
      "text/markdown": [
       "\n",
       "| Sepal.Length | Sepal.Width | Petal.Length | Petal.Width | Species |\n",
       "|---|---|---|---|---|\n",
       "| 5.1    | 3.5    | 1.4    | 0.2    | setosa |\n",
       "| 4.9    | 3.0    | 1.4    | 0.2    | setosa |\n",
       "| 4.7    | 3.2    | 1.3    | 0.2    | setosa |\n",
       "| 4.6    | 3.1    | 1.5    | 0.2    | setosa |\n",
       "| 5.0    | 3.6    | 1.4    | 0.2    | setosa |\n",
       "| 5.4    | 3.9    | 1.7    | 0.4    | setosa |\n",
       "\n"
      ],
      "text/plain": [
       "  Sepal.Length Sepal.Width Petal.Length Petal.Width Species\n",
       "1 5.1          3.5         1.4          0.2         setosa \n",
       "2 4.9          3.0         1.4          0.2         setosa \n",
       "3 4.7          3.2         1.3          0.2         setosa \n",
       "4 4.6          3.1         1.5          0.2         setosa \n",
       "5 5.0          3.6         1.4          0.2         setosa \n",
       "6 5.4          3.9         1.7          0.4         setosa "
      ]
     },
     "metadata": {},
     "output_type": "display_data"
    }
   ],
   "source": [
    "x = iris\n",
    "head(iris)"
   ]
  },
  {
   "cell_type": "code",
   "execution_count": 138,
   "metadata": {},
   "outputs": [],
   "source": [
    "#dcast(x,Sepal.Length+Sepal.Width~Species)"
   ]
  },
  {
   "cell_type": "code",
   "execution_count": 139,
   "metadata": {},
   "outputs": [],
   "source": [
    "df = data.frame(\n",
    "    subject=1:4,\n",
    "    sex=sample(c(\"male\",\"female\"),4,replace=T),\n",
    "    control = c(8.9,6.2,9.4,10.5),\n",
    "    cond1=c(11.33,10.7,12.1,13.5),\n",
    "    cond2=c(10.6,12.1,13.6,13.9)\n",
    ")"
   ]
  },
  {
   "cell_type": "code",
   "execution_count": 140,
   "metadata": {},
   "outputs": [
    {
     "data": {
      "text/html": [
       "<table>\n",
       "<thead><tr><th scope=col>subject</th><th scope=col>sex</th><th scope=col>control</th><th scope=col>cond1</th><th scope=col>cond2</th></tr></thead>\n",
       "<tbody>\n",
       "\t<tr><td>1     </td><td>female</td><td> 8.9  </td><td>11.33 </td><td>10.6  </td></tr>\n",
       "\t<tr><td>2     </td><td>female</td><td> 6.2  </td><td>10.70 </td><td>12.1  </td></tr>\n",
       "\t<tr><td>3     </td><td>male  </td><td> 9.4  </td><td>12.10 </td><td>13.6  </td></tr>\n",
       "\t<tr><td>4     </td><td>female</td><td>10.5  </td><td>13.50 </td><td>13.9  </td></tr>\n",
       "</tbody>\n",
       "</table>\n"
      ],
      "text/latex": [
       "\\begin{tabular}{r|lllll}\n",
       " subject & sex & control & cond1 & cond2\\\\\n",
       "\\hline\n",
       "\t 1      & female &  8.9   & 11.33  & 10.6  \\\\\n",
       "\t 2      & female &  6.2   & 10.70  & 12.1  \\\\\n",
       "\t 3      & male   &  9.4   & 12.10  & 13.6  \\\\\n",
       "\t 4      & female & 10.5   & 13.50  & 13.9  \\\\\n",
       "\\end{tabular}\n"
      ],
      "text/markdown": [
       "\n",
       "| subject | sex | control | cond1 | cond2 |\n",
       "|---|---|---|---|---|\n",
       "| 1      | female |  8.9   | 11.33  | 10.6   |\n",
       "| 2      | female |  6.2   | 10.70  | 12.1   |\n",
       "| 3      | male   |  9.4   | 12.10  | 13.6   |\n",
       "| 4      | female | 10.5   | 13.50  | 13.9   |\n",
       "\n"
      ],
      "text/plain": [
       "  subject sex    control cond1 cond2\n",
       "1 1       female  8.9    11.33 10.6 \n",
       "2 2       female  6.2    10.70 12.1 \n",
       "3 3       male    9.4    12.10 13.6 \n",
       "4 4       female 10.5    13.50 13.9 "
      ]
     },
     "metadata": {},
     "output_type": "display_data"
    }
   ],
   "source": [
    "df"
   ]
  },
  {
   "cell_type": "code",
   "execution_count": 145,
   "metadata": {},
   "outputs": [],
   "source": [
    "df1 = melt(df,id.vars = c(\"subject\",\"sex\",\"control\")) # reshape2"
   ]
  },
  {
   "cell_type": "code",
   "execution_count": 146,
   "metadata": {},
   "outputs": [
    {
     "data": {
      "text/html": [
       "<table>\n",
       "<thead><tr><th scope=col>subject</th><th scope=col>sex</th><th scope=col>control</th><th scope=col>variable</th><th scope=col>value</th></tr></thead>\n",
       "<tbody>\n",
       "\t<tr><td>1     </td><td>female</td><td> 8.9  </td><td>cond1 </td><td>11.33 </td></tr>\n",
       "\t<tr><td>2     </td><td>female</td><td> 6.2  </td><td>cond1 </td><td>10.70 </td></tr>\n",
       "\t<tr><td>3     </td><td>male  </td><td> 9.4  </td><td>cond1 </td><td>12.10 </td></tr>\n",
       "\t<tr><td>4     </td><td>female</td><td>10.5  </td><td>cond1 </td><td>13.50 </td></tr>\n",
       "\t<tr><td>1     </td><td>female</td><td> 8.9  </td><td>cond2 </td><td>10.60 </td></tr>\n",
       "\t<tr><td>2     </td><td>female</td><td> 6.2  </td><td>cond2 </td><td>12.10 </td></tr>\n",
       "\t<tr><td>3     </td><td>male  </td><td> 9.4  </td><td>cond2 </td><td>13.60 </td></tr>\n",
       "\t<tr><td>4     </td><td>female</td><td>10.5  </td><td>cond2 </td><td>13.90 </td></tr>\n",
       "</tbody>\n",
       "</table>\n"
      ],
      "text/latex": [
       "\\begin{tabular}{r|lllll}\n",
       " subject & sex & control & variable & value\\\\\n",
       "\\hline\n",
       "\t 1      & female &  8.9   & cond1  & 11.33 \\\\\n",
       "\t 2      & female &  6.2   & cond1  & 10.70 \\\\\n",
       "\t 3      & male   &  9.4   & cond1  & 12.10 \\\\\n",
       "\t 4      & female & 10.5   & cond1  & 13.50 \\\\\n",
       "\t 1      & female &  8.9   & cond2  & 10.60 \\\\\n",
       "\t 2      & female &  6.2   & cond2  & 12.10 \\\\\n",
       "\t 3      & male   &  9.4   & cond2  & 13.60 \\\\\n",
       "\t 4      & female & 10.5   & cond2  & 13.90 \\\\\n",
       "\\end{tabular}\n"
      ],
      "text/markdown": [
       "\n",
       "| subject | sex | control | variable | value |\n",
       "|---|---|---|---|---|\n",
       "| 1      | female |  8.9   | cond1  | 11.33  |\n",
       "| 2      | female |  6.2   | cond1  | 10.70  |\n",
       "| 3      | male   |  9.4   | cond1  | 12.10  |\n",
       "| 4      | female | 10.5   | cond1  | 13.50  |\n",
       "| 1      | female |  8.9   | cond2  | 10.60  |\n",
       "| 2      | female |  6.2   | cond2  | 12.10  |\n",
       "| 3      | male   |  9.4   | cond2  | 13.60  |\n",
       "| 4      | female | 10.5   | cond2  | 13.90  |\n",
       "\n"
      ],
      "text/plain": [
       "  subject sex    control variable value\n",
       "1 1       female  8.9    cond1    11.33\n",
       "2 2       female  6.2    cond1    10.70\n",
       "3 3       male    9.4    cond1    12.10\n",
       "4 4       female 10.5    cond1    13.50\n",
       "5 1       female  8.9    cond2    10.60\n",
       "6 2       female  6.2    cond2    12.10\n",
       "7 3       male    9.4    cond2    13.60\n",
       "8 4       female 10.5    cond2    13.90"
      ]
     },
     "metadata": {},
     "output_type": "display_data"
    }
   ],
   "source": [
    "df1"
   ]
  },
  {
   "cell_type": "code",
   "execution_count": null,
   "metadata": {},
   "outputs": [],
   "source": []
  }
 ],
 "metadata": {
  "kernelspec": {
   "display_name": "R",
   "language": "R",
   "name": "ir"
  },
  "language_info": {
   "codemirror_mode": "r",
   "file_extension": ".r",
   "mimetype": "text/x-r-source",
   "name": "R",
   "pygments_lexer": "r",
   "version": "3.6.0"
  }
 },
 "nbformat": 4,
 "nbformat_minor": 2
}
