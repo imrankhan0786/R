{
 "cells": [
  {
   "cell_type": "code",
   "execution_count": 1,
   "metadata": {},
   "outputs": [],
   "source": [
    "library(reshape2)"
   ]
  },
  {
   "cell_type": "code",
   "execution_count": 7,
   "metadata": {},
   "outputs": [],
   "source": [
    "df = data.frame(\n",
    "  name = letters[1:10],\n",
    "  maths = sample(50:100,10),\n",
    "  english = sample(50:100,10),\n",
    "  physics = sample(50:100,10),\n",
    "  hindi = sample(50:100,10)\n",
    ")"
   ]
  },
  {
   "cell_type": "code",
   "execution_count": 8,
   "metadata": {},
   "outputs": [
    {
     "data": {
      "text/html": [
       "<table>\n",
       "<thead><tr><th scope=col>name</th><th scope=col>maths</th><th scope=col>english</th><th scope=col>physics</th><th scope=col>hindi</th></tr></thead>\n",
       "<tbody>\n",
       "\t<tr><td>a  </td><td>51 </td><td>53 </td><td>100</td><td>72 </td></tr>\n",
       "\t<tr><td>b  </td><td>68 </td><td>67 </td><td> 58</td><td>66 </td></tr>\n",
       "\t<tr><td>c  </td><td>78 </td><td>63 </td><td> 92</td><td>61 </td></tr>\n",
       "\t<tr><td>d  </td><td>72 </td><td>68 </td><td> 71</td><td>51 </td></tr>\n",
       "\t<tr><td>e  </td><td>93 </td><td>66 </td><td> 81</td><td>95 </td></tr>\n",
       "\t<tr><td>f  </td><td>81 </td><td>54 </td><td> 66</td><td>97 </td></tr>\n",
       "\t<tr><td>g  </td><td>82 </td><td>57 </td><td> 67</td><td>98 </td></tr>\n",
       "\t<tr><td>h  </td><td>74 </td><td>50 </td><td> 83</td><td>89 </td></tr>\n",
       "\t<tr><td>i  </td><td>52 </td><td>65 </td><td> 77</td><td>60 </td></tr>\n",
       "\t<tr><td>j  </td><td>77 </td><td>76 </td><td> 97</td><td>73 </td></tr>\n",
       "</tbody>\n",
       "</table>\n"
      ],
      "text/latex": [
       "\\begin{tabular}{r|lllll}\n",
       " name & maths & english & physics & hindi\\\\\n",
       "\\hline\n",
       "\t a   & 51  & 53  & 100 & 72 \\\\\n",
       "\t b   & 68  & 67  &  58 & 66 \\\\\n",
       "\t c   & 78  & 63  &  92 & 61 \\\\\n",
       "\t d   & 72  & 68  &  71 & 51 \\\\\n",
       "\t e   & 93  & 66  &  81 & 95 \\\\\n",
       "\t f   & 81  & 54  &  66 & 97 \\\\\n",
       "\t g   & 82  & 57  &  67 & 98 \\\\\n",
       "\t h   & 74  & 50  &  83 & 89 \\\\\n",
       "\t i   & 52  & 65  &  77 & 60 \\\\\n",
       "\t j   & 77  & 76  &  97 & 73 \\\\\n",
       "\\end{tabular}\n"
      ],
      "text/markdown": [
       "\n",
       "| name | maths | english | physics | hindi |\n",
       "|---|---|---|---|---|\n",
       "| a   | 51  | 53  | 100 | 72  |\n",
       "| b   | 68  | 67  |  58 | 66  |\n",
       "| c   | 78  | 63  |  92 | 61  |\n",
       "| d   | 72  | 68  |  71 | 51  |\n",
       "| e   | 93  | 66  |  81 | 95  |\n",
       "| f   | 81  | 54  |  66 | 97  |\n",
       "| g   | 82  | 57  |  67 | 98  |\n",
       "| h   | 74  | 50  |  83 | 89  |\n",
       "| i   | 52  | 65  |  77 | 60  |\n",
       "| j   | 77  | 76  |  97 | 73  |\n",
       "\n"
      ],
      "text/plain": [
       "   name maths english physics hindi\n",
       "1  a    51    53      100     72   \n",
       "2  b    68    67       58     66   \n",
       "3  c    78    63       92     61   \n",
       "4  d    72    68       71     51   \n",
       "5  e    93    66       81     95   \n",
       "6  f    81    54       66     97   \n",
       "7  g    82    57       67     98   \n",
       "8  h    74    50       83     89   \n",
       "9  i    52    65       77     60   \n",
       "10 j    77    76       97     73   "
      ]
     },
     "metadata": {},
     "output_type": "display_data"
    }
   ],
   "source": [
    "df"
   ]
  },
  {
   "cell_type": "code",
   "execution_count": 9,
   "metadata": {},
   "outputs": [],
   "source": [
    "df1 = melt(df,id.vars = c(\"name\",\"hindi\",\"english\"),variable.name=\"subject\",value.name=\"marks\")"
   ]
  },
  {
   "cell_type": "code",
   "execution_count": 10,
   "metadata": {},
   "outputs": [
    {
     "name": "stdout",
     "output_type": "stream",
     "text": [
      "'data.frame':\t20 obs. of  5 variables:\n",
      " $ name   : Factor w/ 10 levels \"a\",\"b\",\"c\",\"d\",..: 1 2 3 4 5 6 7 8 9 10 ...\n",
      " $ hindi  : int  72 66 61 51 95 97 98 89 60 73 ...\n",
      " $ english: int  53 67 63 68 66 54 57 50 65 76 ...\n",
      " $ subject: Factor w/ 2 levels \"maths\",\"physics\": 1 1 1 1 1 1 1 1 1 1 ...\n",
      " $ marks  : int  51 68 78 72 93 81 82 74 52 77 ...\n"
     ]
    }
   ],
   "source": [
    "str(df1)"
   ]
  },
  {
   "cell_type": "code",
   "execution_count": 11,
   "metadata": {},
   "outputs": [
    {
     "data": {
      "text/html": [
       "<table>\n",
       "<thead><tr><th scope=col>name</th><th scope=col>hindi</th><th scope=col>english</th><th scope=col>subject</th><th scope=col>marks</th></tr></thead>\n",
       "<tbody>\n",
       "\t<tr><td>a    </td><td>72   </td><td>53   </td><td>maths</td><td>51   </td></tr>\n",
       "\t<tr><td>b    </td><td>66   </td><td>67   </td><td>maths</td><td>68   </td></tr>\n",
       "\t<tr><td>c    </td><td>61   </td><td>63   </td><td>maths</td><td>78   </td></tr>\n",
       "\t<tr><td>d    </td><td>51   </td><td>68   </td><td>maths</td><td>72   </td></tr>\n",
       "\t<tr><td>e    </td><td>95   </td><td>66   </td><td>maths</td><td>93   </td></tr>\n",
       "\t<tr><td>f    </td><td>97   </td><td>54   </td><td>maths</td><td>81   </td></tr>\n",
       "</tbody>\n",
       "</table>\n"
      ],
      "text/latex": [
       "\\begin{tabular}{r|lllll}\n",
       " name & hindi & english & subject & marks\\\\\n",
       "\\hline\n",
       "\t a     & 72    & 53    & maths & 51   \\\\\n",
       "\t b     & 66    & 67    & maths & 68   \\\\\n",
       "\t c     & 61    & 63    & maths & 78   \\\\\n",
       "\t d     & 51    & 68    & maths & 72   \\\\\n",
       "\t e     & 95    & 66    & maths & 93   \\\\\n",
       "\t f     & 97    & 54    & maths & 81   \\\\\n",
       "\\end{tabular}\n"
      ],
      "text/markdown": [
       "\n",
       "| name | hindi | english | subject | marks |\n",
       "|---|---|---|---|---|\n",
       "| a     | 72    | 53    | maths | 51    |\n",
       "| b     | 66    | 67    | maths | 68    |\n",
       "| c     | 61    | 63    | maths | 78    |\n",
       "| d     | 51    | 68    | maths | 72    |\n",
       "| e     | 95    | 66    | maths | 93    |\n",
       "| f     | 97    | 54    | maths | 81    |\n",
       "\n"
      ],
      "text/plain": [
       "  name hindi english subject marks\n",
       "1 a    72    53      maths   51   \n",
       "2 b    66    67      maths   68   \n",
       "3 c    61    63      maths   78   \n",
       "4 d    51    68      maths   72   \n",
       "5 e    95    66      maths   93   \n",
       "6 f    97    54      maths   81   "
      ]
     },
     "metadata": {},
     "output_type": "display_data"
    }
   ],
   "source": [
    "head(df1)"
   ]
  },
  {
   "cell_type": "code",
   "execution_count": 13,
   "metadata": {},
   "outputs": [],
   "source": [
    "df2 = dcast(df1,name+hindi+english~subject,value.var=\"marks\")"
   ]
  },
  {
   "cell_type": "code",
   "execution_count": 14,
   "metadata": {},
   "outputs": [
    {
     "data": {
      "text/html": [
       "<table>\n",
       "<thead><tr><th scope=col>name</th><th scope=col>hindi</th><th scope=col>english</th><th scope=col>maths</th><th scope=col>physics</th></tr></thead>\n",
       "<tbody>\n",
       "\t<tr><td>a  </td><td>72 </td><td>53 </td><td>51 </td><td>100</td></tr>\n",
       "\t<tr><td>b  </td><td>66 </td><td>67 </td><td>68 </td><td> 58</td></tr>\n",
       "\t<tr><td>c  </td><td>61 </td><td>63 </td><td>78 </td><td> 92</td></tr>\n",
       "\t<tr><td>d  </td><td>51 </td><td>68 </td><td>72 </td><td> 71</td></tr>\n",
       "\t<tr><td>e  </td><td>95 </td><td>66 </td><td>93 </td><td> 81</td></tr>\n",
       "\t<tr><td>f  </td><td>97 </td><td>54 </td><td>81 </td><td> 66</td></tr>\n",
       "\t<tr><td>g  </td><td>98 </td><td>57 </td><td>82 </td><td> 67</td></tr>\n",
       "\t<tr><td>h  </td><td>89 </td><td>50 </td><td>74 </td><td> 83</td></tr>\n",
       "\t<tr><td>i  </td><td>60 </td><td>65 </td><td>52 </td><td> 77</td></tr>\n",
       "\t<tr><td>j  </td><td>73 </td><td>76 </td><td>77 </td><td> 97</td></tr>\n",
       "</tbody>\n",
       "</table>\n"
      ],
      "text/latex": [
       "\\begin{tabular}{r|lllll}\n",
       " name & hindi & english & maths & physics\\\\\n",
       "\\hline\n",
       "\t a   & 72  & 53  & 51  & 100\\\\\n",
       "\t b   & 66  & 67  & 68  &  58\\\\\n",
       "\t c   & 61  & 63  & 78  &  92\\\\\n",
       "\t d   & 51  & 68  & 72  &  71\\\\\n",
       "\t e   & 95  & 66  & 93  &  81\\\\\n",
       "\t f   & 97  & 54  & 81  &  66\\\\\n",
       "\t g   & 98  & 57  & 82  &  67\\\\\n",
       "\t h   & 89  & 50  & 74  &  83\\\\\n",
       "\t i   & 60  & 65  & 52  &  77\\\\\n",
       "\t j   & 73  & 76  & 77  &  97\\\\\n",
       "\\end{tabular}\n"
      ],
      "text/markdown": [
       "\n",
       "| name | hindi | english | maths | physics |\n",
       "|---|---|---|---|---|\n",
       "| a   | 72  | 53  | 51  | 100 |\n",
       "| b   | 66  | 67  | 68  |  58 |\n",
       "| c   | 61  | 63  | 78  |  92 |\n",
       "| d   | 51  | 68  | 72  |  71 |\n",
       "| e   | 95  | 66  | 93  |  81 |\n",
       "| f   | 97  | 54  | 81  |  66 |\n",
       "| g   | 98  | 57  | 82  |  67 |\n",
       "| h   | 89  | 50  | 74  |  83 |\n",
       "| i   | 60  | 65  | 52  |  77 |\n",
       "| j   | 73  | 76  | 77  |  97 |\n",
       "\n"
      ],
      "text/plain": [
       "   name hindi english maths physics\n",
       "1  a    72    53      51    100    \n",
       "2  b    66    67      68     58    \n",
       "3  c    61    63      78     92    \n",
       "4  d    51    68      72     71    \n",
       "5  e    95    66      93     81    \n",
       "6  f    97    54      81     66    \n",
       "7  g    98    57      82     67    \n",
       "8  h    89    50      74     83    \n",
       "9  i    60    65      52     77    \n",
       "10 j    73    76      77     97    "
      ]
     },
     "metadata": {},
     "output_type": "display_data"
    }
   ],
   "source": [
    "df2"
   ]
  },
  {
   "cell_type": "code",
   "execution_count": 16,
   "metadata": {},
   "outputs": [],
   "source": [
    "library(tidyr)"
   ]
  },
  {
   "cell_type": "code",
   "execution_count": 22,
   "metadata": {},
   "outputs": [
    {
     "data": {
      "text/html": [
       "<table>\n",
       "<thead><tr><th scope=col>name</th><th scope=col>english</th><th scope=col>subject</th><th scope=col>Marks</th></tr></thead>\n",
       "<tbody>\n",
       "\t<tr><td>a    </td><td>53   </td><td>maths</td><td>51   </td></tr>\n",
       "\t<tr><td>b    </td><td>67   </td><td>maths</td><td>68   </td></tr>\n",
       "\t<tr><td>c    </td><td>63   </td><td>maths</td><td>78   </td></tr>\n",
       "\t<tr><td>d    </td><td>68   </td><td>maths</td><td>72   </td></tr>\n",
       "\t<tr><td>e    </td><td>66   </td><td>maths</td><td>93   </td></tr>\n",
       "\t<tr><td>f    </td><td>54   </td><td>maths</td><td>81   </td></tr>\n",
       "</tbody>\n",
       "</table>\n"
      ],
      "text/latex": [
       "\\begin{tabular}{r|llll}\n",
       " name & english & subject & Marks\\\\\n",
       "\\hline\n",
       "\t a     & 53    & maths & 51   \\\\\n",
       "\t b     & 67    & maths & 68   \\\\\n",
       "\t c     & 63    & maths & 78   \\\\\n",
       "\t d     & 68    & maths & 72   \\\\\n",
       "\t e     & 66    & maths & 93   \\\\\n",
       "\t f     & 54    & maths & 81   \\\\\n",
       "\\end{tabular}\n"
      ],
      "text/markdown": [
       "\n",
       "| name | english | subject | Marks |\n",
       "|---|---|---|---|\n",
       "| a     | 53    | maths | 51    |\n",
       "| b     | 67    | maths | 68    |\n",
       "| c     | 63    | maths | 78    |\n",
       "| d     | 68    | maths | 72    |\n",
       "| e     | 66    | maths | 93    |\n",
       "| f     | 54    | maths | 81    |\n",
       "\n"
      ],
      "text/plain": [
       "  name english subject Marks\n",
       "1 a    53      maths   51   \n",
       "2 b    67      maths   68   \n",
       "3 c    63      maths   78   \n",
       "4 d    68      maths   72   \n",
       "5 e    66      maths   93   \n",
       "6 f    54      maths   81   "
      ]
     },
     "metadata": {},
     "output_type": "display_data"
    }
   ],
   "source": [
    "df1 = gather(df,\"subject\",\"Marks\",c(2,4,5))\n",
    "head(df1)"
   ]
  },
  {
   "cell_type": "code",
   "execution_count": 23,
   "metadata": {},
   "outputs": [
    {
     "data": {
      "text/html": [
       "<table>\n",
       "<thead><tr><th scope=col>name</th><th scope=col>english</th><th scope=col>subject</th><th scope=col>Marks</th></tr></thead>\n",
       "<tbody>\n",
       "\t<tr><td>a      </td><td>53     </td><td>maths  </td><td> 51    </td></tr>\n",
       "\t<tr><td>b      </td><td>67     </td><td>maths  </td><td> 68    </td></tr>\n",
       "\t<tr><td>c      </td><td>63     </td><td>maths  </td><td> 78    </td></tr>\n",
       "\t<tr><td>d      </td><td>68     </td><td>maths  </td><td> 72    </td></tr>\n",
       "\t<tr><td>e      </td><td>66     </td><td>maths  </td><td> 93    </td></tr>\n",
       "\t<tr><td>f      </td><td>54     </td><td>maths  </td><td> 81    </td></tr>\n",
       "\t<tr><td>g      </td><td>57     </td><td>maths  </td><td> 82    </td></tr>\n",
       "\t<tr><td>h      </td><td>50     </td><td>maths  </td><td> 74    </td></tr>\n",
       "\t<tr><td>i      </td><td>65     </td><td>maths  </td><td> 52    </td></tr>\n",
       "\t<tr><td>j      </td><td>76     </td><td>maths  </td><td> 77    </td></tr>\n",
       "\t<tr><td>a      </td><td>53     </td><td>physics</td><td>100    </td></tr>\n",
       "\t<tr><td>b      </td><td>67     </td><td>physics</td><td> 58    </td></tr>\n",
       "\t<tr><td>c      </td><td>63     </td><td>physics</td><td> 92    </td></tr>\n",
       "\t<tr><td>d      </td><td>68     </td><td>physics</td><td> 71    </td></tr>\n",
       "\t<tr><td>e      </td><td>66     </td><td>physics</td><td> 81    </td></tr>\n",
       "\t<tr><td>f      </td><td>54     </td><td>physics</td><td> 66    </td></tr>\n",
       "\t<tr><td>g      </td><td>57     </td><td>physics</td><td> 67    </td></tr>\n",
       "\t<tr><td>h      </td><td>50     </td><td>physics</td><td> 83    </td></tr>\n",
       "\t<tr><td>i      </td><td>65     </td><td>physics</td><td> 77    </td></tr>\n",
       "\t<tr><td>j      </td><td>76     </td><td>physics</td><td> 97    </td></tr>\n",
       "\t<tr><td>a      </td><td>53     </td><td>hindi  </td><td> 72    </td></tr>\n",
       "\t<tr><td>b      </td><td>67     </td><td>hindi  </td><td> 66    </td></tr>\n",
       "\t<tr><td>c      </td><td>63     </td><td>hindi  </td><td> 61    </td></tr>\n",
       "\t<tr><td>d      </td><td>68     </td><td>hindi  </td><td> 51    </td></tr>\n",
       "\t<tr><td>e      </td><td>66     </td><td>hindi  </td><td> 95    </td></tr>\n",
       "\t<tr><td>f      </td><td>54     </td><td>hindi  </td><td> 97    </td></tr>\n",
       "\t<tr><td>g      </td><td>57     </td><td>hindi  </td><td> 98    </td></tr>\n",
       "\t<tr><td>h      </td><td>50     </td><td>hindi  </td><td> 89    </td></tr>\n",
       "\t<tr><td>i      </td><td>65     </td><td>hindi  </td><td> 60    </td></tr>\n",
       "\t<tr><td>j      </td><td>76     </td><td>hindi  </td><td> 73    </td></tr>\n",
       "</tbody>\n",
       "</table>\n"
      ],
      "text/latex": [
       "\\begin{tabular}{r|llll}\n",
       " name & english & subject & Marks\\\\\n",
       "\\hline\n",
       "\t a       & 53      & maths   &  51    \\\\\n",
       "\t b       & 67      & maths   &  68    \\\\\n",
       "\t c       & 63      & maths   &  78    \\\\\n",
       "\t d       & 68      & maths   &  72    \\\\\n",
       "\t e       & 66      & maths   &  93    \\\\\n",
       "\t f       & 54      & maths   &  81    \\\\\n",
       "\t g       & 57      & maths   &  82    \\\\\n",
       "\t h       & 50      & maths   &  74    \\\\\n",
       "\t i       & 65      & maths   &  52    \\\\\n",
       "\t j       & 76      & maths   &  77    \\\\\n",
       "\t a       & 53      & physics & 100    \\\\\n",
       "\t b       & 67      & physics &  58    \\\\\n",
       "\t c       & 63      & physics &  92    \\\\\n",
       "\t d       & 68      & physics &  71    \\\\\n",
       "\t e       & 66      & physics &  81    \\\\\n",
       "\t f       & 54      & physics &  66    \\\\\n",
       "\t g       & 57      & physics &  67    \\\\\n",
       "\t h       & 50      & physics &  83    \\\\\n",
       "\t i       & 65      & physics &  77    \\\\\n",
       "\t j       & 76      & physics &  97    \\\\\n",
       "\t a       & 53      & hindi   &  72    \\\\\n",
       "\t b       & 67      & hindi   &  66    \\\\\n",
       "\t c       & 63      & hindi   &  61    \\\\\n",
       "\t d       & 68      & hindi   &  51    \\\\\n",
       "\t e       & 66      & hindi   &  95    \\\\\n",
       "\t f       & 54      & hindi   &  97    \\\\\n",
       "\t g       & 57      & hindi   &  98    \\\\\n",
       "\t h       & 50      & hindi   &  89    \\\\\n",
       "\t i       & 65      & hindi   &  60    \\\\\n",
       "\t j       & 76      & hindi   &  73    \\\\\n",
       "\\end{tabular}\n"
      ],
      "text/markdown": [
       "\n",
       "| name | english | subject | Marks |\n",
       "|---|---|---|---|\n",
       "| a       | 53      | maths   |  51     |\n",
       "| b       | 67      | maths   |  68     |\n",
       "| c       | 63      | maths   |  78     |\n",
       "| d       | 68      | maths   |  72     |\n",
       "| e       | 66      | maths   |  93     |\n",
       "| f       | 54      | maths   |  81     |\n",
       "| g       | 57      | maths   |  82     |\n",
       "| h       | 50      | maths   |  74     |\n",
       "| i       | 65      | maths   |  52     |\n",
       "| j       | 76      | maths   |  77     |\n",
       "| a       | 53      | physics | 100     |\n",
       "| b       | 67      | physics |  58     |\n",
       "| c       | 63      | physics |  92     |\n",
       "| d       | 68      | physics |  71     |\n",
       "| e       | 66      | physics |  81     |\n",
       "| f       | 54      | physics |  66     |\n",
       "| g       | 57      | physics |  67     |\n",
       "| h       | 50      | physics |  83     |\n",
       "| i       | 65      | physics |  77     |\n",
       "| j       | 76      | physics |  97     |\n",
       "| a       | 53      | hindi   |  72     |\n",
       "| b       | 67      | hindi   |  66     |\n",
       "| c       | 63      | hindi   |  61     |\n",
       "| d       | 68      | hindi   |  51     |\n",
       "| e       | 66      | hindi   |  95     |\n",
       "| f       | 54      | hindi   |  97     |\n",
       "| g       | 57      | hindi   |  98     |\n",
       "| h       | 50      | hindi   |  89     |\n",
       "| i       | 65      | hindi   |  60     |\n",
       "| j       | 76      | hindi   |  73     |\n",
       "\n"
      ],
      "text/plain": [
       "   name english subject Marks\n",
       "1  a    53      maths    51  \n",
       "2  b    67      maths    68  \n",
       "3  c    63      maths    78  \n",
       "4  d    68      maths    72  \n",
       "5  e    66      maths    93  \n",
       "6  f    54      maths    81  \n",
       "7  g    57      maths    82  \n",
       "8  h    50      maths    74  \n",
       "9  i    65      maths    52  \n",
       "10 j    76      maths    77  \n",
       "11 a    53      physics 100  \n",
       "12 b    67      physics  58  \n",
       "13 c    63      physics  92  \n",
       "14 d    68      physics  71  \n",
       "15 e    66      physics  81  \n",
       "16 f    54      physics  66  \n",
       "17 g    57      physics  67  \n",
       "18 h    50      physics  83  \n",
       "19 i    65      physics  77  \n",
       "20 j    76      physics  97  \n",
       "21 a    53      hindi    72  \n",
       "22 b    67      hindi    66  \n",
       "23 c    63      hindi    61  \n",
       "24 d    68      hindi    51  \n",
       "25 e    66      hindi    95  \n",
       "26 f    54      hindi    97  \n",
       "27 g    57      hindi    98  \n",
       "28 h    50      hindi    89  \n",
       "29 i    65      hindi    60  \n",
       "30 j    76      hindi    73  "
      ]
     },
     "metadata": {},
     "output_type": "display_data"
    }
   ],
   "source": [
    "df1\n"
   ]
  },
  {
   "cell_type": "code",
   "execution_count": 25,
   "metadata": {},
   "outputs": [],
   "source": [
    "df = data.frame(\n",
    "   id = 1:10,\n",
    "   name = sample(c('mobile','laptop','tv','xbox'),10,replace=T),\n",
    "   quantity = sample(10:50,10),\n",
    "   price = sample(5000:50000,10),\n",
    "   day = sample(1:31,10),\n",
    "   month = sample(3:6,c(1,2,3,4)),\n",
    "   year = rep(2018:2019,c(6,4))\n",
    "  )    \n",
    "    \n",
    "    "
   ]
  },
  {
   "cell_type": "code",
   "execution_count": 26,
   "metadata": {},
   "outputs": [
    {
     "data": {
      "text/html": [
       "<table>\n",
       "<thead><tr><th scope=col>id</th><th scope=col>name</th><th scope=col>quantity</th><th scope=col>price</th><th scope=col>day</th><th scope=col>month</th><th scope=col>year</th></tr></thead>\n",
       "<tbody>\n",
       "\t<tr><td>1     </td><td>tv    </td><td>30    </td><td>23168 </td><td>19    </td><td>5     </td><td>2018  </td></tr>\n",
       "\t<tr><td>2     </td><td>laptop</td><td>32    </td><td>40865 </td><td>16    </td><td>5     </td><td>2018  </td></tr>\n",
       "\t<tr><td>3     </td><td>laptop</td><td>44    </td><td>13657 </td><td>23    </td><td>5     </td><td>2018  </td></tr>\n",
       "\t<tr><td>4     </td><td>xbox  </td><td>28    </td><td> 6390 </td><td>17    </td><td>5     </td><td>2018  </td></tr>\n",
       "\t<tr><td>5     </td><td>xbox  </td><td>19    </td><td>44237 </td><td>26    </td><td>5     </td><td>2018  </td></tr>\n",
       "\t<tr><td>6     </td><td>mobile</td><td>33    </td><td>44188 </td><td>28    </td><td>5     </td><td>2018  </td></tr>\n",
       "</tbody>\n",
       "</table>\n"
      ],
      "text/latex": [
       "\\begin{tabular}{r|lllllll}\n",
       " id & name & quantity & price & day & month & year\\\\\n",
       "\\hline\n",
       "\t 1      & tv     & 30     & 23168  & 19     & 5      & 2018  \\\\\n",
       "\t 2      & laptop & 32     & 40865  & 16     & 5      & 2018  \\\\\n",
       "\t 3      & laptop & 44     & 13657  & 23     & 5      & 2018  \\\\\n",
       "\t 4      & xbox   & 28     &  6390  & 17     & 5      & 2018  \\\\\n",
       "\t 5      & xbox   & 19     & 44237  & 26     & 5      & 2018  \\\\\n",
       "\t 6      & mobile & 33     & 44188  & 28     & 5      & 2018  \\\\\n",
       "\\end{tabular}\n"
      ],
      "text/markdown": [
       "\n",
       "| id | name | quantity | price | day | month | year |\n",
       "|---|---|---|---|---|---|---|\n",
       "| 1      | tv     | 30     | 23168  | 19     | 5      | 2018   |\n",
       "| 2      | laptop | 32     | 40865  | 16     | 5      | 2018   |\n",
       "| 3      | laptop | 44     | 13657  | 23     | 5      | 2018   |\n",
       "| 4      | xbox   | 28     |  6390  | 17     | 5      | 2018   |\n",
       "| 5      | xbox   | 19     | 44237  | 26     | 5      | 2018   |\n",
       "| 6      | mobile | 33     | 44188  | 28     | 5      | 2018   |\n",
       "\n"
      ],
      "text/plain": [
       "  id name   quantity price day month year\n",
       "1 1  tv     30       23168 19  5     2018\n",
       "2 2  laptop 32       40865 16  5     2018\n",
       "3 3  laptop 44       13657 23  5     2018\n",
       "4 4  xbox   28        6390 17  5     2018\n",
       "5 5  xbox   19       44237 26  5     2018\n",
       "6 6  mobile 33       44188 28  5     2018"
      ]
     },
     "metadata": {},
     "output_type": "display_data"
    }
   ],
   "source": [
    "head(df)"
   ]
  },
  {
   "cell_type": "code",
   "execution_count": 27,
   "metadata": {},
   "outputs": [
    {
     "data": {
      "text/html": [
       "<table>\n",
       "<thead><tr><th scope=col>id</th><th scope=col>name</th><th scope=col>quantity</th><th scope=col>price</th><th scope=col>date</th></tr></thead>\n",
       "<tbody>\n",
       "\t<tr><td>1        </td><td>tv       </td><td>30       </td><td>23168    </td><td>19-5-2018</td></tr>\n",
       "\t<tr><td>2        </td><td>laptop   </td><td>32       </td><td>40865    </td><td>16-5-2018</td></tr>\n",
       "\t<tr><td>3        </td><td>laptop   </td><td>44       </td><td>13657    </td><td>23-5-2018</td></tr>\n",
       "\t<tr><td>4        </td><td>xbox     </td><td>28       </td><td> 6390    </td><td>17-5-2018</td></tr>\n",
       "\t<tr><td>5        </td><td>xbox     </td><td>19       </td><td>44237    </td><td>26-5-2018</td></tr>\n",
       "\t<tr><td>6        </td><td>mobile   </td><td>33       </td><td>44188    </td><td>28-5-2018</td></tr>\n",
       "</tbody>\n",
       "</table>\n"
      ],
      "text/latex": [
       "\\begin{tabular}{r|lllll}\n",
       " id & name & quantity & price & date\\\\\n",
       "\\hline\n",
       "\t 1         & tv        & 30        & 23168     & 19-5-2018\\\\\n",
       "\t 2         & laptop    & 32        & 40865     & 16-5-2018\\\\\n",
       "\t 3         & laptop    & 44        & 13657     & 23-5-2018\\\\\n",
       "\t 4         & xbox      & 28        &  6390     & 17-5-2018\\\\\n",
       "\t 5         & xbox      & 19        & 44237     & 26-5-2018\\\\\n",
       "\t 6         & mobile    & 33        & 44188     & 28-5-2018\\\\\n",
       "\\end{tabular}\n"
      ],
      "text/markdown": [
       "\n",
       "| id | name | quantity | price | date |\n",
       "|---|---|---|---|---|\n",
       "| 1         | tv        | 30        | 23168     | 19-5-2018 |\n",
       "| 2         | laptop    | 32        | 40865     | 16-5-2018 |\n",
       "| 3         | laptop    | 44        | 13657     | 23-5-2018 |\n",
       "| 4         | xbox      | 28        |  6390     | 17-5-2018 |\n",
       "| 5         | xbox      | 19        | 44237     | 26-5-2018 |\n",
       "| 6         | mobile    | 33        | 44188     | 28-5-2018 |\n",
       "\n"
      ],
      "text/plain": [
       "  id name   quantity price date     \n",
       "1 1  tv     30       23168 19-5-2018\n",
       "2 2  laptop 32       40865 16-5-2018\n",
       "3 3  laptop 44       13657 23-5-2018\n",
       "4 4  xbox   28        6390 17-5-2018\n",
       "5 5  xbox   19       44237 26-5-2018\n",
       "6 6  mobile 33       44188 28-5-2018"
      ]
     },
     "metadata": {},
     "output_type": "display_data"
    }
   ],
   "source": [
    "df1 = unite(data=df,col='date',c(\"day\",\"month\",\"year\"),sep=\"-\")\n",
    "head(df1)"
   ]
  },
  {
   "cell_type": "code",
   "execution_count": 28,
   "metadata": {},
   "outputs": [],
   "source": [
    "df2= separate(data=df1,col=\"date\",into=c(\"day\",\"month\",\"year\"),sep=\"-\")"
   ]
  },
  {
   "cell_type": "code",
   "execution_count": 29,
   "metadata": {},
   "outputs": [
    {
     "data": {
      "text/html": [
       "<table>\n",
       "<thead><tr><th scope=col>id</th><th scope=col>name</th><th scope=col>quantity</th><th scope=col>price</th><th scope=col>day</th><th scope=col>month</th><th scope=col>year</th></tr></thead>\n",
       "<tbody>\n",
       "\t<tr><td>1     </td><td>tv    </td><td>30    </td><td>23168 </td><td>19    </td><td>5     </td><td>2018  </td></tr>\n",
       "\t<tr><td>2     </td><td>laptop</td><td>32    </td><td>40865 </td><td>16    </td><td>5     </td><td>2018  </td></tr>\n",
       "\t<tr><td>3     </td><td>laptop</td><td>44    </td><td>13657 </td><td>23    </td><td>5     </td><td>2018  </td></tr>\n",
       "\t<tr><td>4     </td><td>xbox  </td><td>28    </td><td> 6390 </td><td>17    </td><td>5     </td><td>2018  </td></tr>\n",
       "\t<tr><td>5     </td><td>xbox  </td><td>19    </td><td>44237 </td><td>26    </td><td>5     </td><td>2018  </td></tr>\n",
       "\t<tr><td>6     </td><td>mobile</td><td>33    </td><td>44188 </td><td>28    </td><td>5     </td><td>2018  </td></tr>\n",
       "</tbody>\n",
       "</table>\n"
      ],
      "text/latex": [
       "\\begin{tabular}{r|lllllll}\n",
       " id & name & quantity & price & day & month & year\\\\\n",
       "\\hline\n",
       "\t 1      & tv     & 30     & 23168  & 19     & 5      & 2018  \\\\\n",
       "\t 2      & laptop & 32     & 40865  & 16     & 5      & 2018  \\\\\n",
       "\t 3      & laptop & 44     & 13657  & 23     & 5      & 2018  \\\\\n",
       "\t 4      & xbox   & 28     &  6390  & 17     & 5      & 2018  \\\\\n",
       "\t 5      & xbox   & 19     & 44237  & 26     & 5      & 2018  \\\\\n",
       "\t 6      & mobile & 33     & 44188  & 28     & 5      & 2018  \\\\\n",
       "\\end{tabular}\n"
      ],
      "text/markdown": [
       "\n",
       "| id | name | quantity | price | day | month | year |\n",
       "|---|---|---|---|---|---|---|\n",
       "| 1      | tv     | 30     | 23168  | 19     | 5      | 2018   |\n",
       "| 2      | laptop | 32     | 40865  | 16     | 5      | 2018   |\n",
       "| 3      | laptop | 44     | 13657  | 23     | 5      | 2018   |\n",
       "| 4      | xbox   | 28     |  6390  | 17     | 5      | 2018   |\n",
       "| 5      | xbox   | 19     | 44237  | 26     | 5      | 2018   |\n",
       "| 6      | mobile | 33     | 44188  | 28     | 5      | 2018   |\n",
       "\n"
      ],
      "text/plain": [
       "  id name   quantity price day month year\n",
       "1 1  tv     30       23168 19  5     2018\n",
       "2 2  laptop 32       40865 16  5     2018\n",
       "3 3  laptop 44       13657 23  5     2018\n",
       "4 4  xbox   28        6390 17  5     2018\n",
       "5 5  xbox   19       44237 26  5     2018\n",
       "6 6  mobile 33       44188 28  5     2018"
      ]
     },
     "metadata": {},
     "output_type": "display_data"
    }
   ],
   "source": [
    "head(df2)"
   ]
  },
  {
   "cell_type": "code",
   "execution_count": 30,
   "metadata": {},
   "outputs": [
    {
     "name": "stderr",
     "output_type": "stream",
     "text": [
      "Loading required package: gsubfn\n",
      "Loading required package: proto\n",
      "Loading required package: RSQLite\n"
     ]
    }
   ],
   "source": [
    "library(sqldf)"
   ]
  },
  {
   "cell_type": "code",
   "execution_count": 38,
   "metadata": {},
   "outputs": [
    {
     "ename": "ERROR",
     "evalue": "Error in data.frame(sid = 1:10, name = letters[1:10], age = sample(16:20, : arguments imply differing number of rows: 10, 32\n",
     "output_type": "error",
     "traceback": [
      "Error in data.frame(sid = 1:10, name = letters[1:10], age = sample(16:20, : arguments imply differing number of rows: 10, 32\nTraceback:\n",
      "1. data.frame(sid = 1:10, name = letters[1:10], age = sample(16:20, \n .     10, replace = T), height = sample(c(5.5, 6.5, 7.7, 8.5, 5.1, \n .     11, 6, 6.3), 10, replace = T), weight = sample(c(50:80, 10)))",
      "2. stop(gettextf(\"arguments imply differing number of rows: %s\", \n .     paste(unique(nrows), collapse = \", \")), domain = NA)"
     ]
    }
   ],
   "source": [
    "student = data.frame(\n",
    "    \n",
    "    name = letters[1:10],\n",
    "    age = sample(16:20,10,replace=T),\n",
    "    height = sample(c(5.5,6.5,7.7,8.5,5.10,11,6,6.3),10,replace =T),\n",
    "    weight = sample(c(50:80,10))\n",
    "\n",
    ")\n",
    "\n",
    "game = data.frame(\n",
    "   sid = sample(1:20,10),\n",
    "   play = sample(c(\"cricket\",\"football\",\"kabaddi\"),10,replace=T),\n",
    "   class = sample(c(\"good\",\"average\",\"exellent\"),10,replace=T) \n",
    ") \n",
    "    \n",
    "    "
   ]
  },
  {
   "cell_type": "code",
   "execution_count": 100,
   "metadata": {},
   "outputs": [],
   "source": [
    "student = data.frame(\n",
    "    sid = 1:10,\n",
    "    name = letters[1:10],\n",
    "    age = sample(16:20,10,replace=T),\n",
    "    height = sample(c(5.5,6.5,7.7,8.5,5.10,11,6,6.3),10,replace =T),\n",
    "    weight = sample(50:80,10)\n",
    ")"
   ]
  },
  {
   "cell_type": "code",
   "execution_count": 36,
   "metadata": {},
   "outputs": [
    {
     "data": {
      "text/html": [
       "<ol class=list-inline>\n",
       "\t<li>'a'</li>\n",
       "\t<li>'b'</li>\n",
       "\t<li>'c'</li>\n",
       "\t<li>'d'</li>\n",
       "\t<li>'e'</li>\n",
       "\t<li>'f'</li>\n",
       "\t<li>'g'</li>\n",
       "\t<li>'h'</li>\n",
       "\t<li>'i'</li>\n",
       "\t<li>'j'</li>\n",
       "</ol>\n"
      ],
      "text/latex": [
       "\\begin{enumerate*}\n",
       "\\item 'a'\n",
       "\\item 'b'\n",
       "\\item 'c'\n",
       "\\item 'd'\n",
       "\\item 'e'\n",
       "\\item 'f'\n",
       "\\item 'g'\n",
       "\\item 'h'\n",
       "\\item 'i'\n",
       "\\item 'j'\n",
       "\\end{enumerate*}\n"
      ],
      "text/markdown": [
       "1. 'a'\n",
       "2. 'b'\n",
       "3. 'c'\n",
       "4. 'd'\n",
       "5. 'e'\n",
       "6. 'f'\n",
       "7. 'g'\n",
       "8. 'h'\n",
       "9. 'i'\n",
       "10. 'j'\n",
       "\n",
       "\n"
      ],
      "text/plain": [
       " [1] \"a\" \"b\" \"c\" \"d\" \"e\" \"f\" \"g\" \"h\" \"i\" \"j\""
      ]
     },
     "metadata": {},
     "output_type": "display_data"
    }
   ],
   "source": [
    "letters[1:10]"
   ]
  },
  {
   "cell_type": "code",
   "execution_count": 90,
   "metadata": {},
   "outputs": [
    {
     "data": {
      "text/html": [
       "10"
      ],
      "text/latex": [
       "10"
      ],
      "text/markdown": [
       "10"
      ],
      "text/plain": [
       "[1] 10"
      ]
     },
     "metadata": {},
     "output_type": "display_data"
    }
   ],
   "source": [
    "sid = 1:10\n",
    "length(sid)"
   ]
  },
  {
   "cell_type": "code",
   "execution_count": 94,
   "metadata": {},
   "outputs": [
    {
     "data": {
      "text/html": [
       "10"
      ],
      "text/latex": [
       "10"
      ],
      "text/markdown": [
       "10"
      ],
      "text/plain": [
       "[1] 10"
      ]
     },
     "metadata": {},
     "output_type": "display_data"
    }
   ],
   "source": [
    "name = letters[1:10]\n",
    "length(name)"
   ]
  },
  {
   "cell_type": "code",
   "execution_count": 93,
   "metadata": {},
   "outputs": [
    {
     "data": {
      "text/html": [
       "10"
      ],
      "text/latex": [
       "10"
      ],
      "text/markdown": [
       "10"
      ],
      "text/plain": [
       "[1] 10"
      ]
     },
     "metadata": {},
     "output_type": "display_data"
    }
   ],
   "source": [
    "age = sample(16:20,10,replace=T)\n",
    "length(age)"
   ]
  },
  {
   "cell_type": "code",
   "execution_count": 95,
   "metadata": {},
   "outputs": [
    {
     "data": {
      "text/html": [
       "10"
      ],
      "text/latex": [
       "10"
      ],
      "text/markdown": [
       "10"
      ],
      "text/plain": [
       "[1] 10"
      ]
     },
     "metadata": {},
     "output_type": "display_data"
    }
   ],
   "source": [
    "height = sample(c(5.5,6.5,7.7,8.5,5.10,11,6,6.3),10,replace =T)\n",
    "length(height)"
   ]
  },
  {
   "cell_type": "code",
   "execution_count": 97,
   "metadata": {},
   "outputs": [
    {
     "data": {
      "text/html": [
       "10"
      ],
      "text/latex": [
       "10"
      ],
      "text/markdown": [
       "10"
      ],
      "text/plain": [
       "[1] 10"
      ]
     },
     "metadata": {},
     "output_type": "display_data"
    }
   ],
   "source": [
    "weight = sample(50:80,10)\n",
    "length(weight)"
   ]
  },
  {
   "cell_type": "code",
   "execution_count": 99,
   "metadata": {},
   "outputs": [
    {
     "data": {
      "text/html": [
       "<table>\n",
       "<thead><tr><th scope=col>sid</th><th scope=col>name</th><th scope=col>age</th><th scope=col>height</th><th scope=col>weight</th></tr></thead>\n",
       "<tbody>\n",
       "\t<tr><td>1   </td><td>a   </td><td>18  </td><td> 8.5</td><td>78  </td></tr>\n",
       "\t<tr><td>2   </td><td>b   </td><td>20  </td><td> 8.5</td><td>65  </td></tr>\n",
       "\t<tr><td>3   </td><td>c   </td><td>17  </td><td> 6.5</td><td>66  </td></tr>\n",
       "\t<tr><td>4   </td><td>d   </td><td>18  </td><td> 5.1</td><td>53  </td></tr>\n",
       "\t<tr><td>5   </td><td>e   </td><td>17  </td><td>11.0</td><td>58  </td></tr>\n",
       "\t<tr><td>6   </td><td>f   </td><td>17  </td><td> 5.5</td><td>51  </td></tr>\n",
       "</tbody>\n",
       "</table>\n"
      ],
      "text/latex": [
       "\\begin{tabular}{r|lllll}\n",
       " sid & name & age & height & weight\\\\\n",
       "\\hline\n",
       "\t 1    & a    & 18   &  8.5 & 78  \\\\\n",
       "\t 2    & b    & 20   &  8.5 & 65  \\\\\n",
       "\t 3    & c    & 17   &  6.5 & 66  \\\\\n",
       "\t 4    & d    & 18   &  5.1 & 53  \\\\\n",
       "\t 5    & e    & 17   & 11.0 & 58  \\\\\n",
       "\t 6    & f    & 17   &  5.5 & 51  \\\\\n",
       "\\end{tabular}\n"
      ],
      "text/markdown": [
       "\n",
       "| sid | name | age | height | weight |\n",
       "|---|---|---|---|---|\n",
       "| 1    | a    | 18   |  8.5 | 78   |\n",
       "| 2    | b    | 20   |  8.5 | 65   |\n",
       "| 3    | c    | 17   |  6.5 | 66   |\n",
       "| 4    | d    | 18   |  5.1 | 53   |\n",
       "| 5    | e    | 17   | 11.0 | 58   |\n",
       "| 6    | f    | 17   |  5.5 | 51   |\n",
       "\n"
      ],
      "text/plain": [
       "  sid name age height weight\n",
       "1 1   a    18   8.5   78    \n",
       "2 2   b    20   8.5   65    \n",
       "3 3   c    17   6.5   66    \n",
       "4 4   d    18   5.1   53    \n",
       "5 5   e    17  11.0   58    \n",
       "6 6   f    17   5.5   51    "
      ]
     },
     "metadata": {},
     "output_type": "display_data"
    }
   ],
   "source": [
    "student = data.frame(sid,name,age,height,weight)\n",
    "head(student)"
   ]
  },
  {
   "cell_type": "code",
   "execution_count": 55,
   "metadata": {},
   "outputs": [
    {
     "name": "stderr",
     "output_type": "stream",
     "text": [
      "\n",
      "Attaching package: 'dplyr'\n",
      "\n",
      "The following objects are masked from 'package:stats':\n",
      "\n",
      "    filter, lag\n",
      "\n",
      "The following objects are masked from 'package:base':\n",
      "\n",
      "    intersect, setdiff, setequal, union\n",
      "\n"
     ]
    }
   ],
   "source": [
    "library(dplyr)"
   ]
  },
  {
   "cell_type": "code",
   "execution_count": 57,
   "metadata": {},
   "outputs": [
    {
     "data": {
      "text/html": [
       "<table>\n",
       "<thead><tr><th scope=col>id</th><th scope=col>name</th><th scope=col>quantity</th><th scope=col>price</th><th scope=col>day</th><th scope=col>month</th><th scope=col>year</th></tr></thead>\n",
       "<tbody>\n",
       "\t<tr><td>1     </td><td>tv    </td><td>30    </td><td>23168 </td><td>19    </td><td>5     </td><td>2018  </td></tr>\n",
       "\t<tr><td>2     </td><td>laptop</td><td>32    </td><td>40865 </td><td>16    </td><td>5     </td><td>2018  </td></tr>\n",
       "\t<tr><td>3     </td><td>laptop</td><td>44    </td><td>13657 </td><td>23    </td><td>5     </td><td>2018  </td></tr>\n",
       "\t<tr><td>4     </td><td>xbox  </td><td>28    </td><td> 6390 </td><td>17    </td><td>5     </td><td>2018  </td></tr>\n",
       "\t<tr><td>5     </td><td>xbox  </td><td>19    </td><td>44237 </td><td>26    </td><td>5     </td><td>2018  </td></tr>\n",
       "\t<tr><td>6     </td><td>mobile</td><td>33    </td><td>44188 </td><td>28    </td><td>5     </td><td>2018  </td></tr>\n",
       "</tbody>\n",
       "</table>\n"
      ],
      "text/latex": [
       "\\begin{tabular}{r|lllllll}\n",
       " id & name & quantity & price & day & month & year\\\\\n",
       "\\hline\n",
       "\t 1      & tv     & 30     & 23168  & 19     & 5      & 2018  \\\\\n",
       "\t 2      & laptop & 32     & 40865  & 16     & 5      & 2018  \\\\\n",
       "\t 3      & laptop & 44     & 13657  & 23     & 5      & 2018  \\\\\n",
       "\t 4      & xbox   & 28     &  6390  & 17     & 5      & 2018  \\\\\n",
       "\t 5      & xbox   & 19     & 44237  & 26     & 5      & 2018  \\\\\n",
       "\t 6      & mobile & 33     & 44188  & 28     & 5      & 2018  \\\\\n",
       "\\end{tabular}\n"
      ],
      "text/markdown": [
       "\n",
       "| id | name | quantity | price | day | month | year |\n",
       "|---|---|---|---|---|---|---|\n",
       "| 1      | tv     | 30     | 23168  | 19     | 5      | 2018   |\n",
       "| 2      | laptop | 32     | 40865  | 16     | 5      | 2018   |\n",
       "| 3      | laptop | 44     | 13657  | 23     | 5      | 2018   |\n",
       "| 4      | xbox   | 28     |  6390  | 17     | 5      | 2018   |\n",
       "| 5      | xbox   | 19     | 44237  | 26     | 5      | 2018   |\n",
       "| 6      | mobile | 33     | 44188  | 28     | 5      | 2018   |\n",
       "\n"
      ],
      "text/plain": [
       "  id name   quantity price day month year\n",
       "1 1  tv     30       23168 19  5     2018\n",
       "2 2  laptop 32       40865 16  5     2018\n",
       "3 3  laptop 44       13657 23  5     2018\n",
       "4 4  xbox   28        6390 17  5     2018\n",
       "5 5  xbox   19       44237 26  5     2018\n",
       "6 6  mobile 33       44188 28  5     2018"
      ]
     },
     "metadata": {},
     "output_type": "display_data"
    }
   ],
   "source": [
    "head(df)"
   ]
  },
  {
   "cell_type": "code",
   "execution_count": 63,
   "metadata": {},
   "outputs": [],
   "source": [
    "df1 = mutate(df,Ratio=price/quantity)"
   ]
  },
  {
   "cell_type": "code",
   "execution_count": 64,
   "metadata": {},
   "outputs": [
    {
     "data": {
      "text/html": [
       "<table>\n",
       "<thead><tr><th scope=col>id</th><th scope=col>name</th><th scope=col>quantity</th><th scope=col>price</th><th scope=col>day</th><th scope=col>month</th><th scope=col>year</th><th scope=col>Ratio</th></tr></thead>\n",
       "<tbody>\n",
       "\t<tr><td> 1       </td><td>tv       </td><td>30       </td><td>23168    </td><td>19       </td><td>5        </td><td>2018     </td><td> 772.2667</td></tr>\n",
       "\t<tr><td> 2       </td><td>laptop   </td><td>32       </td><td>40865    </td><td>16       </td><td>5        </td><td>2018     </td><td>1277.0312</td></tr>\n",
       "\t<tr><td> 3       </td><td>laptop   </td><td>44       </td><td>13657    </td><td>23       </td><td>5        </td><td>2018     </td><td> 310.3864</td></tr>\n",
       "\t<tr><td> 4       </td><td>xbox     </td><td>28       </td><td> 6390    </td><td>17       </td><td>5        </td><td>2018     </td><td> 228.2143</td></tr>\n",
       "\t<tr><td> 5       </td><td>xbox     </td><td>19       </td><td>44237    </td><td>26       </td><td>5        </td><td>2018     </td><td>2328.2632</td></tr>\n",
       "\t<tr><td> 6       </td><td>mobile   </td><td>33       </td><td>44188    </td><td>28       </td><td>5        </td><td>2018     </td><td>1339.0303</td></tr>\n",
       "\t<tr><td> 7       </td><td>mobile   </td><td>48       </td><td>27300    </td><td> 6       </td><td>5        </td><td>2019     </td><td> 568.7500</td></tr>\n",
       "\t<tr><td> 8       </td><td>tv       </td><td>29       </td><td>20188    </td><td>22       </td><td>5        </td><td>2019     </td><td> 696.1379</td></tr>\n",
       "\t<tr><td> 9       </td><td>xbox     </td><td>42       </td><td>20642    </td><td>14       </td><td>5        </td><td>2019     </td><td> 491.4762</td></tr>\n",
       "\t<tr><td>10       </td><td>xbox     </td><td>25       </td><td>18728    </td><td>29       </td><td>5        </td><td>2019     </td><td> 749.1200</td></tr>\n",
       "</tbody>\n",
       "</table>\n"
      ],
      "text/latex": [
       "\\begin{tabular}{r|llllllll}\n",
       " id & name & quantity & price & day & month & year & Ratio\\\\\n",
       "\\hline\n",
       "\t  1        & tv        & 30        & 23168     & 19        & 5         & 2018      &  772.2667\\\\\n",
       "\t  2        & laptop    & 32        & 40865     & 16        & 5         & 2018      & 1277.0312\\\\\n",
       "\t  3        & laptop    & 44        & 13657     & 23        & 5         & 2018      &  310.3864\\\\\n",
       "\t  4        & xbox      & 28        &  6390     & 17        & 5         & 2018      &  228.2143\\\\\n",
       "\t  5        & xbox      & 19        & 44237     & 26        & 5         & 2018      & 2328.2632\\\\\n",
       "\t  6        & mobile    & 33        & 44188     & 28        & 5         & 2018      & 1339.0303\\\\\n",
       "\t  7        & mobile    & 48        & 27300     &  6        & 5         & 2019      &  568.7500\\\\\n",
       "\t  8        & tv        & 29        & 20188     & 22        & 5         & 2019      &  696.1379\\\\\n",
       "\t  9        & xbox      & 42        & 20642     & 14        & 5         & 2019      &  491.4762\\\\\n",
       "\t 10        & xbox      & 25        & 18728     & 29        & 5         & 2019      &  749.1200\\\\\n",
       "\\end{tabular}\n"
      ],
      "text/markdown": [
       "\n",
       "| id | name | quantity | price | day | month | year | Ratio |\n",
       "|---|---|---|---|---|---|---|---|\n",
       "|  1        | tv        | 30        | 23168     | 19        | 5         | 2018      |  772.2667 |\n",
       "|  2        | laptop    | 32        | 40865     | 16        | 5         | 2018      | 1277.0312 |\n",
       "|  3        | laptop    | 44        | 13657     | 23        | 5         | 2018      |  310.3864 |\n",
       "|  4        | xbox      | 28        |  6390     | 17        | 5         | 2018      |  228.2143 |\n",
       "|  5        | xbox      | 19        | 44237     | 26        | 5         | 2018      | 2328.2632 |\n",
       "|  6        | mobile    | 33        | 44188     | 28        | 5         | 2018      | 1339.0303 |\n",
       "|  7        | mobile    | 48        | 27300     |  6        | 5         | 2019      |  568.7500 |\n",
       "|  8        | tv        | 29        | 20188     | 22        | 5         | 2019      |  696.1379 |\n",
       "|  9        | xbox      | 42        | 20642     | 14        | 5         | 2019      |  491.4762 |\n",
       "| 10        | xbox      | 25        | 18728     | 29        | 5         | 2019      |  749.1200 |\n",
       "\n"
      ],
      "text/plain": [
       "   id name   quantity price day month year Ratio    \n",
       "1   1 tv     30       23168 19  5     2018  772.2667\n",
       "2   2 laptop 32       40865 16  5     2018 1277.0312\n",
       "3   3 laptop 44       13657 23  5     2018  310.3864\n",
       "4   4 xbox   28        6390 17  5     2018  228.2143\n",
       "5   5 xbox   19       44237 26  5     2018 2328.2632\n",
       "6   6 mobile 33       44188 28  5     2018 1339.0303\n",
       "7   7 mobile 48       27300  6  5     2019  568.7500\n",
       "8   8 tv     29       20188 22  5     2019  696.1379\n",
       "9   9 xbox   42       20642 14  5     2019  491.4762\n",
       "10 10 xbox   25       18728 29  5     2019  749.1200"
      ]
     },
     "metadata": {},
     "output_type": "display_data"
    }
   ],
   "source": [
    "df1\n"
   ]
  },
  {
   "cell_type": "code",
   "execution_count": 66,
   "metadata": {},
   "outputs": [
    {
     "data": {
      "text/html": [
       "<table>\n",
       "<thead><tr><th scope=col>id</th><th scope=col>name</th><th scope=col>quantity</th><th scope=col>price</th><th scope=col>day</th><th scope=col>month</th><th scope=col>year</th></tr></thead>\n",
       "<tbody>\n",
       "\t<tr><td> 1    </td><td>tv    </td><td>30    </td><td>23168 </td><td>19    </td><td>5     </td><td>2018  </td></tr>\n",
       "\t<tr><td> 2    </td><td>laptop</td><td>32    </td><td>40865 </td><td>16    </td><td>5     </td><td>2018  </td></tr>\n",
       "\t<tr><td> 3    </td><td>laptop</td><td>44    </td><td>13657 </td><td>23    </td><td>5     </td><td>2018  </td></tr>\n",
       "\t<tr><td> 4    </td><td>xbox  </td><td>28    </td><td> 6390 </td><td>17    </td><td>5     </td><td>2018  </td></tr>\n",
       "\t<tr><td> 5    </td><td>xbox  </td><td>19    </td><td>44237 </td><td>26    </td><td>5     </td><td>2018  </td></tr>\n",
       "\t<tr><td> 6    </td><td>mobile</td><td>33    </td><td>44188 </td><td>28    </td><td>5     </td><td>2018  </td></tr>\n",
       "\t<tr><td> 7    </td><td>mobile</td><td>48    </td><td>27300 </td><td> 6    </td><td>5     </td><td>2019  </td></tr>\n",
       "\t<tr><td> 8    </td><td>tv    </td><td>29    </td><td>20188 </td><td>22    </td><td>5     </td><td>2019  </td></tr>\n",
       "\t<tr><td> 9    </td><td>xbox  </td><td>42    </td><td>20642 </td><td>14    </td><td>5     </td><td>2019  </td></tr>\n",
       "\t<tr><td>10    </td><td>xbox  </td><td>25    </td><td>18728 </td><td>29    </td><td>5     </td><td>2019  </td></tr>\n",
       "</tbody>\n",
       "</table>\n"
      ],
      "text/latex": [
       "\\begin{tabular}{r|lllllll}\n",
       " id & name & quantity & price & day & month & year\\\\\n",
       "\\hline\n",
       "\t  1     & tv     & 30     & 23168  & 19     & 5      & 2018  \\\\\n",
       "\t  2     & laptop & 32     & 40865  & 16     & 5      & 2018  \\\\\n",
       "\t  3     & laptop & 44     & 13657  & 23     & 5      & 2018  \\\\\n",
       "\t  4     & xbox   & 28     &  6390  & 17     & 5      & 2018  \\\\\n",
       "\t  5     & xbox   & 19     & 44237  & 26     & 5      & 2018  \\\\\n",
       "\t  6     & mobile & 33     & 44188  & 28     & 5      & 2018  \\\\\n",
       "\t  7     & mobile & 48     & 27300  &  6     & 5      & 2019  \\\\\n",
       "\t  8     & tv     & 29     & 20188  & 22     & 5      & 2019  \\\\\n",
       "\t  9     & xbox   & 42     & 20642  & 14     & 5      & 2019  \\\\\n",
       "\t 10     & xbox   & 25     & 18728  & 29     & 5      & 2019  \\\\\n",
       "\\end{tabular}\n"
      ],
      "text/markdown": [
       "\n",
       "| id | name | quantity | price | day | month | year |\n",
       "|---|---|---|---|---|---|---|\n",
       "|  1     | tv     | 30     | 23168  | 19     | 5      | 2018   |\n",
       "|  2     | laptop | 32     | 40865  | 16     | 5      | 2018   |\n",
       "|  3     | laptop | 44     | 13657  | 23     | 5      | 2018   |\n",
       "|  4     | xbox   | 28     |  6390  | 17     | 5      | 2018   |\n",
       "|  5     | xbox   | 19     | 44237  | 26     | 5      | 2018   |\n",
       "|  6     | mobile | 33     | 44188  | 28     | 5      | 2018   |\n",
       "|  7     | mobile | 48     | 27300  |  6     | 5      | 2019   |\n",
       "|  8     | tv     | 29     | 20188  | 22     | 5      | 2019   |\n",
       "|  9     | xbox   | 42     | 20642  | 14     | 5      | 2019   |\n",
       "| 10     | xbox   | 25     | 18728  | 29     | 5      | 2019   |\n",
       "\n"
      ],
      "text/plain": [
       "   id name   quantity price day month year\n",
       "1   1 tv     30       23168 19  5     2018\n",
       "2   2 laptop 32       40865 16  5     2018\n",
       "3   3 laptop 44       13657 23  5     2018\n",
       "4   4 xbox   28        6390 17  5     2018\n",
       "5   5 xbox   19       44237 26  5     2018\n",
       "6   6 mobile 33       44188 28  5     2018\n",
       "7   7 mobile 48       27300  6  5     2019\n",
       "8   8 tv     29       20188 22  5     2019\n",
       "9   9 xbox   42       20642 14  5     2019\n",
       "10 10 xbox   25       18728 29  5     2019"
      ]
     },
     "metadata": {},
     "output_type": "display_data"
    }
   ],
   "source": [
    "arrange(df,id)"
   ]
  },
  {
   "cell_type": "code",
   "execution_count": 69,
   "metadata": {},
   "outputs": [
    {
     "data": {
      "text/html": [
       "<table>\n",
       "<thead><tr><th scope=col>id</th><th scope=col>name</th><th scope=col>quantity</th><th scope=col>price</th><th scope=col>day</th><th scope=col>month</th><th scope=col>year</th></tr></thead>\n",
       "<tbody>\n",
       "\t<tr><td>10    </td><td>xbox  </td><td>25    </td><td>18728 </td><td>29    </td><td>5     </td><td>2019  </td></tr>\n",
       "\t<tr><td> 9    </td><td>xbox  </td><td>42    </td><td>20642 </td><td>14    </td><td>5     </td><td>2019  </td></tr>\n",
       "\t<tr><td> 8    </td><td>tv    </td><td>29    </td><td>20188 </td><td>22    </td><td>5     </td><td>2019  </td></tr>\n",
       "\t<tr><td> 7    </td><td>mobile</td><td>48    </td><td>27300 </td><td> 6    </td><td>5     </td><td>2019  </td></tr>\n",
       "\t<tr><td> 6    </td><td>mobile</td><td>33    </td><td>44188 </td><td>28    </td><td>5     </td><td>2018  </td></tr>\n",
       "\t<tr><td> 5    </td><td>xbox  </td><td>19    </td><td>44237 </td><td>26    </td><td>5     </td><td>2018  </td></tr>\n",
       "\t<tr><td> 4    </td><td>xbox  </td><td>28    </td><td> 6390 </td><td>17    </td><td>5     </td><td>2018  </td></tr>\n",
       "\t<tr><td> 3    </td><td>laptop</td><td>44    </td><td>13657 </td><td>23    </td><td>5     </td><td>2018  </td></tr>\n",
       "\t<tr><td> 2    </td><td>laptop</td><td>32    </td><td>40865 </td><td>16    </td><td>5     </td><td>2018  </td></tr>\n",
       "\t<tr><td> 1    </td><td>tv    </td><td>30    </td><td>23168 </td><td>19    </td><td>5     </td><td>2018  </td></tr>\n",
       "</tbody>\n",
       "</table>\n"
      ],
      "text/latex": [
       "\\begin{tabular}{r|lllllll}\n",
       " id & name & quantity & price & day & month & year\\\\\n",
       "\\hline\n",
       "\t 10     & xbox   & 25     & 18728  & 29     & 5      & 2019  \\\\\n",
       "\t  9     & xbox   & 42     & 20642  & 14     & 5      & 2019  \\\\\n",
       "\t  8     & tv     & 29     & 20188  & 22     & 5      & 2019  \\\\\n",
       "\t  7     & mobile & 48     & 27300  &  6     & 5      & 2019  \\\\\n",
       "\t  6     & mobile & 33     & 44188  & 28     & 5      & 2018  \\\\\n",
       "\t  5     & xbox   & 19     & 44237  & 26     & 5      & 2018  \\\\\n",
       "\t  4     & xbox   & 28     &  6390  & 17     & 5      & 2018  \\\\\n",
       "\t  3     & laptop & 44     & 13657  & 23     & 5      & 2018  \\\\\n",
       "\t  2     & laptop & 32     & 40865  & 16     & 5      & 2018  \\\\\n",
       "\t  1     & tv     & 30     & 23168  & 19     & 5      & 2018  \\\\\n",
       "\\end{tabular}\n"
      ],
      "text/markdown": [
       "\n",
       "| id | name | quantity | price | day | month | year |\n",
       "|---|---|---|---|---|---|---|\n",
       "| 10     | xbox   | 25     | 18728  | 29     | 5      | 2019   |\n",
       "|  9     | xbox   | 42     | 20642  | 14     | 5      | 2019   |\n",
       "|  8     | tv     | 29     | 20188  | 22     | 5      | 2019   |\n",
       "|  7     | mobile | 48     | 27300  |  6     | 5      | 2019   |\n",
       "|  6     | mobile | 33     | 44188  | 28     | 5      | 2018   |\n",
       "|  5     | xbox   | 19     | 44237  | 26     | 5      | 2018   |\n",
       "|  4     | xbox   | 28     |  6390  | 17     | 5      | 2018   |\n",
       "|  3     | laptop | 44     | 13657  | 23     | 5      | 2018   |\n",
       "|  2     | laptop | 32     | 40865  | 16     | 5      | 2018   |\n",
       "|  1     | tv     | 30     | 23168  | 19     | 5      | 2018   |\n",
       "\n"
      ],
      "text/plain": [
       "   id name   quantity price day month year\n",
       "1  10 xbox   25       18728 29  5     2019\n",
       "2   9 xbox   42       20642 14  5     2019\n",
       "3   8 tv     29       20188 22  5     2019\n",
       "4   7 mobile 48       27300  6  5     2019\n",
       "5   6 mobile 33       44188 28  5     2018\n",
       "6   5 xbox   19       44237 26  5     2018\n",
       "7   4 xbox   28        6390 17  5     2018\n",
       "8   3 laptop 44       13657 23  5     2018\n",
       "9   2 laptop 32       40865 16  5     2018\n",
       "10  1 tv     30       23168 19  5     2018"
      ]
     },
     "metadata": {},
     "output_type": "display_data"
    }
   ],
   "source": [
    "arrange(df,desc(id))"
   ]
  },
  {
   "cell_type": "code",
   "execution_count": 70,
   "metadata": {},
   "outputs": [],
   "source": [
    "data =data.frame(\n",
    "  sex = sample(c(\"Male\",\"Female\"),25,replace =T),\n",
    "  height = sample(c(5.5,4.9,5.6,6.5,6.8,7.1,5.8),25,replace = T),\n",
    "  weight = sample(40:80,25,replace=T),\n",
    "  salary = sample(20000:50000,25)\n",
    "    )"
   ]
  },
  {
   "cell_type": "code",
   "execution_count": 71,
   "metadata": {},
   "outputs": [
    {
     "data": {
      "text/html": [
       "<table>\n",
       "<thead><tr><th scope=col>sex</th><th scope=col>height</th><th scope=col>weight</th><th scope=col>salary</th></tr></thead>\n",
       "<tbody>\n",
       "\t<tr><td>Male  </td><td>4.9   </td><td>73    </td><td>34682 </td></tr>\n",
       "\t<tr><td>Male  </td><td>6.5   </td><td>44    </td><td>38003 </td></tr>\n",
       "\t<tr><td>Female</td><td>6.8   </td><td>77    </td><td>49597 </td></tr>\n",
       "\t<tr><td>Male  </td><td>6.5   </td><td>79    </td><td>25547 </td></tr>\n",
       "\t<tr><td>Male  </td><td>5.8   </td><td>67    </td><td>43193 </td></tr>\n",
       "\t<tr><td>Female</td><td>6.5   </td><td>76    </td><td>42673 </td></tr>\n",
       "</tbody>\n",
       "</table>\n"
      ],
      "text/latex": [
       "\\begin{tabular}{r|llll}\n",
       " sex & height & weight & salary\\\\\n",
       "\\hline\n",
       "\t Male   & 4.9    & 73     & 34682 \\\\\n",
       "\t Male   & 6.5    & 44     & 38003 \\\\\n",
       "\t Female & 6.8    & 77     & 49597 \\\\\n",
       "\t Male   & 6.5    & 79     & 25547 \\\\\n",
       "\t Male   & 5.8    & 67     & 43193 \\\\\n",
       "\t Female & 6.5    & 76     & 42673 \\\\\n",
       "\\end{tabular}\n"
      ],
      "text/markdown": [
       "\n",
       "| sex | height | weight | salary |\n",
       "|---|---|---|---|\n",
       "| Male   | 4.9    | 73     | 34682  |\n",
       "| Male   | 6.5    | 44     | 38003  |\n",
       "| Female | 6.8    | 77     | 49597  |\n",
       "| Male   | 6.5    | 79     | 25547  |\n",
       "| Male   | 5.8    | 67     | 43193  |\n",
       "| Female | 6.5    | 76     | 42673  |\n",
       "\n"
      ],
      "text/plain": [
       "  sex    height weight salary\n",
       "1 Male   4.9    73     34682 \n",
       "2 Male   6.5    44     38003 \n",
       "3 Female 6.8    77     49597 \n",
       "4 Male   6.5    79     25547 \n",
       "5 Male   5.8    67     43193 \n",
       "6 Female 6.5    76     42673 "
      ]
     },
     "metadata": {},
     "output_type": "display_data"
    }
   ],
   "source": [
    "head(data)"
   ]
  },
  {
   "cell_type": "code",
   "execution_count": 72,
   "metadata": {},
   "outputs": [
    {
     "data": {
      "text/html": [
       "<table>\n",
       "<thead><tr><th scope=col>sex</th><th scope=col>height</th><th scope=col>weight</th></tr></thead>\n",
       "<tbody>\n",
       "\t<tr><td>Female  </td><td>6.335714</td><td>62.00000</td></tr>\n",
       "\t<tr><td>Male    </td><td>6.100000</td><td>57.63636</td></tr>\n",
       "</tbody>\n",
       "</table>\n"
      ],
      "text/latex": [
       "\\begin{tabular}{r|lll}\n",
       " sex & height & weight\\\\\n",
       "\\hline\n",
       "\t Female   & 6.335714 & 62.00000\\\\\n",
       "\t Male     & 6.100000 & 57.63636\\\\\n",
       "\\end{tabular}\n"
      ],
      "text/markdown": [
       "\n",
       "| sex | height | weight |\n",
       "|---|---|---|\n",
       "| Female   | 6.335714 | 62.00000 |\n",
       "| Male     | 6.100000 | 57.63636 |\n",
       "\n"
      ],
      "text/plain": [
       "  sex    height   weight  \n",
       "1 Female 6.335714 62.00000\n",
       "2 Male   6.100000 57.63636"
      ]
     },
     "metadata": {},
     "output_type": "display_data"
    }
   ],
   "source": [
    "group_by(data,sex) %>% summarise(height=mean(height),weight=mean(weight))"
   ]
  },
  {
   "cell_type": "code",
   "execution_count": 83,
   "metadata": {},
   "outputs": [],
   "source": [
    "X = data.frame(\n",
    "   x1 = sample(c(\"a\",\"b\",\"c\"),10,replace=T),\n",
    "   x2 = sample(1:4,10,replace=T) \n",
    ")\n",
    "Y = data.frame(\n",
    "   x1 = sample(c(\"a\",\"b\",\"c\"),10,replace=T),\n",
    "   x2 = sample(1:4,10,replace=T) \n",
    ")"
   ]
  },
  {
   "cell_type": "code",
   "execution_count": 84,
   "metadata": {},
   "outputs": [
    {
     "data": {
      "text/html": [
       "<table>\n",
       "<thead><tr><th scope=col>x1</th><th scope=col>x2</th></tr></thead>\n",
       "<tbody>\n",
       "\t<tr><td>c</td><td>3</td></tr>\n",
       "\t<tr><td>b</td><td>4</td></tr>\n",
       "\t<tr><td>b</td><td>4</td></tr>\n",
       "\t<tr><td>b</td><td>3</td></tr>\n",
       "\t<tr><td>a</td><td>4</td></tr>\n",
       "\t<tr><td>b</td><td>3</td></tr>\n",
       "</tbody>\n",
       "</table>\n"
      ],
      "text/latex": [
       "\\begin{tabular}{r|ll}\n",
       " x1 & x2\\\\\n",
       "\\hline\n",
       "\t c & 3\\\\\n",
       "\t b & 4\\\\\n",
       "\t b & 4\\\\\n",
       "\t b & 3\\\\\n",
       "\t a & 4\\\\\n",
       "\t b & 3\\\\\n",
       "\\end{tabular}\n"
      ],
      "text/markdown": [
       "\n",
       "| x1 | x2 |\n",
       "|---|---|\n",
       "| c | 3 |\n",
       "| b | 4 |\n",
       "| b | 4 |\n",
       "| b | 3 |\n",
       "| a | 4 |\n",
       "| b | 3 |\n",
       "\n"
      ],
      "text/plain": [
       "  x1 x2\n",
       "1 c  3 \n",
       "2 b  4 \n",
       "3 b  4 \n",
       "4 b  3 \n",
       "5 a  4 \n",
       "6 b  3 "
      ]
     },
     "metadata": {},
     "output_type": "display_data"
    }
   ],
   "source": [
    "head(X)"
   ]
  },
  {
   "cell_type": "code",
   "execution_count": 85,
   "metadata": {},
   "outputs": [
    {
     "data": {
      "text/html": [
       "<table>\n",
       "<thead><tr><th scope=col>x1</th><th scope=col>x2</th></tr></thead>\n",
       "<tbody>\n",
       "\t<tr><td>b</td><td>1</td></tr>\n",
       "\t<tr><td>c</td><td>1</td></tr>\n",
       "\t<tr><td>a</td><td>1</td></tr>\n",
       "\t<tr><td>c</td><td>3</td></tr>\n",
       "\t<tr><td>b</td><td>4</td></tr>\n",
       "\t<tr><td>b</td><td>1</td></tr>\n",
       "</tbody>\n",
       "</table>\n"
      ],
      "text/latex": [
       "\\begin{tabular}{r|ll}\n",
       " x1 & x2\\\\\n",
       "\\hline\n",
       "\t b & 1\\\\\n",
       "\t c & 1\\\\\n",
       "\t a & 1\\\\\n",
       "\t c & 3\\\\\n",
       "\t b & 4\\\\\n",
       "\t b & 1\\\\\n",
       "\\end{tabular}\n"
      ],
      "text/markdown": [
       "\n",
       "| x1 | x2 |\n",
       "|---|---|\n",
       "| b | 1 |\n",
       "| c | 1 |\n",
       "| a | 1 |\n",
       "| c | 3 |\n",
       "| b | 4 |\n",
       "| b | 1 |\n",
       "\n"
      ],
      "text/plain": [
       "  x1 x2\n",
       "1 b  1 \n",
       "2 c  1 \n",
       "3 a  1 \n",
       "4 c  3 \n",
       "5 b  4 \n",
       "6 b  1 "
      ]
     },
     "metadata": {},
     "output_type": "display_data"
    }
   ],
   "source": [
    "head(Y)"
   ]
  },
  {
   "cell_type": "code",
   "execution_count": 87,
   "metadata": {},
   "outputs": [
    {
     "data": {
      "text/html": [
       "<table>\n",
       "<thead><tr><th scope=col>x1</th><th scope=col>x2</th><th scope=col>x11</th><th scope=col>x21</th></tr></thead>\n",
       "<tbody>\n",
       "\t<tr><td>c</td><td>3</td><td>b</td><td>1</td></tr>\n",
       "\t<tr><td>b</td><td>4</td><td>c</td><td>1</td></tr>\n",
       "\t<tr><td>b</td><td>4</td><td>a</td><td>1</td></tr>\n",
       "\t<tr><td>b</td><td>3</td><td>c</td><td>3</td></tr>\n",
       "\t<tr><td>a</td><td>4</td><td>b</td><td>4</td></tr>\n",
       "\t<tr><td>b</td><td>3</td><td>b</td><td>1</td></tr>\n",
       "\t<tr><td>a</td><td>1</td><td>a</td><td>2</td></tr>\n",
       "\t<tr><td>a</td><td>2</td><td>a</td><td>1</td></tr>\n",
       "\t<tr><td>a</td><td>4</td><td>c</td><td>4</td></tr>\n",
       "\t<tr><td>c</td><td>3</td><td>b</td><td>4</td></tr>\n",
       "</tbody>\n",
       "</table>\n"
      ],
      "text/latex": [
       "\\begin{tabular}{r|llll}\n",
       " x1 & x2 & x11 & x21\\\\\n",
       "\\hline\n",
       "\t c & 3 & b & 1\\\\\n",
       "\t b & 4 & c & 1\\\\\n",
       "\t b & 4 & a & 1\\\\\n",
       "\t b & 3 & c & 3\\\\\n",
       "\t a & 4 & b & 4\\\\\n",
       "\t b & 3 & b & 1\\\\\n",
       "\t a & 1 & a & 2\\\\\n",
       "\t a & 2 & a & 1\\\\\n",
       "\t a & 4 & c & 4\\\\\n",
       "\t c & 3 & b & 4\\\\\n",
       "\\end{tabular}\n"
      ],
      "text/markdown": [
       "\n",
       "| x1 | x2 | x11 | x21 |\n",
       "|---|---|---|---|\n",
       "| c | 3 | b | 1 |\n",
       "| b | 4 | c | 1 |\n",
       "| b | 4 | a | 1 |\n",
       "| b | 3 | c | 3 |\n",
       "| a | 4 | b | 4 |\n",
       "| b | 3 | b | 1 |\n",
       "| a | 1 | a | 2 |\n",
       "| a | 2 | a | 1 |\n",
       "| a | 4 | c | 4 |\n",
       "| c | 3 | b | 4 |\n",
       "\n"
      ],
      "text/plain": [
       "   x1 x2 x11 x21\n",
       "1  c  3  b   1  \n",
       "2  b  4  c   1  \n",
       "3  b  4  a   1  \n",
       "4  b  3  c   3  \n",
       "5  a  4  b   4  \n",
       "6  b  3  b   1  \n",
       "7  a  1  a   2  \n",
       "8  a  2  a   1  \n",
       "9  a  4  c   4  \n",
       "10 c  3  b   4  "
      ]
     },
     "metadata": {},
     "output_type": "display_data"
    }
   ],
   "source": [
    "bind_cols(X,Y)"
   ]
  },
  {
   "cell_type": "code",
   "execution_count": 89,
   "metadata": {},
   "outputs": [
    {
     "ename": "ERROR",
     "evalue": "Error in inner_join(tbl_df(x), y, by = by, copy = copy, ...): argument \"y\" is missing, with no default\n",
     "output_type": "error",
     "traceback": [
      "Error in inner_join(tbl_df(x), y, by = by, copy = copy, ...): argument \"y\" is missing, with no default\nTraceback:\n",
      "1. inner_join(data, Salary = \"sal\")",
      "2. inner_join.data.frame(data, Salary = \"sal\")",
      "3. as.data.frame(inner_join(tbl_df(x), y, by = by, copy = copy, \n .     ...))",
      "4. inner_join(tbl_df(x), y, by = by, copy = copy, ...)",
      "5. inner_join.tbl_df(tbl_df(x), y, by = by, copy = copy, ...)",
      "6. check_valid_names(tbl_vars(y))",
      "7. tbl_vars(y)"
     ]
    }
   ],
   "source": [
    "inner_join(data,salary='sal')"
   ]
  },
  {
   "cell_type": "code",
   "execution_count": 101,
   "metadata": {},
   "outputs": [
    {
     "data": {
      "text/html": [
       "<table>\n",
       "<thead><tr><th scope=col>sid</th><th scope=col>name</th><th scope=col>age</th><th scope=col>height</th><th scope=col>weight</th></tr></thead>\n",
       "<tbody>\n",
       "\t<tr><td> 1  </td><td>a   </td><td>17  </td><td>11.0</td><td>51  </td></tr>\n",
       "\t<tr><td> 2  </td><td>b   </td><td>18  </td><td> 5.1</td><td>76  </td></tr>\n",
       "\t<tr><td> 3  </td><td>c   </td><td>18  </td><td> 6.3</td><td>72  </td></tr>\n",
       "\t<tr><td> 4  </td><td>d   </td><td>16  </td><td>11.0</td><td>70  </td></tr>\n",
       "\t<tr><td> 5  </td><td>e   </td><td>17  </td><td> 8.5</td><td>74  </td></tr>\n",
       "\t<tr><td> 6  </td><td>f   </td><td>16  </td><td>11.0</td><td>54  </td></tr>\n",
       "\t<tr><td> 7  </td><td>g   </td><td>17  </td><td> 5.5</td><td>67  </td></tr>\n",
       "\t<tr><td> 8  </td><td>h   </td><td>16  </td><td>11.0</td><td>68  </td></tr>\n",
       "\t<tr><td> 9  </td><td>i   </td><td>18  </td><td>11.0</td><td>65  </td></tr>\n",
       "\t<tr><td>10  </td><td>j   </td><td>19  </td><td> 5.5</td><td>60  </td></tr>\n",
       "</tbody>\n",
       "</table>\n"
      ],
      "text/latex": [
       "\\begin{tabular}{r|lllll}\n",
       " sid & name & age & height & weight\\\\\n",
       "\\hline\n",
       "\t  1   & a    & 17   & 11.0 & 51  \\\\\n",
       "\t  2   & b    & 18   &  5.1 & 76  \\\\\n",
       "\t  3   & c    & 18   &  6.3 & 72  \\\\\n",
       "\t  4   & d    & 16   & 11.0 & 70  \\\\\n",
       "\t  5   & e    & 17   &  8.5 & 74  \\\\\n",
       "\t  6   & f    & 16   & 11.0 & 54  \\\\\n",
       "\t  7   & g    & 17   &  5.5 & 67  \\\\\n",
       "\t  8   & h    & 16   & 11.0 & 68  \\\\\n",
       "\t  9   & i    & 18   & 11.0 & 65  \\\\\n",
       "\t 10   & j    & 19   &  5.5 & 60  \\\\\n",
       "\\end{tabular}\n"
      ],
      "text/markdown": [
       "\n",
       "| sid | name | age | height | weight |\n",
       "|---|---|---|---|---|\n",
       "|  1   | a    | 17   | 11.0 | 51   |\n",
       "|  2   | b    | 18   |  5.1 | 76   |\n",
       "|  3   | c    | 18   |  6.3 | 72   |\n",
       "|  4   | d    | 16   | 11.0 | 70   |\n",
       "|  5   | e    | 17   |  8.5 | 74   |\n",
       "|  6   | f    | 16   | 11.0 | 54   |\n",
       "|  7   | g    | 17   |  5.5 | 67   |\n",
       "|  8   | h    | 16   | 11.0 | 68   |\n",
       "|  9   | i    | 18   | 11.0 | 65   |\n",
       "| 10   | j    | 19   |  5.5 | 60   |\n",
       "\n"
      ],
      "text/plain": [
       "   sid name age height weight\n",
       "1   1  a    17  11.0   51    \n",
       "2   2  b    18   5.1   76    \n",
       "3   3  c    18   6.3   72    \n",
       "4   4  d    16  11.0   70    \n",
       "5   5  e    17   8.5   74    \n",
       "6   6  f    16  11.0   54    \n",
       "7   7  g    17   5.5   67    \n",
       "8   8  h    16  11.0   68    \n",
       "9   9  i    18  11.0   65    \n",
       "10 10  j    19   5.5   60    "
      ]
     },
     "metadata": {},
     "output_type": "display_data"
    }
   ],
   "source": [
    "student"
   ]
  },
  {
   "cell_type": "code",
   "execution_count": 103,
   "metadata": {},
   "outputs": [
    {
     "data": {
      "text/html": [
       "<table>\n",
       "<thead><tr><th scope=col>name</th><th scope=col>age</th></tr></thead>\n",
       "<tbody>\n",
       "\t<tr><td>j </td><td>19</td></tr>\n",
       "</tbody>\n",
       "</table>\n"
      ],
      "text/latex": [
       "\\begin{tabular}{r|ll}\n",
       " name & age\\\\\n",
       "\\hline\n",
       "\t j  & 19\\\\\n",
       "\\end{tabular}\n"
      ],
      "text/markdown": [
       "\n",
       "| name | age |\n",
       "|---|---|\n",
       "| j  | 19 |\n",
       "\n"
      ],
      "text/plain": [
       "  name age\n",
       "1 j    19 "
      ]
     },
     "metadata": {},
     "output_type": "display_data"
    }
   ],
   "source": [
    "sqldf(\"select name,age from student where age > 18\")"
   ]
  },
  {
   "cell_type": "code",
   "execution_count": 104,
   "metadata": {},
   "outputs": [],
   "source": [
    "game = data.frame(\n",
    "   sid = sample(1:20,10),\n",
    "   play = sample(c(\"cricket\",\"football\",\"kabaddi\"),10,replace=T),\n",
    "   class = sample(c(\"good\",\"average\",\"exellent\"),10,replace=T) \n",
    ") \n",
    "   "
   ]
  },
  {
   "cell_type": "code",
   "execution_count": 105,
   "metadata": {},
   "outputs": [
    {
     "data": {
      "text/html": [
       "<table>\n",
       "<thead><tr><th scope=col>sid</th><th scope=col>play</th><th scope=col>class</th></tr></thead>\n",
       "<tbody>\n",
       "\t<tr><td> 6      </td><td>football</td><td>good    </td></tr>\n",
       "\t<tr><td>10      </td><td>football</td><td>average </td></tr>\n",
       "\t<tr><td> 3      </td><td>kabaddi </td><td>average </td></tr>\n",
       "\t<tr><td> 9      </td><td>football</td><td>good    </td></tr>\n",
       "\t<tr><td>16      </td><td>cricket </td><td>good    </td></tr>\n",
       "\t<tr><td>15      </td><td>cricket </td><td>exellent</td></tr>\n",
       "</tbody>\n",
       "</table>\n"
      ],
      "text/latex": [
       "\\begin{tabular}{r|lll}\n",
       " sid & play & class\\\\\n",
       "\\hline\n",
       "\t  6       & football & good    \\\\\n",
       "\t 10       & football & average \\\\\n",
       "\t  3       & kabaddi  & average \\\\\n",
       "\t  9       & football & good    \\\\\n",
       "\t 16       & cricket  & good    \\\\\n",
       "\t 15       & cricket  & exellent\\\\\n",
       "\\end{tabular}\n"
      ],
      "text/markdown": [
       "\n",
       "| sid | play | class |\n",
       "|---|---|---|\n",
       "|  6       | football | good     |\n",
       "| 10       | football | average  |\n",
       "|  3       | kabaddi  | average  |\n",
       "|  9       | football | good     |\n",
       "| 16       | cricket  | good     |\n",
       "| 15       | cricket  | exellent |\n",
       "\n"
      ],
      "text/plain": [
       "  sid play     class   \n",
       "1  6  football good    \n",
       "2 10  football average \n",
       "3  3  kabaddi  average \n",
       "4  9  football good    \n",
       "5 16  cricket  good    \n",
       "6 15  cricket  exellent"
      ]
     },
     "metadata": {},
     "output_type": "display_data"
    }
   ],
   "source": [
    "head(game)"
   ]
  },
  {
   "cell_type": "code",
   "execution_count": 111,
   "metadata": {},
   "outputs": [
    {
     "data": {
      "text/html": [
       "<table>\n",
       "<thead><tr><th scope=col>name</th><th scope=col>age</th></tr></thead>\n",
       "<tbody>\n",
       "\t<tr><td>j </td><td>19</td></tr>\n",
       "</tbody>\n",
       "</table>\n"
      ],
      "text/latex": [
       "\\begin{tabular}{r|ll}\n",
       " name & age\\\\\n",
       "\\hline\n",
       "\t j  & 19\\\\\n",
       "\\end{tabular}\n"
      ],
      "text/markdown": [
       "\n",
       "| name | age |\n",
       "|---|---|\n",
       "| j  | 19 |\n",
       "\n"
      ],
      "text/plain": [
       "  name age\n",
       "1 j    19 "
      ]
     },
     "metadata": {},
     "output_type": "display_data"
    }
   ],
   "source": [
    "sqldf(\"select name,age from student inner join game on  student.sid=game.sid where age > 18 and play =\n",
    "'football'\")"
   ]
  },
  {
   "cell_type": "code",
   "execution_count": 113,
   "metadata": {},
   "outputs": [],
   "source": [
    "data()"
   ]
  },
  {
   "cell_type": "code",
   "execution_count": 115,
   "metadata": {},
   "outputs": [
    {
     "name": "stderr",
     "output_type": "stream",
     "text": [
      "Installing package into 'C:/Users/Imran Khan/Documents/R/win-library/3.6'\n",
      "(as 'lib' is unspecified)\n"
     ]
    },
    {
     "name": "stdout",
     "output_type": "stream",
     "text": [
      "package 'tidyverse' successfully unpacked and MD5 sums checked\n",
      "\n",
      "The downloaded binary packages are in\n",
      "\tC:\\Users\\Imran Khan\\AppData\\Local\\Temp\\Rtmpuw9of4\\downloaded_packages\n"
     ]
    }
   ],
   "source": [
    "install.packages('tidyverse')"
   ]
  },
  {
   "cell_type": "code",
   "execution_count": 116,
   "metadata": {},
   "outputs": [
    {
     "name": "stderr",
     "output_type": "stream",
     "text": [
      "Installing package into 'C:/Users/Imran Khan/Documents/R/win-library/3.6'\n",
      "(as 'lib' is unspecified)\n"
     ]
    },
    {
     "name": "stdout",
     "output_type": "stream",
     "text": [
      "package 'ggplot2' successfully unpacked and MD5 sums checked\n",
      "\n",
      "The downloaded binary packages are in\n",
      "\tC:\\Users\\Imran Khan\\AppData\\Local\\Temp\\Rtmpuw9of4\\downloaded_packages\n"
     ]
    }
   ],
   "source": [
    "install.packages('ggplot2')"
   ]
  },
  {
   "cell_type": "code",
   "execution_count": 121,
   "metadata": {},
   "outputs": [],
   "source": [
    "library(ggplot2)"
   ]
  },
  {
   "cell_type": "code",
   "execution_count": 122,
   "metadata": {},
   "outputs": [
    {
     "name": "stdout",
     "output_type": "stream",
     "text": [
      "Classes 'tbl_df', 'tbl' and 'data.frame':\t234 obs. of  11 variables:\n",
      " $ manufacturer: chr  \"audi\" \"audi\" \"audi\" \"audi\" ...\n",
      " $ model       : chr  \"a4\" \"a4\" \"a4\" \"a4\" ...\n",
      " $ displ       : num  1.8 1.8 2 2 2.8 2.8 3.1 1.8 1.8 2 ...\n",
      " $ year        : int  1999 1999 2008 2008 1999 1999 2008 1999 1999 2008 ...\n",
      " $ cyl         : int  4 4 4 4 6 6 6 4 4 4 ...\n",
      " $ trans       : chr  \"auto(l5)\" \"manual(m5)\" \"manual(m6)\" \"auto(av)\" ...\n",
      " $ drv         : chr  \"f\" \"f\" \"f\" \"f\" ...\n",
      " $ cty         : int  18 21 20 21 16 18 18 18 16 20 ...\n",
      " $ hwy         : int  29 29 31 30 26 26 27 26 25 28 ...\n",
      " $ fl          : chr  \"p\" \"p\" \"p\" \"p\" ...\n",
      " $ class       : chr  \"compact\" \"compact\" \"compact\" \"compact\" ...\n"
     ]
    }
   ],
   "source": [
    "str(mpg)"
   ]
  },
  {
   "cell_type": "code",
   "execution_count": 123,
   "metadata": {},
   "outputs": [
    {
     "data": {
      "text/html": [
       "<table>\n",
       "<thead><tr><th scope=col>manufacturer</th><th scope=col>model</th><th scope=col>displ</th><th scope=col>year</th><th scope=col>cyl</th><th scope=col>trans</th><th scope=col>drv</th><th scope=col>cty</th><th scope=col>hwy</th><th scope=col>fl</th><th scope=col>class</th></tr></thead>\n",
       "<tbody>\n",
       "\t<tr><td>audi      </td><td>a4        </td><td>1.8       </td><td>1999      </td><td>4         </td><td>auto(l5)  </td><td>f         </td><td>18        </td><td>29        </td><td>p         </td><td>compact   </td></tr>\n",
       "\t<tr><td>audi      </td><td>a4        </td><td>1.8       </td><td>1999      </td><td>4         </td><td>manual(m5)</td><td>f         </td><td>21        </td><td>29        </td><td>p         </td><td>compact   </td></tr>\n",
       "\t<tr><td>audi      </td><td>a4        </td><td>2.0       </td><td>2008      </td><td>4         </td><td>manual(m6)</td><td>f         </td><td>20        </td><td>31        </td><td>p         </td><td>compact   </td></tr>\n",
       "\t<tr><td>audi      </td><td>a4        </td><td>2.0       </td><td>2008      </td><td>4         </td><td>auto(av)  </td><td>f         </td><td>21        </td><td>30        </td><td>p         </td><td>compact   </td></tr>\n",
       "\t<tr><td>audi      </td><td>a4        </td><td>2.8       </td><td>1999      </td><td>6         </td><td>auto(l5)  </td><td>f         </td><td>16        </td><td>26        </td><td>p         </td><td>compact   </td></tr>\n",
       "\t<tr><td>audi      </td><td>a4        </td><td>2.8       </td><td>1999      </td><td>6         </td><td>manual(m5)</td><td>f         </td><td>18        </td><td>26        </td><td>p         </td><td>compact   </td></tr>\n",
       "</tbody>\n",
       "</table>\n"
      ],
      "text/latex": [
       "\\begin{tabular}{r|lllllllllll}\n",
       " manufacturer & model & displ & year & cyl & trans & drv & cty & hwy & fl & class\\\\\n",
       "\\hline\n",
       "\t audi       & a4         & 1.8        & 1999       & 4          & auto(l5)   & f          & 18         & 29         & p          & compact   \\\\\n",
       "\t audi       & a4         & 1.8        & 1999       & 4          & manual(m5) & f          & 21         & 29         & p          & compact   \\\\\n",
       "\t audi       & a4         & 2.0        & 2008       & 4          & manual(m6) & f          & 20         & 31         & p          & compact   \\\\\n",
       "\t audi       & a4         & 2.0        & 2008       & 4          & auto(av)   & f          & 21         & 30         & p          & compact   \\\\\n",
       "\t audi       & a4         & 2.8        & 1999       & 6          & auto(l5)   & f          & 16         & 26         & p          & compact   \\\\\n",
       "\t audi       & a4         & 2.8        & 1999       & 6          & manual(m5) & f          & 18         & 26         & p          & compact   \\\\\n",
       "\\end{tabular}\n"
      ],
      "text/markdown": [
       "\n",
       "| manufacturer | model | displ | year | cyl | trans | drv | cty | hwy | fl | class |\n",
       "|---|---|---|---|---|---|---|---|---|---|---|\n",
       "| audi       | a4         | 1.8        | 1999       | 4          | auto(l5)   | f          | 18         | 29         | p          | compact    |\n",
       "| audi       | a4         | 1.8        | 1999       | 4          | manual(m5) | f          | 21         | 29         | p          | compact    |\n",
       "| audi       | a4         | 2.0        | 2008       | 4          | manual(m6) | f          | 20         | 31         | p          | compact    |\n",
       "| audi       | a4         | 2.0        | 2008       | 4          | auto(av)   | f          | 21         | 30         | p          | compact    |\n",
       "| audi       | a4         | 2.8        | 1999       | 6          | auto(l5)   | f          | 16         | 26         | p          | compact    |\n",
       "| audi       | a4         | 2.8        | 1999       | 6          | manual(m5) | f          | 18         | 26         | p          | compact    |\n",
       "\n"
      ],
      "text/plain": [
       "  manufacturer model displ year cyl trans      drv cty hwy fl class  \n",
       "1 audi         a4    1.8   1999 4   auto(l5)   f   18  29  p  compact\n",
       "2 audi         a4    1.8   1999 4   manual(m5) f   21  29  p  compact\n",
       "3 audi         a4    2.0   2008 4   manual(m6) f   20  31  p  compact\n",
       "4 audi         a4    2.0   2008 4   auto(av)   f   21  30  p  compact\n",
       "5 audi         a4    2.8   1999 6   auto(l5)   f   16  26  p  compact\n",
       "6 audi         a4    2.8   1999 6   manual(m5) f   18  26  p  compact"
      ]
     },
     "metadata": {},
     "output_type": "display_data"
    }
   ],
   "source": [
    "head(mpg)"
   ]
  },
  {
   "cell_type": "code",
   "execution_count": 129,
   "metadata": {},
   "outputs": [
    {
     "data": {
      "image/png": "[encoded data removed]",
      "text/plain": [
       "plot without title"
      ]
     },
     "metadata": {},
     "output_type": "display_data"
    }
   ],
   "source": [
    "ggplot(data=mpg)  + geom_line(mapping=aes(x=displ,y=hwy))"
   ]
  },
  {
   "cell_type": "code",
   "execution_count": 124,
   "metadata": {},
   "outputs": [
    {
     "data": {
      "image/png": "[encoded data removed]",
      "text/plain": [
       "plot without title"
      ]
     },
     "metadata": {},
     "output_type": "display_data"
    }
   ],
   "source": [
    "x = 1:10\n",
    "y = sample(60:90,10)\n",
    "df = data.frame(x=x,y=y)\n",
    "ggplot(df)+geom_line(mapping=aes(x,y))"
   ]
  },
  {
   "cell_type": "code",
   "execution_count": 131,
   "metadata": {},
   "outputs": [
    {
     "data": {
      "image/png": "[encoded data removed]",
      "text/plain": [
       "plot without title"
      ]
     },
     "metadata": {},
     "output_type": "display_data"
    }
   ],
   "source": [
    "ggplot(data=mpg)  + geom_point(mapping=aes(x=displ,y=hwy,color=class))"
   ]
  },
  {
   "cell_type": "code",
   "execution_count": 134,
   "metadata": {},
   "outputs": [
    {
     "name": "stderr",
     "output_type": "stream",
     "text": [
      "Warning message:\n",
      "\"Using size for a discrete variable is not advised.\""
     ]
    },
    {
     "data": {
      "image/png": "[encoded data removed]",
      "text/plain": [
       "plot without title"
      ]
     },
     "metadata": {},
     "output_type": "display_data"
    }
   ],
   "source": [
    "ggplot(data=mpg)  + geom_point(mapping=aes(x=displ,y=hwy,size=class))"
   ]
  },
  {
   "cell_type": "code",
   "execution_count": 135,
   "metadata": {},
   "outputs": [
    {
     "name": "stderr",
     "output_type": "stream",
     "text": [
      "Warning message:\n",
      "\"The shape palette can deal with a maximum of 6 discrete values because\n",
      "more than 6 becomes difficult to discriminate; you have 7. Consider\n",
      "specifying shapes manually if you must have them.\"Warning message:\n",
      "\"Removed 62 rows containing missing values (geom_point).\""
     ]
    },
    {
     "data": {
      "image/png": "[encoded data removed]",
      "text/plain": [
       "plot without title"
      ]
     },
     "metadata": {},
     "output_type": "display_data"
    }
   ],
   "source": [
    "ggplot(data=mpg)  + geom_point(mapping=aes(x=displ,y=hwy,shape=class))"
   ]
  },
  {
   "cell_type": "code",
   "execution_count": 136,
   "metadata": {},
   "outputs": [
    {
     "name": "stderr",
     "output_type": "stream",
     "text": [
      "Warning message:\n",
      "\"Using alpha for a discrete variable is not advised.\""
     ]
    },
    {
     "data": {
      "image/png": "[encoded data removed]",
      "text/plain": [
       "plot without title"
      ]
     },
     "metadata": {},
     "output_type": "display_data"
    }
   ],
   "source": [
    "ggplot(data=mpg)  + geom_point(mapping=aes(x=displ,y=hwy,alpha=class))"
   ]
  },
  {
   "cell_type": "code",
   "execution_count": 137,
   "metadata": {},
   "outputs": [
    {
     "data": {
      "text/html": [
       "<table>\n",
       "<thead><tr><th scope=col>manufacturer</th><th scope=col>model</th><th scope=col>displ</th><th scope=col>year</th><th scope=col>cyl</th><th scope=col>trans</th><th scope=col>drv</th><th scope=col>cty</th><th scope=col>hwy</th><th scope=col>fl</th><th scope=col>class</th></tr></thead>\n",
       "<tbody>\n",
       "\t<tr><td>audi      </td><td>a4        </td><td>1.8       </td><td>1999      </td><td>4         </td><td>auto(l5)  </td><td>f         </td><td>18        </td><td>29        </td><td>p         </td><td>compact   </td></tr>\n",
       "\t<tr><td>audi      </td><td>a4        </td><td>1.8       </td><td>1999      </td><td>4         </td><td>manual(m5)</td><td>f         </td><td>21        </td><td>29        </td><td>p         </td><td>compact   </td></tr>\n",
       "\t<tr><td>audi      </td><td>a4        </td><td>2.0       </td><td>2008      </td><td>4         </td><td>manual(m6)</td><td>f         </td><td>20        </td><td>31        </td><td>p         </td><td>compact   </td></tr>\n",
       "\t<tr><td>audi      </td><td>a4        </td><td>2.0       </td><td>2008      </td><td>4         </td><td>auto(av)  </td><td>f         </td><td>21        </td><td>30        </td><td>p         </td><td>compact   </td></tr>\n",
       "\t<tr><td>audi      </td><td>a4        </td><td>2.8       </td><td>1999      </td><td>6         </td><td>auto(l5)  </td><td>f         </td><td>16        </td><td>26        </td><td>p         </td><td>compact   </td></tr>\n",
       "\t<tr><td>audi      </td><td>a4        </td><td>2.8       </td><td>1999      </td><td>6         </td><td>manual(m5)</td><td>f         </td><td>18        </td><td>26        </td><td>p         </td><td>compact   </td></tr>\n",
       "</tbody>\n",
       "</table>\n"
      ],
      "text/latex": [
       "\\begin{tabular}{r|lllllllllll}\n",
       " manufacturer & model & displ & year & cyl & trans & drv & cty & hwy & fl & class\\\\\n",
       "\\hline\n",
       "\t audi       & a4         & 1.8        & 1999       & 4          & auto(l5)   & f          & 18         & 29         & p          & compact   \\\\\n",
       "\t audi       & a4         & 1.8        & 1999       & 4          & manual(m5) & f          & 21         & 29         & p          & compact   \\\\\n",
       "\t audi       & a4         & 2.0        & 2008       & 4          & manual(m6) & f          & 20         & 31         & p          & compact   \\\\\n",
       "\t audi       & a4         & 2.0        & 2008       & 4          & auto(av)   & f          & 21         & 30         & p          & compact   \\\\\n",
       "\t audi       & a4         & 2.8        & 1999       & 6          & auto(l5)   & f          & 16         & 26         & p          & compact   \\\\\n",
       "\t audi       & a4         & 2.8        & 1999       & 6          & manual(m5) & f          & 18         & 26         & p          & compact   \\\\\n",
       "\\end{tabular}\n"
      ],
      "text/markdown": [
       "\n",
       "| manufacturer | model | displ | year | cyl | trans | drv | cty | hwy | fl | class |\n",
       "|---|---|---|---|---|---|---|---|---|---|---|\n",
       "| audi       | a4         | 1.8        | 1999       | 4          | auto(l5)   | f          | 18         | 29         | p          | compact    |\n",
       "| audi       | a4         | 1.8        | 1999       | 4          | manual(m5) | f          | 21         | 29         | p          | compact    |\n",
       "| audi       | a4         | 2.0        | 2008       | 4          | manual(m6) | f          | 20         | 31         | p          | compact    |\n",
       "| audi       | a4         | 2.0        | 2008       | 4          | auto(av)   | f          | 21         | 30         | p          | compact    |\n",
       "| audi       | a4         | 2.8        | 1999       | 6          | auto(l5)   | f          | 16         | 26         | p          | compact    |\n",
       "| audi       | a4         | 2.8        | 1999       | 6          | manual(m5) | f          | 18         | 26         | p          | compact    |\n",
       "\n"
      ],
      "text/plain": [
       "  manufacturer model displ year cyl trans      drv cty hwy fl class  \n",
       "1 audi         a4    1.8   1999 4   auto(l5)   f   18  29  p  compact\n",
       "2 audi         a4    1.8   1999 4   manual(m5) f   21  29  p  compact\n",
       "3 audi         a4    2.0   2008 4   manual(m6) f   20  31  p  compact\n",
       "4 audi         a4    2.0   2008 4   auto(av)   f   21  30  p  compact\n",
       "5 audi         a4    2.8   1999 6   auto(l5)   f   16  26  p  compact\n",
       "6 audi         a4    2.8   1999 6   manual(m5) f   18  26  p  compact"
      ]
     },
     "metadata": {},
     "output_type": "display_data"
    }
   ],
   "source": [
    "head(mpg)"
   ]
  },
  {
   "cell_type": "code",
   "execution_count": 138,
   "metadata": {},
   "outputs": [
    {
     "name": "stderr",
     "output_type": "stream",
     "text": [
      "Warning message:\n",
      "\"Using size for a discrete variable is not advised.\""
     ]
    },
    {
     "data": {
      "image/png": "[encoded data removed]",
      "text/plain": [
       "plot without title"
      ]
     },
     "metadata": {},
     "output_type": "display_data"
    }
   ],
   "source": [
    "ggplot(data=mpg)  + geom_point(mapping=aes(x=displ,y=hwy,color=class,size=manufacturer))"
   ]
  },
  {
   "cell_type": "code",
   "execution_count": 140,
   "metadata": {},
   "outputs": [
    {
     "name": "stderr",
     "output_type": "stream",
     "text": [
      "Warning message:\n",
      "\"Using size for a discrete variable is not advised.\"Warning message:\n",
      "\"The shape palette can deal with a maximum of 6 discrete values because\n",
      "more than 6 becomes difficult to discriminate; you have 10. Consider\n",
      "specifying shapes manually if you must have them.\"Warning message:\n",
      "\"Removed 96 rows containing missing values (geom_point).\""
     ]
    },
    {
     "data": {
      "image/png": "[encoded data removed]",
      "text/plain": [
       "plot without title"
      ]
     },
     "metadata": {},
     "output_type": "display_data"
    }
   ],
   "source": [
    "ggplot(data=mpg)  + geom_point(mapping=aes(x=displ,y=hwy,size=class,shape=trans))"
   ]
  },
  {
   "cell_type": "code",
   "execution_count": 141,
   "metadata": {},
   "outputs": [
    {
     "ename": "ERROR",
     "evalue": "Error in geom_hist(mapping = aes(x = displ, y = hwy)): could not find function \"geom_hist\"\n",
     "output_type": "error",
     "traceback": [
      "Error in geom_hist(mapping = aes(x = displ, y = hwy)): could not find function \"geom_hist\"\nTraceback:\n"
     ]
    }
   ],
   "source": [
    "ggplot(mpg)  + geom_hist(mapping=aes(x=displ,y=hwy))"
   ]
  },
  {
   "cell_type": "code",
   "execution_count": 143,
   "metadata": {},
   "outputs": [
    {
     "data": {
      "text/html": [
       "<table>\n",
       "<thead><tr><th scope=col>carat</th><th scope=col>cut</th><th scope=col>color</th><th scope=col>clarity</th><th scope=col>depth</th><th scope=col>table</th><th scope=col>price</th><th scope=col>x</th><th scope=col>y</th><th scope=col>z</th></tr></thead>\n",
       "<tbody>\n",
       "\t<tr><td>0.23     </td><td>Ideal    </td><td>E        </td><td>SI2      </td><td>61.5     </td><td>55       </td><td>326      </td><td>3.95     </td><td>3.98     </td><td>2.43     </td></tr>\n",
       "\t<tr><td>0.21     </td><td>Premium  </td><td>E        </td><td>SI1      </td><td>59.8     </td><td>61       </td><td>326      </td><td>3.89     </td><td>3.84     </td><td>2.31     </td></tr>\n",
       "\t<tr><td>0.23     </td><td>Good     </td><td>E        </td><td>VS1      </td><td>56.9     </td><td>65       </td><td>327      </td><td>4.05     </td><td>4.07     </td><td>2.31     </td></tr>\n",
       "\t<tr><td>0.29     </td><td>Premium  </td><td>I        </td><td>VS2      </td><td>62.4     </td><td>58       </td><td>334      </td><td>4.20     </td><td>4.23     </td><td>2.63     </td></tr>\n",
       "\t<tr><td>0.31     </td><td>Good     </td><td>J        </td><td>SI2      </td><td>63.3     </td><td>58       </td><td>335      </td><td>4.34     </td><td>4.35     </td><td>2.75     </td></tr>\n",
       "\t<tr><td>0.24     </td><td>Very Good</td><td>J        </td><td>VVS2     </td><td>62.8     </td><td>57       </td><td>336      </td><td>3.94     </td><td>3.96     </td><td>2.48     </td></tr>\n",
       "</tbody>\n",
       "</table>\n"
      ],
      "text/latex": [
       "\\begin{tabular}{r|llllllllll}\n",
       " carat & cut & color & clarity & depth & table & price & x & y & z\\\\\n",
       "\\hline\n",
       "\t 0.23      & Ideal     & E         & SI2       & 61.5      & 55        & 326       & 3.95      & 3.98      & 2.43     \\\\\n",
       "\t 0.21      & Premium   & E         & SI1       & 59.8      & 61        & 326       & 3.89      & 3.84      & 2.31     \\\\\n",
       "\t 0.23      & Good      & E         & VS1       & 56.9      & 65        & 327       & 4.05      & 4.07      & 2.31     \\\\\n",
       "\t 0.29      & Premium   & I         & VS2       & 62.4      & 58        & 334       & 4.20      & 4.23      & 2.63     \\\\\n",
       "\t 0.31      & Good      & J         & SI2       & 63.3      & 58        & 335       & 4.34      & 4.35      & 2.75     \\\\\n",
       "\t 0.24      & Very Good & J         & VVS2      & 62.8      & 57        & 336       & 3.94      & 3.96      & 2.48     \\\\\n",
       "\\end{tabular}\n"
      ],
      "text/markdown": [
       "\n",
       "| carat | cut | color | clarity | depth | table | price | x | y | z |\n",
       "|---|---|---|---|---|---|---|---|---|---|\n",
       "| 0.23      | Ideal     | E         | SI2       | 61.5      | 55        | 326       | 3.95      | 3.98      | 2.43      |\n",
       "| 0.21      | Premium   | E         | SI1       | 59.8      | 61        | 326       | 3.89      | 3.84      | 2.31      |\n",
       "| 0.23      | Good      | E         | VS1       | 56.9      | 65        | 327       | 4.05      | 4.07      | 2.31      |\n",
       "| 0.29      | Premium   | I         | VS2       | 62.4      | 58        | 334       | 4.20      | 4.23      | 2.63      |\n",
       "| 0.31      | Good      | J         | SI2       | 63.3      | 58        | 335       | 4.34      | 4.35      | 2.75      |\n",
       "| 0.24      | Very Good | J         | VVS2      | 62.8      | 57        | 336       | 3.94      | 3.96      | 2.48      |\n",
       "\n"
      ],
      "text/plain": [
       "  carat cut       color clarity depth table price x    y    z   \n",
       "1 0.23  Ideal     E     SI2     61.5  55    326   3.95 3.98 2.43\n",
       "2 0.21  Premium   E     SI1     59.8  61    326   3.89 3.84 2.31\n",
       "3 0.23  Good      E     VS1     56.9  65    327   4.05 4.07 2.31\n",
       "4 0.29  Premium   I     VS2     62.4  58    334   4.20 4.23 2.63\n",
       "5 0.31  Good      J     SI2     63.3  58    335   4.34 4.35 2.75\n",
       "6 0.24  Very Good J     VVS2    62.8  57    336   3.94 3.96 2.48"
      ]
     },
     "metadata": {},
     "output_type": "display_data"
    }
   ],
   "source": [
    "head(diamonds)"
   ]
  },
  {
   "cell_type": "code",
   "execution_count": 148,
   "metadata": {},
   "outputs": [
    {
     "data": {
      "image/png": "[encoded data removed]",
      "text/plain": [
       "plot without title"
      ]
     },
     "metadata": {},
     "output_type": "display_data"
    }
   ],
   "source": [
    "ggplot(data=diamonds)  + geom_point(mapping=aes(x=carat,y=price,color=color))"
   ]
  },
  {
   "cell_type": "code",
   "execution_count": 187,
   "metadata": {},
   "outputs": [],
   "source": [
    "data = diamonds[sample(1:1000,1000),]"
   ]
  },
  {
   "cell_type": "code",
   "execution_count": 188,
   "metadata": {},
   "outputs": [
    {
     "data": {
      "text/html": [
       "<table>\n",
       "<thead><tr><th scope=col>carat</th><th scope=col>cut</th><th scope=col>color</th><th scope=col>clarity</th><th scope=col>depth</th><th scope=col>table</th><th scope=col>price</th><th scope=col>x</th><th scope=col>y</th><th scope=col>z</th></tr></thead>\n",
       "<tbody>\n",
       "\t<tr><td>0.72     </td><td>Premium  </td><td>E        </td><td>VS2      </td><td>60.9     </td><td>60.0     </td><td>2822     </td><td>5.80     </td><td>5.76     </td><td>3.52     </td></tr>\n",
       "\t<tr><td>0.72     </td><td>Ideal    </td><td>F        </td><td>VS2      </td><td>59.5     </td><td>57.0     </td><td>2863     </td><td>5.91     </td><td>5.86     </td><td>3.50     </td></tr>\n",
       "\t<tr><td>0.70     </td><td>Ideal    </td><td>H        </td><td>VVS1     </td><td>62.0     </td><td>55.0     </td><td>2881     </td><td>5.74     </td><td>5.71     </td><td>3.55     </td></tr>\n",
       "\t<tr><td>1.02     </td><td>Ideal    </td><td>H        </td><td>SI2      </td><td>61.6     </td><td>55.0     </td><td>2856     </td><td>6.49     </td><td>6.43     </td><td>3.98     </td></tr>\n",
       "\t<tr><td>0.70     </td><td>Premium  </td><td>E        </td><td>VS1      </td><td>59.4     </td><td>61.0     </td><td>2826     </td><td>5.78     </td><td>5.74     </td><td>3.42     </td></tr>\n",
       "\t<tr><td>0.77     </td><td>Ideal    </td><td>E        </td><td>SI2      </td><td>60.7     </td><td>55.0     </td><td>2834     </td><td>6.01     </td><td>5.95     </td><td>3.63     </td></tr>\n",
       "\t<tr><td>0.70     </td><td>Premium  </td><td>E        </td><td>VS2      </td><td>62.4     </td><td>61.0     </td><td>2818     </td><td>5.66     </td><td>5.63     </td><td>3.52     </td></tr>\n",
       "\t<tr><td>0.70     </td><td>Ideal    </td><td>F        </td><td>VS2      </td><td>60.8     </td><td>59.0     </td><td>2850     </td><td>5.69     </td><td>5.79     </td><td>3.49     </td></tr>\n",
       "\t<tr><td>0.73     </td><td>Very Good</td><td>F        </td><td>VS1      </td><td>61.8     </td><td>59.0     </td><td>2843     </td><td>5.73     </td><td>5.79     </td><td>3.56     </td></tr>\n",
       "\t<tr><td>0.74     </td><td>Ideal    </td><td>G        </td><td>VS1      </td><td>61.5     </td><td>55.0     </td><td>2780     </td><td>5.81     </td><td>5.86     </td><td>3.59     </td></tr>\n",
       "\t<tr><td>0.32     </td><td>Ideal    </td><td>I        </td><td>VVS1     </td><td>62.0     </td><td>55.3     </td><td> 553     </td><td>4.39     </td><td>4.42     </td><td>2.73     </td></tr>\n",
       "\t<tr><td>0.82     </td><td>Very Good</td><td>G        </td><td>SI1      </td><td>63.4     </td><td>55.0     </td><td>2893     </td><td>6.00     </td><td>5.93     </td><td>3.78     </td></tr>\n",
       "\t<tr><td>0.77     </td><td>Premium  </td><td>F        </td><td>VS2      </td><td>61.8     </td><td>56.0     </td><td>2889     </td><td>5.94     </td><td>5.90     </td><td>3.66     </td></tr>\n",
       "\t<tr><td>1.22     </td><td>Premium  </td><td>E        </td><td>I1       </td><td>60.9     </td><td>57.0     </td><td>2862     </td><td>6.93     </td><td>6.88     </td><td>4.21     </td></tr>\n",
       "\t<tr><td>0.24     </td><td>Premium  </td><td>I        </td><td>VS1      </td><td>62.5     </td><td>57.0     </td><td> 355     </td><td>3.97     </td><td>3.94     </td><td>2.47     </td></tr>\n",
       "\t<tr><td>0.90     </td><td>Premium  </td><td>J        </td><td>VS2      </td><td>59.8     </td><td>62.0     </td><td>2863     </td><td>6.24     </td><td>6.21     </td><td>3.72     </td></tr>\n",
       "\t<tr><td>0.53     </td><td>Ideal    </td><td>F        </td><td>VVS1     </td><td>61.6     </td><td>56.0     </td><td>2896     </td><td>5.18     </td><td>5.24     </td><td>3.21     </td></tr>\n",
       "\t<tr><td>0.73     </td><td>Very Good</td><td>D        </td><td>SI1      </td><td>60.2     </td><td>56.0     </td><td>2768     </td><td>5.83     </td><td>5.87     </td><td>3.52     </td></tr>\n",
       "\t<tr><td>0.74     </td><td>Ideal    </td><td>E        </td><td>SI1      </td><td>62.3     </td><td>58.0     </td><td>2872     </td><td>5.74     </td><td>5.78     </td><td>3.59     </td></tr>\n",
       "\t<tr><td>0.62     </td><td>Ideal    </td><td>G        </td><td>IF       </td><td>60.5     </td><td>57.0     </td><td>2868     </td><td>5.52     </td><td>5.56     </td><td>3.35     </td></tr>\n",
       "\t<tr><td>0.71     </td><td>Very Good</td><td>D        </td><td>SI1      </td><td>61.5     </td><td>58.0     </td><td>2843     </td><td>5.73     </td><td>5.79     </td><td>3.54     </td></tr>\n",
       "\t<tr><td>0.70     </td><td>Ideal    </td><td>D        </td><td>SI1      </td><td>61.4     </td><td>54.0     </td><td>2872     </td><td>5.71     </td><td>5.75     </td><td>3.52     </td></tr>\n",
       "\t<tr><td>0.63     </td><td>Ideal    </td><td>F        </td><td>VVS2     </td><td>61.5     </td><td>56.0     </td><td>2817     </td><td>5.48     </td><td>5.52     </td><td>3.38     </td></tr>\n",
       "\t<tr><td>0.71     </td><td>Premium  </td><td>F        </td><td>VS1      </td><td>60.5     </td><td>58.0     </td><td>2839     </td><td>5.75     </td><td>5.72     </td><td>3.47     </td></tr>\n",
       "\t<tr><td>0.70     </td><td>Premium  </td><td>F        </td><td>VS2      </td><td>62.3     </td><td>58.0     </td><td>2838     </td><td>5.72     </td><td>5.64     </td><td>3.54     </td></tr>\n",
       "\t<tr><td>0.75     </td><td>Ideal    </td><td>J        </td><td>SI1      </td><td>61.5     </td><td>56.0     </td><td>2850     </td><td>5.83     </td><td>5.87     </td><td>3.60     </td></tr>\n",
       "\t<tr><td>0.24     </td><td>Premium  </td><td>H        </td><td>VVS1     </td><td>61.2     </td><td>58.0     </td><td> 554     </td><td>4.01     </td><td>3.96     </td><td>2.44     </td></tr>\n",
       "\t<tr><td>0.90     </td><td>Premium  </td><td>J        </td><td>SI1      </td><td>61.8     </td><td>58.0     </td><td>2873     </td><td>6.16     </td><td>6.13     </td><td>3.80     </td></tr>\n",
       "\t<tr><td>0.71     </td><td>Premium  </td><td>F        </td><td>VS2      </td><td>62.6     </td><td>58.0     </td><td>2853     </td><td>5.67     </td><td>5.70     </td><td>3.56     </td></tr>\n",
       "\t<tr><td>0.54     </td><td>Ideal    </td><td>D        </td><td>VVS2     </td><td>61.4     </td><td>52.0     </td><td>2897     </td><td>5.30     </td><td>5.34     </td><td>3.26     </td></tr>\n",
       "\t<tr><td>...</td><td>...</td><td>...</td><td>...</td><td>...</td><td>...</td><td>...</td><td>...</td><td>...</td><td>...</td></tr>\n",
       "\t<tr><td>0.71     </td><td>Premium  </td><td>D        </td><td>SI1      </td><td>60.7     </td><td>58       </td><td>2861     </td><td>5.95     </td><td>5.78     </td><td>3.56     </td></tr>\n",
       "\t<tr><td>0.23     </td><td>Good     </td><td>F        </td><td>VS1      </td><td>58.2     </td><td>59       </td><td> 402     </td><td>4.06     </td><td>4.08     </td><td>2.37     </td></tr>\n",
       "\t<tr><td>0.70     </td><td>Good     </td><td>E        </td><td>SI1      </td><td>61.4     </td><td>64       </td><td>2822     </td><td>5.71     </td><td>5.66     </td><td>3.49     </td></tr>\n",
       "\t<tr><td>0.75     </td><td>Ideal    </td><td>E        </td><td>SI1      </td><td>62.0     </td><td>57       </td><td>2821     </td><td>5.80     </td><td>5.78     </td><td>3.59     </td></tr>\n",
       "\t<tr><td>0.74     </td><td>Premium  </td><td>F        </td><td>VS2      </td><td>61.9     </td><td>56       </td><td>2805     </td><td>5.80     </td><td>5.77     </td><td>3.58     </td></tr>\n",
       "\t<tr><td>0.71     </td><td>Very Good</td><td>F        </td><td>VS1      </td><td>62.6     </td><td>55       </td><td>2893     </td><td>5.66     </td><td>5.71     </td><td>3.56     </td></tr>\n",
       "\t<tr><td>0.76     </td><td>Fair     </td><td>G        </td><td>VS1      </td><td>59.0     </td><td>70       </td><td>2800     </td><td>5.89     </td><td>5.80     </td><td>3.46     </td></tr>\n",
       "\t<tr><td>0.75     </td><td>Very Good</td><td>E        </td><td>SI1      </td><td>63.1     </td><td>56       </td><td>2868     </td><td>5.78     </td><td>5.70     </td><td>3.62     </td></tr>\n",
       "\t<tr><td>0.31     </td><td>Very Good</td><td>F        </td><td>SI1      </td><td>61.8     </td><td>58       </td><td> 555     </td><td>4.32     </td><td>4.35     </td><td>2.68     </td></tr>\n",
       "\t<tr><td>0.71     </td><td>Very Good</td><td>E        </td><td>VS2      </td><td>63.8     </td><td>58       </td><td>2804     </td><td>5.62     </td><td>5.66     </td><td>3.60     </td></tr>\n",
       "\t<tr><td>0.70     </td><td>Ideal    </td><td>D        </td><td>SI1      </td><td>61.0     </td><td>59       </td><td>2804     </td><td>5.68     </td><td>5.70     </td><td>3.47     </td></tr>\n",
       "\t<tr><td>0.71     </td><td>Very Good</td><td>G        </td><td>VS1      </td><td>63.5     </td><td>55       </td><td>2803     </td><td>5.66     </td><td>5.64     </td><td>3.59     </td></tr>\n",
       "\t<tr><td>0.90     </td><td>Fair     </td><td>I        </td><td>SI1      </td><td>65.8     </td><td>56       </td><td>2873     </td><td>6.01     </td><td>5.96     </td><td>3.94     </td></tr>\n",
       "\t<tr><td>0.72     </td><td>Very Good</td><td>H        </td><td>VS1      </td><td>60.6     </td><td>63       </td><td>2782     </td><td>5.83     </td><td>5.76     </td><td>3.51     </td></tr>\n",
       "\t<tr><td>0.71     </td><td>Premium  </td><td>D        </td><td>SI2      </td><td>61.7     </td><td>59       </td><td>2768     </td><td>5.71     </td><td>5.67     </td><td>3.51     </td></tr>\n",
       "\t<tr><td>0.86     </td><td>Ideal    </td><td>H        </td><td>SI2      </td><td>61.8     </td><td>55       </td><td>2892     </td><td>6.12     </td><td>6.14     </td><td>3.79     </td></tr>\n",
       "\t<tr><td>0.80     </td><td>Very Good</td><td>F        </td><td>SI1      </td><td>62.6     </td><td>58       </td><td>2862     </td><td>5.90     </td><td>5.92     </td><td>3.70     </td></tr>\n",
       "\t<tr><td>0.81     </td><td>Good     </td><td>G        </td><td>SI2      </td><td>61.0     </td><td>61       </td><td>2789     </td><td>5.94     </td><td>5.99     </td><td>3.64     </td></tr>\n",
       "\t<tr><td>0.73     </td><td>Premium  </td><td>E        </td><td>VS2      </td><td>62.5     </td><td>61       </td><td>2862     </td><td>5.78     </td><td>5.64     </td><td>3.59     </td></tr>\n",
       "\t<tr><td>0.76     </td><td>Ideal    </td><td>E        </td><td>SI1      </td><td>61.7     </td><td>57       </td><td>2814     </td><td>5.88     </td><td>5.85     </td><td>3.62     </td></tr>\n",
       "\t<tr><td>0.70     </td><td>Ideal    </td><td>F        </td><td>VS1      </td><td>61.6     </td><td>54       </td><td>2839     </td><td>5.75     </td><td>5.72     </td><td>3.53     </td></tr>\n",
       "\t<tr><td>0.75     </td><td>Very Good</td><td>H        </td><td>VVS1     </td><td>60.6     </td><td>58       </td><td>2806     </td><td>5.85     </td><td>5.90     </td><td>3.56     </td></tr>\n",
       "\t<tr><td>0.71     </td><td>Premium  </td><td>G        </td><td>VS2      </td><td>60.9     </td><td>57       </td><td>2766     </td><td>5.78     </td><td>5.75     </td><td>3.51     </td></tr>\n",
       "\t<tr><td>0.71     </td><td>Ideal    </td><td>I        </td><td>VS2      </td><td>61.5     </td><td>55       </td><td>2878     </td><td>5.76     </td><td>5.78     </td><td>3.55     </td></tr>\n",
       "\t<tr><td>0.32     </td><td>Premium  </td><td>I        </td><td>SI1      </td><td>62.8     </td><td>58       </td><td> 554     </td><td>4.39     </td><td>4.34     </td><td>2.74     </td></tr>\n",
       "\t<tr><td>0.71     </td><td>Ideal    </td><td>D        </td><td>SI2      </td><td>61.6     </td><td>55       </td><td>2767     </td><td>5.74     </td><td>5.76     </td><td>3.54     </td></tr>\n",
       "\t<tr><td>0.71     </td><td>Very Good</td><td>E        </td><td>VS2      </td><td>60.7     </td><td>56       </td><td>2795     </td><td>5.81     </td><td>5.82     </td><td>3.53     </td></tr>\n",
       "\t<tr><td>1.03     </td><td>Fair     </td><td>I        </td><td>SI2      </td><td>65.3     </td><td>55       </td><td>2884     </td><td>6.32     </td><td>6.27     </td><td>4.11     </td></tr>\n",
       "\t<tr><td>0.74     </td><td>Ideal    </td><td>H        </td><td>SI1      </td><td>62.1     </td><td>56       </td><td>2870     </td><td>5.77     </td><td>5.83     </td><td>3.60     </td></tr>\n",
       "\t<tr><td>0.70     </td><td>Very Good</td><td>F        </td><td>VS2      </td><td>59.5     </td><td>58       </td><td>2812     </td><td>5.75     </td><td>5.85     </td><td>3.45     </td></tr>\n",
       "</tbody>\n",
       "</table>\n"
      ],
      "text/latex": [
       "\\begin{tabular}{r|llllllllll}\n",
       " carat & cut & color & clarity & depth & table & price & x & y & z\\\\\n",
       "\\hline\n",
       "\t 0.72      & Premium   & E         & VS2       & 60.9      & 60.0      & 2822      & 5.80      & 5.76      & 3.52     \\\\\n",
       "\t 0.72      & Ideal     & F         & VS2       & 59.5      & 57.0      & 2863      & 5.91      & 5.86      & 3.50     \\\\\n",
       "\t 0.70      & Ideal     & H         & VVS1      & 62.0      & 55.0      & 2881      & 5.74      & 5.71      & 3.55     \\\\\n",
       "\t 1.02      & Ideal     & H         & SI2       & 61.6      & 55.0      & 2856      & 6.49      & 6.43      & 3.98     \\\\\n",
       "\t 0.70      & Premium   & E         & VS1       & 59.4      & 61.0      & 2826      & 5.78      & 5.74      & 3.42     \\\\\n",
       "\t 0.77      & Ideal     & E         & SI2       & 60.7      & 55.0      & 2834      & 6.01      & 5.95      & 3.63     \\\\\n",
       "\t 0.70      & Premium   & E         & VS2       & 62.4      & 61.0      & 2818      & 5.66      & 5.63      & 3.52     \\\\\n",
       "\t 0.70      & Ideal     & F         & VS2       & 60.8      & 59.0      & 2850      & 5.69      & 5.79      & 3.49     \\\\\n",
       "\t 0.73      & Very Good & F         & VS1       & 61.8      & 59.0      & 2843      & 5.73      & 5.79      & 3.56     \\\\\n",
       "\t 0.74      & Ideal     & G         & VS1       & 61.5      & 55.0      & 2780      & 5.81      & 5.86      & 3.59     \\\\\n",
       "\t 0.32      & Ideal     & I         & VVS1      & 62.0      & 55.3      &  553      & 4.39      & 4.42      & 2.73     \\\\\n",
       "\t 0.82      & Very Good & G         & SI1       & 63.4      & 55.0      & 2893      & 6.00      & 5.93      & 3.78     \\\\\n",
       "\t 0.77      & Premium   & F         & VS2       & 61.8      & 56.0      & 2889      & 5.94      & 5.90      & 3.66     \\\\\n",
       "\t 1.22      & Premium   & E         & I1        & 60.9      & 57.0      & 2862      & 6.93      & 6.88      & 4.21     \\\\\n",
       "\t 0.24      & Premium   & I         & VS1       & 62.5      & 57.0      &  355      & 3.97      & 3.94      & 2.47     \\\\\n",
       "\t 0.90      & Premium   & J         & VS2       & 59.8      & 62.0      & 2863      & 6.24      & 6.21      & 3.72     \\\\\n",
       "\t 0.53      & Ideal     & F         & VVS1      & 61.6      & 56.0      & 2896      & 5.18      & 5.24      & 3.21     \\\\\n",
       "\t 0.73      & Very Good & D         & SI1       & 60.2      & 56.0      & 2768      & 5.83      & 5.87      & 3.52     \\\\\n",
       "\t 0.74      & Ideal     & E         & SI1       & 62.3      & 58.0      & 2872      & 5.74      & 5.78      & 3.59     \\\\\n",
       "\t 0.62      & Ideal     & G         & IF        & 60.5      & 57.0      & 2868      & 5.52      & 5.56      & 3.35     \\\\\n",
       "\t 0.71      & Very Good & D         & SI1       & 61.5      & 58.0      & 2843      & 5.73      & 5.79      & 3.54     \\\\\n",
       "\t 0.70      & Ideal     & D         & SI1       & 61.4      & 54.0      & 2872      & 5.71      & 5.75      & 3.52     \\\\\n",
       "\t 0.63      & Ideal     & F         & VVS2      & 61.5      & 56.0      & 2817      & 5.48      & 5.52      & 3.38     \\\\\n",
       "\t 0.71      & Premium   & F         & VS1       & 60.5      & 58.0      & 2839      & 5.75      & 5.72      & 3.47     \\\\\n",
       "\t 0.70      & Premium   & F         & VS2       & 62.3      & 58.0      & 2838      & 5.72      & 5.64      & 3.54     \\\\\n",
       "\t 0.75      & Ideal     & J         & SI1       & 61.5      & 56.0      & 2850      & 5.83      & 5.87      & 3.60     \\\\\n",
       "\t 0.24      & Premium   & H         & VVS1      & 61.2      & 58.0      &  554      & 4.01      & 3.96      & 2.44     \\\\\n",
       "\t 0.90      & Premium   & J         & SI1       & 61.8      & 58.0      & 2873      & 6.16      & 6.13      & 3.80     \\\\\n",
       "\t 0.71      & Premium   & F         & VS2       & 62.6      & 58.0      & 2853      & 5.67      & 5.70      & 3.56     \\\\\n",
       "\t 0.54      & Ideal     & D         & VVS2      & 61.4      & 52.0      & 2897      & 5.30      & 5.34      & 3.26     \\\\\n",
       "\t ... & ... & ... & ... & ... & ... & ... & ... & ... & ...\\\\\n",
       "\t 0.71      & Premium   & D         & SI1       & 60.7      & 58        & 2861      & 5.95      & 5.78      & 3.56     \\\\\n",
       "\t 0.23      & Good      & F         & VS1       & 58.2      & 59        &  402      & 4.06      & 4.08      & 2.37     \\\\\n",
       "\t 0.70      & Good      & E         & SI1       & 61.4      & 64        & 2822      & 5.71      & 5.66      & 3.49     \\\\\n",
       "\t 0.75      & Ideal     & E         & SI1       & 62.0      & 57        & 2821      & 5.80      & 5.78      & 3.59     \\\\\n",
       "\t 0.74      & Premium   & F         & VS2       & 61.9      & 56        & 2805      & 5.80      & 5.77      & 3.58     \\\\\n",
       "\t 0.71      & Very Good & F         & VS1       & 62.6      & 55        & 2893      & 5.66      & 5.71      & 3.56     \\\\\n",
       "\t 0.76      & Fair      & G         & VS1       & 59.0      & 70        & 2800      & 5.89      & 5.80      & 3.46     \\\\\n",
       "\t 0.75      & Very Good & E         & SI1       & 63.1      & 56        & 2868      & 5.78      & 5.70      & 3.62     \\\\\n",
       "\t 0.31      & Very Good & F         & SI1       & 61.8      & 58        &  555      & 4.32      & 4.35      & 2.68     \\\\\n",
       "\t 0.71      & Very Good & E         & VS2       & 63.8      & 58        & 2804      & 5.62      & 5.66      & 3.60     \\\\\n",
       "\t 0.70      & Ideal     & D         & SI1       & 61.0      & 59        & 2804      & 5.68      & 5.70      & 3.47     \\\\\n",
       "\t 0.71      & Very Good & G         & VS1       & 63.5      & 55        & 2803      & 5.66      & 5.64      & 3.59     \\\\\n",
       "\t 0.90      & Fair      & I         & SI1       & 65.8      & 56        & 2873      & 6.01      & 5.96      & 3.94     \\\\\n",
       "\t 0.72      & Very Good & H         & VS1       & 60.6      & 63        & 2782      & 5.83      & 5.76      & 3.51     \\\\\n",
       "\t 0.71      & Premium   & D         & SI2       & 61.7      & 59        & 2768      & 5.71      & 5.67      & 3.51     \\\\\n",
       "\t 0.86      & Ideal     & H         & SI2       & 61.8      & 55        & 2892      & 6.12      & 6.14      & 3.79     \\\\\n",
       "\t 0.80      & Very Good & F         & SI1       & 62.6      & 58        & 2862      & 5.90      & 5.92      & 3.70     \\\\\n",
       "\t 0.81      & Good      & G         & SI2       & 61.0      & 61        & 2789      & 5.94      & 5.99      & 3.64     \\\\\n",
       "\t 0.73      & Premium   & E         & VS2       & 62.5      & 61        & 2862      & 5.78      & 5.64      & 3.59     \\\\\n",
       "\t 0.76      & Ideal     & E         & SI1       & 61.7      & 57        & 2814      & 5.88      & 5.85      & 3.62     \\\\\n",
       "\t 0.70      & Ideal     & F         & VS1       & 61.6      & 54        & 2839      & 5.75      & 5.72      & 3.53     \\\\\n",
       "\t 0.75      & Very Good & H         & VVS1      & 60.6      & 58        & 2806      & 5.85      & 5.90      & 3.56     \\\\\n",
       "\t 0.71      & Premium   & G         & VS2       & 60.9      & 57        & 2766      & 5.78      & 5.75      & 3.51     \\\\\n",
       "\t 0.71      & Ideal     & I         & VS2       & 61.5      & 55        & 2878      & 5.76      & 5.78      & 3.55     \\\\\n",
       "\t 0.32      & Premium   & I         & SI1       & 62.8      & 58        &  554      & 4.39      & 4.34      & 2.74     \\\\\n",
       "\t 0.71      & Ideal     & D         & SI2       & 61.6      & 55        & 2767      & 5.74      & 5.76      & 3.54     \\\\\n",
       "\t 0.71      & Very Good & E         & VS2       & 60.7      & 56        & 2795      & 5.81      & 5.82      & 3.53     \\\\\n",
       "\t 1.03      & Fair      & I         & SI2       & 65.3      & 55        & 2884      & 6.32      & 6.27      & 4.11     \\\\\n",
       "\t 0.74      & Ideal     & H         & SI1       & 62.1      & 56        & 2870      & 5.77      & 5.83      & 3.60     \\\\\n",
       "\t 0.70      & Very Good & F         & VS2       & 59.5      & 58        & 2812      & 5.75      & 5.85      & 3.45     \\\\\n",
       "\\end{tabular}\n"
      ],
      "text/markdown": [
       "\n",
       "| carat | cut | color | clarity | depth | table | price | x | y | z |\n",
       "|---|---|---|---|---|---|---|---|---|---|\n",
       "| 0.72      | Premium   | E         | VS2       | 60.9      | 60.0      | 2822      | 5.80      | 5.76      | 3.52      |\n",
       "| 0.72      | Ideal     | F         | VS2       | 59.5      | 57.0      | 2863      | 5.91      | 5.86      | 3.50      |\n",
       "| 0.70      | Ideal     | H         | VVS1      | 62.0      | 55.0      | 2881      | 5.74      | 5.71      | 3.55      |\n",
       "| 1.02      | Ideal     | H         | SI2       | 61.6      | 55.0      | 2856      | 6.49      | 6.43      | 3.98      |\n",
       "| 0.70      | Premium   | E         | VS1       | 59.4      | 61.0      | 2826      | 5.78      | 5.74      | 3.42      |\n",
       "| 0.77      | Ideal     | E         | SI2       | 60.7      | 55.0      | 2834      | 6.01      | 5.95      | 3.63      |\n",
       "| 0.70      | Premium   | E         | VS2       | 62.4      | 61.0      | 2818      | 5.66      | 5.63      | 3.52      |\n",
       "| 0.70      | Ideal     | F         | VS2       | 60.8      | 59.0      | 2850      | 5.69      | 5.79      | 3.49      |\n",
       "| 0.73      | Very Good | F         | VS1       | 61.8      | 59.0      | 2843      | 5.73      | 5.79      | 3.56      |\n",
       "| 0.74      | Ideal     | G         | VS1       | 61.5      | 55.0      | 2780      | 5.81      | 5.86      | 3.59      |\n",
       "| 0.32      | Ideal     | I         | VVS1      | 62.0      | 55.3      |  553      | 4.39      | 4.42      | 2.73      |\n",
       "| 0.82      | Very Good | G         | SI1       | 63.4      | 55.0      | 2893      | 6.00      | 5.93      | 3.78      |\n",
       "| 0.77      | Premium   | F         | VS2       | 61.8      | 56.0      | 2889      | 5.94      | 5.90      | 3.66      |\n",
       "| 1.22      | Premium   | E         | I1        | 60.9      | 57.0      | 2862      | 6.93      | 6.88      | 4.21      |\n",
       "| 0.24      | Premium   | I         | VS1       | 62.5      | 57.0      |  355      | 3.97      | 3.94      | 2.47      |\n",
       "| 0.90      | Premium   | J         | VS2       | 59.8      | 62.0      | 2863      | 6.24      | 6.21      | 3.72      |\n",
       "| 0.53      | Ideal     | F         | VVS1      | 61.6      | 56.0      | 2896      | 5.18      | 5.24      | 3.21      |\n",
       "| 0.73      | Very Good | D         | SI1       | 60.2      | 56.0      | 2768      | 5.83      | 5.87      | 3.52      |\n",
       "| 0.74      | Ideal     | E         | SI1       | 62.3      | 58.0      | 2872      | 5.74      | 5.78      | 3.59      |\n",
       "| 0.62      | Ideal     | G         | IF        | 60.5      | 57.0      | 2868      | 5.52      | 5.56      | 3.35      |\n",
       "| 0.71      | Very Good | D         | SI1       | 61.5      | 58.0      | 2843      | 5.73      | 5.79      | 3.54      |\n",
       "| 0.70      | Ideal     | D         | SI1       | 61.4      | 54.0      | 2872      | 5.71      | 5.75      | 3.52      |\n",
       "| 0.63      | Ideal     | F         | VVS2      | 61.5      | 56.0      | 2817      | 5.48      | 5.52      | 3.38      |\n",
       "| 0.71      | Premium   | F         | VS1       | 60.5      | 58.0      | 2839      | 5.75      | 5.72      | 3.47      |\n",
       "| 0.70      | Premium   | F         | VS2       | 62.3      | 58.0      | 2838      | 5.72      | 5.64      | 3.54      |\n",
       "| 0.75      | Ideal     | J         | SI1       | 61.5      | 56.0      | 2850      | 5.83      | 5.87      | 3.60      |\n",
       "| 0.24      | Premium   | H         | VVS1      | 61.2      | 58.0      |  554      | 4.01      | 3.96      | 2.44      |\n",
       "| 0.90      | Premium   | J         | SI1       | 61.8      | 58.0      | 2873      | 6.16      | 6.13      | 3.80      |\n",
       "| 0.71      | Premium   | F         | VS2       | 62.6      | 58.0      | 2853      | 5.67      | 5.70      | 3.56      |\n",
       "| 0.54      | Ideal     | D         | VVS2      | 61.4      | 52.0      | 2897      | 5.30      | 5.34      | 3.26      |\n",
       "| ... | ... | ... | ... | ... | ... | ... | ... | ... | ... |\n",
       "| 0.71      | Premium   | D         | SI1       | 60.7      | 58        | 2861      | 5.95      | 5.78      | 3.56      |\n",
       "| 0.23      | Good      | F         | VS1       | 58.2      | 59        |  402      | 4.06      | 4.08      | 2.37      |\n",
       "| 0.70      | Good      | E         | SI1       | 61.4      | 64        | 2822      | 5.71      | 5.66      | 3.49      |\n",
       "| 0.75      | Ideal     | E         | SI1       | 62.0      | 57        | 2821      | 5.80      | 5.78      | 3.59      |\n",
       "| 0.74      | Premium   | F         | VS2       | 61.9      | 56        | 2805      | 5.80      | 5.77      | 3.58      |\n",
       "| 0.71      | Very Good | F         | VS1       | 62.6      | 55        | 2893      | 5.66      | 5.71      | 3.56      |\n",
       "| 0.76      | Fair      | G         | VS1       | 59.0      | 70        | 2800      | 5.89      | 5.80      | 3.46      |\n",
       "| 0.75      | Very Good | E         | SI1       | 63.1      | 56        | 2868      | 5.78      | 5.70      | 3.62      |\n",
       "| 0.31      | Very Good | F         | SI1       | 61.8      | 58        |  555      | 4.32      | 4.35      | 2.68      |\n",
       "| 0.71      | Very Good | E         | VS2       | 63.8      | 58        | 2804      | 5.62      | 5.66      | 3.60      |\n",
       "| 0.70      | Ideal     | D         | SI1       | 61.0      | 59        | 2804      | 5.68      | 5.70      | 3.47      |\n",
       "| 0.71      | Very Good | G         | VS1       | 63.5      | 55        | 2803      | 5.66      | 5.64      | 3.59      |\n",
       "| 0.90      | Fair      | I         | SI1       | 65.8      | 56        | 2873      | 6.01      | 5.96      | 3.94      |\n",
       "| 0.72      | Very Good | H         | VS1       | 60.6      | 63        | 2782      | 5.83      | 5.76      | 3.51      |\n",
       "| 0.71      | Premium   | D         | SI2       | 61.7      | 59        | 2768      | 5.71      | 5.67      | 3.51      |\n",
       "| 0.86      | Ideal     | H         | SI2       | 61.8      | 55        | 2892      | 6.12      | 6.14      | 3.79      |\n",
       "| 0.80      | Very Good | F         | SI1       | 62.6      | 58        | 2862      | 5.90      | 5.92      | 3.70      |\n",
       "| 0.81      | Good      | G         | SI2       | 61.0      | 61        | 2789      | 5.94      | 5.99      | 3.64      |\n",
       "| 0.73      | Premium   | E         | VS2       | 62.5      | 61        | 2862      | 5.78      | 5.64      | 3.59      |\n",
       "| 0.76      | Ideal     | E         | SI1       | 61.7      | 57        | 2814      | 5.88      | 5.85      | 3.62      |\n",
       "| 0.70      | Ideal     | F         | VS1       | 61.6      | 54        | 2839      | 5.75      | 5.72      | 3.53      |\n",
       "| 0.75      | Very Good | H         | VVS1      | 60.6      | 58        | 2806      | 5.85      | 5.90      | 3.56      |\n",
       "| 0.71      | Premium   | G         | VS2       | 60.9      | 57        | 2766      | 5.78      | 5.75      | 3.51      |\n",
       "| 0.71      | Ideal     | I         | VS2       | 61.5      | 55        | 2878      | 5.76      | 5.78      | 3.55      |\n",
       "| 0.32      | Premium   | I         | SI1       | 62.8      | 58        |  554      | 4.39      | 4.34      | 2.74      |\n",
       "| 0.71      | Ideal     | D         | SI2       | 61.6      | 55        | 2767      | 5.74      | 5.76      | 3.54      |\n",
       "| 0.71      | Very Good | E         | VS2       | 60.7      | 56        | 2795      | 5.81      | 5.82      | 3.53      |\n",
       "| 1.03      | Fair      | I         | SI2       | 65.3      | 55        | 2884      | 6.32      | 6.27      | 4.11      |\n",
       "| 0.74      | Ideal     | H         | SI1       | 62.1      | 56        | 2870      | 5.77      | 5.83      | 3.60      |\n",
       "| 0.70      | Very Good | F         | VS2       | 59.5      | 58        | 2812      | 5.75      | 5.85      | 3.45      |\n",
       "\n"
      ],
      "text/plain": [
       "     carat cut       color clarity depth table price x    y    z   \n",
       "1    0.72  Premium   E     VS2     60.9  60.0  2822  5.80 5.76 3.52\n",
       "2    0.72  Ideal     F     VS2     59.5  57.0  2863  5.91 5.86 3.50\n",
       "3    0.70  Ideal     H     VVS1    62.0  55.0  2881  5.74 5.71 3.55\n",
       "4    1.02  Ideal     H     SI2     61.6  55.0  2856  6.49 6.43 3.98\n",
       "5    0.70  Premium   E     VS1     59.4  61.0  2826  5.78 5.74 3.42\n",
       "6    0.77  Ideal     E     SI2     60.7  55.0  2834  6.01 5.95 3.63\n",
       "7    0.70  Premium   E     VS2     62.4  61.0  2818  5.66 5.63 3.52\n",
       "8    0.70  Ideal     F     VS2     60.8  59.0  2850  5.69 5.79 3.49\n",
       "9    0.73  Very Good F     VS1     61.8  59.0  2843  5.73 5.79 3.56\n",
       "10   0.74  Ideal     G     VS1     61.5  55.0  2780  5.81 5.86 3.59\n",
       "11   0.32  Ideal     I     VVS1    62.0  55.3   553  4.39 4.42 2.73\n",
       "12   0.82  Very Good G     SI1     63.4  55.0  2893  6.00 5.93 3.78\n",
       "13   0.77  Premium   F     VS2     61.8  56.0  2889  5.94 5.90 3.66\n",
       "14   1.22  Premium   E     I1      60.9  57.0  2862  6.93 6.88 4.21\n",
       "15   0.24  Premium   I     VS1     62.5  57.0   355  3.97 3.94 2.47\n",
       "16   0.90  Premium   J     VS2     59.8  62.0  2863  6.24 6.21 3.72\n",
       "17   0.53  Ideal     F     VVS1    61.6  56.0  2896  5.18 5.24 3.21\n",
       "18   0.73  Very Good D     SI1     60.2  56.0  2768  5.83 5.87 3.52\n",
       "19   0.74  Ideal     E     SI1     62.3  58.0  2872  5.74 5.78 3.59\n",
       "20   0.62  Ideal     G     IF      60.5  57.0  2868  5.52 5.56 3.35\n",
       "21   0.71  Very Good D     SI1     61.5  58.0  2843  5.73 5.79 3.54\n",
       "22   0.70  Ideal     D     SI1     61.4  54.0  2872  5.71 5.75 3.52\n",
       "23   0.63  Ideal     F     VVS2    61.5  56.0  2817  5.48 5.52 3.38\n",
       "24   0.71  Premium   F     VS1     60.5  58.0  2839  5.75 5.72 3.47\n",
       "25   0.70  Premium   F     VS2     62.3  58.0  2838  5.72 5.64 3.54\n",
       "26   0.75  Ideal     J     SI1     61.5  56.0  2850  5.83 5.87 3.60\n",
       "27   0.24  Premium   H     VVS1    61.2  58.0   554  4.01 3.96 2.44\n",
       "28   0.90  Premium   J     SI1     61.8  58.0  2873  6.16 6.13 3.80\n",
       "29   0.71  Premium   F     VS2     62.6  58.0  2853  5.67 5.70 3.56\n",
       "30   0.54  Ideal     D     VVS2    61.4  52.0  2897  5.30 5.34 3.26\n",
       "...  ...   ...       ...   ...     ...   ...   ...   ...  ...  ... \n",
       "971  0.71  Premium   D     SI1     60.7  58    2861  5.95 5.78 3.56\n",
       "972  0.23  Good      F     VS1     58.2  59     402  4.06 4.08 2.37\n",
       "973  0.70  Good      E     SI1     61.4  64    2822  5.71 5.66 3.49\n",
       "974  0.75  Ideal     E     SI1     62.0  57    2821  5.80 5.78 3.59\n",
       "975  0.74  Premium   F     VS2     61.9  56    2805  5.80 5.77 3.58\n",
       "976  0.71  Very Good F     VS1     62.6  55    2893  5.66 5.71 3.56\n",
       "977  0.76  Fair      G     VS1     59.0  70    2800  5.89 5.80 3.46\n",
       "978  0.75  Very Good E     SI1     63.1  56    2868  5.78 5.70 3.62\n",
       "979  0.31  Very Good F     SI1     61.8  58     555  4.32 4.35 2.68\n",
       "980  0.71  Very Good E     VS2     63.8  58    2804  5.62 5.66 3.60\n",
       "981  0.70  Ideal     D     SI1     61.0  59    2804  5.68 5.70 3.47\n",
       "982  0.71  Very Good G     VS1     63.5  55    2803  5.66 5.64 3.59\n",
       "983  0.90  Fair      I     SI1     65.8  56    2873  6.01 5.96 3.94\n",
       "984  0.72  Very Good H     VS1     60.6  63    2782  5.83 5.76 3.51\n",
       "985  0.71  Premium   D     SI2     61.7  59    2768  5.71 5.67 3.51\n",
       "986  0.86  Ideal     H     SI2     61.8  55    2892  6.12 6.14 3.79\n",
       "987  0.80  Very Good F     SI1     62.6  58    2862  5.90 5.92 3.70\n",
       "988  0.81  Good      G     SI2     61.0  61    2789  5.94 5.99 3.64\n",
       "989  0.73  Premium   E     VS2     62.5  61    2862  5.78 5.64 3.59\n",
       "990  0.76  Ideal     E     SI1     61.7  57    2814  5.88 5.85 3.62\n",
       "991  0.70  Ideal     F     VS1     61.6  54    2839  5.75 5.72 3.53\n",
       "992  0.75  Very Good H     VVS1    60.6  58    2806  5.85 5.90 3.56\n",
       "993  0.71  Premium   G     VS2     60.9  57    2766  5.78 5.75 3.51\n",
       "994  0.71  Ideal     I     VS2     61.5  55    2878  5.76 5.78 3.55\n",
       "995  0.32  Premium   I     SI1     62.8  58     554  4.39 4.34 2.74\n",
       "996  0.71  Ideal     D     SI2     61.6  55    2767  5.74 5.76 3.54\n",
       "997  0.71  Very Good E     VS2     60.7  56    2795  5.81 5.82 3.53\n",
       "998  1.03  Fair      I     SI2     65.3  55    2884  6.32 6.27 4.11\n",
       "999  0.74  Ideal     H     SI1     62.1  56    2870  5.77 5.83 3.60\n",
       "1000 0.70  Very Good F     VS2     59.5  58    2812  5.75 5.85 3.45"
      ]
     },
     "metadata": {},
     "output_type": "display_data"
    }
   ],
   "source": [
    "data"
   ]
  },
  {
   "cell_type": "code",
   "execution_count": 189,
   "metadata": {},
   "outputs": [
    {
     "data": {
      "image/png": "[encoded data removed]",
      "text/plain": [
       "plot without title"
      ]
     },
     "metadata": {},
     "output_type": "display_data"
    }
   ],
   "source": [
    "ggplot(data=data)  + geom_point(mapping=aes(x=carat,y=price,color=color,size=clarity))"
   ]
  },
  {
   "cell_type": "code",
   "execution_count": 190,
   "metadata": {},
   "outputs": [
    {
     "data": {
      "image/png": "[encoded data removed]",
      "text/plain": [
       "plot without title"
      ]
     },
     "metadata": {},
     "output_type": "display_data"
    }
   ],
   "source": [
    "ggplot(data=diamonds)  + geom_point(mapping=aes(x=carat,y=price,color=color,size=clarity))"
   ]
  },
  {
   "cell_type": "code",
   "execution_count": 191,
   "metadata": {},
   "outputs": [],
   "source": [
    "df =data.frame(\n",
    "  height= sample(c(4.5,5.5,5.7,4.6,7.5,5,8),25,replace=T),\n",
    "  weight = sample(40:80,25),\n",
    "  sex = sample(c(\"Male\",\"Female\"),25,replace=T),\n",
    "  smoke = sample(c(\"yes\",\"no\"),25,replace=T)  \n",
    ")"
   ]
  },
  {
   "cell_type": "code",
   "execution_count": 192,
   "metadata": {},
   "outputs": [
    {
     "data": {
      "text/html": [
       "<table>\n",
       "<thead><tr><th scope=col>height</th><th scope=col>weight</th><th scope=col>sex</th><th scope=col>smoke</th></tr></thead>\n",
       "<tbody>\n",
       "\t<tr><td>7.5   </td><td>61    </td><td>Male  </td><td>yes   </td></tr>\n",
       "\t<tr><td>5.5   </td><td>80    </td><td>Male  </td><td>yes   </td></tr>\n",
       "\t<tr><td>5.7   </td><td>60    </td><td>Male  </td><td>no    </td></tr>\n",
       "\t<tr><td>5.7   </td><td>42    </td><td>Male  </td><td>no    </td></tr>\n",
       "\t<tr><td>7.5   </td><td>58    </td><td>Female</td><td>yes   </td></tr>\n",
       "\t<tr><td>5.5   </td><td>67    </td><td>Male  </td><td>no    </td></tr>\n",
       "</tbody>\n",
       "</table>\n"
      ],
      "text/latex": [
       "\\begin{tabular}{r|llll}\n",
       " height & weight & sex & smoke\\\\\n",
       "\\hline\n",
       "\t 7.5    & 61     & Male   & yes   \\\\\n",
       "\t 5.5    & 80     & Male   & yes   \\\\\n",
       "\t 5.7    & 60     & Male   & no    \\\\\n",
       "\t 5.7    & 42     & Male   & no    \\\\\n",
       "\t 7.5    & 58     & Female & yes   \\\\\n",
       "\t 5.5    & 67     & Male   & no    \\\\\n",
       "\\end{tabular}\n"
      ],
      "text/markdown": [
       "\n",
       "| height | weight | sex | smoke |\n",
       "|---|---|---|---|\n",
       "| 7.5    | 61     | Male   | yes    |\n",
       "| 5.5    | 80     | Male   | yes    |\n",
       "| 5.7    | 60     | Male   | no     |\n",
       "| 5.7    | 42     | Male   | no     |\n",
       "| 7.5    | 58     | Female | yes    |\n",
       "| 5.5    | 67     | Male   | no     |\n",
       "\n"
      ],
      "text/plain": [
       "  height weight sex    smoke\n",
       "1 7.5    61     Male   yes  \n",
       "2 5.5    80     Male   yes  \n",
       "3 5.7    60     Male   no   \n",
       "4 5.7    42     Male   no   \n",
       "5 7.5    58     Female yes  \n",
       "6 5.5    67     Male   no   "
      ]
     },
     "metadata": {},
     "output_type": "display_data"
    }
   ],
   "source": [
    "head(df)"
   ]
  },
  {
   "cell_type": "code",
   "execution_count": 193,
   "metadata": {},
   "outputs": [
    {
     "data": {
      "image/png": "[encoded data removed]",
      "text/plain": [
       "plot without title"
      ]
     },
     "metadata": {},
     "output_type": "display_data"
    }
   ],
   "source": [
    "ggplot(data=df)  + geom_point(mapping=aes(x=height,y=weight))"
   ]
  },
  {
   "cell_type": "code",
   "execution_count": 166,
   "metadata": {},
   "outputs": [
    {
     "data": {
      "image/png": "[encoded data removed]",
      "text/plain": [
       "plot without title"
      ]
     },
     "metadata": {},
     "output_type": "display_data"
    }
   ],
   "source": [
    "ggplot(mpg)  + geom_point(mapping=aes(x=displ,y=hwy),color='green')\n",
    "\n"
   ]
  },
  {
   "cell_type": "code",
   "execution_count": 167,
   "metadata": {},
   "outputs": [
    {
     "ename": "ERROR",
     "evalue": "Error in parse(text = x, srcfile = src): <text>:3:3: unexpected 'else'\n2:     if (displ>=5 & hwy >=20 ) {return(\"red\")};\n3: } else\n     ^\n",
     "output_type": "error",
     "traceback": [
      "Error in parse(text = x, srcfile = src): <text>:3:3: unexpected 'else'\n2:     if (displ>=5 & hwy >=20 ) {return(\"red\")};\n3: } else\n     ^\nTraceback:\n"
     ]
    }
   ],
   "source": [
    "choose_color = function(dsp,hwy){\n",
    "    if (displ>=5 & hwy >=20 ) {return(\"red\")};\n",
    "} else {\n",
    "    return ('black');\n",
    "}\n",
    "\n",
    "mycolor = NA\n",
    "c=1\n",
    "while(c <= length(mpg$hwy)){\n",
    "    mycolor[c] =choose\n",
    "}"
   ]
  },
  {
   "cell_type": "code",
   "execution_count": 169,
   "metadata": {},
   "outputs": [
    {
     "data": {
      "image/png": "[encoded data removed]",
      "text/plain": [
       "plot without title"
      ]
     },
     "metadata": {},
     "output_type": "display_data"
    }
   ],
   "source": [
    "ggplot(diamonds)+geom_bar(mapping=aes(x=cut,color=cut))"
   ]
  },
  {
   "cell_type": "code",
   "execution_count": 170,
   "metadata": {},
   "outputs": [
    {
     "data": {
      "image/png": "[encoded data removed]",
      "text/plain": [
       "plot without title"
      ]
     },
     "metadata": {},
     "output_type": "display_data"
    }
   ],
   "source": [
    "ggplot(diamonds)+geom_bar(mapping=aes(x=cut,fill=cut))"
   ]
  },
  {
   "cell_type": "code",
   "execution_count": 171,
   "metadata": {},
   "outputs": [
    {
     "data": {
      "image/png": "[encoded data removed]",
      "text/plain": [
       "plot without title"
      ]
     },
     "metadata": {},
     "output_type": "display_data"
    }
   ],
   "source": [
    "ggplot(diamonds)+geom_bar(mapping=aes(x=cut,fill=clarity))"
   ]
  },
  {
   "cell_type": "code",
   "execution_count": 172,
   "metadata": {},
   "outputs": [
    {
     "data": {
      "text/html": [
       "<table>\n",
       "<thead><tr><th scope=col>carat</th><th scope=col>cut</th><th scope=col>color</th><th scope=col>clarity</th><th scope=col>depth</th><th scope=col>table</th><th scope=col>price</th><th scope=col>x</th><th scope=col>y</th><th scope=col>z</th></tr></thead>\n",
       "<tbody>\n",
       "\t<tr><td>0.23     </td><td>Ideal    </td><td>E        </td><td>SI2      </td><td>61.5     </td><td>55       </td><td>326      </td><td>3.95     </td><td>3.98     </td><td>2.43     </td></tr>\n",
       "\t<tr><td>0.21     </td><td>Premium  </td><td>E        </td><td>SI1      </td><td>59.8     </td><td>61       </td><td>326      </td><td>3.89     </td><td>3.84     </td><td>2.31     </td></tr>\n",
       "\t<tr><td>0.23     </td><td>Good     </td><td>E        </td><td>VS1      </td><td>56.9     </td><td>65       </td><td>327      </td><td>4.05     </td><td>4.07     </td><td>2.31     </td></tr>\n",
       "\t<tr><td>0.29     </td><td>Premium  </td><td>I        </td><td>VS2      </td><td>62.4     </td><td>58       </td><td>334      </td><td>4.20     </td><td>4.23     </td><td>2.63     </td></tr>\n",
       "\t<tr><td>0.31     </td><td>Good     </td><td>J        </td><td>SI2      </td><td>63.3     </td><td>58       </td><td>335      </td><td>4.34     </td><td>4.35     </td><td>2.75     </td></tr>\n",
       "\t<tr><td>0.24     </td><td>Very Good</td><td>J        </td><td>VVS2     </td><td>62.8     </td><td>57       </td><td>336      </td><td>3.94     </td><td>3.96     </td><td>2.48     </td></tr>\n",
       "</tbody>\n",
       "</table>\n"
      ],
      "text/latex": [
       "\\begin{tabular}{r|llllllllll}\n",
       " carat & cut & color & clarity & depth & table & price & x & y & z\\\\\n",
       "\\hline\n",
       "\t 0.23      & Ideal     & E         & SI2       & 61.5      & 55        & 326       & 3.95      & 3.98      & 2.43     \\\\\n",
       "\t 0.21      & Premium   & E         & SI1       & 59.8      & 61        & 326       & 3.89      & 3.84      & 2.31     \\\\\n",
       "\t 0.23      & Good      & E         & VS1       & 56.9      & 65        & 327       & 4.05      & 4.07      & 2.31     \\\\\n",
       "\t 0.29      & Premium   & I         & VS2       & 62.4      & 58        & 334       & 4.20      & 4.23      & 2.63     \\\\\n",
       "\t 0.31      & Good      & J         & SI2       & 63.3      & 58        & 335       & 4.34      & 4.35      & 2.75     \\\\\n",
       "\t 0.24      & Very Good & J         & VVS2      & 62.8      & 57        & 336       & 3.94      & 3.96      & 2.48     \\\\\n",
       "\\end{tabular}\n"
      ],
      "text/markdown": [
       "\n",
       "| carat | cut | color | clarity | depth | table | price | x | y | z |\n",
       "|---|---|---|---|---|---|---|---|---|---|\n",
       "| 0.23      | Ideal     | E         | SI2       | 61.5      | 55        | 326       | 3.95      | 3.98      | 2.43      |\n",
       "| 0.21      | Premium   | E         | SI1       | 59.8      | 61        | 326       | 3.89      | 3.84      | 2.31      |\n",
       "| 0.23      | Good      | E         | VS1       | 56.9      | 65        | 327       | 4.05      | 4.07      | 2.31      |\n",
       "| 0.29      | Premium   | I         | VS2       | 62.4      | 58        | 334       | 4.20      | 4.23      | 2.63      |\n",
       "| 0.31      | Good      | J         | SI2       | 63.3      | 58        | 335       | 4.34      | 4.35      | 2.75      |\n",
       "| 0.24      | Very Good | J         | VVS2      | 62.8      | 57        | 336       | 3.94      | 3.96      | 2.48      |\n",
       "\n"
      ],
      "text/plain": [
       "  carat cut       color clarity depth table price x    y    z   \n",
       "1 0.23  Ideal     E     SI2     61.5  55    326   3.95 3.98 2.43\n",
       "2 0.21  Premium   E     SI1     59.8  61    326   3.89 3.84 2.31\n",
       "3 0.23  Good      E     VS1     56.9  65    327   4.05 4.07 2.31\n",
       "4 0.29  Premium   I     VS2     62.4  58    334   4.20 4.23 2.63\n",
       "5 0.31  Good      J     SI2     63.3  58    335   4.34 4.35 2.75\n",
       "6 0.24  Very Good J     VVS2    62.8  57    336   3.94 3.96 2.48"
      ]
     },
     "metadata": {},
     "output_type": "display_data"
    }
   ],
   "source": [
    "head(diamonds)"
   ]
  },
  {
   "cell_type": "code",
   "execution_count": 174,
   "metadata": {},
   "outputs": [
    {
     "data": {
      "image/png": "[encoded data removed]",
      "text/plain": [
       "plot without title"
      ]
     },
     "metadata": {},
     "output_type": "display_data"
    }
   ],
   "source": [
    "ggplot(diamonds)+geom_bar(mapping=aes(x=cut,fill=clarity),position='dodge')"
   ]
  },
  {
   "cell_type": "code",
   "execution_count": 175,
   "metadata": {},
   "outputs": [],
   "source": [
    "chart = ggplot(diamonds)+geom_bar(mapping=aes(x=cut,fill=cut))"
   ]
  },
  {
   "cell_type": "code",
   "execution_count": 177,
   "metadata": {},
   "outputs": [
    {
     "data": {
      "image/png": "[encoded data removed]",
      "text/plain": [
       "plot without title"
      ]
     },
     "metadata": {},
     "output_type": "display_data"
    }
   ],
   "source": [
    "chart+coord_flip()"
   ]
  },
  {
   "cell_type": "code",
   "execution_count": 178,
   "metadata": {},
   "outputs": [
    {
     "data": {
      "image/png": "[encoded data removed]",
      "text/plain": [
       "plot without title"
      ]
     },
     "metadata": {},
     "output_type": "display_data"
    }
   ],
   "source": [
    "chart+coord_polar()"
   ]
  },
  {
   "cell_type": "code",
   "execution_count": 184,
   "metadata": {},
   "outputs": [
    {
     "data": {
      "image/png": "[encoded data removed]",
      "text/plain": [
       "plot without title"
      ]
     },
     "metadata": {},
     "output_type": "display_data"
    }
   ],
   "source": [
    "ggplot(mpg)+geom_boxplot(mapping=aes(,x=class,y=hwy))"
   ]
  },
  {
   "cell_type": "code",
   "execution_count": 194,
   "metadata": {},
   "outputs": [
    {
     "data": {
      "image/png": "[encoded data removed]",
      "text/plain": [
       "plot without title"
      ]
     },
     "metadata": {},
     "output_type": "display_data"
    }
   ],
   "source": [
    "ggplot(mpg)+geom_boxplot(mapping=aes(y=hwy))"
   ]
  },
  {
   "cell_type": "code",
   "execution_count": null,
   "metadata": {},
   "outputs": [],
   "source": []
  }
 ],
 "metadata": {
  "kernelspec": {
   "display_name": "R",
   "language": "R",
   "name": "ir"
  },
  "language_info": {
   "codemirror_mode": "r",
   "file_extension": ".r",
   "mimetype": "text/x-r-source",
   "name": "R",
   "pygments_lexer": "r",
   "version": "3.6.0"
  }
 },
 "nbformat": 4,
 "nbformat_minor": 2
}
