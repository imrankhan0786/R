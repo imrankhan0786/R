{
 "cells": [
  {
   "cell_type": "code",
   "execution_count": 1,
   "metadata": {},
   "outputs": [],
   "source": [
    "x = c(5,4,3,6,NA,3,4)"
   ]
  },
  {
   "cell_type": "code",
   "execution_count": 2,
   "metadata": {},
   "outputs": [
    {
     "data": {
      "text/html": [
       "<ol class=list-inline>\n",
       "\t<li>5</li>\n",
       "\t<li>4</li>\n",
       "\t<li>3</li>\n",
       "\t<li>6</li>\n",
       "\t<li>&lt;NA&gt;</li>\n",
       "\t<li>3</li>\n",
       "\t<li>4</li>\n",
       "</ol>\n"
      ],
      "text/latex": [
       "\\begin{enumerate*}\n",
       "\\item 5\n",
       "\\item 4\n",
       "\\item 3\n",
       "\\item 6\n",
       "\\item <NA>\n",
       "\\item 3\n",
       "\\item 4\n",
       "\\end{enumerate*}\n"
      ],
      "text/markdown": [
       "1. 5\n",
       "2. 4\n",
       "3. 3\n",
       "4. 6\n",
       "5. &lt;NA&gt;\n",
       "6. 3\n",
       "7. 4\n",
       "\n",
       "\n"
      ],
      "text/plain": [
       "[1]  5  4  3  6 NA  3  4"
      ]
     },
     "metadata": {},
     "output_type": "display_data"
    }
   ],
   "source": [
    "x"
   ]
  },
  {
   "cell_type": "code",
   "execution_count": 3,
   "metadata": {},
   "outputs": [
    {
     "name": "stdout",
     "output_type": "stream",
     "text": [
      " [1]   8  93  71  14  37  27  52  87  36  79 100   9  38  19  23  20  80  94  25\n",
      "[20]  68\n"
     ]
    }
   ],
   "source": [
    "mat = sample(1:100,20)\n",
    "print(mat)"
   ]
  },
  {
   "cell_type": "code",
   "execution_count": 4,
   "metadata": {},
   "outputs": [],
   "source": [
    "dim(mat) <- c(5,4)"
   ]
  },
  {
   "cell_type": "code",
   "execution_count": 5,
   "metadata": {},
   "outputs": [
    {
     "data": {
      "text/html": [
       "<table>\n",
       "<tbody>\n",
       "\t<tr><td> 8 </td><td>27 </td><td>100</td><td>20 </td></tr>\n",
       "\t<tr><td>93 </td><td>52 </td><td>  9</td><td>80 </td></tr>\n",
       "\t<tr><td>71 </td><td>87 </td><td> 38</td><td>94 </td></tr>\n",
       "\t<tr><td>14 </td><td>36 </td><td> 19</td><td>25 </td></tr>\n",
       "\t<tr><td>37 </td><td>79 </td><td> 23</td><td>68 </td></tr>\n",
       "</tbody>\n",
       "</table>\n"
      ],
      "text/latex": [
       "\\begin{tabular}{llll}\n",
       "\t  8  & 27  & 100 & 20 \\\\\n",
       "\t 93  & 52  &   9 & 80 \\\\\n",
       "\t 71  & 87  &  38 & 94 \\\\\n",
       "\t 14  & 36  &  19 & 25 \\\\\n",
       "\t 37  & 79  &  23 & 68 \\\\\n",
       "\\end{tabular}\n"
      ],
      "text/markdown": [
       "\n",
       "|  8  | 27  | 100 | 20  |\n",
       "| 93  | 52  |   9 | 80  |\n",
       "| 71  | 87  |  38 | 94  |\n",
       "| 14  | 36  |  19 | 25  |\n",
       "| 37  | 79  |  23 | 68  |\n",
       "\n"
      ],
      "text/plain": [
       "     [,1] [,2] [,3] [,4]\n",
       "[1,]  8   27   100  20  \n",
       "[2,] 93   52     9  80  \n",
       "[3,] 71   87    38  94  \n",
       "[4,] 14   36    19  25  \n",
       "[5,] 37   79    23  68  "
      ]
     },
     "metadata": {},
     "output_type": "display_data"
    }
   ],
   "source": [
    "mat"
   ]
  },
  {
   "cell_type": "code",
   "execution_count": 6,
   "metadata": {},
   "outputs": [],
   "source": [
    "mat = matrix(sample(1:100,20),nrow=5,ncol=4)"
   ]
  },
  {
   "cell_type": "code",
   "execution_count": 7,
   "metadata": {},
   "outputs": [
    {
     "data": {
      "text/html": [
       "<table>\n",
       "<tbody>\n",
       "\t<tr><td> 48</td><td>47 </td><td>30 </td><td>86 </td></tr>\n",
       "\t<tr><td> 18</td><td>61 </td><td>12 </td><td>21 </td></tr>\n",
       "\t<tr><td>  1</td><td>66 </td><td>91 </td><td>96 </td></tr>\n",
       "\t<tr><td> 90</td><td>70 </td><td>32 </td><td>84 </td></tr>\n",
       "\t<tr><td>100</td><td>83 </td><td>56 </td><td>89 </td></tr>\n",
       "</tbody>\n",
       "</table>\n"
      ],
      "text/latex": [
       "\\begin{tabular}{llll}\n",
       "\t  48 & 47  & 30  & 86 \\\\\n",
       "\t  18 & 61  & 12  & 21 \\\\\n",
       "\t   1 & 66  & 91  & 96 \\\\\n",
       "\t  90 & 70  & 32  & 84 \\\\\n",
       "\t 100 & 83  & 56  & 89 \\\\\n",
       "\\end{tabular}\n"
      ],
      "text/markdown": [
       "\n",
       "|  48 | 47  | 30  | 86  |\n",
       "|  18 | 61  | 12  | 21  |\n",
       "|   1 | 66  | 91  | 96  |\n",
       "|  90 | 70  | 32  | 84  |\n",
       "| 100 | 83  | 56  | 89  |\n",
       "\n"
      ],
      "text/plain": [
       "     [,1] [,2] [,3] [,4]\n",
       "[1,]  48  47   30   86  \n",
       "[2,]  18  61   12   21  \n",
       "[3,]   1  66   91   96  \n",
       "[4,]  90  70   32   84  \n",
       "[5,] 100  83   56   89  "
      ]
     },
     "metadata": {},
     "output_type": "display_data"
    }
   ],
   "source": [
    "mat"
   ]
  },
  {
   "cell_type": "code",
   "execution_count": 10,
   "metadata": {},
   "outputs": [],
   "source": [
    "mat = matrix(1:20,nrow=5,ncol=4,byrow=T)"
   ]
  },
  {
   "cell_type": "code",
   "execution_count": 11,
   "metadata": {},
   "outputs": [
    {
     "data": {
      "text/html": [
       "<table>\n",
       "<tbody>\n",
       "\t<tr><td> 1</td><td> 2</td><td> 3</td><td> 4</td></tr>\n",
       "\t<tr><td> 5</td><td> 6</td><td> 7</td><td> 8</td></tr>\n",
       "\t<tr><td> 9</td><td>10</td><td>11</td><td>12</td></tr>\n",
       "\t<tr><td>13</td><td>14</td><td>15</td><td>16</td></tr>\n",
       "\t<tr><td>17</td><td>18</td><td>19</td><td>20</td></tr>\n",
       "</tbody>\n",
       "</table>\n"
      ],
      "text/latex": [
       "\\begin{tabular}{llll}\n",
       "\t  1 &  2 &  3 &  4\\\\\n",
       "\t  5 &  6 &  7 &  8\\\\\n",
       "\t  9 & 10 & 11 & 12\\\\\n",
       "\t 13 & 14 & 15 & 16\\\\\n",
       "\t 17 & 18 & 19 & 20\\\\\n",
       "\\end{tabular}\n"
      ],
      "text/markdown": [
       "\n",
       "|  1 |  2 |  3 |  4 |\n",
       "|  5 |  6 |  7 |  8 |\n",
       "|  9 | 10 | 11 | 12 |\n",
       "| 13 | 14 | 15 | 16 |\n",
       "| 17 | 18 | 19 | 20 |\n",
       "\n"
      ],
      "text/plain": [
       "     [,1] [,2] [,3] [,4]\n",
       "[1,]  1    2    3    4  \n",
       "[2,]  5    6    7    8  \n",
       "[3,]  9   10   11   12  \n",
       "[4,] 13   14   15   16  \n",
       "[5,] 17   18   19   20  "
      ]
     },
     "metadata": {},
     "output_type": "display_data"
    }
   ],
   "source": [
    "mat"
   ]
  },
  {
   "cell_type": "code",
   "execution_count": 14,
   "metadata": {},
   "outputs": [
    {
     "data": {
      "text/html": [
       "<table>\n",
       "<tbody>\n",
       "\t<tr><td> 2</td><td> 3</td><td> 4</td></tr>\n",
       "\t<tr><td> 6</td><td> 7</td><td> 8</td></tr>\n",
       "\t<tr><td>10</td><td>11</td><td>12</td></tr>\n",
       "</tbody>\n",
       "</table>\n"
      ],
      "text/latex": [
       "\\begin{tabular}{lll}\n",
       "\t  2 &  3 &  4\\\\\n",
       "\t  6 &  7 &  8\\\\\n",
       "\t 10 & 11 & 12\\\\\n",
       "\\end{tabular}\n"
      ],
      "text/markdown": [
       "\n",
       "|  2 |  3 |  4 |\n",
       "|  6 |  7 |  8 |\n",
       "| 10 | 11 | 12 |\n",
       "\n"
      ],
      "text/plain": [
       "     [,1] [,2] [,3]\n",
       "[1,]  2    3    4  \n",
       "[2,]  6    7    8  \n",
       "[3,] 10   11   12  "
      ]
     },
     "metadata": {},
     "output_type": "display_data"
    }
   ],
   "source": [
    "mat[1:3,2:4]"
   ]
  },
  {
   "cell_type": "code",
   "execution_count": 15,
   "metadata": {},
   "outputs": [
    {
     "data": {
      "text/html": [
       "<table>\n",
       "<tbody>\n",
       "\t<tr><td> 1</td><td> 2</td><td> 3</td><td> 4</td></tr>\n",
       "\t<tr><td> 5</td><td> 6</td><td> 7</td><td> 8</td></tr>\n",
       "\t<tr><td> 9</td><td>10</td><td>11</td><td>12</td></tr>\n",
       "\t<tr><td>13</td><td>14</td><td>15</td><td>16</td></tr>\n",
       "\t<tr><td>17</td><td>18</td><td>19</td><td>20</td></tr>\n",
       "</tbody>\n",
       "</table>\n"
      ],
      "text/latex": [
       "\\begin{tabular}{llll}\n",
       "\t  1 &  2 &  3 &  4\\\\\n",
       "\t  5 &  6 &  7 &  8\\\\\n",
       "\t  9 & 10 & 11 & 12\\\\\n",
       "\t 13 & 14 & 15 & 16\\\\\n",
       "\t 17 & 18 & 19 & 20\\\\\n",
       "\\end{tabular}\n"
      ],
      "text/markdown": [
       "\n",
       "|  1 |  2 |  3 |  4 |\n",
       "|  5 |  6 |  7 |  8 |\n",
       "|  9 | 10 | 11 | 12 |\n",
       "| 13 | 14 | 15 | 16 |\n",
       "| 17 | 18 | 19 | 20 |\n",
       "\n"
      ],
      "text/plain": [
       "     [,1] [,2] [,3] [,4]\n",
       "[1,]  1    2    3    4  \n",
       "[2,]  5    6    7    8  \n",
       "[3,]  9   10   11   12  \n",
       "[4,] 13   14   15   16  \n",
       "[5,] 17   18   19   20  "
      ]
     },
     "metadata": {},
     "output_type": "display_data"
    }
   ],
   "source": [
    "mat"
   ]
  },
  {
   "cell_type": "code",
   "execution_count": 16,
   "metadata": {},
   "outputs": [
    {
     "data": {
      "text/html": [
       "<table>\n",
       "<tbody>\n",
       "\t<tr><td> 5</td><td> 6</td><td> 8</td></tr>\n",
       "\t<tr><td> 9</td><td>10</td><td>12</td></tr>\n",
       "\t<tr><td>17</td><td>18</td><td>20</td></tr>\n",
       "</tbody>\n",
       "</table>\n"
      ],
      "text/latex": [
       "\\begin{tabular}{lll}\n",
       "\t  5 &  6 &  8\\\\\n",
       "\t  9 & 10 & 12\\\\\n",
       "\t 17 & 18 & 20\\\\\n",
       "\\end{tabular}\n"
      ],
      "text/markdown": [
       "\n",
       "|  5 |  6 |  8 |\n",
       "|  9 | 10 | 12 |\n",
       "| 17 | 18 | 20 |\n",
       "\n"
      ],
      "text/plain": [
       "     [,1] [,2] [,3]\n",
       "[1,]  5    6    8  \n",
       "[2,]  9   10   12  \n",
       "[3,] 17   18   20  "
      ]
     },
     "metadata": {},
     "output_type": "display_data"
    }
   ],
   "source": [
    "mat[c(2,3,5),c(1,2,4)]"
   ]
  },
  {
   "cell_type": "code",
   "execution_count": 18,
   "metadata": {},
   "outputs": [
    {
     "data": {
      "text/html": [
       "<table>\n",
       "<tbody>\n",
       "\t<tr><td> 1</td><td> 3</td></tr>\n",
       "\t<tr><td> 9</td><td>11</td></tr>\n",
       "\t<tr><td>17</td><td>19</td></tr>\n",
       "</tbody>\n",
       "</table>\n"
      ],
      "text/latex": [
       "\\begin{tabular}{ll}\n",
       "\t  1 &  3\\\\\n",
       "\t  9 & 11\\\\\n",
       "\t 17 & 19\\\\\n",
       "\\end{tabular}\n"
      ],
      "text/markdown": [
       "\n",
       "|  1 |  3 |\n",
       "|  9 | 11 |\n",
       "| 17 | 19 |\n",
       "\n"
      ],
      "text/plain": [
       "     [,1] [,2]\n",
       "[1,]  1    3  \n",
       "[2,]  9   11  \n",
       "[3,] 17   19  "
      ]
     },
     "metadata": {},
     "output_type": "display_data"
    }
   ],
   "source": [
    "mat[seq(1,5,2),seq(1,4,2)] # seq(1,4,2) --> 1,3"
   ]
  },
  {
   "cell_type": "code",
   "execution_count": 20,
   "metadata": {},
   "outputs": [],
   "source": [
    "mat = cbind(A=1:5,B=6:10,c=11:15)"
   ]
  },
  {
   "cell_type": "code",
   "execution_count": 21,
   "metadata": {},
   "outputs": [
    {
     "data": {
      "text/html": [
       "<table>\n",
       "<thead><tr><th scope=col>A</th><th scope=col>B</th><th scope=col>c</th></tr></thead>\n",
       "<tbody>\n",
       "\t<tr><td>1 </td><td> 6</td><td>11</td></tr>\n",
       "\t<tr><td>2 </td><td> 7</td><td>12</td></tr>\n",
       "\t<tr><td>3 </td><td> 8</td><td>13</td></tr>\n",
       "\t<tr><td>4 </td><td> 9</td><td>14</td></tr>\n",
       "\t<tr><td>5 </td><td>10</td><td>15</td></tr>\n",
       "</tbody>\n",
       "</table>\n"
      ],
      "text/latex": [
       "\\begin{tabular}{lll}\n",
       " A & B & c\\\\\n",
       "\\hline\n",
       "\t 1  &  6 & 11\\\\\n",
       "\t 2  &  7 & 12\\\\\n",
       "\t 3  &  8 & 13\\\\\n",
       "\t 4  &  9 & 14\\\\\n",
       "\t 5  & 10 & 15\\\\\n",
       "\\end{tabular}\n"
      ],
      "text/markdown": [
       "\n",
       "| A | B | c |\n",
       "|---|---|---|\n",
       "| 1  |  6 | 11 |\n",
       "| 2  |  7 | 12 |\n",
       "| 3  |  8 | 13 |\n",
       "| 4  |  9 | 14 |\n",
       "| 5  | 10 | 15 |\n",
       "\n"
      ],
      "text/plain": [
       "     A B  c \n",
       "[1,] 1  6 11\n",
       "[2,] 2  7 12\n",
       "[3,] 3  8 13\n",
       "[4,] 4  9 14\n",
       "[5,] 5 10 15"
      ]
     },
     "metadata": {},
     "output_type": "display_data"
    }
   ],
   "source": [
    "mat"
   ]
  },
  {
   "cell_type": "code",
   "execution_count": 27,
   "metadata": {},
   "outputs": [
    {
     "name": "stderr",
     "output_type": "stream",
     "text": [
      "Warning message in rbind(A = 1:4, B = sample(5), C = 6:10):\n",
      "\"number of columns of result is not a multiple of vector length (arg 1)\""
     ]
    }
   ],
   "source": [
    "mat = rbind(A=1:4,B=sample(5),C=6:10)"
   ]
  },
  {
   "cell_type": "code",
   "execution_count": 29,
   "metadata": {},
   "outputs": [
    {
     "data": {
      "text/html": [
       "<table>\n",
       "<tbody>\n",
       "\t<tr><th scope=row>A</th><td>1 </td><td>2 </td><td>3 </td><td>4 </td><td> 1</td></tr>\n",
       "\t<tr><th scope=row>B</th><td>4 </td><td>5 </td><td>1 </td><td>3 </td><td> 2</td></tr>\n",
       "\t<tr><th scope=row>C</th><td>6 </td><td>7 </td><td>8 </td><td>9 </td><td>10</td></tr>\n",
       "</tbody>\n",
       "</table>\n"
      ],
      "text/latex": [
       "\\begin{tabular}{r|lllll}\n",
       "\tA & 1  & 2  & 3  & 4  &  1\\\\\n",
       "\tB & 4  & 5  & 1  & 3  &  2\\\\\n",
       "\tC & 6  & 7  & 8  & 9  & 10\\\\\n",
       "\\end{tabular}\n"
      ],
      "text/markdown": [
       "\n",
       "| A | 1  | 2  | 3  | 4  |  1 |\n",
       "| B | 4  | 5  | 1  | 3  |  2 |\n",
       "| C | 6  | 7  | 8  | 9  | 10 |\n",
       "\n"
      ],
      "text/plain": [
       "  [,1] [,2] [,3] [,4] [,5]\n",
       "A 1    2    3    4     1  \n",
       "B 4    5    1    3     2  \n",
       "C 6    7    8    9    10  "
      ]
     },
     "metadata": {},
     "output_type": "display_data"
    }
   ],
   "source": [
    "mat"
   ]
  },
  {
   "cell_type": "code",
   "execution_count": 26,
   "metadata": {},
   "outputs": [
    {
     "data": {
      "text/html": [
       "<strong>C:</strong> 8"
      ],
      "text/latex": [
       "\\textbf{C:} 8"
      ],
      "text/markdown": [
       "**C:** 8"
      ],
      "text/plain": [
       "C \n",
       "8 "
      ]
     },
     "metadata": {},
     "output_type": "display_data"
    }
   ],
   "source": [
    "mat[3,3]"
   ]
  },
  {
   "cell_type": "code",
   "execution_count": 30,
   "metadata": {},
   "outputs": [
    {
     "data": {
      "text/plain": [
       "NULL"
      ]
     },
     "metadata": {},
     "output_type": "display_data"
    }
   ],
   "source": [
    "colnames(mat)"
   ]
  },
  {
   "cell_type": "code",
   "execution_count": 31,
   "metadata": {},
   "outputs": [
    {
     "data": {
      "text/html": [
       "<ol class=list-inline>\n",
       "\t<li>'A'</li>\n",
       "\t<li>'B'</li>\n",
       "\t<li>'C'</li>\n",
       "</ol>\n"
      ],
      "text/latex": [
       "\\begin{enumerate*}\n",
       "\\item 'A'\n",
       "\\item 'B'\n",
       "\\item 'C'\n",
       "\\end{enumerate*}\n"
      ],
      "text/markdown": [
       "1. 'A'\n",
       "2. 'B'\n",
       "3. 'C'\n",
       "\n",
       "\n"
      ],
      "text/plain": [
       "[1] \"A\" \"B\" \"C\""
      ]
     },
     "metadata": {},
     "output_type": "display_data"
    }
   ],
   "source": [
    "rownames(mat)"
   ]
  },
  {
   "cell_type": "code",
   "execution_count": 32,
   "metadata": {},
   "outputs": [],
   "source": [
    "mat = matrix(1:25,nrow=5,ncol=5,byrow = T)"
   ]
  },
  {
   "cell_type": "code",
   "execution_count": 33,
   "metadata": {},
   "outputs": [
    {
     "data": {
      "text/html": [
       "<table>\n",
       "<tbody>\n",
       "\t<tr><td> 1</td><td> 2</td><td> 3</td><td> 4</td><td> 5</td></tr>\n",
       "\t<tr><td> 6</td><td> 7</td><td> 8</td><td> 9</td><td>10</td></tr>\n",
       "\t<tr><td>11</td><td>12</td><td>13</td><td>14</td><td>15</td></tr>\n",
       "\t<tr><td>16</td><td>17</td><td>18</td><td>19</td><td>20</td></tr>\n",
       "\t<tr><td>21</td><td>22</td><td>23</td><td>24</td><td>25</td></tr>\n",
       "</tbody>\n",
       "</table>\n"
      ],
      "text/latex": [
       "\\begin{tabular}{lllll}\n",
       "\t  1 &  2 &  3 &  4 &  5\\\\\n",
       "\t  6 &  7 &  8 &  9 & 10\\\\\n",
       "\t 11 & 12 & 13 & 14 & 15\\\\\n",
       "\t 16 & 17 & 18 & 19 & 20\\\\\n",
       "\t 21 & 22 & 23 & 24 & 25\\\\\n",
       "\\end{tabular}\n"
      ],
      "text/markdown": [
       "\n",
       "|  1 |  2 |  3 |  4 |  5 |\n",
       "|  6 |  7 |  8 |  9 | 10 |\n",
       "| 11 | 12 | 13 | 14 | 15 |\n",
       "| 16 | 17 | 18 | 19 | 20 |\n",
       "| 21 | 22 | 23 | 24 | 25 |\n",
       "\n"
      ],
      "text/plain": [
       "     [,1] [,2] [,3] [,4] [,5]\n",
       "[1,]  1    2    3    4    5  \n",
       "[2,]  6    7    8    9   10  \n",
       "[3,] 11   12   13   14   15  \n",
       "[4,] 16   17   18   19   20  \n",
       "[5,] 21   22   23   24   25  "
      ]
     },
     "metadata": {},
     "output_type": "display_data"
    }
   ],
   "source": [
    "mat"
   ]
  },
  {
   "cell_type": "code",
   "execution_count": 35,
   "metadata": {},
   "outputs": [],
   "source": [
    "colnames(mat) <- c(\"A\",\"B\",\"C\",\"D\",\"E\")\n",
    "rownames(mat) <- c(\"x\",\"y\",\"z\",\"p\",\"q\")"
   ]
  },
  {
   "cell_type": "code",
   "execution_count": 36,
   "metadata": {},
   "outputs": [
    {
     "data": {
      "text/html": [
       "<table>\n",
       "<thead><tr><th></th><th scope=col>A</th><th scope=col>B</th><th scope=col>C</th><th scope=col>D</th><th scope=col>E</th></tr></thead>\n",
       "<tbody>\n",
       "\t<tr><th scope=row>x</th><td> 1</td><td> 2</td><td> 3</td><td> 4</td><td> 5</td></tr>\n",
       "\t<tr><th scope=row>y</th><td> 6</td><td> 7</td><td> 8</td><td> 9</td><td>10</td></tr>\n",
       "\t<tr><th scope=row>z</th><td>11</td><td>12</td><td>13</td><td>14</td><td>15</td></tr>\n",
       "\t<tr><th scope=row>p</th><td>16</td><td>17</td><td>18</td><td>19</td><td>20</td></tr>\n",
       "\t<tr><th scope=row>q</th><td>21</td><td>22</td><td>23</td><td>24</td><td>25</td></tr>\n",
       "</tbody>\n",
       "</table>\n"
      ],
      "text/latex": [
       "\\begin{tabular}{r|lllll}\n",
       "  & A & B & C & D & E\\\\\n",
       "\\hline\n",
       "\tx &  1 &  2 &  3 &  4 &  5\\\\\n",
       "\ty &  6 &  7 &  8 &  9 & 10\\\\\n",
       "\tz & 11 & 12 & 13 & 14 & 15\\\\\n",
       "\tp & 16 & 17 & 18 & 19 & 20\\\\\n",
       "\tq & 21 & 22 & 23 & 24 & 25\\\\\n",
       "\\end{tabular}\n"
      ],
      "text/markdown": [
       "\n",
       "| <!--/--> | A | B | C | D | E |\n",
       "|---|---|---|---|---|---|\n",
       "| x |  1 |  2 |  3 |  4 |  5 |\n",
       "| y |  6 |  7 |  8 |  9 | 10 |\n",
       "| z | 11 | 12 | 13 | 14 | 15 |\n",
       "| p | 16 | 17 | 18 | 19 | 20 |\n",
       "| q | 21 | 22 | 23 | 24 | 25 |\n",
       "\n"
      ],
      "text/plain": [
       "  A  B  C  D  E \n",
       "x  1  2  3  4  5\n",
       "y  6  7  8  9 10\n",
       "z 11 12 13 14 15\n",
       "p 16 17 18 19 20\n",
       "q 21 22 23 24 25"
      ]
     },
     "metadata": {},
     "output_type": "display_data"
    }
   ],
   "source": [
    "mat"
   ]
  },
  {
   "cell_type": "code",
   "execution_count": 37,
   "metadata": {},
   "outputs": [
    {
     "data": {
      "text/html": [
       "<dl class=dl-horizontal>\n",
       "\t<dt>A</dt>\n",
       "\t\t<dd>55</dd>\n",
       "\t<dt>B</dt>\n",
       "\t\t<dd>60</dd>\n",
       "\t<dt>C</dt>\n",
       "\t\t<dd>65</dd>\n",
       "\t<dt>D</dt>\n",
       "\t\t<dd>70</dd>\n",
       "\t<dt>E</dt>\n",
       "\t\t<dd>75</dd>\n",
       "</dl>\n"
      ],
      "text/latex": [
       "\\begin{description*}\n",
       "\\item[A] 55\n",
       "\\item[B] 60\n",
       "\\item[C] 65\n",
       "\\item[D] 70\n",
       "\\item[E] 75\n",
       "\\end{description*}\n"
      ],
      "text/markdown": [
       "A\n",
       ":   55B\n",
       ":   60C\n",
       ":   65D\n",
       ":   70E\n",
       ":   75\n",
       "\n"
      ],
      "text/plain": [
       " A  B  C  D  E \n",
       "55 60 65 70 75 "
      ]
     },
     "metadata": {},
     "output_type": "display_data"
    }
   ],
   "source": [
    "colSums(mat)"
   ]
  },
  {
   "cell_type": "code",
   "execution_count": 38,
   "metadata": {},
   "outputs": [
    {
     "data": {
      "text/html": [
       "<dl class=dl-horizontal>\n",
       "\t<dt>x</dt>\n",
       "\t\t<dd>15</dd>\n",
       "\t<dt>y</dt>\n",
       "\t\t<dd>40</dd>\n",
       "\t<dt>z</dt>\n",
       "\t\t<dd>65</dd>\n",
       "\t<dt>p</dt>\n",
       "\t\t<dd>90</dd>\n",
       "\t<dt>q</dt>\n",
       "\t\t<dd>115</dd>\n",
       "</dl>\n"
      ],
      "text/latex": [
       "\\begin{description*}\n",
       "\\item[x] 15\n",
       "\\item[y] 40\n",
       "\\item[z] 65\n",
       "\\item[p] 90\n",
       "\\item[q] 115\n",
       "\\end{description*}\n"
      ],
      "text/markdown": [
       "x\n",
       ":   15y\n",
       ":   40z\n",
       ":   65p\n",
       ":   90q\n",
       ":   115\n",
       "\n"
      ],
      "text/plain": [
       "  x   y   z   p   q \n",
       " 15  40  65  90 115 "
      ]
     },
     "metadata": {},
     "output_type": "display_data"
    }
   ],
   "source": [
    "rowSums(mat)"
   ]
  },
  {
   "cell_type": "code",
   "execution_count": 39,
   "metadata": {},
   "outputs": [
    {
     "data": {
      "text/html": [
       "<dl class=dl-horizontal>\n",
       "\t<dt>A</dt>\n",
       "\t\t<dd>11</dd>\n",
       "\t<dt>B</dt>\n",
       "\t\t<dd>12</dd>\n",
       "\t<dt>C</dt>\n",
       "\t\t<dd>13</dd>\n",
       "\t<dt>D</dt>\n",
       "\t\t<dd>14</dd>\n",
       "\t<dt>E</dt>\n",
       "\t\t<dd>15</dd>\n",
       "</dl>\n"
      ],
      "text/latex": [
       "\\begin{description*}\n",
       "\\item[A] 11\n",
       "\\item[B] 12\n",
       "\\item[C] 13\n",
       "\\item[D] 14\n",
       "\\item[E] 15\n",
       "\\end{description*}\n"
      ],
      "text/markdown": [
       "A\n",
       ":   11B\n",
       ":   12C\n",
       ":   13D\n",
       ":   14E\n",
       ":   15\n",
       "\n"
      ],
      "text/plain": [
       " A  B  C  D  E \n",
       "11 12 13 14 15 "
      ]
     },
     "metadata": {},
     "output_type": "display_data"
    }
   ],
   "source": [
    "colMeans(mat)"
   ]
  },
  {
   "cell_type": "code",
   "execution_count": 40,
   "metadata": {},
   "outputs": [
    {
     "data": {
      "text/html": [
       "<dl class=dl-horizontal>\n",
       "\t<dt>x</dt>\n",
       "\t\t<dd>3</dd>\n",
       "\t<dt>y</dt>\n",
       "\t\t<dd>8</dd>\n",
       "\t<dt>z</dt>\n",
       "\t\t<dd>13</dd>\n",
       "\t<dt>p</dt>\n",
       "\t\t<dd>18</dd>\n",
       "\t<dt>q</dt>\n",
       "\t\t<dd>23</dd>\n",
       "</dl>\n"
      ],
      "text/latex": [
       "\\begin{description*}\n",
       "\\item[x] 3\n",
       "\\item[y] 8\n",
       "\\item[z] 13\n",
       "\\item[p] 18\n",
       "\\item[q] 23\n",
       "\\end{description*}\n"
      ],
      "text/markdown": [
       "x\n",
       ":   3y\n",
       ":   8z\n",
       ":   13p\n",
       ":   18q\n",
       ":   23\n",
       "\n"
      ],
      "text/plain": [
       " x  y  z  p  q \n",
       " 3  8 13 18 23 "
      ]
     },
     "metadata": {},
     "output_type": "display_data"
    }
   ],
   "source": [
    "rowMeans(mat)"
   ]
  },
  {
   "cell_type": "code",
   "execution_count": 41,
   "metadata": {},
   "outputs": [
    {
     "data": {
      "text/plain": [
       "       A            B            C            D            E     \n",
       " Min.   : 1   Min.   : 2   Min.   : 3   Min.   : 4   Min.   : 5  \n",
       " 1st Qu.: 6   1st Qu.: 7   1st Qu.: 8   1st Qu.: 9   1st Qu.:10  \n",
       " Median :11   Median :12   Median :13   Median :14   Median :15  \n",
       " Mean   :11   Mean   :12   Mean   :13   Mean   :14   Mean   :15  \n",
       " 3rd Qu.:16   3rd Qu.:17   3rd Qu.:18   3rd Qu.:19   3rd Qu.:20  \n",
       " Max.   :21   Max.   :22   Max.   :23   Max.   :24   Max.   :25  "
      ]
     },
     "metadata": {},
     "output_type": "display_data"
    }
   ],
   "source": [
    "summary(mat)"
   ]
  },
  {
   "cell_type": "code",
   "execution_count": 42,
   "metadata": {},
   "outputs": [],
   "source": [
    "name <- c(\"sachin\",\"rajat\",\"nidhi\",\"yadvendra\")\n",
    "age <- c(23,30,25,21)\n",
    "city <- c(\"tonk\",\"ganganagar\",\"kota\",\"surajgrah\")\n"
   ]
  },
  {
   "cell_type": "code",
   "execution_count": 43,
   "metadata": {},
   "outputs": [],
   "source": [
    "df = data.frame(Name=name,Age=age,City=city)"
   ]
  },
  {
   "cell_type": "code",
   "execution_count": 44,
   "metadata": {},
   "outputs": [
    {
     "data": {
      "text/html": [
       "<table>\n",
       "<thead><tr><th scope=col>Name</th><th scope=col>Age</th><th scope=col>City</th></tr></thead>\n",
       "<tbody>\n",
       "\t<tr><td>sachin    </td><td>23        </td><td>tonk      </td></tr>\n",
       "\t<tr><td>rajat     </td><td>30        </td><td>ganganagar</td></tr>\n",
       "\t<tr><td>nidhi     </td><td>25        </td><td>kota      </td></tr>\n",
       "\t<tr><td>yadvendra </td><td>21        </td><td>surajgrah </td></tr>\n",
       "</tbody>\n",
       "</table>\n"
      ],
      "text/latex": [
       "\\begin{tabular}{r|lll}\n",
       " Name & Age & City\\\\\n",
       "\\hline\n",
       "\t sachin     & 23         & tonk      \\\\\n",
       "\t rajat      & 30         & ganganagar\\\\\n",
       "\t nidhi      & 25         & kota      \\\\\n",
       "\t yadvendra  & 21         & surajgrah \\\\\n",
       "\\end{tabular}\n"
      ],
      "text/markdown": [
       "\n",
       "| Name | Age | City |\n",
       "|---|---|---|\n",
       "| sachin     | 23         | tonk       |\n",
       "| rajat      | 30         | ganganagar |\n",
       "| nidhi      | 25         | kota       |\n",
       "| yadvendra  | 21         | surajgrah  |\n",
       "\n"
      ],
      "text/plain": [
       "  Name      Age City      \n",
       "1 sachin    23  tonk      \n",
       "2 rajat     30  ganganagar\n",
       "3 nidhi     25  kota      \n",
       "4 yadvendra 21  surajgrah "
      ]
     },
     "metadata": {},
     "output_type": "display_data"
    }
   ],
   "source": [
    "df"
   ]
  },
  {
   "cell_type": "code",
   "execution_count": 45,
   "metadata": {},
   "outputs": [
    {
     "data": {
      "text/plain": [
       "        Name        Age                City  \n",
       " nidhi    :1   Min.   :21.00   ganganagar:1  \n",
       " rajat    :1   1st Qu.:22.50   kota      :1  \n",
       " sachin   :1   Median :24.00   surajgrah :1  \n",
       " yadvendra:1   Mean   :24.75   tonk      :1  \n",
       "               3rd Qu.:26.25                 \n",
       "               Max.   :30.00                 "
      ]
     },
     "metadata": {},
     "output_type": "display_data"
    }
   ],
   "source": [
    "summary(df)"
   ]
  },
  {
   "cell_type": "code",
   "execution_count": 46,
   "metadata": {},
   "outputs": [],
   "source": [
    "car <- mtcars"
   ]
  },
  {
   "cell_type": "code",
   "execution_count": 47,
   "metadata": {},
   "outputs": [
    {
     "data": {
      "text/html": [
       "11"
      ],
      "text/latex": [
       "11"
      ],
      "text/markdown": [
       "11"
      ],
      "text/plain": [
       "[1] 11"
      ]
     },
     "metadata": {},
     "output_type": "display_data"
    }
   ],
   "source": [
    "length(car)"
   ]
  },
  {
   "cell_type": "code",
   "execution_count": 48,
   "metadata": {},
   "outputs": [
    {
     "data": {
      "text/html": [
       "'data.frame'"
      ],
      "text/latex": [
       "'data.frame'"
      ],
      "text/markdown": [
       "'data.frame'"
      ],
      "text/plain": [
       "[1] \"data.frame\""
      ]
     },
     "metadata": {},
     "output_type": "display_data"
    }
   ],
   "source": [
    "class(car)"
   ]
  },
  {
   "cell_type": "code",
   "execution_count": 49,
   "metadata": {},
   "outputs": [
    {
     "name": "stdout",
     "output_type": "stream",
     "text": [
      "'data.frame':\t32 obs. of  11 variables:\n",
      " $ mpg : num  21 21 22.8 21.4 18.7 18.1 14.3 24.4 22.8 19.2 ...\n",
      " $ cyl : num  6 6 4 6 8 6 8 4 4 6 ...\n",
      " $ disp: num  160 160 108 258 360 ...\n",
      " $ hp  : num  110 110 93 110 175 105 245 62 95 123 ...\n",
      " $ drat: num  3.9 3.9 3.85 3.08 3.15 2.76 3.21 3.69 3.92 3.92 ...\n",
      " $ wt  : num  2.62 2.88 2.32 3.21 3.44 ...\n",
      " $ qsec: num  16.5 17 18.6 19.4 17 ...\n",
      " $ vs  : num  0 0 1 1 0 1 0 1 1 1 ...\n",
      " $ am  : num  1 1 1 0 0 0 0 0 0 0 ...\n",
      " $ gear: num  4 4 4 3 3 3 3 4 4 4 ...\n",
      " $ carb: num  4 4 1 1 2 1 4 2 2 4 ...\n"
     ]
    }
   ],
   "source": [
    "str(car)"
   ]
  },
  {
   "cell_type": "code",
   "execution_count": 50,
   "metadata": {},
   "outputs": [],
   "source": [
    "#help(mtcars)"
   ]
  },
  {
   "cell_type": "code",
   "execution_count": 51,
   "metadata": {},
   "outputs": [
    {
     "data": {
      "text/html": [
       "<table>\n",
       "<thead><tr><th></th><th scope=col>mpg</th><th scope=col>cyl</th><th scope=col>disp</th><th scope=col>hp</th><th scope=col>drat</th><th scope=col>wt</th><th scope=col>qsec</th><th scope=col>vs</th><th scope=col>am</th><th scope=col>gear</th><th scope=col>carb</th></tr></thead>\n",
       "<tbody>\n",
       "\t<tr><th scope=row>Mazda RX4</th><td>21.0 </td><td>6    </td><td>160  </td><td>110  </td><td>3.90 </td><td>2.620</td><td>16.46</td><td>0    </td><td>1    </td><td>4    </td><td>4    </td></tr>\n",
       "\t<tr><th scope=row>Mazda RX4 Wag</th><td>21.0 </td><td>6    </td><td>160  </td><td>110  </td><td>3.90 </td><td>2.875</td><td>17.02</td><td>0    </td><td>1    </td><td>4    </td><td>4    </td></tr>\n",
       "\t<tr><th scope=row>Datsun 710</th><td>22.8 </td><td>4    </td><td>108  </td><td> 93  </td><td>3.85 </td><td>2.320</td><td>18.61</td><td>1    </td><td>1    </td><td>4    </td><td>1    </td></tr>\n",
       "\t<tr><th scope=row>Hornet 4 Drive</th><td>21.4 </td><td>6    </td><td>258  </td><td>110  </td><td>3.08 </td><td>3.215</td><td>19.44</td><td>1    </td><td>0    </td><td>3    </td><td>1    </td></tr>\n",
       "\t<tr><th scope=row>Hornet Sportabout</th><td>18.7 </td><td>8    </td><td>360  </td><td>175  </td><td>3.15 </td><td>3.440</td><td>17.02</td><td>0    </td><td>0    </td><td>3    </td><td>2    </td></tr>\n",
       "\t<tr><th scope=row>Valiant</th><td>18.1 </td><td>6    </td><td>225  </td><td>105  </td><td>2.76 </td><td>3.460</td><td>20.22</td><td>1    </td><td>0    </td><td>3    </td><td>1    </td></tr>\n",
       "</tbody>\n",
       "</table>\n"
      ],
      "text/latex": [
       "\\begin{tabular}{r|lllllllllll}\n",
       "  & mpg & cyl & disp & hp & drat & wt & qsec & vs & am & gear & carb\\\\\n",
       "\\hline\n",
       "\tMazda RX4 & 21.0  & 6     & 160   & 110   & 3.90  & 2.620 & 16.46 & 0     & 1     & 4     & 4    \\\\\n",
       "\tMazda RX4 Wag & 21.0  & 6     & 160   & 110   & 3.90  & 2.875 & 17.02 & 0     & 1     & 4     & 4    \\\\\n",
       "\tDatsun 710 & 22.8  & 4     & 108   &  93   & 3.85  & 2.320 & 18.61 & 1     & 1     & 4     & 1    \\\\\n",
       "\tHornet 4 Drive & 21.4  & 6     & 258   & 110   & 3.08  & 3.215 & 19.44 & 1     & 0     & 3     & 1    \\\\\n",
       "\tHornet Sportabout & 18.7  & 8     & 360   & 175   & 3.15  & 3.440 & 17.02 & 0     & 0     & 3     & 2    \\\\\n",
       "\tValiant & 18.1  & 6     & 225   & 105   & 2.76  & 3.460 & 20.22 & 1     & 0     & 3     & 1    \\\\\n",
       "\\end{tabular}\n"
      ],
      "text/markdown": [
       "\n",
       "| <!--/--> | mpg | cyl | disp | hp | drat | wt | qsec | vs | am | gear | carb |\n",
       "|---|---|---|---|---|---|---|---|---|---|---|---|\n",
       "| Mazda RX4 | 21.0  | 6     | 160   | 110   | 3.90  | 2.620 | 16.46 | 0     | 1     | 4     | 4     |\n",
       "| Mazda RX4 Wag | 21.0  | 6     | 160   | 110   | 3.90  | 2.875 | 17.02 | 0     | 1     | 4     | 4     |\n",
       "| Datsun 710 | 22.8  | 4     | 108   |  93   | 3.85  | 2.320 | 18.61 | 1     | 1     | 4     | 1     |\n",
       "| Hornet 4 Drive | 21.4  | 6     | 258   | 110   | 3.08  | 3.215 | 19.44 | 1     | 0     | 3     | 1     |\n",
       "| Hornet Sportabout | 18.7  | 8     | 360   | 175   | 3.15  | 3.440 | 17.02 | 0     | 0     | 3     | 2     |\n",
       "| Valiant | 18.1  | 6     | 225   | 105   | 2.76  | 3.460 | 20.22 | 1     | 0     | 3     | 1     |\n",
       "\n"
      ],
      "text/plain": [
       "                  mpg  cyl disp hp  drat wt    qsec  vs am gear carb\n",
       "Mazda RX4         21.0 6   160  110 3.90 2.620 16.46 0  1  4    4   \n",
       "Mazda RX4 Wag     21.0 6   160  110 3.90 2.875 17.02 0  1  4    4   \n",
       "Datsun 710        22.8 4   108   93 3.85 2.320 18.61 1  1  4    1   \n",
       "Hornet 4 Drive    21.4 6   258  110 3.08 3.215 19.44 1  0  3    1   \n",
       "Hornet Sportabout 18.7 8   360  175 3.15 3.440 17.02 0  0  3    2   \n",
       "Valiant           18.1 6   225  105 2.76 3.460 20.22 1  0  3    1   "
      ]
     },
     "metadata": {},
     "output_type": "display_data"
    }
   ],
   "source": [
    "head(car)"
   ]
  },
  {
   "cell_type": "code",
   "execution_count": 52,
   "metadata": {},
   "outputs": [
    {
     "data": {
      "text/html": [
       "<table>\n",
       "<thead><tr><th></th><th scope=col>mpg</th><th scope=col>cyl</th><th scope=col>disp</th><th scope=col>hp</th><th scope=col>drat</th><th scope=col>wt</th><th scope=col>qsec</th><th scope=col>vs</th><th scope=col>am</th><th scope=col>gear</th><th scope=col>carb</th></tr></thead>\n",
       "<tbody>\n",
       "\t<tr><th scope=row>Porsche 914-2</th><td>26.0 </td><td>4    </td><td>120.3</td><td> 91  </td><td>4.43 </td><td>2.140</td><td>16.7 </td><td>0    </td><td>1    </td><td>5    </td><td>2    </td></tr>\n",
       "\t<tr><th scope=row>Lotus Europa</th><td>30.4 </td><td>4    </td><td> 95.1</td><td>113  </td><td>3.77 </td><td>1.513</td><td>16.9 </td><td>1    </td><td>1    </td><td>5    </td><td>2    </td></tr>\n",
       "\t<tr><th scope=row>Ford Pantera L</th><td>15.8 </td><td>8    </td><td>351.0</td><td>264  </td><td>4.22 </td><td>3.170</td><td>14.5 </td><td>0    </td><td>1    </td><td>5    </td><td>4    </td></tr>\n",
       "\t<tr><th scope=row>Ferrari Dino</th><td>19.7 </td><td>6    </td><td>145.0</td><td>175  </td><td>3.62 </td><td>2.770</td><td>15.5 </td><td>0    </td><td>1    </td><td>5    </td><td>6    </td></tr>\n",
       "\t<tr><th scope=row>Maserati Bora</th><td>15.0 </td><td>8    </td><td>301.0</td><td>335  </td><td>3.54 </td><td>3.570</td><td>14.6 </td><td>0    </td><td>1    </td><td>5    </td><td>8    </td></tr>\n",
       "\t<tr><th scope=row>Volvo 142E</th><td>21.4 </td><td>4    </td><td>121.0</td><td>109  </td><td>4.11 </td><td>2.780</td><td>18.6 </td><td>1    </td><td>1    </td><td>4    </td><td>2    </td></tr>\n",
       "</tbody>\n",
       "</table>\n"
      ],
      "text/latex": [
       "\\begin{tabular}{r|lllllllllll}\n",
       "  & mpg & cyl & disp & hp & drat & wt & qsec & vs & am & gear & carb\\\\\n",
       "\\hline\n",
       "\tPorsche 914-2 & 26.0  & 4     & 120.3 &  91   & 4.43  & 2.140 & 16.7  & 0     & 1     & 5     & 2    \\\\\n",
       "\tLotus Europa & 30.4  & 4     &  95.1 & 113   & 3.77  & 1.513 & 16.9  & 1     & 1     & 5     & 2    \\\\\n",
       "\tFord Pantera L & 15.8  & 8     & 351.0 & 264   & 4.22  & 3.170 & 14.5  & 0     & 1     & 5     & 4    \\\\\n",
       "\tFerrari Dino & 19.7  & 6     & 145.0 & 175   & 3.62  & 2.770 & 15.5  & 0     & 1     & 5     & 6    \\\\\n",
       "\tMaserati Bora & 15.0  & 8     & 301.0 & 335   & 3.54  & 3.570 & 14.6  & 0     & 1     & 5     & 8    \\\\\n",
       "\tVolvo 142E & 21.4  & 4     & 121.0 & 109   & 4.11  & 2.780 & 18.6  & 1     & 1     & 4     & 2    \\\\\n",
       "\\end{tabular}\n"
      ],
      "text/markdown": [
       "\n",
       "| <!--/--> | mpg | cyl | disp | hp | drat | wt | qsec | vs | am | gear | carb |\n",
       "|---|---|---|---|---|---|---|---|---|---|---|---|\n",
       "| Porsche 914-2 | 26.0  | 4     | 120.3 |  91   | 4.43  | 2.140 | 16.7  | 0     | 1     | 5     | 2     |\n",
       "| Lotus Europa | 30.4  | 4     |  95.1 | 113   | 3.77  | 1.513 | 16.9  | 1     | 1     | 5     | 2     |\n",
       "| Ford Pantera L | 15.8  | 8     | 351.0 | 264   | 4.22  | 3.170 | 14.5  | 0     | 1     | 5     | 4     |\n",
       "| Ferrari Dino | 19.7  | 6     | 145.0 | 175   | 3.62  | 2.770 | 15.5  | 0     | 1     | 5     | 6     |\n",
       "| Maserati Bora | 15.0  | 8     | 301.0 | 335   | 3.54  | 3.570 | 14.6  | 0     | 1     | 5     | 8     |\n",
       "| Volvo 142E | 21.4  | 4     | 121.0 | 109   | 4.11  | 2.780 | 18.6  | 1     | 1     | 4     | 2     |\n",
       "\n"
      ],
      "text/plain": [
       "               mpg  cyl disp  hp  drat wt    qsec vs am gear carb\n",
       "Porsche 914-2  26.0 4   120.3  91 4.43 2.140 16.7 0  1  5    2   \n",
       "Lotus Europa   30.4 4    95.1 113 3.77 1.513 16.9 1  1  5    2   \n",
       "Ford Pantera L 15.8 8   351.0 264 4.22 3.170 14.5 0  1  5    4   \n",
       "Ferrari Dino   19.7 6   145.0 175 3.62 2.770 15.5 0  1  5    6   \n",
       "Maserati Bora  15.0 8   301.0 335 3.54 3.570 14.6 0  1  5    8   \n",
       "Volvo 142E     21.4 4   121.0 109 4.11 2.780 18.6 1  1  4    2   "
      ]
     },
     "metadata": {},
     "output_type": "display_data"
    }
   ],
   "source": [
    "tail(car)"
   ]
  },
  {
   "cell_type": "code",
   "execution_count": 54,
   "metadata": {},
   "outputs": [
    {
     "data": {
      "text/html": [
       "<table>\n",
       "<thead><tr><th></th><th scope=col>mpg</th><th scope=col>cyl</th><th scope=col>disp</th><th scope=col>hp</th><th scope=col>drat</th><th scope=col>wt</th><th scope=col>qsec</th><th scope=col>vs</th><th scope=col>am</th><th scope=col>gear</th><th scope=col>carb</th></tr></thead>\n",
       "<tbody>\n",
       "\t<tr><th scope=row>Merc 280</th><td>19.2 </td><td>6    </td><td>167.6</td><td>123  </td><td>3.92 </td><td>3.440</td><td>18.30</td><td>1    </td><td>0    </td><td>4    </td><td>4    </td></tr>\n",
       "\t<tr><th scope=row>Merc 280C</th><td>17.8 </td><td>6    </td><td>167.6</td><td>123  </td><td>3.92 </td><td>3.440</td><td>18.90</td><td>1    </td><td>0    </td><td>4    </td><td>4    </td></tr>\n",
       "\t<tr><th scope=row>Merc 450SE</th><td>16.4 </td><td>8    </td><td>275.8</td><td>180  </td><td>3.07 </td><td>4.070</td><td>17.40</td><td>0    </td><td>0    </td><td>3    </td><td>3    </td></tr>\n",
       "\t<tr><th scope=row>Merc 450SL</th><td>17.3 </td><td>8    </td><td>275.8</td><td>180  </td><td>3.07 </td><td>3.730</td><td>17.60</td><td>0    </td><td>0    </td><td>3    </td><td>3    </td></tr>\n",
       "\t<tr><th scope=row>Merc 450SLC</th><td>15.2 </td><td>8    </td><td>275.8</td><td>180  </td><td>3.07 </td><td>3.780</td><td>18.00</td><td>0    </td><td>0    </td><td>3    </td><td>3    </td></tr>\n",
       "\t<tr><th scope=row>Cadillac Fleetwood</th><td>10.4 </td><td>8    </td><td>472.0</td><td>205  </td><td>2.93 </td><td>5.250</td><td>17.98</td><td>0    </td><td>0    </td><td>3    </td><td>4    </td></tr>\n",
       "\t<tr><th scope=row>Lincoln Continental</th><td>10.4 </td><td>8    </td><td>460.0</td><td>215  </td><td>3.00 </td><td>5.424</td><td>17.82</td><td>0    </td><td>0    </td><td>3    </td><td>4    </td></tr>\n",
       "\t<tr><th scope=row>Chrysler Imperial</th><td>14.7 </td><td>8    </td><td>440.0</td><td>230  </td><td>3.23 </td><td>5.345</td><td>17.42</td><td>0    </td><td>0    </td><td>3    </td><td>4    </td></tr>\n",
       "\t<tr><th scope=row>Fiat 128</th><td>32.4 </td><td>4    </td><td> 78.7</td><td> 66  </td><td>4.08 </td><td>2.200</td><td>19.47</td><td>1    </td><td>1    </td><td>4    </td><td>1    </td></tr>\n",
       "\t<tr><th scope=row>Honda Civic</th><td>30.4 </td><td>4    </td><td> 75.7</td><td> 52  </td><td>4.93 </td><td>1.615</td><td>18.52</td><td>1    </td><td>1    </td><td>4    </td><td>2    </td></tr>\n",
       "\t<tr><th scope=row>Toyota Corolla</th><td>33.9 </td><td>4    </td><td> 71.1</td><td> 65  </td><td>4.22 </td><td>1.835</td><td>19.90</td><td>1    </td><td>1    </td><td>4    </td><td>1    </td></tr>\n",
       "</tbody>\n",
       "</table>\n"
      ],
      "text/latex": [
       "\\begin{tabular}{r|lllllllllll}\n",
       "  & mpg & cyl & disp & hp & drat & wt & qsec & vs & am & gear & carb\\\\\n",
       "\\hline\n",
       "\tMerc 280 & 19.2  & 6     & 167.6 & 123   & 3.92  & 3.440 & 18.30 & 1     & 0     & 4     & 4    \\\\\n",
       "\tMerc 280C & 17.8  & 6     & 167.6 & 123   & 3.92  & 3.440 & 18.90 & 1     & 0     & 4     & 4    \\\\\n",
       "\tMerc 450SE & 16.4  & 8     & 275.8 & 180   & 3.07  & 4.070 & 17.40 & 0     & 0     & 3     & 3    \\\\\n",
       "\tMerc 450SL & 17.3  & 8     & 275.8 & 180   & 3.07  & 3.730 & 17.60 & 0     & 0     & 3     & 3    \\\\\n",
       "\tMerc 450SLC & 15.2  & 8     & 275.8 & 180   & 3.07  & 3.780 & 18.00 & 0     & 0     & 3     & 3    \\\\\n",
       "\tCadillac Fleetwood & 10.4  & 8     & 472.0 & 205   & 2.93  & 5.250 & 17.98 & 0     & 0     & 3     & 4    \\\\\n",
       "\tLincoln Continental & 10.4  & 8     & 460.0 & 215   & 3.00  & 5.424 & 17.82 & 0     & 0     & 3     & 4    \\\\\n",
       "\tChrysler Imperial & 14.7  & 8     & 440.0 & 230   & 3.23  & 5.345 & 17.42 & 0     & 0     & 3     & 4    \\\\\n",
       "\tFiat 128 & 32.4  & 4     &  78.7 &  66   & 4.08  & 2.200 & 19.47 & 1     & 1     & 4     & 1    \\\\\n",
       "\tHonda Civic & 30.4  & 4     &  75.7 &  52   & 4.93  & 1.615 & 18.52 & 1     & 1     & 4     & 2    \\\\\n",
       "\tToyota Corolla & 33.9  & 4     &  71.1 &  65   & 4.22  & 1.835 & 19.90 & 1     & 1     & 4     & 1    \\\\\n",
       "\\end{tabular}\n"
      ],
      "text/markdown": [
       "\n",
       "| <!--/--> | mpg | cyl | disp | hp | drat | wt | qsec | vs | am | gear | carb |\n",
       "|---|---|---|---|---|---|---|---|---|---|---|---|\n",
       "| Merc 280 | 19.2  | 6     | 167.6 | 123   | 3.92  | 3.440 | 18.30 | 1     | 0     | 4     | 4     |\n",
       "| Merc 280C | 17.8  | 6     | 167.6 | 123   | 3.92  | 3.440 | 18.90 | 1     | 0     | 4     | 4     |\n",
       "| Merc 450SE | 16.4  | 8     | 275.8 | 180   | 3.07  | 4.070 | 17.40 | 0     | 0     | 3     | 3     |\n",
       "| Merc 450SL | 17.3  | 8     | 275.8 | 180   | 3.07  | 3.730 | 17.60 | 0     | 0     | 3     | 3     |\n",
       "| Merc 450SLC | 15.2  | 8     | 275.8 | 180   | 3.07  | 3.780 | 18.00 | 0     | 0     | 3     | 3     |\n",
       "| Cadillac Fleetwood | 10.4  | 8     | 472.0 | 205   | 2.93  | 5.250 | 17.98 | 0     | 0     | 3     | 4     |\n",
       "| Lincoln Continental | 10.4  | 8     | 460.0 | 215   | 3.00  | 5.424 | 17.82 | 0     | 0     | 3     | 4     |\n",
       "| Chrysler Imperial | 14.7  | 8     | 440.0 | 230   | 3.23  | 5.345 | 17.42 | 0     | 0     | 3     | 4     |\n",
       "| Fiat 128 | 32.4  | 4     |  78.7 |  66   | 4.08  | 2.200 | 19.47 | 1     | 1     | 4     | 1     |\n",
       "| Honda Civic | 30.4  | 4     |  75.7 |  52   | 4.93  | 1.615 | 18.52 | 1     | 1     | 4     | 2     |\n",
       "| Toyota Corolla | 33.9  | 4     |  71.1 |  65   | 4.22  | 1.835 | 19.90 | 1     | 1     | 4     | 1     |\n",
       "\n"
      ],
      "text/plain": [
       "                    mpg  cyl disp  hp  drat wt    qsec  vs am gear carb\n",
       "Merc 280            19.2 6   167.6 123 3.92 3.440 18.30 1  0  4    4   \n",
       "Merc 280C           17.8 6   167.6 123 3.92 3.440 18.90 1  0  4    4   \n",
       "Merc 450SE          16.4 8   275.8 180 3.07 4.070 17.40 0  0  3    3   \n",
       "Merc 450SL          17.3 8   275.8 180 3.07 3.730 17.60 0  0  3    3   \n",
       "Merc 450SLC         15.2 8   275.8 180 3.07 3.780 18.00 0  0  3    3   \n",
       "Cadillac Fleetwood  10.4 8   472.0 205 2.93 5.250 17.98 0  0  3    4   \n",
       "Lincoln Continental 10.4 8   460.0 215 3.00 5.424 17.82 0  0  3    4   \n",
       "Chrysler Imperial   14.7 8   440.0 230 3.23 5.345 17.42 0  0  3    4   \n",
       "Fiat 128            32.4 4    78.7  66 4.08 2.200 19.47 1  1  4    1   \n",
       "Honda Civic         30.4 4    75.7  52 4.93 1.615 18.52 1  1  4    2   \n",
       "Toyota Corolla      33.9 4    71.1  65 4.22 1.835 19.90 1  1  4    1   "
      ]
     },
     "metadata": {},
     "output_type": "display_data"
    }
   ],
   "source": [
    "car[10:20,]"
   ]
  },
  {
   "cell_type": "code",
   "execution_count": 55,
   "metadata": {},
   "outputs": [
    {
     "data": {
      "text/html": [
       "<ol class=list-inline>\n",
       "\t<li>21</li>\n",
       "\t<li>21</li>\n",
       "\t<li>22.8</li>\n",
       "\t<li>21.4</li>\n",
       "\t<li>18.7</li>\n",
       "\t<li>18.1</li>\n",
       "\t<li>14.3</li>\n",
       "\t<li>24.4</li>\n",
       "\t<li>22.8</li>\n",
       "\t<li>19.2</li>\n",
       "\t<li>17.8</li>\n",
       "\t<li>16.4</li>\n",
       "\t<li>17.3</li>\n",
       "\t<li>15.2</li>\n",
       "\t<li>10.4</li>\n",
       "\t<li>10.4</li>\n",
       "\t<li>14.7</li>\n",
       "\t<li>32.4</li>\n",
       "\t<li>30.4</li>\n",
       "\t<li>33.9</li>\n",
       "\t<li>21.5</li>\n",
       "\t<li>15.5</li>\n",
       "\t<li>15.2</li>\n",
       "\t<li>13.3</li>\n",
       "\t<li>19.2</li>\n",
       "\t<li>27.3</li>\n",
       "\t<li>26</li>\n",
       "\t<li>30.4</li>\n",
       "\t<li>15.8</li>\n",
       "\t<li>19.7</li>\n",
       "\t<li>15</li>\n",
       "\t<li>21.4</li>\n",
       "</ol>\n"
      ],
      "text/latex": [
       "\\begin{enumerate*}\n",
       "\\item 21\n",
       "\\item 21\n",
       "\\item 22.8\n",
       "\\item 21.4\n",
       "\\item 18.7\n",
       "\\item 18.1\n",
       "\\item 14.3\n",
       "\\item 24.4\n",
       "\\item 22.8\n",
       "\\item 19.2\n",
       "\\item 17.8\n",
       "\\item 16.4\n",
       "\\item 17.3\n",
       "\\item 15.2\n",
       "\\item 10.4\n",
       "\\item 10.4\n",
       "\\item 14.7\n",
       "\\item 32.4\n",
       "\\item 30.4\n",
       "\\item 33.9\n",
       "\\item 21.5\n",
       "\\item 15.5\n",
       "\\item 15.2\n",
       "\\item 13.3\n",
       "\\item 19.2\n",
       "\\item 27.3\n",
       "\\item 26\n",
       "\\item 30.4\n",
       "\\item 15.8\n",
       "\\item 19.7\n",
       "\\item 15\n",
       "\\item 21.4\n",
       "\\end{enumerate*}\n"
      ],
      "text/markdown": [
       "1. 21\n",
       "2. 21\n",
       "3. 22.8\n",
       "4. 21.4\n",
       "5. 18.7\n",
       "6. 18.1\n",
       "7. 14.3\n",
       "8. 24.4\n",
       "9. 22.8\n",
       "10. 19.2\n",
       "11. 17.8\n",
       "12. 16.4\n",
       "13. 17.3\n",
       "14. 15.2\n",
       "15. 10.4\n",
       "16. 10.4\n",
       "17. 14.7\n",
       "18. 32.4\n",
       "19. 30.4\n",
       "20. 33.9\n",
       "21. 21.5\n",
       "22. 15.5\n",
       "23. 15.2\n",
       "24. 13.3\n",
       "25. 19.2\n",
       "26. 27.3\n",
       "27. 26\n",
       "28. 30.4\n",
       "29. 15.8\n",
       "30. 19.7\n",
       "31. 15\n",
       "32. 21.4\n",
       "\n",
       "\n"
      ],
      "text/plain": [
       " [1] 21.0 21.0 22.8 21.4 18.7 18.1 14.3 24.4 22.8 19.2 17.8 16.4 17.3 15.2 10.4\n",
       "[16] 10.4 14.7 32.4 30.4 33.9 21.5 15.5 15.2 13.3 19.2 27.3 26.0 30.4 15.8 19.7\n",
       "[31] 15.0 21.4"
      ]
     },
     "metadata": {},
     "output_type": "display_data"
    }
   ],
   "source": [
    "car$mpg"
   ]
  },
  {
   "cell_type": "code",
   "execution_count": 56,
   "metadata": {},
   "outputs": [
    {
     "data": {
      "text/html": [
       "<ol class=list-inline>\n",
       "\t<li>6</li>\n",
       "\t<li>6</li>\n",
       "\t<li>4</li>\n",
       "\t<li>6</li>\n",
       "\t<li>8</li>\n",
       "\t<li>6</li>\n",
       "\t<li>8</li>\n",
       "\t<li>4</li>\n",
       "\t<li>4</li>\n",
       "\t<li>6</li>\n",
       "\t<li>6</li>\n",
       "\t<li>8</li>\n",
       "\t<li>8</li>\n",
       "\t<li>8</li>\n",
       "\t<li>8</li>\n",
       "\t<li>8</li>\n",
       "\t<li>8</li>\n",
       "\t<li>4</li>\n",
       "\t<li>4</li>\n",
       "\t<li>4</li>\n",
       "\t<li>4</li>\n",
       "\t<li>8</li>\n",
       "\t<li>8</li>\n",
       "\t<li>8</li>\n",
       "\t<li>8</li>\n",
       "\t<li>4</li>\n",
       "\t<li>4</li>\n",
       "\t<li>4</li>\n",
       "\t<li>8</li>\n",
       "\t<li>6</li>\n",
       "\t<li>8</li>\n",
       "\t<li>4</li>\n",
       "</ol>\n"
      ],
      "text/latex": [
       "\\begin{enumerate*}\n",
       "\\item 6\n",
       "\\item 6\n",
       "\\item 4\n",
       "\\item 6\n",
       "\\item 8\n",
       "\\item 6\n",
       "\\item 8\n",
       "\\item 4\n",
       "\\item 4\n",
       "\\item 6\n",
       "\\item 6\n",
       "\\item 8\n",
       "\\item 8\n",
       "\\item 8\n",
       "\\item 8\n",
       "\\item 8\n",
       "\\item 8\n",
       "\\item 4\n",
       "\\item 4\n",
       "\\item 4\n",
       "\\item 4\n",
       "\\item 8\n",
       "\\item 8\n",
       "\\item 8\n",
       "\\item 8\n",
       "\\item 4\n",
       "\\item 4\n",
       "\\item 4\n",
       "\\item 8\n",
       "\\item 6\n",
       "\\item 8\n",
       "\\item 4\n",
       "\\end{enumerate*}\n"
      ],
      "text/markdown": [
       "1. 6\n",
       "2. 6\n",
       "3. 4\n",
       "4. 6\n",
       "5. 8\n",
       "6. 6\n",
       "7. 8\n",
       "8. 4\n",
       "9. 4\n",
       "10. 6\n",
       "11. 6\n",
       "12. 8\n",
       "13. 8\n",
       "14. 8\n",
       "15. 8\n",
       "16. 8\n",
       "17. 8\n",
       "18. 4\n",
       "19. 4\n",
       "20. 4\n",
       "21. 4\n",
       "22. 8\n",
       "23. 8\n",
       "24. 8\n",
       "25. 8\n",
       "26. 4\n",
       "27. 4\n",
       "28. 4\n",
       "29. 8\n",
       "30. 6\n",
       "31. 8\n",
       "32. 4\n",
       "\n",
       "\n"
      ],
      "text/plain": [
       " [1] 6 6 4 6 8 6 8 4 4 6 6 8 8 8 8 8 8 4 4 4 4 8 8 8 8 4 4 4 8 6 8 4"
      ]
     },
     "metadata": {},
     "output_type": "display_data"
    }
   ],
   "source": [
    "car$cyl"
   ]
  },
  {
   "cell_type": "code",
   "execution_count": 59,
   "metadata": {},
   "outputs": [
    {
     "data": {
      "image/png": "[encoded data removed]",
      "text/plain": [
       "plot without title"
      ]
     },
     "metadata": {},
     "output_type": "display_data"
    }
   ],
   "source": [
    "plot(car[,c('hp','mpg')])"
   ]
  },
  {
   "cell_type": "code",
   "execution_count": 60,
   "metadata": {},
   "outputs": [
    {
     "data": {
      "text/html": [
       "<table>\n",
       "<thead><tr><th scope=col>Name</th><th scope=col>Age</th><th scope=col>City</th></tr></thead>\n",
       "<tbody>\n",
       "\t<tr><td>sachin    </td><td>23        </td><td>tonk      </td></tr>\n",
       "\t<tr><td>rajat     </td><td>30        </td><td>ganganagar</td></tr>\n",
       "\t<tr><td>nidhi     </td><td>25        </td><td>kota      </td></tr>\n",
       "\t<tr><td>yadvendra </td><td>21        </td><td>surajgrah </td></tr>\n",
       "</tbody>\n",
       "</table>\n"
      ],
      "text/latex": [
       "\\begin{tabular}{r|lll}\n",
       " Name & Age & City\\\\\n",
       "\\hline\n",
       "\t sachin     & 23         & tonk      \\\\\n",
       "\t rajat      & 30         & ganganagar\\\\\n",
       "\t nidhi      & 25         & kota      \\\\\n",
       "\t yadvendra  & 21         & surajgrah \\\\\n",
       "\\end{tabular}\n"
      ],
      "text/markdown": [
       "\n",
       "| Name | Age | City |\n",
       "|---|---|---|\n",
       "| sachin     | 23         | tonk       |\n",
       "| rajat      | 30         | ganganagar |\n",
       "| nidhi      | 25         | kota       |\n",
       "| yadvendra  | 21         | surajgrah  |\n",
       "\n"
      ],
      "text/plain": [
       "  Name      Age City      \n",
       "1 sachin    23  tonk      \n",
       "2 rajat     30  ganganagar\n",
       "3 nidhi     25  kota      \n",
       "4 yadvendra 21  surajgrah "
      ]
     },
     "metadata": {},
     "output_type": "display_data"
    }
   ],
   "source": [
    "df"
   ]
  },
  {
   "cell_type": "code",
   "execution_count": 62,
   "metadata": {},
   "outputs": [],
   "source": [
    "df$POS <- c(\"python\",\"linux\",\"counsular\",\"linux\")"
   ]
  },
  {
   "cell_type": "code",
   "execution_count": 63,
   "metadata": {},
   "outputs": [
    {
     "data": {
      "text/html": [
       "<table>\n",
       "<thead><tr><th scope=col>Name</th><th scope=col>Age</th><th scope=col>City</th><th scope=col>POS</th></tr></thead>\n",
       "<tbody>\n",
       "\t<tr><td>sachin    </td><td>23        </td><td>tonk      </td><td>python    </td></tr>\n",
       "\t<tr><td>rajat     </td><td>30        </td><td>ganganagar</td><td>linux     </td></tr>\n",
       "\t<tr><td>nidhi     </td><td>25        </td><td>kota      </td><td>counsular </td></tr>\n",
       "\t<tr><td>yadvendra </td><td>21        </td><td>surajgrah </td><td>linux     </td></tr>\n",
       "</tbody>\n",
       "</table>\n"
      ],
      "text/latex": [
       "\\begin{tabular}{r|llll}\n",
       " Name & Age & City & POS\\\\\n",
       "\\hline\n",
       "\t sachin     & 23         & tonk       & python    \\\\\n",
       "\t rajat      & 30         & ganganagar & linux     \\\\\n",
       "\t nidhi      & 25         & kota       & counsular \\\\\n",
       "\t yadvendra  & 21         & surajgrah  & linux     \\\\\n",
       "\\end{tabular}\n"
      ],
      "text/markdown": [
       "\n",
       "| Name | Age | City | POS |\n",
       "|---|---|---|---|\n",
       "| sachin     | 23         | tonk       | python     |\n",
       "| rajat      | 30         | ganganagar | linux      |\n",
       "| nidhi      | 25         | kota       | counsular  |\n",
       "| yadvendra  | 21         | surajgrah  | linux      |\n",
       "\n"
      ],
      "text/plain": [
       "  Name      Age City       POS      \n",
       "1 sachin    23  tonk       python   \n",
       "2 rajat     30  ganganagar linux    \n",
       "3 nidhi     25  kota       counsular\n",
       "4 yadvendra 21  surajgrah  linux    "
      ]
     },
     "metadata": {},
     "output_type": "display_data"
    }
   ],
   "source": [
    "df"
   ]
  },
  {
   "cell_type": "code",
   "execution_count": 67,
   "metadata": {},
   "outputs": [
    {
     "data": {
      "text/html": [
       "<table>\n",
       "<thead><tr><th scope=col>Name</th><th scope=col>Age</th></tr></thead>\n",
       "<tbody>\n",
       "\t<tr><td>sachin   </td><td>23       </td></tr>\n",
       "\t<tr><td>rajat    </td><td>30       </td></tr>\n",
       "\t<tr><td>nidhi    </td><td>25       </td></tr>\n",
       "\t<tr><td>yadvendra</td><td>21       </td></tr>\n",
       "</tbody>\n",
       "</table>\n"
      ],
      "text/latex": [
       "\\begin{tabular}{r|ll}\n",
       " Name & Age\\\\\n",
       "\\hline\n",
       "\t sachin    & 23       \\\\\n",
       "\t rajat     & 30       \\\\\n",
       "\t nidhi     & 25       \\\\\n",
       "\t yadvendra & 21       \\\\\n",
       "\\end{tabular}\n"
      ],
      "text/markdown": [
       "\n",
       "| Name | Age |\n",
       "|---|---|\n",
       "| sachin    | 23        |\n",
       "| rajat     | 30        |\n",
       "| nidhi     | 25        |\n",
       "| yadvendra | 21        |\n",
       "\n"
      ],
      "text/plain": [
       "  Name      Age\n",
       "1 sachin    23 \n",
       "2 rajat     30 \n",
       "3 nidhi     25 \n",
       "4 yadvendra 21 "
      ]
     },
     "metadata": {},
     "output_type": "display_data"
    }
   ],
   "source": [
    "df[1:2]"
   ]
  },
  {
   "cell_type": "code",
   "execution_count": 68,
   "metadata": {},
   "outputs": [
    {
     "data": {
      "text/html": [
       "<table>\n",
       "<thead><tr><th scope=col>Name</th><th scope=col>Age</th><th scope=col>City</th><th scope=col>POS</th></tr></thead>\n",
       "<tbody>\n",
       "\t<tr><td>sachin</td><td>23    </td><td>tonk  </td><td>python</td></tr>\n",
       "</tbody>\n",
       "</table>\n"
      ],
      "text/latex": [
       "\\begin{tabular}{r|llll}\n",
       " Name & Age & City & POS\\\\\n",
       "\\hline\n",
       "\t sachin & 23     & tonk   & python\\\\\n",
       "\\end{tabular}\n"
      ],
      "text/markdown": [
       "\n",
       "| Name | Age | City | POS |\n",
       "|---|---|---|---|\n",
       "| sachin | 23     | tonk   | python |\n",
       "\n"
      ],
      "text/plain": [
       "  Name   Age City POS   \n",
       "1 sachin 23  tonk python"
      ]
     },
     "metadata": {},
     "output_type": "display_data"
    }
   ],
   "source": [
    "df[1,]"
   ]
  },
  {
   "cell_type": "code",
   "execution_count": 69,
   "metadata": {},
   "outputs": [
    {
     "data": {
      "text/html": [
       "<ol class=list-inline>\n",
       "\t<li>tonk</li>\n",
       "\t<li>ganganagar</li>\n",
       "\t<li>kota</li>\n",
       "\t<li>surajgrah</li>\n",
       "</ol>\n",
       "\n",
       "<details>\n",
       "\t<summary style=display:list-item;cursor:pointer>\n",
       "\t\t<strong>Levels</strong>:\n",
       "\t</summary>\n",
       "\t<ol class=list-inline>\n",
       "\t\t<li>'ganganagar'</li>\n",
       "\t\t<li>'kota'</li>\n",
       "\t\t<li>'surajgrah'</li>\n",
       "\t\t<li>'tonk'</li>\n",
       "\t</ol>\n",
       "</details>"
      ],
      "text/latex": [
       "\\begin{enumerate*}\n",
       "\\item tonk\n",
       "\\item ganganagar\n",
       "\\item kota\n",
       "\\item surajgrah\n",
       "\\end{enumerate*}\n",
       "\n",
       "\\emph{Levels}: \\begin{enumerate*}\n",
       "\\item 'ganganagar'\n",
       "\\item 'kota'\n",
       "\\item 'surajgrah'\n",
       "\\item 'tonk'\n",
       "\\end{enumerate*}\n"
      ],
      "text/markdown": [
       "1. tonk\n",
       "2. ganganagar\n",
       "3. kota\n",
       "4. surajgrah\n",
       "\n",
       "\n",
       "\n",
       "**Levels**: 1. 'ganganagar'\n",
       "2. 'kota'\n",
       "3. 'surajgrah'\n",
       "4. 'tonk'\n",
       "\n",
       "\n"
      ],
      "text/plain": [
       "[1] tonk       ganganagar kota       surajgrah \n",
       "Levels: ganganagar kota surajgrah tonk"
      ]
     },
     "metadata": {},
     "output_type": "display_data"
    }
   ],
   "source": [
    "df[,3]"
   ]
  },
  {
   "cell_type": "code",
   "execution_count": 70,
   "metadata": {},
   "outputs": [],
   "source": [
    "a = c(1,2,3,4)\n",
    "b = c('hello','hi','bye')\n",
    "c = c(1.5,2.5,2.5)"
   ]
  },
  {
   "cell_type": "code",
   "execution_count": 71,
   "metadata": {},
   "outputs": [],
   "source": [
    "l = list(a,b,c)"
   ]
  },
  {
   "cell_type": "code",
   "execution_count": 72,
   "metadata": {},
   "outputs": [
    {
     "data": {
      "text/html": [
       "<ol>\n",
       "\t<li><ol class=list-inline>\n",
       "\t<li>1</li>\n",
       "\t<li>2</li>\n",
       "\t<li>3</li>\n",
       "\t<li>4</li>\n",
       "</ol>\n",
       "</li>\n",
       "\t<li><ol class=list-inline>\n",
       "\t<li>'hello'</li>\n",
       "\t<li>'hi'</li>\n",
       "\t<li>'bye'</li>\n",
       "</ol>\n",
       "</li>\n",
       "\t<li><ol class=list-inline>\n",
       "\t<li>1.5</li>\n",
       "\t<li>2.5</li>\n",
       "\t<li>2.5</li>\n",
       "</ol>\n",
       "</li>\n",
       "</ol>\n"
      ],
      "text/latex": [
       "\\begin{enumerate}\n",
       "\\item \\begin{enumerate*}\n",
       "\\item 1\n",
       "\\item 2\n",
       "\\item 3\n",
       "\\item 4\n",
       "\\end{enumerate*}\n",
       "\n",
       "\\item \\begin{enumerate*}\n",
       "\\item 'hello'\n",
       "\\item 'hi'\n",
       "\\item 'bye'\n",
       "\\end{enumerate*}\n",
       "\n",
       "\\item \\begin{enumerate*}\n",
       "\\item 1.5\n",
       "\\item 2.5\n",
       "\\item 2.5\n",
       "\\end{enumerate*}\n",
       "\n",
       "\\end{enumerate}\n"
      ],
      "text/markdown": [
       "1. 1. 1\n",
       "2. 2\n",
       "3. 3\n",
       "4. 4\n",
       "\n",
       "\n",
       "\n",
       "2. 1. 'hello'\n",
       "2. 'hi'\n",
       "3. 'bye'\n",
       "\n",
       "\n",
       "\n",
       "3. 1. 1.5\n",
       "2. 2.5\n",
       "3. 2.5\n",
       "\n",
       "\n",
       "\n",
       "\n",
       "\n"
      ],
      "text/plain": [
       "[[1]]\n",
       "[1] 1 2 3 4\n",
       "\n",
       "[[2]]\n",
       "[1] \"hello\" \"hi\"    \"bye\"  \n",
       "\n",
       "[[3]]\n",
       "[1] 1.5 2.5 2.5\n"
      ]
     },
     "metadata": {},
     "output_type": "display_data"
    }
   ],
   "source": [
    "l"
   ]
  },
  {
   "cell_type": "code",
   "execution_count": 77,
   "metadata": {},
   "outputs": [
    {
     "data": {
      "text/html": [
       "<ol>\n",
       "\t<li><ol class=list-inline>\n",
       "\t<li>1</li>\n",
       "\t<li>2</li>\n",
       "\t<li>3</li>\n",
       "\t<li>4</li>\n",
       "</ol>\n",
       "</li>\n",
       "</ol>\n"
      ],
      "text/latex": [
       "\\begin{enumerate}\n",
       "\\item \\begin{enumerate*}\n",
       "\\item 1\n",
       "\\item 2\n",
       "\\item 3\n",
       "\\item 4\n",
       "\\end{enumerate*}\n",
       "\n",
       "\\end{enumerate}\n"
      ],
      "text/markdown": [
       "1. 1. 1\n",
       "2. 2\n",
       "3. 3\n",
       "4. 4\n",
       "\n",
       "\n",
       "\n",
       "\n",
       "\n"
      ],
      "text/plain": [
       "[[1]]\n",
       "[1] 1 2 3 4\n"
      ]
     },
     "metadata": {},
     "output_type": "display_data"
    }
   ],
   "source": [
    "x = l[1]\n",
    "x"
   ]
  },
  {
   "cell_type": "code",
   "execution_count": 78,
   "metadata": {},
   "outputs": [
    {
     "data": {
      "text/html": [
       "'list'"
      ],
      "text/latex": [
       "'list'"
      ],
      "text/markdown": [
       "'list'"
      ],
      "text/plain": [
       "[1] \"list\""
      ]
     },
     "metadata": {},
     "output_type": "display_data"
    }
   ],
   "source": [
    "class(x)"
   ]
  },
  {
   "cell_type": "code",
   "execution_count": 79,
   "metadata": {},
   "outputs": [
    {
     "data": {
      "text/html": [
       "<ol>\n",
       "\t<li><ol class=list-inline>\n",
       "\t<li>1</li>\n",
       "\t<li>2</li>\n",
       "\t<li>3</li>\n",
       "\t<li>4</li>\n",
       "</ol>\n",
       "</li>\n",
       "</ol>\n"
      ],
      "text/latex": [
       "\\begin{enumerate}\n",
       "\\item \\begin{enumerate*}\n",
       "\\item 1\n",
       "\\item 2\n",
       "\\item 3\n",
       "\\item 4\n",
       "\\end{enumerate*}\n",
       "\n",
       "\\end{enumerate}\n"
      ],
      "text/markdown": [
       "1. 1. 1\n",
       "2. 2\n",
       "3. 3\n",
       "4. 4\n",
       "\n",
       "\n",
       "\n",
       "\n",
       "\n"
      ],
      "text/plain": [
       "[[1]]\n",
       "[1] 1 2 3 4\n"
      ]
     },
     "metadata": {},
     "output_type": "display_data"
    }
   ],
   "source": [
    "l[1]"
   ]
  },
  {
   "cell_type": "code",
   "execution_count": 80,
   "metadata": {},
   "outputs": [
    {
     "data": {
      "text/html": [
       "<ol>\n",
       "\t<li><ol class=list-inline>\n",
       "\t<li>'hello'</li>\n",
       "\t<li>'hi'</li>\n",
       "\t<li>'bye'</li>\n",
       "</ol>\n",
       "</li>\n",
       "</ol>\n"
      ],
      "text/latex": [
       "\\begin{enumerate}\n",
       "\\item \\begin{enumerate*}\n",
       "\\item 'hello'\n",
       "\\item 'hi'\n",
       "\\item 'bye'\n",
       "\\end{enumerate*}\n",
       "\n",
       "\\end{enumerate}\n"
      ],
      "text/markdown": [
       "1. 1. 'hello'\n",
       "2. 'hi'\n",
       "3. 'bye'\n",
       "\n",
       "\n",
       "\n",
       "\n",
       "\n"
      ],
      "text/plain": [
       "[[1]]\n",
       "[1] \"hello\" \"hi\"    \"bye\"  \n"
      ]
     },
     "metadata": {},
     "output_type": "display_data"
    }
   ],
   "source": [
    "l[2]"
   ]
  },
  {
   "cell_type": "code",
   "execution_count": 81,
   "metadata": {},
   "outputs": [
    {
     "data": {
      "text/html": [
       "<ol>\n",
       "\t<li><ol class=list-inline>\n",
       "\t<li>1.5</li>\n",
       "\t<li>2.5</li>\n",
       "\t<li>2.5</li>\n",
       "</ol>\n",
       "</li>\n",
       "</ol>\n"
      ],
      "text/latex": [
       "\\begin{enumerate}\n",
       "\\item \\begin{enumerate*}\n",
       "\\item 1.5\n",
       "\\item 2.5\n",
       "\\item 2.5\n",
       "\\end{enumerate*}\n",
       "\n",
       "\\end{enumerate}\n"
      ],
      "text/markdown": [
       "1. 1. 1.5\n",
       "2. 2.5\n",
       "3. 2.5\n",
       "\n",
       "\n",
       "\n",
       "\n",
       "\n"
      ],
      "text/plain": [
       "[[1]]\n",
       "[1] 1.5 2.5 2.5\n"
      ]
     },
     "metadata": {},
     "output_type": "display_data"
    }
   ],
   "source": [
    "l[3]"
   ]
  },
  {
   "cell_type": "code",
   "execution_count": 82,
   "metadata": {},
   "outputs": [
    {
     "data": {
      "text/html": [
       "<table>\n",
       "<thead><tr><th scope=col>Name</th><th scope=col>Age</th><th scope=col>City</th><th scope=col>POS</th></tr></thead>\n",
       "<tbody>\n",
       "\t<tr><td>sachin    </td><td>23        </td><td>tonk      </td><td>python    </td></tr>\n",
       "\t<tr><td>rajat     </td><td>30        </td><td>ganganagar</td><td>linux     </td></tr>\n",
       "\t<tr><td>nidhi     </td><td>25        </td><td>kota      </td><td>counsular </td></tr>\n",
       "\t<tr><td>yadvendra </td><td>21        </td><td>surajgrah </td><td>linux     </td></tr>\n",
       "</tbody>\n",
       "</table>\n"
      ],
      "text/latex": [
       "\\begin{tabular}{r|llll}\n",
       " Name & Age & City & POS\\\\\n",
       "\\hline\n",
       "\t sachin     & 23         & tonk       & python    \\\\\n",
       "\t rajat      & 30         & ganganagar & linux     \\\\\n",
       "\t nidhi      & 25         & kota       & counsular \\\\\n",
       "\t yadvendra  & 21         & surajgrah  & linux     \\\\\n",
       "\\end{tabular}\n"
      ],
      "text/markdown": [
       "\n",
       "| Name | Age | City | POS |\n",
       "|---|---|---|---|\n",
       "| sachin     | 23         | tonk       | python     |\n",
       "| rajat      | 30         | ganganagar | linux      |\n",
       "| nidhi      | 25         | kota       | counsular  |\n",
       "| yadvendra  | 21         | surajgrah  | linux      |\n",
       "\n"
      ],
      "text/plain": [
       "  Name      Age City       POS      \n",
       "1 sachin    23  tonk       python   \n",
       "2 rajat     30  ganganagar linux    \n",
       "3 nidhi     25  kota       counsular\n",
       "4 yadvendra 21  surajgrah  linux    "
      ]
     },
     "metadata": {},
     "output_type": "display_data"
    }
   ],
   "source": [
    "df"
   ]
  },
  {
   "cell_type": "code",
   "execution_count": 85,
   "metadata": {},
   "outputs": [
    {
     "data": {
      "text/html": [
       "<table>\n",
       "<thead><tr><th></th><th scope=col>Name</th><th scope=col>City</th></tr></thead>\n",
       "<tbody>\n",
       "\t<tr><th scope=row>1</th><td>sachin</td><td>tonk  </td></tr>\n",
       "\t<tr><th scope=row>3</th><td>nidhi </td><td>kota  </td></tr>\n",
       "</tbody>\n",
       "</table>\n"
      ],
      "text/latex": [
       "\\begin{tabular}{r|ll}\n",
       "  & Name & City\\\\\n",
       "\\hline\n",
       "\t1 & sachin & tonk  \\\\\n",
       "\t3 & nidhi  & kota  \\\\\n",
       "\\end{tabular}\n"
      ],
      "text/markdown": [
       "\n",
       "| <!--/--> | Name | City |\n",
       "|---|---|---|\n",
       "| 1 | sachin | tonk   |\n",
       "| 3 | nidhi  | kota   |\n",
       "\n"
      ],
      "text/plain": [
       "  Name   City\n",
       "1 sachin tonk\n",
       "3 nidhi  kota"
      ]
     },
     "metadata": {},
     "output_type": "display_data"
    }
   ],
   "source": [
    "subset(df[seq(1,4,2),c(\"Name\",\"City\")])"
   ]
  },
  {
   "cell_type": "code",
   "execution_count": 93,
   "metadata": {},
   "outputs": [
    {
     "data": {
      "text/html": [
       "<table>\n",
       "<thead><tr><th scope=col>Name</th></tr></thead>\n",
       "<tbody>\n",
       "\t<tr><td>sachin</td></tr>\n",
       "</tbody>\n",
       "</table>\n"
      ],
      "text/latex": [
       "\\begin{tabular}{r|l}\n",
       " Name\\\\\n",
       "\\hline\n",
       "\t sachin\\\\\n",
       "\\end{tabular}\n"
      ],
      "text/markdown": [
       "\n",
       "| Name |\n",
       "|---|\n",
       "| sachin |\n",
       "\n"
      ],
      "text/plain": [
       "  Name  \n",
       "1 sachin"
      ]
     },
     "metadata": {},
     "output_type": "display_data"
    }
   ],
   "source": [
    "subset(df['Name'],df$Age<25&df$City=='tonk')"
   ]
  },
  {
   "cell_type": "code",
   "execution_count": 96,
   "metadata": {},
   "outputs": [],
   "source": [
    "new_car = subset(car[c('mpg','cyl','hp','gear')],car$mpg>18)"
   ]
  },
  {
   "cell_type": "code",
   "execution_count": 97,
   "metadata": {},
   "outputs": [
    {
     "data": {
      "text/html": [
       "<table>\n",
       "<thead><tr><th></th><th scope=col>mpg</th><th scope=col>cyl</th><th scope=col>hp</th><th scope=col>gear</th></tr></thead>\n",
       "<tbody>\n",
       "\t<tr><th scope=row>Mazda RX4</th><td>21.0</td><td>6   </td><td>110 </td><td>4   </td></tr>\n",
       "\t<tr><th scope=row>Mazda RX4 Wag</th><td>21.0</td><td>6   </td><td>110 </td><td>4   </td></tr>\n",
       "\t<tr><th scope=row>Datsun 710</th><td>22.8</td><td>4   </td><td> 93 </td><td>4   </td></tr>\n",
       "\t<tr><th scope=row>Hornet 4 Drive</th><td>21.4</td><td>6   </td><td>110 </td><td>3   </td></tr>\n",
       "\t<tr><th scope=row>Hornet Sportabout</th><td>18.7</td><td>8   </td><td>175 </td><td>3   </td></tr>\n",
       "\t<tr><th scope=row>Valiant</th><td>18.1</td><td>6   </td><td>105 </td><td>3   </td></tr>\n",
       "\t<tr><th scope=row>Merc 240D</th><td>24.4</td><td>4   </td><td> 62 </td><td>4   </td></tr>\n",
       "\t<tr><th scope=row>Merc 230</th><td>22.8</td><td>4   </td><td> 95 </td><td>4   </td></tr>\n",
       "\t<tr><th scope=row>Merc 280</th><td>19.2</td><td>6   </td><td>123 </td><td>4   </td></tr>\n",
       "\t<tr><th scope=row>Fiat 128</th><td>32.4</td><td>4   </td><td> 66 </td><td>4   </td></tr>\n",
       "\t<tr><th scope=row>Honda Civic</th><td>30.4</td><td>4   </td><td> 52 </td><td>4   </td></tr>\n",
       "\t<tr><th scope=row>Toyota Corolla</th><td>33.9</td><td>4   </td><td> 65 </td><td>4   </td></tr>\n",
       "\t<tr><th scope=row>Toyota Corona</th><td>21.5</td><td>4   </td><td> 97 </td><td>3   </td></tr>\n",
       "\t<tr><th scope=row>Pontiac Firebird</th><td>19.2</td><td>8   </td><td>175 </td><td>3   </td></tr>\n",
       "\t<tr><th scope=row>Fiat X1-9</th><td>27.3</td><td>4   </td><td> 66 </td><td>4   </td></tr>\n",
       "\t<tr><th scope=row>Porsche 914-2</th><td>26.0</td><td>4   </td><td> 91 </td><td>5   </td></tr>\n",
       "\t<tr><th scope=row>Lotus Europa</th><td>30.4</td><td>4   </td><td>113 </td><td>5   </td></tr>\n",
       "\t<tr><th scope=row>Ferrari Dino</th><td>19.7</td><td>6   </td><td>175 </td><td>5   </td></tr>\n",
       "\t<tr><th scope=row>Volvo 142E</th><td>21.4</td><td>4   </td><td>109 </td><td>4   </td></tr>\n",
       "</tbody>\n",
       "</table>\n"
      ],
      "text/latex": [
       "\\begin{tabular}{r|llll}\n",
       "  & mpg & cyl & hp & gear\\\\\n",
       "\\hline\n",
       "\tMazda RX4 & 21.0 & 6    & 110  & 4   \\\\\n",
       "\tMazda RX4 Wag & 21.0 & 6    & 110  & 4   \\\\\n",
       "\tDatsun 710 & 22.8 & 4    &  93  & 4   \\\\\n",
       "\tHornet 4 Drive & 21.4 & 6    & 110  & 3   \\\\\n",
       "\tHornet Sportabout & 18.7 & 8    & 175  & 3   \\\\\n",
       "\tValiant & 18.1 & 6    & 105  & 3   \\\\\n",
       "\tMerc 240D & 24.4 & 4    &  62  & 4   \\\\\n",
       "\tMerc 230 & 22.8 & 4    &  95  & 4   \\\\\n",
       "\tMerc 280 & 19.2 & 6    & 123  & 4   \\\\\n",
       "\tFiat 128 & 32.4 & 4    &  66  & 4   \\\\\n",
       "\tHonda Civic & 30.4 & 4    &  52  & 4   \\\\\n",
       "\tToyota Corolla & 33.9 & 4    &  65  & 4   \\\\\n",
       "\tToyota Corona & 21.5 & 4    &  97  & 3   \\\\\n",
       "\tPontiac Firebird & 19.2 & 8    & 175  & 3   \\\\\n",
       "\tFiat X1-9 & 27.3 & 4    &  66  & 4   \\\\\n",
       "\tPorsche 914-2 & 26.0 & 4    &  91  & 5   \\\\\n",
       "\tLotus Europa & 30.4 & 4    & 113  & 5   \\\\\n",
       "\tFerrari Dino & 19.7 & 6    & 175  & 5   \\\\\n",
       "\tVolvo 142E & 21.4 & 4    & 109  & 4   \\\\\n",
       "\\end{tabular}\n"
      ],
      "text/markdown": [
       "\n",
       "| <!--/--> | mpg | cyl | hp | gear |\n",
       "|---|---|---|---|---|\n",
       "| Mazda RX4 | 21.0 | 6    | 110  | 4    |\n",
       "| Mazda RX4 Wag | 21.0 | 6    | 110  | 4    |\n",
       "| Datsun 710 | 22.8 | 4    |  93  | 4    |\n",
       "| Hornet 4 Drive | 21.4 | 6    | 110  | 3    |\n",
       "| Hornet Sportabout | 18.7 | 8    | 175  | 3    |\n",
       "| Valiant | 18.1 | 6    | 105  | 3    |\n",
       "| Merc 240D | 24.4 | 4    |  62  | 4    |\n",
       "| Merc 230 | 22.8 | 4    |  95  | 4    |\n",
       "| Merc 280 | 19.2 | 6    | 123  | 4    |\n",
       "| Fiat 128 | 32.4 | 4    |  66  | 4    |\n",
       "| Honda Civic | 30.4 | 4    |  52  | 4    |\n",
       "| Toyota Corolla | 33.9 | 4    |  65  | 4    |\n",
       "| Toyota Corona | 21.5 | 4    |  97  | 3    |\n",
       "| Pontiac Firebird | 19.2 | 8    | 175  | 3    |\n",
       "| Fiat X1-9 | 27.3 | 4    |  66  | 4    |\n",
       "| Porsche 914-2 | 26.0 | 4    |  91  | 5    |\n",
       "| Lotus Europa | 30.4 | 4    | 113  | 5    |\n",
       "| Ferrari Dino | 19.7 | 6    | 175  | 5    |\n",
       "| Volvo 142E | 21.4 | 4    | 109  | 4    |\n",
       "\n"
      ],
      "text/plain": [
       "                  mpg  cyl hp  gear\n",
       "Mazda RX4         21.0 6   110 4   \n",
       "Mazda RX4 Wag     21.0 6   110 4   \n",
       "Datsun 710        22.8 4    93 4   \n",
       "Hornet 4 Drive    21.4 6   110 3   \n",
       "Hornet Sportabout 18.7 8   175 3   \n",
       "Valiant           18.1 6   105 3   \n",
       "Merc 240D         24.4 4    62 4   \n",
       "Merc 230          22.8 4    95 4   \n",
       "Merc 280          19.2 6   123 4   \n",
       "Fiat 128          32.4 4    66 4   \n",
       "Honda Civic       30.4 4    52 4   \n",
       "Toyota Corolla    33.9 4    65 4   \n",
       "Toyota Corona     21.5 4    97 3   \n",
       "Pontiac Firebird  19.2 8   175 3   \n",
       "Fiat X1-9         27.3 4    66 4   \n",
       "Porsche 914-2     26.0 4    91 5   \n",
       "Lotus Europa      30.4 4   113 5   \n",
       "Ferrari Dino      19.7 6   175 5   \n",
       "Volvo 142E        21.4 4   109 4   "
      ]
     },
     "metadata": {},
     "output_type": "display_data"
    }
   ],
   "source": [
    "new_car"
   ]
  },
  {
   "cell_type": "code",
   "execution_count": 98,
   "metadata": {},
   "outputs": [
    {
     "name": "stdout",
     "output_type": "stream",
     "text": [
      "[1] \"Hello world\"\n"
     ]
    }
   ],
   "source": [
    "if ( TRUE ) { print(\"Hello world\"); }"
   ]
  },
  {
   "cell_type": "code",
   "execution_count": 99,
   "metadata": {},
   "outputs": [],
   "source": [
    "if ( F ) { print(\"Hello world\"); }"
   ]
  },
  {
   "cell_type": "code",
   "execution_count": 101,
   "metadata": {},
   "outputs": [
    {
     "name": "stdout",
     "output_type": "stream",
     "text": [
      "[1] \"B is greatest\"\n"
     ]
    }
   ],
   "source": [
    "a  = 5\n",
    "6 -> b \n",
    "\n",
    "if ( a > b ) { \n",
    "    print(\"A is greatest\")\n",
    "        } else {\n",
    "    print(\"B is greatest\")\n",
    "}"
   ]
  },
  {
   "cell_type": "code",
   "execution_count": 103,
   "metadata": {},
   "outputs": [
    {
     "name": "stdout",
     "output_type": "stream",
     "text": [
      "6 is greatest.\n"
     ]
    }
   ],
   "source": [
    "x = 4; 5 -> y; z <- 6\n",
    "\n",
    "if ( ( x >= y ) & ( x >= z ) ){\n",
    "    cat(x,\"is greatest.\\n\")\n",
    "} else if ( y>= z ) {\n",
    "    cat(y, \"is greatest. \\n\")\n",
    "} else {\n",
    "    cat(z,\"is greatest.\\n\")\n",
    "}"
   ]
  },
  {
   "cell_type": "code",
   "execution_count": 104,
   "metadata": {},
   "outputs": [
    {
     "name": "stdout",
     "output_type": "stream",
     "text": [
      "[1] 1\n",
      "[1] 2\n",
      "[1] 3\n",
      "[1] 4\n",
      "[1] 5\n",
      "[1] 6\n",
      "[1] 7\n",
      "[1] 8\n",
      "[1] 9\n",
      "[1] 10\n"
     ]
    }
   ],
   "source": [
    "for ( var in 1:10 ){\n",
    "    print(var)\n",
    "}"
   ]
  },
  {
   "cell_type": "code",
   "execution_count": 106,
   "metadata": {},
   "outputs": [
    {
     "name": "stdout",
     "output_type": "stream",
     "text": [
      "13 , 26 , 39 , 52 , 65 , 78 , 91 , 104 , 117 , 130 , "
     ]
    }
   ],
   "source": [
    "num = 13\n",
    "for (var in seq(num,num*10,num) ) { cat(var,\", \")}"
   ]
  },
  {
   "cell_type": "code",
   "execution_count": 109,
   "metadata": {},
   "outputs": [
    {
     "name": "stdout",
     "output_type": "stream",
     "text": [
      "* * * * *"
     ]
    }
   ],
   "source": [
    "cat(rep(\"*\",5))"
   ]
  },
  {
   "cell_type": "code",
   "execution_count": 110,
   "metadata": {},
   "outputs": [
    {
     "name": "stdout",
     "output_type": "stream",
     "text": [
      "* \n",
      "* * \n",
      "* * * \n",
      "* * * * \n",
      "* * * * * \n",
      "* * * * * * \n",
      "* * * * * * * \n",
      "* * * * * * * * \n",
      "* * * * * * * * * \n",
      "* * * * * * * * * * \n"
     ]
    }
   ],
   "source": [
    "for ( row in 1:10 ) { cat(rep(\"*\",row),\"\\n\")}"
   ]
  },
  {
   "cell_type": "code",
   "execution_count": 111,
   "metadata": {},
   "outputs": [
    {
     "name": "stdout",
     "output_type": "stream",
     "text": [
      "sachin \trajat \tnidhi \tyadvendra \t"
     ]
    }
   ],
   "source": [
    "for ( name in df$Name ) { cat(name,\"\\t\")}"
   ]
  },
  {
   "cell_type": "code",
   "execution_count": 112,
   "metadata": {},
   "outputs": [
    {
     "name": "stdout",
     "output_type": "stream",
     "text": [
      "1 , 2 , 3 , 4 , 5 , "
     ]
    }
   ],
   "source": [
    "for ( name in 1:10 )  { \n",
    "    cat(name,', ');\n",
    "    if ( name == 5 ){\n",
    "        break;\n",
    "    }\n",
    "}"
   ]
  },
  {
   "cell_type": "code",
   "execution_count": 115,
   "metadata": {},
   "outputs": [
    {
     "name": "stdout",
     "output_type": "stream",
     "text": [
      "1 , 3 , 5 , 7 , 9 , "
     ]
    }
   ],
   "source": [
    "for ( name in 1:10 )  { \n",
    "      if ( name %% 2 == 0 ){\n",
    "        next\n",
    "    }\n",
    "    cat(name,', ')\n",
    "    \n",
    "}"
   ]
  },
  {
   "cell_type": "code",
   "execution_count": 120,
   "metadata": {},
   "outputs": [
    {
     "name": "stdout",
     "output_type": "stream",
     "text": [
      "5\n"
     ]
    }
   ],
   "source": [
    "x = readline()"
   ]
  },
  {
   "cell_type": "code",
   "execution_count": 121,
   "metadata": {},
   "outputs": [
    {
     "data": {
      "text/html": [
       "'5'"
      ],
      "text/latex": [
       "'5'"
      ],
      "text/markdown": [
       "'5'"
      ],
      "text/plain": [
       "[1] \"5\""
      ]
     },
     "metadata": {},
     "output_type": "display_data"
    }
   ],
   "source": [
    "x"
   ]
  },
  {
   "cell_type": "code",
   "execution_count": 124,
   "metadata": {},
   "outputs": [
    {
     "name": "stdout",
     "output_type": "stream",
     "text": [
      "1 , 2 , 3 , 4 , 5 , 6 , 7 , 8 , 9 , 10 , "
     ]
    }
   ],
   "source": [
    "c = 1\n",
    "while ( c <= 10 ) { cat(c,', '); c = c + 1; }"
   ]
  },
  {
   "cell_type": "code",
   "execution_count": 125,
   "metadata": {},
   "outputs": [
    {
     "name": "stdout",
     "output_type": "stream",
     "text": [
      "Hello World Times  2 \n",
      "Hello World Times  4 \n",
      "Hello World Times  6 \n",
      "Hello World Times  8 \n",
      "Hello World Times  10 \n"
     ]
    }
   ],
   "source": [
    "c = 1\n",
    "while ( c <= 10 ){ \n",
    "    if (c %% 2 ) {\n",
    "        c = c + 1\n",
    "        next \n",
    "    } else if ( c == 5 ) {\n",
    "        break\n",
    "    }\n",
    "    cat(\"Hello World Times \",c,\"\\n\")\n",
    "    c = c + 1\n",
    "}"
   ]
  },
  {
   "cell_type": "code",
   "execution_count": 126,
   "metadata": {},
   "outputs": [],
   "source": [
    "fact <- function(num){\n",
    "    if ( num == 1 ) { return(1); }\n",
    "    return(num*fact(num-1))\n",
    "}"
   ]
  },
  {
   "cell_type": "code",
   "execution_count": 127,
   "metadata": {},
   "outputs": [
    {
     "data": {
      "text/html": [
       "120"
      ],
      "text/latex": [
       "120"
      ],
      "text/markdown": [
       "120"
      ],
      "text/plain": [
       "[1] 120"
      ]
     },
     "metadata": {},
     "output_type": "display_data"
    }
   ],
   "source": [
    "fact(5)"
   ]
  },
  {
   "cell_type": "code",
   "execution_count": 134,
   "metadata": {},
   "outputs": [],
   "source": [
    "fab <- function(num){\n",
    "    s = 0 ; n = 1 ;\n",
    "    cat(s,\",\",n, \", \")\n",
    "    for ( var in 3:num ){\n",
    "        v = s + n \n",
    "        cat(v,', ')\n",
    "        s = n\n",
    "        n = v\n",
    "    }\n",
    "    \n",
    "}"
   ]
  },
  {
   "cell_type": "code",
   "execution_count": 135,
   "metadata": {},
   "outputs": [
    {
     "name": "stdout",
     "output_type": "stream",
     "text": [
      "0 , 1 , 1 , 2 , 3 , 5 , 8 , 13 , 21 , 34 , "
     ]
    }
   ],
   "source": [
    "fab(10)"
   ]
  },
  {
   "cell_type": "code",
   "execution_count": 138,
   "metadata": {},
   "outputs": [
    {
     "data": {
      "text/html": [],
      "text/latex": [],
      "text/markdown": [],
      "text/plain": [
       "character(0)"
      ]
     },
     "metadata": {},
     "output_type": "display_data"
    }
   ],
   "source": [
    "scan(what='number')"
   ]
  },
  {
   "cell_type": "code",
   "execution_count": 142,
   "metadata": {},
   "outputs": [],
   "source": [
    "data = scan(file=\"data.csv\",what='character')"
   ]
  },
  {
   "cell_type": "code",
   "execution_count": 143,
   "metadata": {},
   "outputs": [
    {
     "data": {
      "text/html": [
       "<ol class=list-inline>\n",
       "\t<li>'one'</li>\n",
       "\t<li>'two'</li>\n",
       "\t<li>'three'</li>\n",
       "\t<li>'four'</li>\n",
       "\t<li>'five'</li>\n",
       "\t<li>'six'</li>\n",
       "\t<li>'seven'</li>\n",
       "\t<li>'eight'</li>\n",
       "\t<li>'nine'</li>\n",
       "\t<li>'ten'</li>\n",
       "</ol>\n"
      ],
      "text/latex": [
       "\\begin{enumerate*}\n",
       "\\item 'one'\n",
       "\\item 'two'\n",
       "\\item 'three'\n",
       "\\item 'four'\n",
       "\\item 'five'\n",
       "\\item 'six'\n",
       "\\item 'seven'\n",
       "\\item 'eight'\n",
       "\\item 'nine'\n",
       "\\item 'ten'\n",
       "\\end{enumerate*}\n"
      ],
      "text/markdown": [
       "1. 'one'\n",
       "2. 'two'\n",
       "3. 'three'\n",
       "4. 'four'\n",
       "5. 'five'\n",
       "6. 'six'\n",
       "7. 'seven'\n",
       "8. 'eight'\n",
       "9. 'nine'\n",
       "10. 'ten'\n",
       "\n",
       "\n"
      ],
      "text/plain": [
       " [1] \"one\"   \"two\"   \"three\" \"four\"  \"five\"  \"six\"   \"seven\" \"eight\" \"nine\" \n",
       "[10] \"ten\"  "
      ]
     },
     "metadata": {},
     "output_type": "display_data"
    }
   ],
   "source": [
    "data"
   ]
  },
  {
   "cell_type": "code",
   "execution_count": 144,
   "metadata": {},
   "outputs": [
    {
     "data": {
      "text/html": [
       "'character'"
      ],
      "text/latex": [
       "'character'"
      ],
      "text/markdown": [
       "'character'"
      ],
      "text/plain": [
       "[1] \"character\""
      ]
     },
     "metadata": {},
     "output_type": "display_data"
    }
   ],
   "source": [
    "class(data)"
   ]
  },
  {
   "cell_type": "code",
   "execution_count": 145,
   "metadata": {},
   "outputs": [
    {
     "name": "stdout",
     "output_type": "stream",
     "text": [
      " chr [1:10] \"one\" \"two\" \"three\" \"four\" \"five\" \"six\" \"seven\" \"eight\" \"nine\" ...\n"
     ]
    }
   ],
   "source": [
    "str(data)"
   ]
  },
  {
   "cell_type": "code",
   "execution_count": 146,
   "metadata": {},
   "outputs": [],
   "source": [
    "setwd(\"C:/users/hp/Desktop\")"
   ]
  },
  {
   "cell_type": "code",
   "execution_count": 147,
   "metadata": {},
   "outputs": [
    {
     "data": {
      "text/html": [
       "'C:/users/hp/Desktop'"
      ],
      "text/latex": [
       "'C:/users/hp/Desktop'"
      ],
      "text/markdown": [
       "'C:/users/hp/Desktop'"
      ],
      "text/plain": [
       "[1] \"C:/users/hp/Desktop\""
      ]
     },
     "metadata": {},
     "output_type": "display_data"
    }
   ],
   "source": [
    "getwd()"
   ]
  },
  {
   "cell_type": "code",
   "execution_count": 148,
   "metadata": {},
   "outputs": [
    {
     "data": {
      "text/html": [
       "<ol class=list-inline>\n",
       "\t<li>'Central Tendency.pptx'</li>\n",
       "\t<li>'desktop.ini'</li>\n",
       "\t<li>'PythonInternBatch2018'</li>\n",
       "</ol>\n"
      ],
      "text/latex": [
       "\\begin{enumerate*}\n",
       "\\item 'Central Tendency.pptx'\n",
       "\\item 'desktop.ini'\n",
       "\\item 'PythonInternBatch2018'\n",
       "\\end{enumerate*}\n"
      ],
      "text/markdown": [
       "1. 'Central Tendency.pptx'\n",
       "2. 'desktop.ini'\n",
       "3. 'PythonInternBatch2018'\n",
       "\n",
       "\n"
      ],
      "text/plain": [
       "[1] \"Central Tendency.pptx\" \"desktop.ini\"           \"PythonInternBatch2018\""
      ]
     },
     "metadata": {},
     "output_type": "display_data"
    }
   ],
   "source": [
    "dir()"
   ]
  },
  {
   "cell_type": "code",
   "execution_count": 149,
   "metadata": {},
   "outputs": [],
   "source": [
    "setwd(\"PythonInternBatch2018\")"
   ]
  },
  {
   "cell_type": "code",
   "execution_count": 150,
   "metadata": {},
   "outputs": [
    {
     "data": {
      "text/html": [
       "'C:/users/hp/Desktop/PythonInternBatch2018'"
      ],
      "text/latex": [
       "'C:/users/hp/Desktop/PythonInternBatch2018'"
      ],
      "text/markdown": [
       "'C:/users/hp/Desktop/PythonInternBatch2018'"
      ],
      "text/plain": [
       "[1] \"C:/users/hp/Desktop/PythonInternBatch2018\""
      ]
     },
     "metadata": {},
     "output_type": "display_data"
    }
   ],
   "source": [
    "getwd()"
   ]
  },
  {
   "cell_type": "code",
   "execution_count": 151,
   "metadata": {},
   "outputs": [
    {
     "data": {
      "text/html": [
       "<ol class=list-inline>\n",
       "\t<li>'Advance_Python'</li>\n",
       "\t<li>'Core_Python'</li>\n",
       "\t<li>'Database_Tutorial_PDFs'</li>\n",
       "\t<li>'Readme.md'</li>\n",
       "\t<li>'shell_script'</li>\n",
       "</ol>\n"
      ],
      "text/latex": [
       "\\begin{enumerate*}\n",
       "\\item 'Advance\\_Python'\n",
       "\\item 'Core\\_Python'\n",
       "\\item 'Database\\_Tutorial\\_PDFs'\n",
       "\\item 'Readme.md'\n",
       "\\item 'shell\\_script'\n",
       "\\end{enumerate*}\n"
      ],
      "text/markdown": [
       "1. 'Advance_Python'\n",
       "2. 'Core_Python'\n",
       "3. 'Database_Tutorial_PDFs'\n",
       "4. 'Readme.md'\n",
       "5. 'shell_script'\n",
       "\n",
       "\n"
      ],
      "text/plain": [
       "[1] \"Advance_Python\"         \"Core_Python\"            \"Database_Tutorial_PDFs\"\n",
       "[4] \"Readme.md\"              \"shell_script\"          "
      ]
     },
     "metadata": {},
     "output_type": "display_data"
    }
   ],
   "source": [
    "dir()"
   ]
  },
  {
   "cell_type": "code",
   "execution_count": 152,
   "metadata": {},
   "outputs": [
    {
     "data": {
      "text/html": [
       "<ol class=list-inline>\n",
       "\t<li>'Common_Cheat_Sheets'</li>\n",
       "\t<li>'Data_Science'</li>\n",
       "\t<li>'DesignDevelopment'</li>\n",
       "\t<li>'Python_Database_Programming'</li>\n",
       "\t<li>'Socket_Programming'</li>\n",
       "</ol>\n"
      ],
      "text/latex": [
       "\\begin{enumerate*}\n",
       "\\item 'Common\\_Cheat\\_Sheets'\n",
       "\\item 'Data\\_Science'\n",
       "\\item 'DesignDevelopment'\n",
       "\\item 'Python\\_Database\\_Programming'\n",
       "\\item 'Socket\\_Programming'\n",
       "\\end{enumerate*}\n"
      ],
      "text/markdown": [
       "1. 'Common_Cheat_Sheets'\n",
       "2. 'Data_Science'\n",
       "3. 'DesignDevelopment'\n",
       "4. 'Python_Database_Programming'\n",
       "5. 'Socket_Programming'\n",
       "\n",
       "\n"
      ],
      "text/plain": [
       "[1] \"Common_Cheat_Sheets\"         \"Data_Science\"               \n",
       "[3] \"DesignDevelopment\"           \"Python_Database_Programming\"\n",
       "[5] \"Socket_Programming\"         "
      ]
     },
     "metadata": {},
     "output_type": "display_data"
    }
   ],
   "source": [
    "setwd(\"Advance_Python\")\n",
    "dir()"
   ]
  },
  {
   "cell_type": "code",
   "execution_count": 153,
   "metadata": {},
   "outputs": [
    {
     "data": {
      "text/html": [
       "<ol class=list-inline>\n",
       "\t<li>'Big-Data'</li>\n",
       "\t<li>'input'</li>\n",
       "\t<li>'MachineLearning'</li>\n",
       "\t<li>'Projects'</li>\n",
       "\t<li>'Python'</li>\n",
       "\t<li>'R'</li>\n",
       "</ol>\n"
      ],
      "text/latex": [
       "\\begin{enumerate*}\n",
       "\\item 'Big-Data'\n",
       "\\item 'input'\n",
       "\\item 'MachineLearning'\n",
       "\\item 'Projects'\n",
       "\\item 'Python'\n",
       "\\item 'R'\n",
       "\\end{enumerate*}\n"
      ],
      "text/markdown": [
       "1. 'Big-Data'\n",
       "2. 'input'\n",
       "3. 'MachineLearning'\n",
       "4. 'Projects'\n",
       "5. 'Python'\n",
       "6. 'R'\n",
       "\n",
       "\n"
      ],
      "text/plain": [
       "[1] \"Big-Data\"        \"input\"           \"MachineLearning\" \"Projects\"       \n",
       "[5] \"Python\"          \"R\"              "
      ]
     },
     "metadata": {},
     "output_type": "display_data"
    }
   ],
   "source": [
    "setwd(\"Data_Science\")\n",
    "dir()"
   ]
  },
  {
   "cell_type": "code",
   "execution_count": 154,
   "metadata": {},
   "outputs": [
    {
     "data": {
      "text/html": [
       "<ol class=list-inline>\n",
       "\t<li>'1.Class_interval.py'</li>\n",
       "\t<li>'baseball.csv'</li>\n",
       "\t<li>'Central Tendency.pptx'</li>\n",
       "\t<li>'data1.csv'</li>\n",
       "\t<li>'Data1.ipynb'</li>\n",
       "\t<li>'data2.csv'</li>\n",
       "\t<li>'datasets_in_R.pdf'</li>\n",
       "\t<li>'Day1'</li>\n",
       "\t<li>'Day2'</li>\n",
       "\t<li>'Day3'</li>\n",
       "\t<li>'fifa.csv'</li>\n",
       "\t<li>'GDP.csv'</li>\n",
       "\t<li>'graph.ipynb'</li>\n",
       "\t<li>'housing.ipynb'</li>\n",
       "\t<li>'housing1.csv'</li>\n",
       "\t<li>'m.csv'</li>\n",
       "\t<li>'m1.txt'</li>\n",
       "\t<li>'new.csv'</li>\n",
       "\t<li>'new_test.png'</li>\n",
       "\t<li>'one.py'</li>\n",
       "\t<li>'reshape.PNG'</li>\n",
       "\t<li>'sin_cos.png'</li>\n",
       "\t<li>'st.csv'</li>\n",
       "\t<li>'st_data4.csv'</li>\n",
       "\t<li>'st1.csv'</li>\n",
       "\t<li>'st2.csv'</li>\n",
       "\t<li>'stdata.csv'</li>\n",
       "\t<li>'Untitled.ipynb'</li>\n",
       "\t<li>'x.csv'</li>\n",
       "\t<li>'y.csv'</li>\n",
       "</ol>\n"
      ],
      "text/latex": [
       "\\begin{enumerate*}\n",
       "\\item '1.Class\\_interval.py'\n",
       "\\item 'baseball.csv'\n",
       "\\item 'Central Tendency.pptx'\n",
       "\\item 'data1.csv'\n",
       "\\item 'Data1.ipynb'\n",
       "\\item 'data2.csv'\n",
       "\\item 'datasets\\_in\\_R.pdf'\n",
       "\\item 'Day1'\n",
       "\\item 'Day2'\n",
       "\\item 'Day3'\n",
       "\\item 'fifa.csv'\n",
       "\\item 'GDP.csv'\n",
       "\\item 'graph.ipynb'\n",
       "\\item 'housing.ipynb'\n",
       "\\item 'housing1.csv'\n",
       "\\item 'm.csv'\n",
       "\\item 'm1.txt'\n",
       "\\item 'new.csv'\n",
       "\\item 'new\\_test.png'\n",
       "\\item 'one.py'\n",
       "\\item 'reshape.PNG'\n",
       "\\item 'sin\\_cos.png'\n",
       "\\item 'st.csv'\n",
       "\\item 'st\\_data4.csv'\n",
       "\\item 'st1.csv'\n",
       "\\item 'st2.csv'\n",
       "\\item 'stdata.csv'\n",
       "\\item 'Untitled.ipynb'\n",
       "\\item 'x.csv'\n",
       "\\item 'y.csv'\n",
       "\\end{enumerate*}\n"
      ],
      "text/markdown": [
       "1. '1.Class_interval.py'\n",
       "2. 'baseball.csv'\n",
       "3. 'Central Tendency.pptx'\n",
       "4. 'data1.csv'\n",
       "5. 'Data1.ipynb'\n",
       "6. 'data2.csv'\n",
       "7. 'datasets_in_R.pdf'\n",
       "8. 'Day1'\n",
       "9. 'Day2'\n",
       "10. 'Day3'\n",
       "11. 'fifa.csv'\n",
       "12. 'GDP.csv'\n",
       "13. 'graph.ipynb'\n",
       "14. 'housing.ipynb'\n",
       "15. 'housing1.csv'\n",
       "16. 'm.csv'\n",
       "17. 'm1.txt'\n",
       "18. 'new.csv'\n",
       "19. 'new_test.png'\n",
       "20. 'one.py'\n",
       "21. 'reshape.PNG'\n",
       "22. 'sin_cos.png'\n",
       "23. 'st.csv'\n",
       "24. 'st_data4.csv'\n",
       "25. 'st1.csv'\n",
       "26. 'st2.csv'\n",
       "27. 'stdata.csv'\n",
       "28. 'Untitled.ipynb'\n",
       "29. 'x.csv'\n",
       "30. 'y.csv'\n",
       "\n",
       "\n"
      ],
      "text/plain": [
       " [1] \"1.Class_interval.py\"   \"baseball.csv\"          \"Central Tendency.pptx\"\n",
       " [4] \"data1.csv\"             \"Data1.ipynb\"           \"data2.csv\"            \n",
       " [7] \"datasets_in_R.pdf\"     \"Day1\"                  \"Day2\"                 \n",
       "[10] \"Day3\"                  \"fifa.csv\"              \"GDP.csv\"              \n",
       "[13] \"graph.ipynb\"           \"housing.ipynb\"         \"housing1.csv\"         \n",
       "[16] \"m.csv\"                 \"m1.txt\"                \"new.csv\"              \n",
       "[19] \"new_test.png\"          \"one.py\"                \"reshape.PNG\"          \n",
       "[22] \"sin_cos.png\"           \"st.csv\"                \"st_data4.csv\"         \n",
       "[25] \"st1.csv\"               \"st2.csv\"               \"stdata.csv\"           \n",
       "[28] \"Untitled.ipynb\"        \"x.csv\"                 \"y.csv\"                "
      ]
     },
     "metadata": {},
     "output_type": "display_data"
    }
   ],
   "source": [
    "setwd(\"R\") # cd \n",
    "dir() # ls"
   ]
  },
  {
   "cell_type": "code",
   "execution_count": 160,
   "metadata": {},
   "outputs": [
    {
     "name": "stdout",
     "output_type": "stream",
     "text": [
      "'data.frame':\t6 obs. of  6 variables:\n",
      " $ X      : int  1 2 3 4 5 6\n",
      " $ SName  : Factor w/ 6 levels \"a\",\"b\",\"c\",\"d\",..: 1 2 3 4 5 6\n",
      " $ MATHS  : int  50 30 40 60 80 10\n",
      " $ HINDI  : int  30 20 25 35 24 64\n",
      " $ ENGLISH: int  20 30 34 36 80 60\n",
      " $ SCIENCE: int  60 60 70 65 40 65\n"
     ]
    }
   ],
   "source": [
    "df = read.csv('st.csv')\n",
    "str(df)"
   ]
  },
  {
   "cell_type": "code",
   "execution_count": 161,
   "metadata": {},
   "outputs": [
    {
     "data": {
      "text/html": [
       "<table>\n",
       "<thead><tr><th scope=col>SName</th><th scope=col>MATHS</th><th scope=col>HINDI</th><th scope=col>ENGLISH</th><th scope=col>SCIENCE</th></tr></thead>\n",
       "<tbody>\n",
       "\t<tr><td>a </td><td>50</td><td>30</td><td>20</td><td>60</td></tr>\n",
       "\t<tr><td>b </td><td>30</td><td>20</td><td>30</td><td>60</td></tr>\n",
       "\t<tr><td>c </td><td>40</td><td>25</td><td>34</td><td>70</td></tr>\n",
       "\t<tr><td>d </td><td>60</td><td>35</td><td>36</td><td>65</td></tr>\n",
       "\t<tr><td>e </td><td>80</td><td>24</td><td>80</td><td>40</td></tr>\n",
       "\t<tr><td>f </td><td>10</td><td>64</td><td>60</td><td>65</td></tr>\n",
       "</tbody>\n",
       "</table>\n"
      ],
      "text/latex": [
       "\\begin{tabular}{r|lllll}\n",
       " SName & MATHS & HINDI & ENGLISH & SCIENCE\\\\\n",
       "\\hline\n",
       "\t a  & 50 & 30 & 20 & 60\\\\\n",
       "\t b  & 30 & 20 & 30 & 60\\\\\n",
       "\t c  & 40 & 25 & 34 & 70\\\\\n",
       "\t d  & 60 & 35 & 36 & 65\\\\\n",
       "\t e  & 80 & 24 & 80 & 40\\\\\n",
       "\t f  & 10 & 64 & 60 & 65\\\\\n",
       "\\end{tabular}\n"
      ],
      "text/markdown": [
       "\n",
       "| SName | MATHS | HINDI | ENGLISH | SCIENCE |\n",
       "|---|---|---|---|---|\n",
       "| a  | 50 | 30 | 20 | 60 |\n",
       "| b  | 30 | 20 | 30 | 60 |\n",
       "| c  | 40 | 25 | 34 | 70 |\n",
       "| d  | 60 | 35 | 36 | 65 |\n",
       "| e  | 80 | 24 | 80 | 40 |\n",
       "| f  | 10 | 64 | 60 | 65 |\n",
       "\n"
      ],
      "text/plain": [
       "  SName MATHS HINDI ENGLISH SCIENCE\n",
       "1 a     50    30    20      60     \n",
       "2 b     30    20    30      60     \n",
       "3 c     40    25    34      70     \n",
       "4 d     60    35    36      65     \n",
       "5 e     80    24    80      40     \n",
       "6 f     10    64    60      65     "
      ]
     },
     "metadata": {},
     "output_type": "display_data"
    }
   ],
   "source": [
    "df = subset(df[2:6])\n",
    "df"
   ]
  },
  {
   "cell_type": "code",
   "execution_count": 164,
   "metadata": {},
   "outputs": [
    {
     "data": {
      "text/html": [
       "<dl class=dl-horizontal>\n",
       "\t<dt>MATHS</dt>\n",
       "\t\t<dd>45</dd>\n",
       "\t<dt>HINDI</dt>\n",
       "\t\t<dd>33</dd>\n",
       "\t<dt>ENGLISH</dt>\n",
       "\t\t<dd>43.3333333333333</dd>\n",
       "\t<dt>SCIENCE</dt>\n",
       "\t\t<dd>60</dd>\n",
       "</dl>\n"
      ],
      "text/latex": [
       "\\begin{description*}\n",
       "\\item[MATHS] 45\n",
       "\\item[HINDI] 33\n",
       "\\item[ENGLISH] 43.3333333333333\n",
       "\\item[SCIENCE] 60\n",
       "\\end{description*}\n"
      ],
      "text/markdown": [
       "MATHS\n",
       ":   45HINDI\n",
       ":   33ENGLISH\n",
       ":   43.3333333333333SCIENCE\n",
       ":   60\n",
       "\n"
      ],
      "text/plain": [
       "   MATHS    HINDI  ENGLISH  SCIENCE \n",
       "45.00000 33.00000 43.33333 60.00000 "
      ]
     },
     "metadata": {},
     "output_type": "display_data"
    }
   ],
   "source": [
    "colSums(df[2:5])/6"
   ]
  },
  {
   "cell_type": "code",
   "execution_count": 170,
   "metadata": {},
   "outputs": [
    {
     "data": {
      "text/html": [
       "<dl class=dl-horizontal>\n",
       "\t<dt>1</dt>\n",
       "\t\t<dd>40</dd>\n",
       "\t<dt>2</dt>\n",
       "\t\t<dd>35</dd>\n",
       "\t<dt>3</dt>\n",
       "\t\t<dd>42.25</dd>\n",
       "\t<dt>4</dt>\n",
       "\t\t<dd>49</dd>\n",
       "\t<dt>5</dt>\n",
       "\t\t<dd>56</dd>\n",
       "\t<dt>6</dt>\n",
       "\t\t<dd>49.75</dd>\n",
       "</dl>\n"
      ],
      "text/latex": [
       "\\begin{description*}\n",
       "\\item[1] 40\n",
       "\\item[2] 35\n",
       "\\item[3] 42.25\n",
       "\\item[4] 49\n",
       "\\item[5] 56\n",
       "\\item[6] 49.75\n",
       "\\end{description*}\n"
      ],
      "text/markdown": [
       "1\n",
       ":   402\n",
       ":   353\n",
       ":   42.254\n",
       ":   495\n",
       ":   566\n",
       ":   49.75\n",
       "\n"
      ],
      "text/plain": [
       "    1     2     3     4     5     6 \n",
       "40.00 35.00 42.25 49.00 56.00 49.75 "
      ]
     },
     "metadata": {},
     "output_type": "display_data"
    }
   ],
   "source": [
    "x = rowSums(df[2:5])/4\n",
    "x"
   ]
  },
  {
   "cell_type": "code",
   "execution_count": 174,
   "metadata": {},
   "outputs": [],
   "source": [
    "names(x) <- df$SName"
   ]
  },
  {
   "cell_type": "code",
   "execution_count": 175,
   "metadata": {},
   "outputs": [
    {
     "data": {
      "text/html": [
       "<dl class=dl-horizontal>\n",
       "\t<dt>a</dt>\n",
       "\t\t<dd>40</dd>\n",
       "\t<dt>b</dt>\n",
       "\t\t<dd>35</dd>\n",
       "\t<dt>c</dt>\n",
       "\t\t<dd>42.25</dd>\n",
       "\t<dt>d</dt>\n",
       "\t\t<dd>49</dd>\n",
       "\t<dt>e</dt>\n",
       "\t\t<dd>56</dd>\n",
       "\t<dt>f</dt>\n",
       "\t\t<dd>49.75</dd>\n",
       "</dl>\n"
      ],
      "text/latex": [
       "\\begin{description*}\n",
       "\\item[a] 40\n",
       "\\item[b] 35\n",
       "\\item[c] 42.25\n",
       "\\item[d] 49\n",
       "\\item[e] 56\n",
       "\\item[f] 49.75\n",
       "\\end{description*}\n"
      ],
      "text/markdown": [
       "a\n",
       ":   40b\n",
       ":   35c\n",
       ":   42.25d\n",
       ":   49e\n",
       ":   56f\n",
       ":   49.75\n",
       "\n"
      ],
      "text/plain": [
       "    a     b     c     d     e     f \n",
       "40.00 35.00 42.25 49.00 56.00 49.75 "
      ]
     },
     "metadata": {},
     "output_type": "display_data"
    }
   ],
   "source": [
    "x"
   ]
  },
  {
   "cell_type": "code",
   "execution_count": 176,
   "metadata": {},
   "outputs": [
    {
     "data": {
      "text/html": [
       "<ol class=list-inline>\n",
       "\t<li>'1.Class_interval.py'</li>\n",
       "\t<li>'baseball.csv'</li>\n",
       "\t<li>'Central Tendency.pptx'</li>\n",
       "\t<li>'data1.csv'</li>\n",
       "\t<li>'Data1.ipynb'</li>\n",
       "\t<li>'data2.csv'</li>\n",
       "\t<li>'datasets_in_R.pdf'</li>\n",
       "\t<li>'Day1'</li>\n",
       "\t<li>'Day2'</li>\n",
       "\t<li>'Day3'</li>\n",
       "\t<li>'fifa.csv'</li>\n",
       "\t<li>'GDP.csv'</li>\n",
       "\t<li>'graph.ipynb'</li>\n",
       "\t<li>'housing.ipynb'</li>\n",
       "\t<li>'housing1.csv'</li>\n",
       "\t<li>'m.csv'</li>\n",
       "\t<li>'m1.txt'</li>\n",
       "\t<li>'new.csv'</li>\n",
       "\t<li>'new_test.png'</li>\n",
       "\t<li>'one.py'</li>\n",
       "\t<li>'reshape.PNG'</li>\n",
       "\t<li>'sin_cos.png'</li>\n",
       "\t<li>'st.csv'</li>\n",
       "\t<li>'st_data4.csv'</li>\n",
       "\t<li>'st1.csv'</li>\n",
       "\t<li>'st2.csv'</li>\n",
       "\t<li>'stdata.csv'</li>\n",
       "\t<li>'Untitled.ipynb'</li>\n",
       "\t<li>'x.csv'</li>\n",
       "\t<li>'y.csv'</li>\n",
       "</ol>\n"
      ],
      "text/latex": [
       "\\begin{enumerate*}\n",
       "\\item '1.Class\\_interval.py'\n",
       "\\item 'baseball.csv'\n",
       "\\item 'Central Tendency.pptx'\n",
       "\\item 'data1.csv'\n",
       "\\item 'Data1.ipynb'\n",
       "\\item 'data2.csv'\n",
       "\\item 'datasets\\_in\\_R.pdf'\n",
       "\\item 'Day1'\n",
       "\\item 'Day2'\n",
       "\\item 'Day3'\n",
       "\\item 'fifa.csv'\n",
       "\\item 'GDP.csv'\n",
       "\\item 'graph.ipynb'\n",
       "\\item 'housing.ipynb'\n",
       "\\item 'housing1.csv'\n",
       "\\item 'm.csv'\n",
       "\\item 'm1.txt'\n",
       "\\item 'new.csv'\n",
       "\\item 'new\\_test.png'\n",
       "\\item 'one.py'\n",
       "\\item 'reshape.PNG'\n",
       "\\item 'sin\\_cos.png'\n",
       "\\item 'st.csv'\n",
       "\\item 'st\\_data4.csv'\n",
       "\\item 'st1.csv'\n",
       "\\item 'st2.csv'\n",
       "\\item 'stdata.csv'\n",
       "\\item 'Untitled.ipynb'\n",
       "\\item 'x.csv'\n",
       "\\item 'y.csv'\n",
       "\\end{enumerate*}\n"
      ],
      "text/markdown": [
       "1. '1.Class_interval.py'\n",
       "2. 'baseball.csv'\n",
       "3. 'Central Tendency.pptx'\n",
       "4. 'data1.csv'\n",
       "5. 'Data1.ipynb'\n",
       "6. 'data2.csv'\n",
       "7. 'datasets_in_R.pdf'\n",
       "8. 'Day1'\n",
       "9. 'Day2'\n",
       "10. 'Day3'\n",
       "11. 'fifa.csv'\n",
       "12. 'GDP.csv'\n",
       "13. 'graph.ipynb'\n",
       "14. 'housing.ipynb'\n",
       "15. 'housing1.csv'\n",
       "16. 'm.csv'\n",
       "17. 'm1.txt'\n",
       "18. 'new.csv'\n",
       "19. 'new_test.png'\n",
       "20. 'one.py'\n",
       "21. 'reshape.PNG'\n",
       "22. 'sin_cos.png'\n",
       "23. 'st.csv'\n",
       "24. 'st_data4.csv'\n",
       "25. 'st1.csv'\n",
       "26. 'st2.csv'\n",
       "27. 'stdata.csv'\n",
       "28. 'Untitled.ipynb'\n",
       "29. 'x.csv'\n",
       "30. 'y.csv'\n",
       "\n",
       "\n"
      ],
      "text/plain": [
       " [1] \"1.Class_interval.py\"   \"baseball.csv\"          \"Central Tendency.pptx\"\n",
       " [4] \"data1.csv\"             \"Data1.ipynb\"           \"data2.csv\"            \n",
       " [7] \"datasets_in_R.pdf\"     \"Day1\"                  \"Day2\"                 \n",
       "[10] \"Day3\"                  \"fifa.csv\"              \"GDP.csv\"              \n",
       "[13] \"graph.ipynb\"           \"housing.ipynb\"         \"housing1.csv\"         \n",
       "[16] \"m.csv\"                 \"m1.txt\"                \"new.csv\"              \n",
       "[19] \"new_test.png\"          \"one.py\"                \"reshape.PNG\"          \n",
       "[22] \"sin_cos.png\"           \"st.csv\"                \"st_data4.csv\"         \n",
       "[25] \"st1.csv\"               \"st2.csv\"               \"stdata.csv\"           \n",
       "[28] \"Untitled.ipynb\"        \"x.csv\"                 \"y.csv\"                "
      ]
     },
     "metadata": {},
     "output_type": "display_data"
    }
   ],
   "source": [
    "list.files()"
   ]
  },
  {
   "cell_type": "code",
   "execution_count": 183,
   "metadata": {},
   "outputs": [
    {
     "name": "stderr",
     "output_type": "stream",
     "text": [
      "Warning message in read.table(file = file, header = header, sep = sep, quote = quote, :\n",
      "\"incomplete final line found by readTableHeader on 'C:\\Users\\hp\\Desktop\\data.csv'\""
     ]
    }
   ],
   "source": [
    "data = read.csv(file.choose(),sep='\\t',header = F)"
   ]
  },
  {
   "cell_type": "code",
   "execution_count": 184,
   "metadata": {},
   "outputs": [
    {
     "data": {
      "text/html": [
       "<table>\n",
       "<thead><tr><th scope=col>V1</th><th scope=col>V2</th><th scope=col>V3</th></tr></thead>\n",
       "<tbody>\n",
       "\t<tr><td>sachin</td><td> 1    </td><td>2     </td></tr>\n",
       "\t<tr><td>yahoo </td><td> 5    </td><td>7     </td></tr>\n",
       "\t<tr><td>data  </td><td>10    </td><td>5     </td></tr>\n",
       "</tbody>\n",
       "</table>\n"
      ],
      "text/latex": [
       "\\begin{tabular}{r|lll}\n",
       " V1 & V2 & V3\\\\\n",
       "\\hline\n",
       "\t sachin &  1     & 2     \\\\\n",
       "\t yahoo  &  5     & 7     \\\\\n",
       "\t data   & 10     & 5     \\\\\n",
       "\\end{tabular}\n"
      ],
      "text/markdown": [
       "\n",
       "| V1 | V2 | V3 |\n",
       "|---|---|---|\n",
       "| sachin |  1     | 2      |\n",
       "| yahoo  |  5     | 7      |\n",
       "| data   | 10     | 5      |\n",
       "\n"
      ],
      "text/plain": [
       "  V1     V2 V3\n",
       "1 sachin  1 2 \n",
       "2 yahoo   5 7 \n",
       "3 data   10 5 "
      ]
     },
     "metadata": {},
     "output_type": "display_data"
    }
   ],
   "source": [
    "data"
   ]
  },
  {
   "cell_type": "code",
   "execution_count": 185,
   "metadata": {},
   "outputs": [
    {
     "data": {
      "text/html": [
       "'data.frame'"
      ],
      "text/latex": [
       "'data.frame'"
      ],
      "text/markdown": [
       "'data.frame'"
      ],
      "text/plain": [
       "[1] \"data.frame\""
      ]
     },
     "metadata": {},
     "output_type": "display_data"
    }
   ],
   "source": [
    "class(data)"
   ]
  },
  {
   "cell_type": "code",
   "execution_count": 186,
   "metadata": {},
   "outputs": [
    {
     "name": "stdout",
     "output_type": "stream",
     "text": [
      "'data.frame':\t3 obs. of  3 variables:\n",
      " $ V1: Factor w/ 3 levels \"data\",\"sachin\",..: 2 3 1\n",
      " $ V2: int  1 5 10\n",
      " $ V3: int  2 7 5\n"
     ]
    }
   ],
   "source": [
    "str(data)"
   ]
  },
  {
   "cell_type": "code",
   "execution_count": null,
   "metadata": {},
   "outputs": [],
   "source": []
  }
 ],
 "metadata": {
  "kernelspec": {
   "display_name": "R",
   "language": "R",
   "name": "ir"
  },
  "language_info": {
   "codemirror_mode": "r",
   "file_extension": ".r",
   "mimetype": "text/x-r-source",
   "name": "R",
   "pygments_lexer": "r",
   "version": "3.6.0"
  }
 },
 "nbformat": 4,
 "nbformat_minor": 2
}
