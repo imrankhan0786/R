{
 "cells": [
  {
   "cell_type": "code",
   "execution_count": 3,
   "metadata": {},
   "outputs": [
    {
     "name": "stdout",
     "output_type": "stream",
     "text": [
      "7 c is grater"
     ]
    }
   ],
   "source": [
    "a  = 5 \n",
    "6 -> b\n",
    "c <- 7\n",
    "\n",
    "if ((a>=b) & (a>=c)){\n",
    "    cat(a,\"a is greater\")\n",
    "} else if (b>=c){\n",
    "    cat(b,\"b is greater\")\n",
    "} else{\n",
    "    cat(c,\"c is grater\")\n",
    "}"
   ]
  },
  {
   "cell_type": "code",
   "execution_count": 5,
   "metadata": {},
   "outputs": [
    {
     "ename": "ERROR",
     "evalue": "Error: object of type 'closure' is not subsettable\n",
     "output_type": "error",
     "traceback": [
      "Error: object of type 'closure' is not subsettable\nTraceback:\n"
     ]
    }
   ],
   "source": [
    "for (name in df$Name){cat(name,\"\\t\")}"
   ]
  },
  {
   "cell_type": "code",
   "execution_count": 6,
   "metadata": {},
   "outputs": [
    {
     "data": {
      "text/html": [
       "<pre class=language-r><code>function (x, df1, df2, ncp, log = FALSE) \n",
       "{\n",
       "<span style=white-space:pre-wrap>    if (missing(ncp)) </span>\n",
       "<span style=white-space:pre-wrap>        .Call(C_df, x, df1, df2, log)</span>\n",
       "<span style=white-space:pre-wrap>    else .Call(C_dnf, x, df1, df2, ncp, log)</span>\n",
       "}</code></pre>"
      ],
      "text/latex": [
       "\\begin{minted}{r}\n",
       "function (x, df1, df2, ncp, log = FALSE) \n",
       "\\{\n",
       "    if (missing(ncp)) \n",
       "        .Call(C\\_df, x, df1, df2, log)\n",
       "    else .Call(C\\_dnf, x, df1, df2, ncp, log)\n",
       "\\}\n",
       "\\end{minted}"
      ],
      "text/markdown": [
       "```r\n",
       "function (x, df1, df2, ncp, log = FALSE) \n",
       "{\n",
       "    if (missing(ncp)) \n",
       "        .Call(C_df, x, df1, df2, log)\n",
       "    else .Call(C_dnf, x, df1, df2, ncp, log)\n",
       "}\n",
       "```"
      ],
      "text/plain": [
       "function (x, df1, df2, ncp, log = FALSE) \n",
       "{\n",
       "    if (missing(ncp)) \n",
       "        .Call(C_df, x, df1, df2, log)\n",
       "    else .Call(C_dnf, x, df1, df2, ncp, log)\n",
       "}\n",
       "<bytecode: 0x000000000711bca0>\n",
       "<environment: namespace:stats>"
      ]
     },
     "metadata": {},
     "output_type": "display_data"
    }
   ],
   "source": [
    "df"
   ]
  },
  {
   "cell_type": "markdown",
   "metadata": {},
   "source": [
    "Function"
   ]
  },
  {
   "cell_type": "markdown",
   "metadata": {},
   "source": [
    "pwd"
   ]
  },
  {
   "cell_type": "code",
   "execution_count": 10,
   "metadata": {},
   "outputs": [
    {
     "ename": "ERROR",
     "evalue": "Error in getpw(): could not find function \"getpw\"\n",
     "output_type": "error",
     "traceback": [
      "Error in getpw(): could not find function \"getpw\"\nTraceback:\n"
     ]
    }
   ],
   "source": [
    "getpw()"
   ]
  },
  {
   "cell_type": "code",
   "execution_count": null,
   "metadata": {},
   "outputs": [],
   "source": []
  }
 ],
 "metadata": {
  "kernelspec": {
   "display_name": "R",
   "language": "R",
   "name": "ir"
  },
  "language_info": {
   "codemirror_mode": "r",
   "file_extension": ".r",
   "mimetype": "text/x-r-source",
   "name": "R",
   "pygments_lexer": "r",
   "version": "3.6.0"
  }
 },
 "nbformat": 4,
 "nbformat_minor": 2
}
